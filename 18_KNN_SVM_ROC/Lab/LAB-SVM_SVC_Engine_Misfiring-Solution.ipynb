{
 "cells": [
  {
   "cell_type": "code",
   "execution_count": 26,
   "metadata": {
    "collapsed": false
   },
   "outputs": [],
   "source": [
    "import numpy as np\n",
    "import pandas as pd\n",
    "import urllib2\n",
    "from sklearn.datasets import load_svmlight_file\n",
    "from sklearn.svm import SVC\n",
    "from sklearn.cross_validation import StratifiedShuffleSplit\n",
    "from sklearn.metrics import classification_report\n",
    "from sklearn.preprocessing import PolynomialFeatures\n",
    "from sklearn.pipeline import make_pipeline\n",
    "from sklearn.linear_model import LogisticRegression\n",
    "from sklearn.pipeline import Pipeline\n",
    "from sklearn.metrics import roc_curve, auc\n",
    "from sklearn.metrics import f1_score\n",
    "import matplotlib.pyplot as plt\n",
    "%matplotlib inline"
   ]
  },
  {
   "cell_type": "markdown",
   "metadata": {},
   "source": [
    "---\n",
    "Support Vector Machines\n",
    "=====\n",
    "***"
   ]
  },
  {
   "cell_type": "markdown",
   "metadata": {},
   "source": [
    "#####A binary classification example using a 50000 sample database, with each sample having a dimension of 22 features\n",
    "#####The features were produced by a 10-cylinder internal combustion engine\n",
    "#####The target, y, is 1 or -1 indicative of normal engine function, or engine misfiring\n",
    "#####The training set is skewed, containing many more examples of an engine misfiring"
   ]
  },
  {
   "cell_type": "code",
   "execution_count": 19,
   "metadata": {
    "collapsed": true
   },
   "outputs": [],
   "source": [
    "target_page = 'http://www.csie.ntu.edu.tw/~cjlin/libsvmtools/datasets/binary/ijcnn1.bz2'"
   ]
  },
  {
   "cell_type": "code",
   "execution_count": 20,
   "metadata": {
    "collapsed": true
   },
   "outputs": [],
   "source": [
    "with open('ijcnn1.bz2', 'wb') as W:\n",
    "    W.write(urllib2.urlopen(target_page).read())"
   ]
  },
  {
   "cell_type": "code",
   "execution_count": 21,
   "metadata": {
    "collapsed": true
   },
   "outputs": [],
   "source": [
    "X, y = load_svmlight_file('ijcnn1.bz2')"
   ]
  },
  {
   "cell_type": "code",
   "execution_count": 22,
   "metadata": {
    "collapsed": false
   },
   "outputs": [
    {
     "name": "stdout",
     "output_type": "stream",
     "text": [
      "(49990, 22)\n",
      "(49990,)\n"
     ]
    }
   ],
   "source": [
    "print X.shape\n",
    "print y.shape"
   ]
  },
  {
   "cell_type": "code",
   "execution_count": 23,
   "metadata": {
    "collapsed": false
   },
   "outputs": [],
   "source": [
    "X = X.todense()"
   ]
  },
  {
   "cell_type": "code",
   "execution_count": 24,
   "metadata": {
    "collapsed": false
   },
   "outputs": [
    {
     "data": {
      "text/plain": [
       "matrix([[  0.00000000e+00,   0.00000000e+00,   0.00000000e+00,\n",
       "           0.00000000e+00,   0.00000000e+00,   1.00000000e+00,\n",
       "           0.00000000e+00,   0.00000000e+00,   0.00000000e+00,\n",
       "           0.00000000e+00,  -7.31854000e-01,   1.73431000e-01,\n",
       "           0.00000000e+00,   2.70000000e-04,   1.16840000e-02,\n",
       "          -1.10520000e-02,   2.44520000e-02,   8.33700000e-03,\n",
       "           1.32400000e-03,   2.55440000e-02,  -4.07280000e-02,\n",
       "          -8.10000000e-04]])"
      ]
     },
     "execution_count": 24,
     "metadata": {},
     "output_type": "execute_result"
    }
   ],
   "source": [
    "X[0,:]"
   ]
  },
  {
   "cell_type": "code",
   "execution_count": 25,
   "metadata": {
    "collapsed": false
   },
   "outputs": [
    {
     "name": "stdout",
     "output_type": "stream",
     "text": [
      "[-1. -1. -1. ..., -1. -1. -1.]\n"
     ]
    }
   ],
   "source": [
    "print y"
   ]
  },
  {
   "cell_type": "markdown",
   "metadata": {},
   "source": [
    "###Write a short routine to optimize over the 2 SVM parameters C, and gamma\n",
    "\n",
    "#####Suggest you only try 3 values of each at a time\n",
    "#####A good start for C might be 0.1, 1.0, 10.0\n",
    "#####A good start for gamma might be  0.1, 1.0, 10.0\n",
    "#####Make multiple runs and try and optimize these values\n",
    "#####Cross-validate to maximize the f1-score and record the best f1 model (search sklearn for f1_score to learn how to get this as a separate value)\n",
    "#####Cross-validate to maximize the accuracy and record the best model"
   ]
  },
  {
   "cell_type": "code",
   "execution_count": 11,
   "metadata": {
    "collapsed": false
   },
   "outputs": [],
   "source": [
    "my_SSS = StratifiedShuffleSplit(y, 1, test_size=0.5, random_state=101)"
   ]
  },
  {
   "cell_type": "code",
   "execution_count": 40,
   "metadata": {
    "collapsed": false
   },
   "outputs": [
    {
     "name": "stdout",
     "output_type": "stream",
     "text": [
      "C = 10.00, gamma =  0.25, accuracy = 0.97600, f1-score = 0.86690\n",
      "C = 10.00, gamma =  0.50, accuracy = 0.98140, f1-score = 0.89867\n",
      "C = 10.00, gamma =  0.75, accuracy = 0.98404, f1-score = 0.91380\n",
      "C = 10.00, gamma =  1.00, accuracy = 0.98524, f1-score = 0.92076\n",
      "C = 10.00, gamma =  1.25, accuracy = 0.98624, f1-score = 0.92659\n",
      "C = 10.00, gamma =  5.00, accuracy = 0.98728, f1-score = 0.93240\n",
      "C = 50.00, gamma =  0.25, accuracy = 0.98132, f1-score = 0.89951\n",
      "C = 50.00, gamma =  0.50, accuracy = 0.98572, f1-score = 0.92419\n",
      "C = 50.00, gamma =  0.75, accuracy = 0.98696, f1-score = 0.93119\n",
      "C = 50.00, gamma =  1.00, accuracy = 0.98720, f1-score = 0.93272\n",
      "C = 50.00, gamma =  1.25, accuracy = 0.98688, f1-score = 0.93115\n",
      "C = 50.00, gamma =  5.00, accuracy = 0.98588, f1-score = 0.92539\n",
      "C = 100.00, gamma =  0.25, accuracy = 0.98336, f1-score = 0.91111\n",
      "C = 100.00, gamma =  0.50, accuracy = 0.98644, f1-score = 0.92853\n",
      "C = 100.00, gamma =  0.75, accuracy = 0.98720, f1-score = 0.93274\n",
      "C = 100.00, gamma =  1.00, accuracy = 0.98656, f1-score = 0.92968\n",
      "C = 100.00, gamma =  1.25, accuracy = 0.98632, f1-score = 0.92845\n",
      "C = 100.00, gamma =  5.00, accuracy = 0.98488, f1-score = 0.92015\n",
      "C = 150.00, gamma =  0.25, accuracy = 0.98448, f1-score = 0.91727\n",
      "C = 150.00, gamma =  0.50, accuracy = 0.98676, f1-score = 0.93042\n",
      "C = 150.00, gamma =  0.75, accuracy = 0.98640, f1-score = 0.92884\n",
      "C = 150.00, gamma =  1.00, accuracy = 0.98592, f1-score = 0.92651\n",
      "C = 150.00, gamma =  1.25, accuracy = 0.98580, f1-score = 0.92612\n",
      "C = 150.00, gamma =  5.00, accuracy = 0.98452, f1-score = 0.91841\n"
     ]
    }
   ],
   "source": [
    "C_range = [10, 50, 100, 150]\n",
    "gamma_range = [0.25, 0.5, 0.75, 1.0, 1.25, 5.0]\n",
    "max_score = -1.0e99\n",
    "max_f1_score = -1.0e99\n",
    "model_count = -1\n",
    "model_f1_count = -1\n",
    "count = 0\n",
    "for train_index, test_index in my_SSS:\n",
    "    X_train, X_test = X[train_index], X[test_index]\n",
    "    y_train, y_test = y[train_index], y[test_index]\n",
    "\n",
    "    for C_param in C_range:\n",
    "        for g_param in gamma_range:\n",
    "    \n",
    "            clf = SVC(C=C_param, gamma = g_param, kernel = 'rbf', \\\n",
    "                      cache_size = 800, random_state = 101)\n",
    "            #, class_weight = {1:10}\n",
    "            clf.fit(X_train, y_train)\n",
    "            \n",
    "            my_score = clf.score(X_test, y_test)\n",
    "            my_f1_score = f1_score(y_test, clf.predict(X_test))\n",
    "            print \"C = {:5.2f}, gamma = {:5.2f}, accuracy = {:5.5f}, f1-score = {:5.5f}\".format(C_param, g_param, my_score, my_f1_score) \n",
    "            if my_score > max_score:\n",
    "                max_score = my_score\n",
    "                best_clf = clf\n",
    "                model_count = count\n",
    "            if my_f1_score > max_f1_score:\n",
    "                max_f1_score = my_f1_score\n",
    "                best_f1_clf = clf\n",
    "                model_f1_count = count\n",
    "            count += 1"
   ]
  },
  {
   "cell_type": "markdown",
   "metadata": {},
   "source": [
    "#####Print out a classification report for the best f1 model and the best accuracy model\n",
    "#####Print out a confusion matrix for the best f1 model and the best accuracy model"
   ]
  },
  {
   "cell_type": "code",
   "execution_count": 41,
   "metadata": {
    "collapsed": false
   },
   "outputs": [
    {
     "name": "stdout",
     "output_type": "stream",
     "text": [
      "count is 5, count f1 is 14\n",
      "Best accuracy is 0.98728\n",
      "Best f1 is 0.93274\n"
     ]
    }
   ],
   "source": [
    "print \"count is {:d}, count f1 is {:d}\".format(model_count, model_f1_count)\n",
    "print \"Best accuracy is {:5.5f}\".format(max_score)\n",
    "print \"Best f1 is {:5.5f}\".format(max_f1_score)"
   ]
  },
  {
   "cell_type": "code",
   "execution_count": 44,
   "metadata": {
    "collapsed": false
   },
   "outputs": [
    {
     "name": "stdout",
     "output_type": "stream",
     "text": [
      "0.987277455491\n",
      "             precision    recall  f1-score   support\n",
      "\n",
      "       -1.0       0.99      1.00      0.99     22568\n",
      "        1.0       0.96      0.90      0.93      2427\n",
      "\n",
      "avg / total       0.99      0.99      0.99     24995\n",
      "\n"
     ]
    },
    {
     "data": {
      "text/html": [
       "<div>\n",
       "<table border=\"1\" class=\"dataframe\">\n",
       "  <thead>\n",
       "    <tr style=\"text-align: right;\">\n",
       "      <th>Predicted</th>\n",
       "      <th>-1.0</th>\n",
       "      <th>1.0</th>\n",
       "    </tr>\n",
       "    <tr>\n",
       "      <th>Actual</th>\n",
       "      <th></th>\n",
       "      <th></th>\n",
       "    </tr>\n",
       "  </thead>\n",
       "  <tbody>\n",
       "    <tr>\n",
       "      <th>-1</th>\n",
       "      <td>22484</td>\n",
       "      <td>84</td>\n",
       "    </tr>\n",
       "    <tr>\n",
       "      <th>1</th>\n",
       "      <td>234</td>\n",
       "      <td>2193</td>\n",
       "    </tr>\n",
       "  </tbody>\n",
       "</table>\n",
       "</div>"
      ],
      "text/plain": [
       "Predicted     -1     1\n",
       "Actual                \n",
       "-1         22484    84\n",
       " 1           234  2193"
      ]
     },
     "execution_count": 44,
     "metadata": {},
     "output_type": "execute_result"
    }
   ],
   "source": [
    "y_hat = best_clf.predict(X_test)\n",
    "print max_score\n",
    "print(classification_report(y_test, y_hat))\n",
    "cm = pd.crosstab(y_test, y_hat,rownames=[\"Actual\"], colnames=[\"Predicted\"])\n",
    "cm"
   ]
  },
  {
   "cell_type": "code",
   "execution_count": 46,
   "metadata": {
    "collapsed": false
   },
   "outputs": [
    {
     "name": "stdout",
     "output_type": "stream",
     "text": [
      "0.932744850778\n",
      "             precision    recall  f1-score   support\n",
      "\n",
      "       -1.0       0.99      1.00      0.99     22568\n",
      "        1.0       0.95      0.91      0.93      2427\n",
      "\n",
      "avg / total       0.99      0.99      0.99     24995\n",
      "\n"
     ]
    },
    {
     "data": {
      "text/html": [
       "<div>\n",
       "<table border=\"1\" class=\"dataframe\">\n",
       "  <thead>\n",
       "    <tr style=\"text-align: right;\">\n",
       "      <th>Predicted</th>\n",
       "      <th>-1.0</th>\n",
       "      <th>1.0</th>\n",
       "    </tr>\n",
       "    <tr>\n",
       "      <th>Actual</th>\n",
       "      <th></th>\n",
       "      <th></th>\n",
       "    </tr>\n",
       "  </thead>\n",
       "  <tbody>\n",
       "    <tr>\n",
       "      <th>-1</th>\n",
       "      <td>22456</td>\n",
       "      <td>112</td>\n",
       "    </tr>\n",
       "    <tr>\n",
       "      <th>1</th>\n",
       "      <td>208</td>\n",
       "      <td>2219</td>\n",
       "    </tr>\n",
       "  </tbody>\n",
       "</table>\n",
       "</div>"
      ],
      "text/plain": [
       "Predicted     -1     1\n",
       "Actual                \n",
       "-1         22456   112\n",
       " 1           208  2219"
      ]
     },
     "execution_count": 46,
     "metadata": {},
     "output_type": "execute_result"
    }
   ],
   "source": [
    "y_f1_hat = best_f1_clf.predict(X_test)\n",
    "print max_f1_score\n",
    "print(classification_report(y_test, y_f1_hat))\n",
    "cm = pd.crosstab(y_test, y_f1_hat,rownames=[\"Actual\"], colnames=[\"Predicted\"])\n",
    "cm"
   ]
  },
  {
   "cell_type": "markdown",
   "metadata": {},
   "source": [
    "#####Is one a better result than the other??? Which one would you choose????"
   ]
  },
  {
   "cell_type": "markdown",
   "metadata": {},
   "source": [
    "#####Produce and plot an ROC curve for your result\n",
    "#####While you can get the SVM to produce proabilities you can also use the built in method \"decision_function\" to produce the roc curve - look up the sklearn documentation"
   ]
  },
  {
   "cell_type": "code",
   "execution_count": 48,
   "metadata": {
    "collapsed": false
   },
   "outputs": [
    {
     "name": "stdout",
     "output_type": "stream",
     "text": [
      "Area under the ROC curve : 0.993386\n"
     ]
    }
   ],
   "source": [
    "false_pos_rate, true_pos_rate, thresholds = roc_curve(y_test, best_f1_clf.decision_function(X_test))\n",
    "roc_auc = auc(false_pos_rate, true_pos_rate)\n",
    "print \"Area under the ROC curve : %f\" % roc_auc"
   ]
  },
  {
   "cell_type": "code",
   "execution_count": 49,
   "metadata": {
    "collapsed": false
   },
   "outputs": [
    {
     "data": {
      "text/plain": [
       "<matplotlib.legend.Legend at 0x1130c5f50>"
      ]
     },
     "execution_count": 49,
     "metadata": {},
     "output_type": "execute_result"
    },
    {
     "data": {
      "image/png": "[encoded data removed]",
      "text/plain": [
       "<matplotlib.figure.Figure at 0x110cb3710>"
      ]
     },
     "metadata": {},
     "output_type": "display_data"
    }
   ],
   "source": [
    "fig = plt.figure(figsize = (7, 7))\n",
    "ax = plt.subplot(111)\n",
    "ax.plot(false_pos_rate, true_pos_rate, label='ROC curve (area = %0.2f)' % roc_auc)\n",
    "ax.plot([0, 1], [0, 1], 'k--')\n",
    "ax.set_xlim(0., 1.)\n",
    "ax.set_ylim(0., 1.)\n",
    "ax.set_xlabel(\"FP Rate\")\n",
    "ax.set_ylabel(\"TP Rate\")\n",
    "ax.set_title(\"Receiver Operating Characteristic for SVM\")\n",
    "ax.legend(loc=\"lower right\")"
   ]
  },
  {
   "cell_type": "markdown",
   "metadata": {},
   "source": [
    "#####Now break out the Logistic Regression and use polynomial features - can you get a better model fit??"
   ]
  },
  {
   "cell_type": "markdown",
   "metadata": {},
   "source": [
    "---\n",
    "Logistic Regression - Non-linear\n",
    "=====\n",
    "***"
   ]
  },
  {
   "cell_type": "code",
   "execution_count": 50,
   "metadata": {
    "collapsed": false
   },
   "outputs": [
    {
     "name": "stdout",
     "output_type": "stream",
     "text": [
      "0.983956791358\n"
     ]
    }
   ],
   "source": [
    "for train_index, test_index in my_SSS:\n",
    "    X_train, X_test = X[train_index], X[test_index]\n",
    "    y_train, y_test = y[train_index], y[test_index]\n",
    "    clfLR = make_pipeline(PolynomialFeatures(3), LogisticRegression(C=100))\n",
    "    clfLR.fit(X_train, y_train)\n",
    "    print clfLR.score(X_test, y_test)"
   ]
  },
  {
   "cell_type": "code",
   "execution_count": 82,
   "metadata": {
    "collapsed": false
   },
   "outputs": [
    {
     "name": "stdout",
     "output_type": "stream",
     "text": [
      "0.983956791358\n",
      "             precision    recall  f1-score   support\n",
      "\n",
      "       -1.0       0.99      0.99      0.99     22568\n",
      "        1.0       0.94      0.89      0.92      2427\n",
      "\n",
      "avg / total       0.98      0.98      0.98     24995\n",
      "\n"
     ]
    },
    {
     "data": {
      "text/html": [
       "<div>\n",
       "<table border=\"1\" class=\"dataframe\">\n",
       "  <thead>\n",
       "    <tr style=\"text-align: right;\">\n",
       "      <th>Predicted</th>\n",
       "      <th>-1.0</th>\n",
       "      <th>1.0</th>\n",
       "    </tr>\n",
       "    <tr>\n",
       "      <th>Actual</th>\n",
       "      <th></th>\n",
       "      <th></th>\n",
       "    </tr>\n",
       "  </thead>\n",
       "  <tbody>\n",
       "    <tr>\n",
       "      <th>-1</th>\n",
       "      <td>22433</td>\n",
       "      <td>135</td>\n",
       "    </tr>\n",
       "    <tr>\n",
       "      <th>1</th>\n",
       "      <td>266</td>\n",
       "      <td>2161</td>\n",
       "    </tr>\n",
       "  </tbody>\n",
       "</table>\n",
       "</div>"
      ],
      "text/plain": [
       "Predicted     -1     1\n",
       "Actual                \n",
       "-1         22433   135\n",
       " 1           266  2161"
      ]
     },
     "execution_count": 82,
     "metadata": {},
     "output_type": "execute_result"
    }
   ],
   "source": [
    "y_hat = clfLR.predict(X_test)\n",
    "print clfLR.score(X_test, y_test)\n",
    "print(classification_report(y_test, y_hat))\n",
    "cm = pd.crosstab(y_test, y_hat,rownames=[\"Actual\"], colnames=[\"Predicted\"])\n",
    "cm"
   ]
  },
  {
   "cell_type": "code",
   "execution_count": 74,
   "metadata": {
    "collapsed": false
   },
   "outputs": [
    {
     "name": "stdout",
     "output_type": "stream",
     "text": [
      "(24995, 2)\n",
      "Area under the ROC curve : 0.993608\n"
     ]
    }
   ],
   "source": [
    "probs = clfLR.predict_proba(X_test)\n",
    "print probs.shape\n",
    "false_pos_rate, true_pos_rate, thresholds = roc_curve(y_test, probs[:,1])\n",
    "roc_auc = auc(false_pos_rate, true_pos_rate)\n",
    "print \"Area under the ROC curve : %f\" % roc_auc"
   ]
  },
  {
   "cell_type": "code",
   "execution_count": 75,
   "metadata": {
    "collapsed": false
   },
   "outputs": [
    {
     "data": {
      "text/plain": [
       "<matplotlib.legend.Legend at 0x113466e50>"
      ]
     },
     "execution_count": 75,
     "metadata": {},
     "output_type": "execute_result"
    },
    {
     "data": {
      "image/png": "[encoded data removed]",
      "text/plain": [
       "<matplotlib.figure.Figure at 0x111ac3f90>"
      ]
     },
     "metadata": {},
     "output_type": "display_data"
    }
   ],
   "source": [
    "fig = plt.figure(figsize = (7, 7))\n",
    "ax = plt.subplot(111)\n",
    "ax.plot(false_pos_rate, true_pos_rate, label='ROC curve (area = %0.2f)' % roc_auc)\n",
    "ax.plot([0, 1], [0, 1], 'k--')\n",
    "ax.set_xlim(0., 1.)\n",
    "ax.set_ylim(0., 1.)\n",
    "ax.set_xlabel(\"FP Rate\")\n",
    "ax.set_ylabel(\"TP Rate\")\n",
    "ax.set_title(\"Receiver Operating Characteristic for SVM\")\n",
    "ax.legend(loc=\"lower right\")"
   ]
  },
  {
   "cell_type": "markdown",
   "metadata": {},
   "source": [
    "---\n",
    "Logistic Regression - Linear\n",
    "=====\n",
    "***"
   ]
  },
  {
   "cell_type": "code",
   "execution_count": 76,
   "metadata": {
    "collapsed": false
   },
   "outputs": [
    {
     "name": "stdout",
     "output_type": "stream",
     "text": [
      "0.924704940988\n"
     ]
    }
   ],
   "source": [
    "for train_index, test_index in my_SSS:\n",
    "    X_train, X_test = X[train_index], X[test_index]\n",
    "    y_train, y_test = y[train_index], y[test_index]\n",
    "    clfLRb = LogisticRegression(C=100)\n",
    "    clfLRb.fit(X_train, y_train)\n",
    "    print clfLRb.score(X_test, y_test)"
   ]
  },
  {
   "cell_type": "code",
   "execution_count": 84,
   "metadata": {
    "collapsed": false
   },
   "outputs": [
    {
     "name": "stdout",
     "output_type": "stream",
     "text": [
      "0.924704940988\n",
      "             precision    recall  f1-score   support\n",
      "\n",
      "       -1.0       0.94      0.98      0.96     22568\n",
      "        1.0       0.71      0.38      0.50      2427\n",
      "\n",
      "avg / total       0.91      0.92      0.91     24995\n",
      "\n"
     ]
    },
    {
     "data": {
      "text/html": [
       "<div>\n",
       "<table border=\"1\" class=\"dataframe\">\n",
       "  <thead>\n",
       "    <tr style=\"text-align: right;\">\n",
       "      <th>Predicted</th>\n",
       "      <th>-1.0</th>\n",
       "      <th>1.0</th>\n",
       "    </tr>\n",
       "    <tr>\n",
       "      <th>Actual</th>\n",
       "      <th></th>\n",
       "      <th></th>\n",
       "    </tr>\n",
       "  </thead>\n",
       "  <tbody>\n",
       "    <tr>\n",
       "      <th>-1</th>\n",
       "      <td>22181</td>\n",
       "      <td>387</td>\n",
       "    </tr>\n",
       "    <tr>\n",
       "      <th>1</th>\n",
       "      <td>1495</td>\n",
       "      <td>932</td>\n",
       "    </tr>\n",
       "  </tbody>\n",
       "</table>\n",
       "</div>"
      ],
      "text/plain": [
       "Predicted     -1    1\n",
       "Actual               \n",
       "-1         22181  387\n",
       " 1          1495  932"
      ]
     },
     "execution_count": 84,
     "metadata": {},
     "output_type": "execute_result"
    }
   ],
   "source": [
    "y_hat = clfLRb.predict(X_test)\n",
    "print clfLRb.score(X_test, y_test)\n",
    "print(classification_report(y_test, y_hat))\n",
    "cm = pd.crosstab(y_test, y_hat,rownames=[\"Actual\"], colnames=[\"Predicted\"])\n",
    "cm"
   ]
  },
  {
   "cell_type": "code",
   "execution_count": 85,
   "metadata": {
    "collapsed": false
   },
   "outputs": [
    {
     "name": "stdout",
     "output_type": "stream",
     "text": [
      "(24995, 2)\n",
      "Area under the ROC curve : 0.930068\n"
     ]
    }
   ],
   "source": [
    "probs = clfLRb.predict_proba(X_test)\n",
    "print probs.shape\n",
    "false_pos_rate, true_pos_rate, thresholds = roc_curve(y_test, probs[:,1])\n",
    "roc_auc = auc(false_pos_rate, true_pos_rate)\n",
    "print \"Area under the ROC curve : %f\" % roc_auc"
   ]
  },
  {
   "cell_type": "code",
   "execution_count": 86,
   "metadata": {
    "collapsed": false
   },
   "outputs": [
    {
     "data": {
      "text/plain": [
       "<matplotlib.legend.Legend at 0x1136bacd0>"
      ]
     },
     "execution_count": 86,
     "metadata": {},
     "output_type": "execute_result"
    },
    {
     "data": {
      "image/png": "[encoded data removed]",
      "text/plain": [
       "<matplotlib.figure.Figure at 0x11509d910>"
      ]
     },
     "metadata": {},
     "output_type": "display_data"
    }
   ],
   "source": [
    "fig = plt.figure(figsize = (7, 7))\n",
    "ax = plt.subplot(111)\n",
    "ax.plot(false_pos_rate, true_pos_rate, label='ROC curve (area = %0.2f)' % roc_auc)\n",
    "ax.plot([0, 1], [0, 1], 'k--')\n",
    "ax.set_xlim(0., 1.)\n",
    "ax.set_ylim(0., 1.)\n",
    "ax.set_xlabel(\"FP Rate\")\n",
    "ax.set_ylabel(\"TP Rate\")\n",
    "ax.set_title(\"Receiver Operating Characteristic for SVM\")\n",
    "ax.legend(loc=\"lower right\")"
   ]
  }
 ],
 "metadata": {
  "kernelspec": {
   "display_name": "Python 2",
   "language": "python",
   "name": "python2"
  },
  "language_info": {
   "codemirror_mode": {
    "name": "ipython",
    "version": 2
   },
   "file_extension": ".py",
   "mimetype": "text/x-python",
   "name": "python",
   "nbconvert_exporter": "python",
   "pygments_lexer": "ipython2",
   "version": "2.7.10"
  }
 },
 "nbformat": 4,
 "nbformat_minor": 0
}
