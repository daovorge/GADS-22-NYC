{
 "cells": [
  {
   "cell_type": "code",
   "execution_count": 71,
   "metadata": {
    "collapsed": true
   },
   "outputs": [],
   "source": [
    "import numpy as np\n",
    "import pandas as pd\n",
    "from pandas.tseries.offsets import Hour, Minute"
   ]
  },
  {
   "cell_type": "code",
   "execution_count": 48,
   "metadata": {
    "collapsed": true
   },
   "outputs": [],
   "source": [
    "names = ['Paul dobrowsky', 'Can Gulec', 'Vivek Gupta', 'Cara Winter', 'He Huang', 'David Markel', 'Brian  Lam', 'Jorge Luna', 'Melanie Daulton', 'Nel Mejia', \\\n",
    "         'Andrew Menendez', 'Pat Needham', 'Pranav Pandit', 'Ankit Patel', 'Kaushal Shah', 'Sharon Tsao', 'Tiezheng Song', 'Mary Taft-McPhee', 'Shawna Harris', \\\n",
    "         'Thomas Hunter', 'Lenny Wu']"
   ]
  },
  {
   "cell_type": "code",
   "execution_count": 49,
   "metadata": {
    "collapsed": false
   },
   "outputs": [
    {
     "name": "stdout",
     "output_type": "stream",
     "text": [
      "['Paul dobrowsky', 'Can Gulec', 'Vivek Gupta', 'David Markel', 'Brian  Lam', 'Andrew Menendez', 'Pat Needham', 'Pranav Pandit', 'Ankit Patel', 'Kaushal Shah', 'Sharon Tsao', 'Mary Taft-McPhee', 'Thomas Hunter']\n"
     ]
    }
   ],
   "source": [
    "fnames = names\n",
    "try:\n",
    "    fnames.remove('Cara Winter')\n",
    "    fnames.remove('He Huang')\n",
    "    fnames.remove('Jorge Luna')\n",
    "    fnames.remove('Melanie Daulton')\n",
    "    fnames.remove('Nel Mejia')\n",
    "    fnames.remove('Tiezheng Song')\n",
    "    fnames.remove('Shawna Harris')\n",
    "    fnames.remove('Lenny Wu')\n",
    "except:\n",
    "    pass\n",
    "print fnames"
   ]
  },
  {
   "cell_type": "code",
   "execution_count": 58,
   "metadata": {
    "collapsed": false
   },
   "outputs": [
    {
     "name": "stdout",
     "output_type": "stream",
     "text": [
      "There are 13 names\n",
      "\n",
      "\n",
      "David Can Sharon Vivek Pranav Andrew Paul Pat Brian Ankit Mary Thomas Kaushal\n"
     ]
    }
   ],
   "source": [
    "print \"There are {:d} names\\n\\n\".format(len(fnames))\n",
    "j = range(len(fnames))\n",
    "for i in xrange(1000000):\n",
    "    k = np.random.randint(0, len(fnames), 1)\n",
    "    l = np.random.randint(0, len(fnames), 1)\n",
    "    p = k[0]\n",
    "    \n",
    "    temp = j[p]\n",
    "    j[p] = j[l]\n",
    "    j[l] = temp\n",
    "        \n",
    "for i in xrange(len(fnames)):\n",
    "    print fnames[j[i]].split(\" \")[0],"
   ]
  },
  {
   "cell_type": "code",
   "execution_count": 59,
   "metadata": {
    "collapsed": false
   },
   "outputs": [
    {
     "name": "stdout",
     "output_type": "stream",
     "text": [
      "David Markel\n",
      "Can Gulec\n",
      "Sharon Tsao\n",
      "Vivek Gupta\n",
      "Pranav Pandit\n",
      "Andrew Menendez\n",
      "Paul dobrowsky\n",
      "Pat Needham\n",
      "Brian  Lam\n",
      "Ankit Patel\n",
      "Mary Taft-McPhee\n",
      "Thomas Hunter\n",
      "Kaushal Shah\n"
     ]
    }
   ],
   "source": [
    "for i in xrange(len(fnames)):\n",
    "    print fnames[j[i]]"
   ]
  },
  {
   "cell_type": "code",
   "execution_count": 92,
   "metadata": {
    "collapsed": false
   },
   "outputs": [
    {
     "name": "stdout",
     "output_type": "stream",
     "text": [
      "David Markel                             18:40\n",
      "Can Gulec                                18:52\n",
      "Sharon Tsao                              19:04\n",
      "Vivek Gupta                              19:16\n",
      "Pranav Pandit                            19:28\n",
      "Andrew Menendez                          19:40\n",
      "Paul dobrowsky                           19:52\n",
      "Pat Needham                              20:04\n",
      "Brian  Lam                               20:16\n",
      "Ankit Patel                              20:28\n",
      "Mary Taft-McPhee                         20:40\n",
      "Thomas Hunter                            20:52\n",
      "Kaushal Shah                             21:04\n",
      "\n",
      "end 21 : 16\n"
     ]
    }
   ],
   "source": [
    "start = pd.datetime.strptime('2015-08-19-18-40', '%Y-%m-%d-%H-%M')\n",
    "\n",
    "talk_length = 9\n",
    "question_length = 2\n",
    "change_over = 1\n",
    "\n",
    "t = start\n",
    "for i in xrange(len(fnames)):\n",
    "    if t.minute < 10:\n",
    "        print \"{:40s} {:d}:0{:d}\".format(fnames[j[i]], t.hour, t.minute)\n",
    "    else:\n",
    "        print \"{:40s} {:d}:{:2d}\".format(fnames[j[i]], t.hour, t.minute)\n",
    "    t += Minute(talk_length)\n",
    "    t += Minute(question_length)\n",
    "    t += Minute(change_over)\n",
    "\n",
    "print \"\\nend\", t.hour, \":\", t.minute\n"
   ]
  }
 ],
 "metadata": {
  "kernelspec": {
   "display_name": "Python 2",
   "language": "python",
   "name": "python2"
  },
  "language_info": {
   "codemirror_mode": {
    "name": "ipython",
    "version": 2
   },
   "file_extension": ".py",
   "mimetype": "text/x-python",
   "name": "python",
   "nbconvert_exporter": "python",
   "pygments_lexer": "ipython2",
   "version": "2.7.10"
  }
 },
 "nbformat": 4,
 "nbformat_minor": 0
}
