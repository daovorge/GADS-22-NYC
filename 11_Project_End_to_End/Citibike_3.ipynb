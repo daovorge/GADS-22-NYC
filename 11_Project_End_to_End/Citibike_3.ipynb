{
 "cells": [
  {
   "cell_type": "code",
   "execution_count": 1,
   "metadata": {
    "collapsed": true
   },
   "outputs": [],
   "source": [
    "import numpy as np\n",
    "import pandas as pd\n",
    "from datetime import datetime\n",
    "import matplotlib.pyplot as plt\n",
    "import matplotlib as mpl\n",
    "%matplotlib inline"
   ]
  },
  {
   "cell_type": "markdown",
   "metadata": {},
   "source": [
    "---\n",
    "#3. Data Analysis\n",
    "## Addressing outliers before deducing speed\n",
    "## Further data visualizations for presentation\n",
    "---"
   ]
  },
  {
   "cell_type": "code",
   "execution_count": 2,
   "metadata": {
    "collapsed": false
   },
   "outputs": [],
   "source": [
    "location = \"/Users/mrgholt/GADS-22-NYC/Citibike_Data/\"\n",
    "\n",
    "dfJanComplete = pd.read_csv(location + \"dfJanComplete.csv\")\n",
    "dfFebComplete = pd.read_csv(location + \"dfFebComplete.csv\")\n",
    "dfMarComplete = pd.read_csv(location + \"dfMarComplete.csv\")\n",
    "dfAprComplete = pd.read_csv(location + \"dfAprComplete.csv\")\n",
    "dfMayComplete = pd.read_csv(location + \"dfMayComplete.csv\")\n",
    "dfJunComplete = pd.read_csv(location + \"dfJunComplete.csv\")\n",
    "dfJulComplete = pd.read_csv(location + \"dfJulComplete.csv\")\n",
    "dfAugComplete = pd.read_csv(location + \"dfAugComplete.csv\")\n",
    "dfSepComplete = pd.read_csv(location + \"dfSepComplete.csv\")\n",
    "dfOctComplete = pd.read_csv(location + \"dfOctComplete.csv\")\n",
    "dfNovComplete = pd.read_csv(location + \"dfNovComplete.csv\")\n",
    "dfDecComplete = pd.read_csv(location + \"dfDecComplete.csv\")"
   ]
  },
  {
   "cell_type": "code",
   "execution_count": 3,
   "metadata": {
    "collapsed": false
   },
   "outputs": [
    {
     "name": "stdout",
     "output_type": "stream",
     "text": [
      "Unnamed: 0 day tripduration starttime stoptime start.station.id start.station.name start.station.latitude start.station.longitude end.station.id end.station.name end.station.latitude end.station.longitude bikeid usertype birth.year gender distance zip elev dew precip hum snow temp windspeed visibility windchill heatindex fog rain hail thunder tornado\n"
     ]
    }
   ],
   "source": [
    "for i in dfDecComplete.columns:\n",
    "    print i, "
   ]
  },
  {
   "cell_type": "markdown",
   "metadata": {},
   "source": [
    "---\n",
    "##Go through all the files and look at the min, max, mean and median distance - for consistency\n",
    "##We have a file where 500 rows contain no distance information\n",
    "##There are lots of obvious data errors\n",
    "---"
   ]
  },
  {
   "cell_type": "code",
   "execution_count": 4,
   "metadata": {
    "collapsed": false
   },
   "outputs": [],
   "source": [
    "def check_all_files(file_list):\n",
    "    print \"min distance\"\n",
    "    for i, f in enumerate(file_list):\n",
    "        print \"{:7.5f}\".format(f.distance.min()),\n",
    "    \n",
    "    print \"\\n\"\n",
    "\n",
    "    print \"max distance\"\n",
    "    for f in file_list:\n",
    "        print \"{:7.5f}\".format(f.distance.max()),\n",
    "    \n",
    "    print \"\\n\"\n",
    "\n",
    "    print \"mean distance\"\n",
    "    for f in file_list:\n",
    "        print \"{:7.5f}\".format(f.distance.mean()),\n",
    "    \n",
    "    print \"\\n\"\n",
    "\n",
    "    print \"median distance\"\n",
    "    for f in file_list:\n",
    "        print \"{:7.5f}\".format(f.distance.median()),\n",
    "        \n",
    "    print \"\\n\"\n",
    "\n",
    "    print \"min trip duration\"\n",
    "    for f in file_list:\n",
    "        print \"{:7.1f}\".format(f.tripduration.min()),\n",
    "        \n",
    "    print \"\\n\"\n",
    "    \n",
    "    print \"max trip duration\"\n",
    "    for f in file_list:\n",
    "        print \"{:7.1f}\".format(f.tripduration.max()),\n",
    "        \n",
    "    print \"\\n\"\n",
    "\n",
    "    print \"mean trip duration\"\n",
    "    for f in file_list:\n",
    "        print \"{:7.1f}\".format(f.tripduration.mean()),\n",
    "        \n",
    "    print \"\\n\"\n",
    "\n",
    "    print \"median trip duration\"\n",
    "    for f in file_list:\n",
    "        print \"{:7.1f}\".format(f.tripduration.median()),\n",
    "        \n",
    "    print \"\\n\""
   ]
  },
  {
   "cell_type": "code",
   "execution_count": 5,
   "metadata": {
    "collapsed": false
   },
   "outputs": [
    {
     "name": "stdout",
     "output_type": "stream",
     "text": [
      "min distance\n",
      "0.15500 0.00000 0.00000 0.15500 0.00000 0.00000 0.21400 0.16400 0.00000 0.17400 0.16200 0.00000 \n",
      "\n",
      "max distance\n",
      "5.20500 4.75500 6.62100 8.98500 4.32500 5.20500 5.51100 5.20500 5.29500 5.20500 5.29500 5.27600 \n",
      "\n",
      "mean distance\n",
      "0.94682 0.97629 0.92726 0.91705 0.46061 0.91783 0.92128 0.91252 0.89679 0.91102 0.90626 0.87500 \n",
      "\n",
      "median distance\n",
      "0.85100 0.85800 0.83000 0.83100 0.08350 0.83150 0.83550 0.83000 0.81150 0.83450 0.81900 0.81200 \n",
      "\n",
      "min trip duration\n",
      "   78.0    72.0    62.0    63.0    70.0    63.0    66.0    67.0    64.0    61.0    65.0    60.0 \n",
      "\n",
      "max trip duration\n",
      " 1391.0  1317.0  1508.0  1291.0  1113.0  1348.0  1554.0  1140.0   989.0  1162.0  1299.0  1000.0 \n",
      "\n",
      "mean trip duration\n",
      "  312.7   338.7   294.4   282.1   286.4   286.7   289.0   283.7   272.8   268.8   279.2   285.5 \n",
      "\n",
      "median trip duration\n",
      "  279.0   301.5   261.5   257.0   263.0   264.0   262.0   264.5   249.5   248.5   255.0   260.0 \n",
      "\n"
     ]
    }
   ],
   "source": [
    "file_list = [dfJanComplete, dfFebComplete, dfMarComplete, dfAprComplete, dfMayComplete, dfJunComplete,\n",
    "             dfJulComplete, dfAugComplete, dfSepComplete, dfOctComplete, dfNovComplete, dfDecComplete] \n",
    "check_all_files(file_list)"
   ]
  },
  {
   "cell_type": "code",
   "execution_count": 6,
   "metadata": {
    "collapsed": true
   },
   "outputs": [],
   "source": [
    "dfFebComplete = dfFebComplete[dfFebComplete.distance > 0.0]\n",
    "dfMarComplete = dfMarComplete[dfMarComplete.distance > 0.0]\n",
    "dfMayComplete = dfMayComplete[dfMayComplete.distance > 0.0]\n",
    "dfJunComplete = dfJunComplete[dfJunComplete.distance > 0.0]\n",
    "dfSepComplete = dfSepComplete[dfSepComplete.distance > 0.0]"
   ]
  },
  {
   "cell_type": "code",
   "execution_count": 7,
   "metadata": {
    "collapsed": false
   },
   "outputs": [
    {
     "name": "stdout",
     "output_type": "stream",
     "text": [
      "min distance\n",
      "0.15500 0.16700 0.15500 0.15500 0.16700 0.18300 0.21400 0.16400 0.13200 0.17400 0.16200 0.00000 \n",
      "\n",
      "max distance\n",
      "5.20500 4.75500 6.62100 8.98500 4.32500 5.20500 5.51100 5.20500 5.29500 5.20500 5.29500 5.27600 \n",
      "\n",
      "mean distance\n",
      "0.94682 0.97727 0.92819 0.91705 0.92121 0.91875 0.92128 0.91252 0.89769 0.91102 0.90626 0.87500 \n",
      "\n",
      "median distance\n",
      "0.85100 0.85800 0.83000 0.83100 0.84900 0.83200 0.83550 0.83000 0.81200 0.83450 0.81900 0.81200 \n",
      "\n",
      "min trip duration\n",
      "   78.0    72.0    62.0    63.0    70.0    63.0    66.0    67.0    64.0    61.0    65.0    60.0 \n",
      "\n",
      "max trip duration\n",
      " 1391.0  1317.0  1508.0  1291.0  1113.0  1348.0  1554.0  1140.0   989.0  1162.0  1299.0  1000.0 \n",
      "\n",
      "mean trip duration\n",
      "  312.7   338.8   294.5   282.1   280.2   286.8   289.0   283.7   272.9   268.8   279.2   285.5 \n",
      "\n",
      "median trip duration\n",
      "  279.0   302.0   262.0   257.0   258.5   264.0   262.0   264.5   250.0   248.5   255.0   260.0 \n",
      "\n"
     ]
    }
   ],
   "source": [
    "file_list = [dfJanComplete, dfFebComplete, dfMarComplete, dfAprComplete, dfMayComplete, dfJunComplete,\n",
    "             dfJulComplete, dfAugComplete, dfSepComplete, dfOctComplete, dfNovComplete, dfDecComplete] \n",
    "check_all_files(file_list)"
   ]
  },
  {
   "cell_type": "markdown",
   "metadata": {},
   "source": [
    "---\n",
    "##Now re-check our data volumes on a per month basis\n",
    "---"
   ]
  },
  {
   "cell_type": "code",
   "execution_count": 8,
   "metadata": {
    "collapsed": false
   },
   "outputs": [
    {
     "name": "stdout",
     "output_type": "stream",
     "text": [
      "1000\n",
      "999\n",
      "999\n",
      "1000\n",
      "500\n",
      "999\n",
      "1000\n",
      "1000\n",
      "999\n",
      "1000\n",
      "1000\n",
      "1001\n"
     ]
    }
   ],
   "source": [
    "for f in file_list:\n",
    "    print f.count()[0]"
   ]
  },
  {
   "cell_type": "markdown",
   "metadata": {},
   "source": [
    "---\n",
    "##Calculating speed\n",
    "---"
   ]
  },
  {
   "cell_type": "code",
   "execution_count": 9,
   "metadata": {
    "collapsed": true
   },
   "outputs": [],
   "source": [
    "def calculate_speed(df, num):\n",
    "    speed_list = []\n",
    "    for i in xrange(num):\n",
    "        temp = df.iloc[i].tripduration/3600.0\n",
    "        speed = df.iloc[i].distance/temp\n",
    "        speed_list.append(speed)\n",
    "    return speed_list"
   ]
  },
  {
   "cell_type": "markdown",
   "metadata": {},
   "source": [
    "---\n",
    "##Calculate the speed columns for all the months\n",
    "---"
   ]
  },
  {
   "cell_type": "code",
   "execution_count": 10,
   "metadata": {
    "collapsed": true
   },
   "outputs": [],
   "source": [
    "def calc_all_speeds(df):\n",
    "    df['speed'] = calculate_speed(df, len(df))\n",
    "    return df"
   ]
  },
  {
   "cell_type": "code",
   "execution_count": 11,
   "metadata": {
    "collapsed": false
   },
   "outputs": [],
   "source": [
    "def print_pars(df):\n",
    "    print \"{:9.3f}, {:9.3f}, {:9.3f}, {:9.3f}\".format(df.min(), df.max(), df.mean(), df.median())"
   ]
  },
  {
   "cell_type": "code",
   "execution_count": 12,
   "metadata": {
    "collapsed": false
   },
   "outputs": [],
   "source": [
    "#file_list = [dfJanComplete, dfFebComplete, dfMarComplete, dfAprComplete, dfMayComplete, dfJunComplete,\n",
    "#             dfJulComplete, dfAugComplete, dfSepComplete, dfOctComplete, dfNovComplete, dfDecComplete] #\n",
    "\n",
    "#print \"speed min, speed max, speed mean, speed median\"\n",
    "#for df in file_list:\n",
    "#   print_pars(df.speed)"
   ]
  },
  {
   "cell_type": "code",
   "execution_count": 13,
   "metadata": {
    "collapsed": true
   },
   "outputs": [],
   "source": [
    "def get_outlier_thresholds(x):\n",
    "    lower_25 = x.quantile(0.25)\n",
    "    upper_75 = x.quantile(0.75)\n",
    "    high_threshold = upper_75 + 1.5 * (upper_75-lower_25)\n",
    "    low_threshold = lower_25 - 1.5 * (upper_75-lower_25)\n",
    "    return(low_threshold, high_threshold)\n",
    "\n",
    "def remove_outliers(x, low, high):\n",
    "    if x > high:\n",
    "        return np.nan\n",
    "    elif x < low:\n",
    "        return np.nan\n",
    "    else:\n",
    "        return x"
   ]
  },
  {
   "cell_type": "code",
   "execution_count": 14,
   "metadata": {
    "collapsed": false
   },
   "outputs": [],
   "source": [
    "#low, high = get_outlier_thresholds(dfJanComplete.speed)\n",
    "#print low, high\n",
    "#new_speed = dfJanComplete.speed.map((lambda x: remove_outliers(x, low, high)))\n",
    "#dfJanComplete.speed = new_speed"
   ]
  },
  {
   "cell_type": "code",
   "execution_count": 15,
   "metadata": {
    "collapsed": true
   },
   "outputs": [],
   "source": [
    "def handle_outliers(df, column_name):\n",
    "    low_threshold, high_threshold = get_outlier_thresholds(df[column_name])     \n",
    "    new_column = df[column_name].map((lambda x: remove_outliers(x, low_threshold, high_threshold)))\n",
    "    return new_column"
   ]
  },
  {
   "cell_type": "markdown",
   "metadata": {},
   "source": [
    "---\n",
    "#Address outliers - in tripduration and distance\n",
    "---"
   ]
  },
  {
   "cell_type": "code",
   "execution_count": 16,
   "metadata": {
    "collapsed": false
   },
   "outputs": [],
   "source": [
    "file_list = [dfJanComplete, dfFebComplete, dfMarComplete, dfAprComplete, dfMayComplete, dfJunComplete,\n",
    "             dfJulComplete, dfAugComplete, dfSepComplete, dfOctComplete, dfNovComplete, dfDecComplete] \n",
    "\n",
    "cols_f = ['tripduration', 'distance']\n",
    "\n",
    "for df in file_list:\n",
    "    for c in cols_f:\n",
    "        df[c] = handle_outliers(df, c)"
   ]
  },
  {
   "cell_type": "markdown",
   "metadata": {},
   "source": [
    "---\n",
    "##Now calculate the speed\n",
    "---"
   ]
  },
  {
   "cell_type": "code",
   "execution_count": 17,
   "metadata": {
    "collapsed": false
   },
   "outputs": [],
   "source": [
    "file_list = [dfJanComplete, dfFebComplete, dfMarComplete, dfAprComplete, dfMayComplete, dfJunComplete,\n",
    "             dfJulComplete, dfAugComplete, dfSepComplete, dfOctComplete, dfNovComplete, dfDecComplete] \n",
    "\n",
    "for df in file_list:\n",
    "    df = calc_all_speeds(df)"
   ]
  },
  {
   "cell_type": "code",
   "execution_count": 18,
   "metadata": {
    "collapsed": false
   },
   "outputs": [
    {
     "name": "stdout",
     "output_type": "stream",
     "text": [
      "speed min, speed max, speed mean, speed median\n",
      "    6.196,    27.355,    11.074,    10.325\n",
      "    5.381,    31.636,    10.495,     9.808\n",
      "    5.241,    41.018,    11.514,    10.674\n",
      "    5.636,    42.971,    11.742,    10.979\n",
      "    7.063,    31.876,    11.856,    11.038\n",
      "    6.873,    33.817,    11.677,    10.945\n",
      "    7.068,    41.018,    11.587,    10.903\n",
      "    6.427,    36.096,    11.689,    11.001\n",
      "    5.888,    42.754,    11.912,    10.800\n",
      "    6.591,    48.351,    12.269,    11.086\n",
      "    5.989,    42.372,    11.787,    10.942\n",
      "    0.000,    42.937,    11.381,    10.509\n"
     ]
    }
   ],
   "source": [
    "file_list = [dfJanComplete, dfFebComplete, dfMarComplete, dfAprComplete, dfMayComplete, dfJunComplete,\n",
    "             dfJulComplete, dfAugComplete, dfSepComplete, dfOctComplete, dfNovComplete, dfDecComplete] \n",
    "\n",
    "print \"speed min, speed max, speed mean, speed median\"\n",
    "for df in file_list:\n",
    "    print_pars(df.speed)"
   ]
  },
  {
   "cell_type": "markdown",
   "metadata": {},
   "source": [
    "---\n",
    "##Address the speed outliers\n",
    "---"
   ]
  },
  {
   "cell_type": "code",
   "execution_count": 19,
   "metadata": {
    "collapsed": true
   },
   "outputs": [],
   "source": [
    "file_list = [dfJanComplete, dfFebComplete, dfMarComplete, dfAprComplete, dfMayComplete, dfJunComplete,\n",
    "             dfJulComplete, dfAugComplete, dfSepComplete, dfOctComplete, dfNovComplete, dfDecComplete] \n",
    "\n",
    "cols_f = ['speed']\n",
    "\n",
    "for df in file_list:\n",
    "    for c in cols_f:\n",
    "        df[c] = handle_outliers(df, c)"
   ]
  },
  {
   "cell_type": "code",
   "execution_count": 20,
   "metadata": {
    "collapsed": false
   },
   "outputs": [
    {
     "name": "stdout",
     "output_type": "stream",
     "text": [
      "speed min, speed max, speed mean, speed median\n",
      "    6.196,    16.418,    10.463,    10.127\n",
      "    5.381,    15.985,    10.067,     9.717\n",
      "    5.241,    17.167,    10.855,    10.523\n",
      "    5.636,    17.608,    11.195,    10.769\n",
      "    7.063,    17.492,    11.408,    10.897\n",
      "    6.873,    17.670,    11.239,    10.822\n",
      "    7.068,    17.110,    11.166,    10.765\n",
      "    6.427,    17.349,    11.236,    10.910\n",
      "    5.888,    17.843,    11.032,    10.589\n",
      "    6.591,    18.688,    11.356,    10.800\n",
      "    5.989,    17.676,    11.082,    10.719\n",
      "    6.686,    16.894,    10.709,    10.329\n"
     ]
    }
   ],
   "source": [
    "file_list = [dfJanComplete, dfFebComplete, dfMarComplete, dfAprComplete, dfMayComplete, dfJunComplete,\n",
    "             dfJulComplete, dfAugComplete, dfSepComplete, dfOctComplete, dfNovComplete, dfDecComplete] \n",
    "\n",
    "print \"speed min, speed max, speed mean, speed median\"\n",
    "for df in file_list:\n",
    "    print_pars(df.speed)"
   ]
  },
  {
   "cell_type": "markdown",
   "metadata": {},
   "source": [
    "---\n",
    "##Address the elevation outliers\n",
    "---"
   ]
  },
  {
   "cell_type": "code",
   "execution_count": 21,
   "metadata": {
    "collapsed": true
   },
   "outputs": [],
   "source": [
    "file_list = [dfJanComplete, dfFebComplete, dfMarComplete, dfAprComplete, dfMayComplete, dfJunComplete,\n",
    "             dfJulComplete, dfAugComplete, dfSepComplete, dfOctComplete, dfNovComplete, dfDecComplete] \n",
    "\n",
    "cols_f = ['elev']\n",
    "\n",
    "for df in file_list:\n",
    "    for c in cols_f:\n",
    "        df[c] = handle_outliers(df, c)"
   ]
  },
  {
   "cell_type": "markdown",
   "metadata": {},
   "source": [
    "---\n",
    "##Re-look at the monthly data counts\n",
    "---"
   ]
  },
  {
   "cell_type": "code",
   "execution_count": 24,
   "metadata": {
    "collapsed": false
   },
   "outputs": [],
   "source": [
    "dfJanComplete = dfJanComplete.dropna()\n",
    "dfJanComplete = dfJanComplete.reset_index()\n",
    "dfFebComplete = dfFebComplete.dropna()\n",
    "dfFebComplete = dfFebComplete.reset_index()\n",
    "dfMarComplete = dfMarComplete.dropna()\n",
    "dfMarComplete = dfMarComplete.reset_index()\n",
    "dfAprComplete = dfAprComplete.dropna()\n",
    "dfAprComplete = dfAprComplete.reset_index()\n",
    "dfMayComplete = dfMayComplete.dropna()\n",
    "dfMayComplete = dfMayComplete.reset_index()\n",
    "dfJunComplete = dfJunComplete.dropna()\n",
    "dfJunComplete = dfJunComplete.reset_index()\n",
    "dfJulComplete = dfJulComplete.dropna()\n",
    "dfJulComplete = dfJulComplete.reset_index()\n",
    "dfAugComplete = dfAugComplete.dropna()\n",
    "dfAugComplete = dfAugComplete.reset_index()\n",
    "dfSepComplete = dfSepComplete.dropna()\n",
    "dfSepComplete = dfSepComplete.reset_index()\n",
    "dfOctComplete = dfOctComplete.dropna()\n",
    "dfOctComplete = dfOctComplete.reset_index()\n",
    "dfNovComplete = dfNovComplete.dropna()\n",
    "dfNovComplete = dfNovComplete.reset_index()\n",
    "dfDecComplete = dfDecComplete.dropna()\n",
    "dfDecComplete = dfDecComplete.reset_index()"
   ]
  },
  {
   "cell_type": "code",
   "execution_count": 26,
   "metadata": {
    "collapsed": false
   },
   "outputs": [
    {
     "name": "stdout",
     "output_type": "stream",
     "text": [
      "643\n",
      "666\n",
      "652\n",
      "686\n",
      "334\n",
      "714\n",
      "683\n",
      "684\n",
      "645\n",
      "643\n",
      "654\n",
      "659\n"
     ]
    }
   ],
   "source": [
    "file_list = [dfJanComplete, dfFebComplete, dfMarComplete, dfAprComplete, dfMayComplete, dfJunComplete,\n",
    "             dfJulComplete, dfAugComplete, dfSepComplete, dfOctComplete, dfNovComplete, dfDecComplete]\n",
    "\n",
    "for f in file_list:\n",
    "    print f.count()[0]"
   ]
  },
  {
   "cell_type": "markdown",
   "metadata": {},
   "source": [
    "---\n",
    "##Combine the monthly datasets into a full unitary dataset\n",
    "---"
   ]
  },
  {
   "cell_type": "code",
   "execution_count": 28,
   "metadata": {
    "collapsed": true
   },
   "outputs": [],
   "source": [
    "dfAll = dfJanComplete.copy()\n",
    "dfAll = dfAll.append(dfFebComplete, ignore_index = True)\n",
    "dfAll = dfAll.append(dfMarComplete, ignore_index = True)\n",
    "dfAll = dfAll.append(dfAprComplete, ignore_index = True)\n",
    "dfAll = dfAll.append(dfMayComplete, ignore_index = True)\n",
    "dfAll = dfAll.append(dfJunComplete, ignore_index = True)\n",
    "dfAll = dfAll.append(dfJulComplete, ignore_index = True)\n",
    "dfAll = dfAll.append(dfAugComplete, ignore_index = True)\n",
    "dfAll = dfAll.append(dfSepComplete, ignore_index = True)\n",
    "dfAll = dfAll.append(dfOctComplete, ignore_index = True)\n",
    "dfAll = dfAll.append(dfNovComplete, ignore_index = True)\n",
    "dfAll = dfAll.append(dfDecComplete, ignore_index = True)"
   ]
  },
  {
   "cell_type": "code",
   "execution_count": 29,
   "metadata": {
    "collapsed": false
   },
   "outputs": [
    {
     "data": {
      "text/plain": [
       "Index([u'index', u'Unnamed: 0', u'day', u'tripduration', u'starttime', u'stoptime', u'start.station.id', u'start.station.name', u'start.station.latitude', u'start.station.longitude', u'end.station.id', u'end.station.name', u'end.station.latitude', u'end.station.longitude', u'bikeid', u'usertype', u'birth.year', u'gender', u'distance', u'zip', u'elev', u'dew', u'precip', u'hum', u'snow', u'temp', u'windspeed', u'visibility', u'windchill', u'heatindex', u'fog', u'rain', u'hail', u'thunder', u'tornado', u'speed'], dtype='object')"
      ]
     },
     "execution_count": 29,
     "metadata": {},
     "output_type": "execute_result"
    }
   ],
   "source": [
    "dfAll.columns"
   ]
  },
  {
   "cell_type": "code",
   "execution_count": 30,
   "metadata": {
    "collapsed": false
   },
   "outputs": [
    {
     "name": "stdout",
     "output_type": "stream",
     "text": [
      "<class 'pandas.core.frame.DataFrame'>\n",
      "Int64Index: 7663 entries, 0 to 7662\n",
      "Data columns (total 36 columns):\n",
      "index                      7663 non-null int64\n",
      "Unnamed: 0                 7663 non-null int64\n",
      "day                        7663 non-null object\n",
      "tripduration               7663 non-null float64\n",
      "starttime                  7663 non-null object\n",
      "stoptime                   7663 non-null object\n",
      "start.station.id           7663 non-null int64\n",
      "start.station.name         7663 non-null object\n",
      "start.station.latitude     7663 non-null float64\n",
      "start.station.longitude    7663 non-null float64\n",
      "end.station.id             7663 non-null int64\n",
      "end.station.name           7663 non-null object\n",
      "end.station.latitude       7663 non-null float64\n",
      "end.station.longitude      7663 non-null float64\n",
      "bikeid                     7663 non-null int64\n",
      "usertype                   7663 non-null object\n",
      "birth.year                 7663 non-null int64\n",
      "gender                     7663 non-null int64\n",
      "distance                   7663 non-null float64\n",
      "zip                        7663 non-null object\n",
      "elev                       7663 non-null float64\n",
      "dew                        7663 non-null float64\n",
      "precip                     7663 non-null float64\n",
      "hum                        7663 non-null int64\n",
      "snow                       7663 non-null int64\n",
      "temp                       7663 non-null float64\n",
      "windspeed                  7663 non-null float64\n",
      "visibility                 7663 non-null float64\n",
      "windchill                  7663 non-null float64\n",
      "heatindex                  7663 non-null float64\n",
      "fog                        7663 non-null int64\n",
      "rain                       7663 non-null int64\n",
      "hail                       7663 non-null int64\n",
      "thunder                    7663 non-null int64\n",
      "tornado                    7663 non-null int64\n",
      "speed                      7663 non-null float64\n",
      "dtypes: float64(15), int64(14), object(7)\n",
      "memory usage: 2.2+ MB\n"
     ]
    }
   ],
   "source": [
    "dfAll.info()"
   ]
  },
  {
   "cell_type": "markdown",
   "metadata": {},
   "source": [
    "---\n",
    "##Data Presentation 1\n",
    "##Bike speed by month\n",
    "---"
   ]
  },
  {
   "cell_type": "code",
   "execution_count": 31,
   "metadata": {
    "collapsed": false
   },
   "outputs": [],
   "source": [
    "dtm = []\n",
    "for i in xrange(len(dfAll.starttime)):\n",
    "    dt = datetime.strptime(dfAll.starttime.iloc[i], '%Y-%m-%d %H:%M:%S')\n",
    "    dtm.append(dt.month)"
   ]
  },
  {
   "cell_type": "code",
   "execution_count": 32,
   "metadata": {
    "collapsed": false
   },
   "outputs": [],
   "source": [
    "dfAll['month'] = dtm"
   ]
  },
  {
   "cell_type": "code",
   "execution_count": 33,
   "metadata": {
    "collapsed": false
   },
   "outputs": [
    {
     "data": {
      "text/plain": [
       "[<matplotlib.lines.Line2D at 0x10c2e0d50>]"
      ]
     },
     "execution_count": 33,
     "metadata": {},
     "output_type": "execute_result"
    },
    {
     "data": {
      "image/png": "[encoded data removed]",
      "text/plain": [
       "<matplotlib.figure.Figure at 0x10c26dc10>"
      ]
     },
     "metadata": {},
     "output_type": "display_data"
    }
   ],
   "source": [
    "fig = plt.figure(figsize = (10,10))\n",
    "ax = plt.subplot(111)\n",
    "ax.set_xlim(0, 13)\n",
    "ax.set_title(\"Bike Speed by Month\")\n",
    "ax.set_xlabel(\"Month\")\n",
    "ax.set_xticks(xrange(1, 13))\n",
    "ax.set_xticklabels([\"Jan\", \"Feb\", \"Mar\", \"Apr\", \"May\", \"Jun\", \"Jul\", \"Aug\", \"Sep\", \"Oct\", \"Nov\", \"Dec\"])\n",
    "ax.set_ylabel(\"Speed (mph)\")\n",
    "ax.plot(dfAll['month'], dfAll['speed'], '.')"
   ]
  },
  {
   "cell_type": "markdown",
   "metadata": {},
   "source": [
    "---\n",
    "##Data Presentation 2\n",
    "##Temperature by month\n",
    "---"
   ]
  },
  {
   "cell_type": "code",
   "execution_count": 34,
   "metadata": {
    "collapsed": false
   },
   "outputs": [
    {
     "data": {
      "text/plain": [
       "[<matplotlib.lines.Line2D at 0x10c7ffed0>]"
      ]
     },
     "execution_count": 34,
     "metadata": {},
     "output_type": "execute_result"
    },
    {
     "data": {
      "image/png": "[encoded data removed]",
      "text/plain": [
       "<matplotlib.figure.Figure at 0x10c2ee390>"
      ]
     },
     "metadata": {},
     "output_type": "display_data"
    }
   ],
   "source": [
    "fig = plt.figure(figsize = (10,10))\n",
    "ax = plt.subplot(111)\n",
    "ax.set_xticks(xrange(1, 13))\n",
    "ax.set_xlim(0, 13)\n",
    "ax.set_title(\"Temp by Month\")\n",
    "ax.set_xlabel(\"Month\")\n",
    "ax.set_xticklabels([\"Jan\", \"Feb\", \"Mar\", \"Apr\", \"May\", \"Jun\", \"Jul\", \"Aug\", \"Sep\", \"Oct\", \"Nov\", \"Dec\"])\n",
    "ax.set_ylabel(\"Temperature (degrees F)\")\n",
    "ax.plot(dfAll['month'], dfAll['temp'], '.')"
   ]
  },
  {
   "cell_type": "markdown",
   "metadata": {},
   "source": [
    "---\n",
    "##Data Presentation 3\n",
    "##Visual correlation of median bike speed variation and median temperature change\n",
    "---"
   ]
  },
  {
   "cell_type": "code",
   "execution_count": 36,
   "metadata": {
    "collapsed": false
   },
   "outputs": [],
   "source": [
    "j1 =  dfJanComplete.speed.median()-dfAll.speed.median()\n",
    "j2 =  dfFebComplete.speed.median()-dfAll.speed.median()\n",
    "j3 =  dfMarComplete.speed.median()-dfAll.speed.median()\n",
    "j4 =  dfAprComplete.speed.median()-dfAll.speed.median()\n",
    "j5 =  dfMayComplete.speed.median()-dfAll.speed.median()\n",
    "j6 =  dfJunComplete.speed.median()-dfAll.speed.median()\n",
    "j7 =  dfJulComplete.speed.median()-dfAll.speed.median()\n",
    "j8 =  dfAugComplete.speed.median()-dfAll.speed.median()\n",
    "j9 =  dfSepComplete.speed.median()-dfAll.speed.median()\n",
    "j10 = dfOctComplete.speed.median()-dfAll.speed.median()\n",
    "j11 = dfNovComplete.speed.median()-dfAll.speed.median()\n",
    "j12 = dfDecComplete.speed.median()-dfAll.speed.median()\n",
    "median_speeds = [j1,j2,j3,j4,j5,j6,j7,j8,j9,j10,j11,j12]"
   ]
  },
  {
   "cell_type": "code",
   "execution_count": 38,
   "metadata": {
    "collapsed": false
   },
   "outputs": [],
   "source": [
    "j1 =  dfJanComplete.temp.median()-dfAll.temp.median()\n",
    "j2 =  dfFebComplete.temp.median()-dfAll.temp.median()\n",
    "j3 =  dfMarComplete.temp.median()-dfAll.temp.median()\n",
    "j4 =  dfAprComplete.temp.median()-dfAll.temp.median()\n",
    "j5 =  dfMayComplete.temp.median()-dfAll.temp.median()\n",
    "j6 =  dfJunComplete.temp.median()-dfAll.temp.median()\n",
    "j7 =  dfJulComplete.temp.median()-dfAll.temp.median()\n",
    "j8 =  dfAugComplete.temp.median()-dfAll.temp.median()\n",
    "j9 =  dfSepComplete.temp.median()-dfAll.temp.median()\n",
    "j10 = dfOctComplete.temp.median()-dfAll.temp.median()\n",
    "j11 = dfNovComplete.temp.median()-dfAll.temp.median()\n",
    "j12 = dfDecComplete.temp.median()-dfAll.temp.median()\n",
    "median_temps = [j1,j2,j3,j4,j5,j6,j7,j8,j9,j10,j11,j12]"
   ]
  },
  {
   "cell_type": "code",
   "execution_count": 71,
   "metadata": {
    "collapsed": false
   },
   "outputs": [
    {
     "data": {
      "text/plain": [
       "<matplotlib.text.Text at 0x112023fd0>"
      ]
     },
     "execution_count": 71,
     "metadata": {},
     "output_type": "execute_result"
    },
    {
     "data": {
      "image/png": "[encoded data removed]",
      "text/plain": [
       "<matplotlib.figure.Figure at 0x10c572b90>"
      ]
     },
     "metadata": {},
     "output_type": "display_data"
    }
   ],
   "source": [
    "mpl.style.use('ggplot')\n",
    "\n",
    "months = ['Jan', 'Feb', 'Mar', 'Apr', 'May', 'Jun', 'Jul', 'Aug', 'Sep', 'Oct', 'Nov', 'Dec']\n",
    "x_plot = xrange(1, 13)\n",
    "\n",
    "fig = plt.figure(figsize = (7, 14))\n",
    "ax = plt.subplot(211)\n",
    "ax.scatter(x_plot, median_speeds, marker='o', color='blue', s=75)\n",
    "ax.set_xticks(x_plot)\n",
    "ax.set_xticklabels(months)\n",
    "ax.set_xlim(0, 13)\n",
    "ax.set_xlabel(\"Month\")\n",
    "ax.set_ylabel(\"Speed (mph)\")\n",
    "ax.set_title(\"Monthly Median Varation is Speed from Year Median\")\n",
    "\n",
    "ax = plt.subplot(212)\n",
    "ax.scatter(x_plot, median_temps, marker='o', color='green', s=75)\n",
    "ax.set_xticks(x_plot)\n",
    "ax.set_xticklabels(months)\n",
    "ax.set_xlim(0, 13)\n",
    "ax.set_xlabel(\"Month\")\n",
    "ax.set_ylabel(\"Temperature (degrees F)\")\n",
    "ax.set_title(\"Monthly Median Varation is Temperature from Year Median\")"
   ]
  },
  {
   "cell_type": "markdown",
   "metadata": {},
   "source": [
    "---\n",
    "#Elevation\n",
    "---"
   ]
  },
  {
   "cell_type": "code",
   "execution_count": 78,
   "metadata": {
    "collapsed": false
   },
   "outputs": [
    {
     "data": {
      "text/plain": [
       "<matplotlib.text.Text at 0x113ff6390>"
      ]
     },
     "execution_count": 78,
     "metadata": {},
     "output_type": "execute_result"
    },
    {
     "data": {
      "image/png": "[encoded data removed]",
      "text/plain": [
       "<matplotlib.figure.Figure at 0x1144a05d0>"
      ]
     },
     "metadata": {},
     "output_type": "display_data"
    }
   ],
   "source": [
    "fig = plt.figure(figsize = (7,7))\n",
    "ax = plt.subplot(111)\n",
    "ax.hist(dfAll.elev.values, bins = 20)\n",
    "ax.set_title(\"Histogram of Elevation for 12 Months Data\")\n",
    "ax.set_xlabel(\"Elevation (feet)\")"
   ]
  },
  {
   "cell_type": "markdown",
   "metadata": {},
   "source": [
    "---\n",
    "#Investigating Correlations with Speed\n",
    "---"
   ]
  },
  {
   "cell_type": "code",
   "execution_count": 72,
   "metadata": {
    "collapsed": false
   },
   "outputs": [
    {
     "data": {
      "text/plain": [
       "array(['Unnamed: 0', 'bikeid', 'birth.year', 'day', 'dew', 'distance',\n",
       "       'elev', 'end.station.id', 'end.station.latitude',\n",
       "       'end.station.longitude', 'end.station.name', 'fog', 'gender',\n",
       "       'hail', 'heatindex', 'hum', 'index', 'month', 'precip', 'rain',\n",
       "       'snow', 'speed', 'start.station.id', 'start.station.latitude',\n",
       "       'start.station.longitude', 'start.station.name', 'starttime',\n",
       "       'stoptime', 'temp', 'thunder', 'tornado', 'tripduration',\n",
       "       'usertype', 'visibility', 'windchill', 'windspeed', 'zip'], dtype=object)"
      ]
     },
     "execution_count": 72,
     "metadata": {},
     "output_type": "execute_result"
    }
   ],
   "source": [
    "np.sort(dfAll.columns)"
   ]
  },
  {
   "cell_type": "code",
   "execution_count": 73,
   "metadata": {
    "collapsed": false
   },
   "outputs": [],
   "source": [
    "dfAll.speed = dfAll.speed.astype(float)\n",
    "dfAll.temp = dfAll.temp.astype(float)\n",
    "dfAll.elev = dfAll.elev.astype(float)\n",
    "dfAll.windspeed = dfAll.windspeed.astype(float)\n",
    "dfAll.windchill = dfAll.windchill.astype(float)\n",
    "dfAll.hum = dfAll.hum.astype(float)\n",
    "dfAll.precip = dfAll.precip.astype(float)"
   ]
  },
  {
   "cell_type": "code",
   "execution_count": 74,
   "metadata": {
    "collapsed": false
   },
   "outputs": [],
   "source": [
    "dfres = dfAll[['speed', 'temp', 'elev', 'windspeed', 'windchill', 'hum', 'precip']]"
   ]
  },
  {
   "cell_type": "code",
   "execution_count": 76,
   "metadata": {
    "collapsed": false
   },
   "outputs": [
    {
     "data": {
      "text/plain": [
       "speed        1.000000\n",
       "temp         0.137150\n",
       "elev        -0.062516\n",
       "windspeed    0.012526\n",
       "windchill   -0.118027\n",
       "hum          0.009349\n",
       "precip      -0.005448\n",
       "dtype: float64"
      ]
     },
     "execution_count": 76,
     "metadata": {},
     "output_type": "execute_result"
    }
   ],
   "source": [
    "dfres.corrwith(dfres.speed)"
   ]
  },
  {
   "cell_type": "code",
   "execution_count": 82,
   "metadata": {
    "collapsed": false
   },
   "outputs": [
    {
     "data": {
      "text/plain": [
       "<matplotlib.text.Text at 0x116322650>"
      ]
     },
     "execution_count": 82,
     "metadata": {},
     "output_type": "execute_result"
    },
    {
     "data": {
      "image/png": "[encoded data removed]",
      "text/plain": [
       "<matplotlib.figure.Figure at 0x1152bbfd0>"
      ]
     },
     "metadata": {},
     "output_type": "display_data"
    }
   ],
   "source": [
    "fig = plt.figure(figsize = (15, 7))\n",
    "ax = plt.subplot(121)\n",
    "ax.hist(dfres.speed, bins = 50)\n",
    "ax.set_title(\"Histogram of Speed for a Year\")\n",
    "ax.set_xlabel(\"Speed (mph)\")\n",
    "\n",
    "ax = plt.subplot(122)\n",
    "ax.hist(np.log10(dfres.speed), bins = 50)\n",
    "ax.set_title(\"Histogram of Log Speed for a Year\")\n",
    "ax.set_xlabel(\"Speed (mph)\")"
   ]
  },
  {
   "cell_type": "code",
   "execution_count": 83,
   "metadata": {
    "collapsed": false
   },
   "outputs": [
    {
     "data": {
      "text/html": [
       "<div style=\"max-height:1000px;max-width:1500px;overflow:auto;\">\n",
       "<table border=\"1\" class=\"dataframe\">\n",
       "  <thead>\n",
       "    <tr style=\"text-align: right;\">\n",
       "      <th></th>\n",
       "      <th>speed</th>\n",
       "      <th>temp</th>\n",
       "      <th>elev</th>\n",
       "      <th>windspeed</th>\n",
       "      <th>windchill</th>\n",
       "      <th>hum</th>\n",
       "      <th>precip</th>\n",
       "    </tr>\n",
       "  </thead>\n",
       "  <tbody>\n",
       "    <tr>\n",
       "      <th>0</th>\n",
       "      <td> 11.631873</td>\n",
       "      <td> 44.6</td>\n",
       "      <td>  0</td>\n",
       "      <td>-9999.0</td>\n",
       "      <td>-999</td>\n",
       "      <td> 46</td>\n",
       "      <td>-9999.00</td>\n",
       "    </tr>\n",
       "    <tr>\n",
       "      <th>1</th>\n",
       "      <td> 13.543902</td>\n",
       "      <td> 44.6</td>\n",
       "      <td> 17</td>\n",
       "      <td>-9999.0</td>\n",
       "      <td>-999</td>\n",
       "      <td> 76</td>\n",
       "      <td>-9999.00</td>\n",
       "    </tr>\n",
       "    <tr>\n",
       "      <th>2</th>\n",
       "      <td> 14.370492</td>\n",
       "      <td> 44.6</td>\n",
       "      <td>  0</td>\n",
       "      <td>-9999.0</td>\n",
       "      <td>-999</td>\n",
       "      <td> 66</td>\n",
       "      <td>-9999.00</td>\n",
       "    </tr>\n",
       "    <tr>\n",
       "      <th>3</th>\n",
       "      <td>  9.353780</td>\n",
       "      <td> 46.9</td>\n",
       "      <td> 10</td>\n",
       "      <td>    3.5</td>\n",
       "      <td>-999</td>\n",
       "      <td> 83</td>\n",
       "      <td>    0.02</td>\n",
       "    </tr>\n",
       "    <tr>\n",
       "      <th>4</th>\n",
       "      <td> 13.888636</td>\n",
       "      <td> 42.8</td>\n",
       "      <td> -1</td>\n",
       "      <td>-9999.0</td>\n",
       "      <td>-999</td>\n",
       "      <td> 81</td>\n",
       "      <td>-9999.00</td>\n",
       "    </tr>\n",
       "  </tbody>\n",
       "</table>\n",
       "</div>"
      ],
      "text/plain": [
       "       speed  temp  elev  windspeed  windchill  hum   precip\n",
       "0  11.631873  44.6     0    -9999.0       -999   46 -9999.00\n",
       "1  13.543902  44.6    17    -9999.0       -999   76 -9999.00\n",
       "2  14.370492  44.6     0    -9999.0       -999   66 -9999.00\n",
       "3   9.353780  46.9    10        3.5       -999   83     0.02\n",
       "4  13.888636  42.8    -1    -9999.0       -999   81 -9999.00"
      ]
     },
     "execution_count": 83,
     "metadata": {},
     "output_type": "execute_result"
    }
   ],
   "source": [
    "dfres.head()"
   ]
  },
  {
   "cell_type": "code",
   "execution_count": 85,
   "metadata": {
    "collapsed": false
   },
   "outputs": [],
   "source": [
    "logspeed = np.log10(dfres.speed)"
   ]
  },
  {
   "cell_type": "code",
   "execution_count": 87,
   "metadata": {
    "collapsed": false
   },
   "outputs": [
    {
     "name": "stderr",
     "output_type": "stream",
     "text": [
      "/Users/mrgholt/anaconda/lib/python2.7/site-packages/IPython/kernel/__main__.py:1: SettingWithCopyWarning: \n",
      "A value is trying to be set on a copy of a slice from a DataFrame.\n",
      "Try using .loc[row_indexer,col_indexer] = value instead\n",
      "\n",
      "See the the caveats in the documentation: http://pandas.pydata.org/pandas-docs/stable/indexing.html#indexing-view-versus-copy\n",
      "  if __name__ == '__main__':\n"
     ]
    }
   ],
   "source": [
    "dfres['logspeed'] = logspeed"
   ]
  },
  {
   "cell_type": "code",
   "execution_count": 88,
   "metadata": {
    "collapsed": false
   },
   "outputs": [
    {
     "data": {
      "text/html": [
       "<div style=\"max-height:1000px;max-width:1500px;overflow:auto;\">\n",
       "<table border=\"1\" class=\"dataframe\">\n",
       "  <thead>\n",
       "    <tr style=\"text-align: right;\">\n",
       "      <th></th>\n",
       "      <th>speed</th>\n",
       "      <th>temp</th>\n",
       "      <th>elev</th>\n",
       "      <th>windspeed</th>\n",
       "      <th>windchill</th>\n",
       "      <th>hum</th>\n",
       "      <th>precip</th>\n",
       "      <th>logspeed</th>\n",
       "    </tr>\n",
       "  </thead>\n",
       "  <tbody>\n",
       "    <tr>\n",
       "      <th>0</th>\n",
       "      <td> 11.631873</td>\n",
       "      <td> 44.6</td>\n",
       "      <td>  0</td>\n",
       "      <td>-9999.0</td>\n",
       "      <td>-999</td>\n",
       "      <td> 46</td>\n",
       "      <td>-9999.00</td>\n",
       "      <td> 1.065650</td>\n",
       "    </tr>\n",
       "    <tr>\n",
       "      <th>1</th>\n",
       "      <td> 13.543902</td>\n",
       "      <td> 44.6</td>\n",
       "      <td> 17</td>\n",
       "      <td>-9999.0</td>\n",
       "      <td>-999</td>\n",
       "      <td> 76</td>\n",
       "      <td>-9999.00</td>\n",
       "      <td> 1.131744</td>\n",
       "    </tr>\n",
       "    <tr>\n",
       "      <th>2</th>\n",
       "      <td> 14.370492</td>\n",
       "      <td> 44.6</td>\n",
       "      <td>  0</td>\n",
       "      <td>-9999.0</td>\n",
       "      <td>-999</td>\n",
       "      <td> 66</td>\n",
       "      <td>-9999.00</td>\n",
       "      <td> 1.157472</td>\n",
       "    </tr>\n",
       "    <tr>\n",
       "      <th>3</th>\n",
       "      <td>  9.353780</td>\n",
       "      <td> 46.9</td>\n",
       "      <td> 10</td>\n",
       "      <td>    3.5</td>\n",
       "      <td>-999</td>\n",
       "      <td> 83</td>\n",
       "      <td>    0.02</td>\n",
       "      <td> 0.970987</td>\n",
       "    </tr>\n",
       "    <tr>\n",
       "      <th>4</th>\n",
       "      <td> 13.888636</td>\n",
       "      <td> 42.8</td>\n",
       "      <td> -1</td>\n",
       "      <td>-9999.0</td>\n",
       "      <td>-999</td>\n",
       "      <td> 81</td>\n",
       "      <td>-9999.00</td>\n",
       "      <td> 1.142660</td>\n",
       "    </tr>\n",
       "  </tbody>\n",
       "</table>\n",
       "</div>"
      ],
      "text/plain": [
       "       speed  temp  elev  windspeed  windchill  hum   precip  logspeed\n",
       "0  11.631873  44.6     0    -9999.0       -999   46 -9999.00  1.065650\n",
       "1  13.543902  44.6    17    -9999.0       -999   76 -9999.00  1.131744\n",
       "2  14.370492  44.6     0    -9999.0       -999   66 -9999.00  1.157472\n",
       "3   9.353780  46.9    10        3.5       -999   83     0.02  0.970987\n",
       "4  13.888636  42.8    -1    -9999.0       -999   81 -9999.00  1.142660"
      ]
     },
     "execution_count": 88,
     "metadata": {},
     "output_type": "execute_result"
    }
   ],
   "source": [
    "dfres.head()"
   ]
  },
  {
   "cell_type": "code",
   "execution_count": 89,
   "metadata": {
    "collapsed": false
   },
   "outputs": [
    {
     "data": {
      "text/plain": [
       "speed        0.992376\n",
       "temp         0.145286\n",
       "elev        -0.063907\n",
       "windspeed    0.011704\n",
       "windchill   -0.125053\n",
       "hum          0.007991\n",
       "precip      -0.006636\n",
       "logspeed     1.000000\n",
       "dtype: float64"
      ]
     },
     "execution_count": 89,
     "metadata": {},
     "output_type": "execute_result"
    }
   ],
   "source": [
    "dfres.corrwith(dfres.logspeed)"
   ]
  }
 ],
 "metadata": {
  "kernelspec": {
   "display_name": "Python 2",
   "language": "python",
   "name": "python2"
  },
  "language_info": {
   "codemirror_mode": {
    "name": "ipython",
    "version": 2
   },
   "file_extension": ".py",
   "mimetype": "text/x-python",
   "name": "python",
   "nbconvert_exporter": "python",
   "pygments_lexer": "ipython2",
   "version": "2.7.9"
  }
 },
 "nbformat": 4,
 "nbformat_minor": 0
}
