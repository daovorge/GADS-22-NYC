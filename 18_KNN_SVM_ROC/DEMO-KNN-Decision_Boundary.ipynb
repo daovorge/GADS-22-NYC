{
 "cells": [
  {
   "cell_type": "code",
   "execution_count": 2,
   "metadata": {
    "collapsed": false
   },
   "outputs": [],
   "source": [
    "import numpy as np\n",
    "import pandas as pd\n",
    "import matplotlib.pyplot as plt\n",
    "%matplotlib inline\n",
    "from sklearn.datasets import make_blobs\n",
    "from sklearn import preprocessing\n",
    "from sklearn.neighbors import KNeighborsClassifier"
   ]
  },
  {
   "cell_type": "markdown",
   "metadata": {},
   "source": [
    "---\n",
    "Nearest Neighbors\n",
    "=====\n",
    "***"
   ]
  },
  {
   "cell_type": "markdown",
   "metadata": {},
   "source": [
    "---\n",
    "Histogram method of density estimation (non-parameteric methods)\n",
    "=====\n",
    "***"
   ]
  },
  {
   "cell_type": "markdown",
   "metadata": {},
   "source": [
    "###Partition $x$ into $i$ distinct bins of width $d$ - $d_{i}$\n",
    "###Count the number of observations $m_{i}$ of $x$ falling in each bin $i$\n",
    "###To turn this count into a probability distribution we simply divide by the bin width and the total number of observations $M$\n",
    "\n",
    "###$p_{i} = \\frac{m_{i}}{M\\times d_{i}}$\n",
    "\n",
    "###Bin width has a huge influence on the ability of this to model a density\n",
    "###Too narrow a width results in a density model that is very spiky, with structure that is not present in the underlying distribution that generated the data\n",
    "###Too wide a width results in an overly smooth estimation that fails to capture (for example, in this case) the bimodal nature of the distribution\n",
    "###Once the histogram has been computed there is no longer any requirement to store the data\n",
    "###The histogram approach can be easily applied to points arriving sequentially\n",
    "###This approach does not scale with dimensionality and so is generally unsuited to most applications\n",
    "###The approach suffers directly from the curse of dimensionality\n",
    "\n",
    "###Two important things arise from considering this method:\n",
    "\n",
    "###1. To estimate probability density at a particular location we should consider the data points lying within a local neighborhood of that location\n",
    "###2. The value of the smoothing parameter (bin width in this case) should neither be too large or too small"
   ]
  },
  {
   "cell_type": "code",
   "execution_count": 15,
   "metadata": {
    "collapsed": false
   },
   "outputs": [
    {
     "data": {
      "image/png": "[encoded data removed]",
      "text/plain": [
       "<matplotlib.figure.Figure at 0x10ec10150>"
      ]
     },
     "metadata": {},
     "output_type": "display_data"
    }
   ],
   "source": [
    "#number of training examples\n",
    "m = 40\n",
    "\n",
    "#number of features\n",
    "N = 1\n",
    "\n",
    "#number of distinct clusters or groupings or 'blobs'\n",
    "num_blobs = 2\n",
    "\n",
    "#using sklearn's 'make_blobs' functionality to make some clusters of data\n",
    "#blobs also returns an array, y, which contains the identity of the blob each pair of points belongs to\n",
    "X, y = make_blobs(n_samples = m, n_features = N, centers=num_blobs, cluster_std=7.5, random_state=6)\n",
    "\n",
    "XX = []\n",
    "XXX = []\n",
    "for i in xrange(len(X)):\n",
    "    if y[i]==0:\n",
    "        XX.append(X[i])\n",
    "    else:\n",
    "        XXX.append(X[i])\n",
    "\n",
    "#Plot the blobs and color them for each blob\n",
    "fig = plt.figure(figsize = (20, 5))\n",
    "\n",
    "ax = plt.subplot(131)\n",
    "bin_width = 2\n",
    "ax.hist(np.array(XX), bins = bin_width, normed = True, color=\"red\", alpha=0.5)\n",
    "ax.hist(np.array(XXX), bins = bin_width, normed = True, color=\"blue\", alpha=0.5)\n",
    "title = \"Plot of Blobs with Bin Width = {:d}\".format(bin_width)\n",
    "ax.set_title(title)\n",
    "ax.set_xlabel('x')\n",
    "\n",
    "\n",
    "ax = plt.subplot(132)\n",
    "bin_width = 10\n",
    "ax.hist(np.array(XX), bins = bin_width, normed = True, color=\"red\", alpha=0.5)\n",
    "ax.hist(np.array(XXX), bins = bin_width, normed = True, color=\"blue\", alpha=0.5)\n",
    "title = \"Plot of Blobs with Bin Width = {:d}\".format(bin_width)\n",
    "ax.set_title(title)\n",
    "ax.set_xlabel('x')\n",
    "\n",
    "ax = plt.subplot(133)\n",
    "bin_width = 20\n",
    "ax.hist(np.array(XX), bins = bin_width, normed = True, color=\"red\", alpha=0.5)\n",
    "ax.hist(np.array(XXX), bins = bin_width, normed = True, color=\"blue\", alpha=0.5)\n",
    "title = \"Plot of Blobs with Bin Width = {:d}\".format(bin_width)\n",
    "ax.set_title(title)\n",
    "ax.set_xlabel('x')\n",
    "\n",
    "plt.subplots_adjust(left=None, bottom=None, right=None, top=None, wspace=0.5, hspace=0.5)"
   ]
  },
  {
   "cell_type": "markdown",
   "metadata": {},
   "source": [
    "---\n",
    "K-Nearest Neighbor\n",
    "=====\n",
    "***"
   ]
  },
  {
   "cell_type": "markdown",
   "metadata": {},
   "source": [
    "###Suppose you have $M$ points, and $k$ classes\n",
    "###$N_{k}$ represent the number of points in each class\n",
    "###So $\\sum_{i=1}N_{k} = N$\n",
    "###Suppose we take a point $x$ within an area (e.g. a histogram bin) or a volume in higher dimensional space,  $V$\n",
    "###$K$ represents the number of points within that area or volume\n",
    "###Then, as we saw above\n",
    "###$p(x|C_{k}) = \\frac{K_{k}}{N_{k}V}$\n",
    "###$p(x) = \\frac{K}{NV}$\n",
    "###$p(C_{k})=\\frac{N_k}{N}$\n",
    "###Therefore:\n",
    "###$$p(C_k|x) = \\frac{p(x|C_{k})p(C_{k})}{p(x)} = \\frac{K_{k}}{K}$$\n",
    "\n",
    "##To classify a new point we identify the K nearest points from the training set and assign the new point to the class having the largest number of representatives within this set\n",
    "\n",
    "###The case where $K=1$ is called the 'nearest-neighbor' rule, because a test point is simply assigned to the same class as the nearest point from the training set\n",
    "\n",
    "###For the K-NN algorithm $K$ controls the degree of smoothing:\n",
    "###- small $K$ produces many small regions of each class\n",
    "###- large $K$ leads to fewer, larger regions\n",
    "###- requires the entire training set to be stored\n",
    "###- computational expense increases with the size of the training set\n",
    "### - this is a severe limitation"
   ]
  },
  {
   "cell_type": "code",
   "execution_count": 20,
   "metadata": {
    "collapsed": false
   },
   "outputs": [
    {
     "data": {
      "text/plain": [
       "<matplotlib.legend.Legend at 0x10d8ecb90>"
      ]
     },
     "execution_count": 20,
     "metadata": {},
     "output_type": "execute_result"
    },
    {
     "data": {
      "image/png": "[encoded data removed]",
      "text/plain": [
       "<matplotlib.figure.Figure at 0x10d67fe10>"
      ]
     },
     "metadata": {},
     "output_type": "display_data"
    }
   ],
   "source": [
    "#number of training examples\n",
    "m = 40\n",
    "\n",
    "#number of features\n",
    "N = 2\n",
    "\n",
    "#number of distinct clusters or groupings or 'blobs'\n",
    "num_blobs = 3\n",
    "\n",
    "#using sklearn's 'make_blobs' functionality to make some clusters of data\n",
    "#blobs also returns an array, y, which contains the identity of the blob each pair of points belongs to\n",
    "X, y = make_blobs(n_samples = m, n_features = N, centers=num_blobs, cluster_std=3.5, random_state=6)\n",
    "\n",
    "scaler = preprocessing.StandardScaler(copy=True, with_mean=True, with_std=True).fit(X)\n",
    "X_scaled = scaler.transform(X)\n",
    "\n",
    "color_list = ['red', 'green', 'blue', 'yellow', 'black', 'orange', 'magenta', 'cyan']\n",
    "\n",
    "#Plot the blobs and color them for each blob\n",
    "fig = plt.figure(figsize = (7,7))\n",
    "ax = plt.subplot(111)\n",
    "for i in xrange(num_blobs):\n",
    "    ax.scatter(X_scaled[y == i,0], X_scaled[y == i,1], color=color_list[i], s=50, label='Blob 1, y = 1')\n",
    "\n",
    "ax.set_title(\"Plot of Blobs\")\n",
    "ax.set_xlabel(\"x1\")\n",
    "ax.set_ylabel(\"x2\")\n",
    "#ax.set_xlim(-)\n",
    "ax.legend(loc='best')"
   ]
  },
  {
   "cell_type": "code",
   "execution_count": 29,
   "metadata": {
    "collapsed": false
   },
   "outputs": [
    {
     "data": {
      "text/html": [
       "<div>\n",
       "<table border=\"1\" class=\"dataframe\">\n",
       "  <thead>\n",
       "    <tr style=\"text-align: right;\">\n",
       "      <th>Predicted</th>\n",
       "      <th>0</th>\n",
       "      <th>1</th>\n",
       "      <th>2</th>\n",
       "    </tr>\n",
       "    <tr>\n",
       "      <th>Actual</th>\n",
       "      <th></th>\n",
       "      <th></th>\n",
       "      <th></th>\n",
       "    </tr>\n",
       "  </thead>\n",
       "  <tbody>\n",
       "    <tr>\n",
       "      <th>0</th>\n",
       "      <td>14</td>\n",
       "      <td>0</td>\n",
       "      <td>0</td>\n",
       "    </tr>\n",
       "    <tr>\n",
       "      <th>1</th>\n",
       "      <td>0</td>\n",
       "      <td>13</td>\n",
       "      <td>0</td>\n",
       "    </tr>\n",
       "    <tr>\n",
       "      <th>2</th>\n",
       "      <td>0</td>\n",
       "      <td>0</td>\n",
       "      <td>13</td>\n",
       "    </tr>\n",
       "  </tbody>\n",
       "</table>\n",
       "</div>"
      ],
      "text/plain": [
       "Predicted   0   1   2\n",
       "Actual               \n",
       "0          14   0   0\n",
       "1           0  13   0\n",
       "2           0   0  13"
      ]
     },
     "execution_count": 29,
     "metadata": {},
     "output_type": "execute_result"
    }
   ],
   "source": [
    "#Fit a basic logistic regression model\n",
    "clf = KNeighborsClassifier(1) \n",
    "clf.fit(X_scaled, y)\n",
    "\n",
    "#A confusion matrix indicates the results of classification\n",
    "#pd.crosstab returns a DataFrame\n",
    "cm = pd.crosstab(y, clf.predict(X_scaled), rownames=[\"Actual\"], colnames=[\"Predicted\"])\n",
    "cm"
   ]
  },
  {
   "cell_type": "markdown",
   "metadata": {},
   "source": [
    "#####Compare the decision boundary for when k is small to when k is large"
   ]
  },
  {
   "cell_type": "code",
   "execution_count": 28,
   "metadata": {
    "collapsed": false
   },
   "outputs": [
    {
     "data": {
      "text/plain": [
       "<matplotlib.text.Text at 0x10e84e510>"
      ]
     },
     "execution_count": 28,
     "metadata": {},
     "output_type": "execute_result"
    },
    {
     "data": {
      "image/png": "[encoded data removed]",
      "text/plain": [
       "<matplotlib.figure.Figure at 0x10e63d410>"
      ]
     },
     "metadata": {},
     "output_type": "display_data"
    }
   ],
   "source": [
    "fig = plt.figure(figsize = (7, 7))\n",
    "ax = plt.subplot(111)\n",
    "\n",
    "#find the limits required for the plot\n",
    "x_min, x_max = X_scaled[:, 0].min() - 1, X_scaled[:, 0].max() + 1\n",
    "y_min, y_max = X_scaled[:, 1].min() - 1, X_scaled[:, 1].max() + 1\n",
    "\n",
    "#step size for the mesh\n",
    "h = 0.02\n",
    "xx, yy = np.meshgrid(np.arange(x_min, x_max, h), np.arange(y_min, y_max, h))\n",
    "\n",
    "#predict over the mesh\n",
    "Z = clf.predict(np.c_[xx.ravel(), yy.ravel()])\n",
    "\n",
    "# Put the result into a color plot\n",
    "Z = Z.reshape(xx.shape)\n",
    "ax.contourf(xx, yy, Z, cmap=plt.cm.Paired, alpha=0.1)\n",
    "\n",
    "color_list = ['red', 'green', 'blue', 'yellow', 'black', 'orange', 'magenta', 'cyan']\n",
    "\n",
    "#re-plot the points\n",
    "for i in xrange(num_blobs):\n",
    "    ax.scatter(X_scaled[y == i,0], X_scaled[y == i,1], color=color_list[i], s=50, label='Blob 1, y = 1')\n",
    "\n",
    "\n",
    "ax.set_xlim(xx.min(), xx.max())\n",
    "ax.set_ylim(yy.min(), yy.max())\n",
    "ax.set_title(\"KNN Decision Boundary\")\n",
    "ax.set_xlabel(\"X Scaled\")\n",
    "ax.set_ylabel(\"y Scaled\")"
   ]
  }
 ],
 "metadata": {
  "kernelspec": {
   "display_name": "Python 2",
   "language": "python",
   "name": "python2"
  },
  "language_info": {
   "codemirror_mode": {
    "name": "ipython",
    "version": 2
   },
   "file_extension": ".py",
   "mimetype": "text/x-python",
   "name": "python",
   "nbconvert_exporter": "python",
   "pygments_lexer": "ipython2",
   "version": "2.7.10"
  }
 },
 "nbformat": 4,
 "nbformat_minor": 0
}
