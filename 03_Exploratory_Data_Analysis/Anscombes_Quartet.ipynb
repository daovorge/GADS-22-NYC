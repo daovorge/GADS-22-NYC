{
 "cells": [
  {
   "cell_type": "markdown",
   "metadata": {},
   "source": [
    "#Anscombe's Quartet"
   ]
  },
  {
   "cell_type": "code",
   "execution_count": 17,
   "metadata": {
    "collapsed": false
   },
   "outputs": [],
   "source": [
    "import numpy as np\n",
    "import pandas as pd\n",
    "import matplotlib.pyplot as plt\n",
    "%matplotlib inline\n",
    "from sklearn import linear_model\n",
    "import matplotlib as mpl"
   ]
  },
  {
   "cell_type": "code",
   "execution_count": 18,
   "metadata": {
    "collapsed": false
   },
   "outputs": [],
   "source": [
    "mpl.style.use('ggplot')"
   ]
  },
  {
   "cell_type": "code",
   "execution_count": 2,
   "metadata": {
    "collapsed": true
   },
   "outputs": [],
   "source": [
    "x1 = [10.0, 8.0, 13.0, 9.0, 11.0, 14.0, 6.0, 4.0, 12.0, 7.0, 5.0]\n",
    "y1 = [8.04, 6.95, 7.58, 8.81, 8.33, 9.96, 7.24, 4.26, 10.84, 4.82, 5.68]"
   ]
  },
  {
   "cell_type": "code",
   "execution_count": 3,
   "metadata": {
    "collapsed": false
   },
   "outputs": [],
   "source": [
    "dd={}\n",
    "dd['x1'] = [10.0, 8.0, 13.0, 9.0, 11.0, 14.0, 6.0, 4.0, 12.0, 7.0, 5.0]\n",
    "dd['y1'] = [8.04, 6.95, 7.58, 8.81, 8.33, 9.96, 7.24, 4.26, 10.84, 4.82, 5.68]\n",
    "dd['x2'] = [10.0, 8.0, 13.0, 9.0, 11.0, 14.0, 6.0, 4.0, 12.0, 7.0, 5.0,]\n",
    "dd['y2'] = [9.14, 8.14, 8.74, 8.77, 9.26, 8.10, 6.13, 3.10, 9.13, 7.26, 4.74]\n",
    "dd['x3'] = [10.0, 8.0, 13.0, 9.0, 11.0, 14.0, 6.0, 4.0, 12.0, 7.0, 5.0,]\n",
    "dd['y3'] = [7.46, 6.77, 12.74, 7.11, 7.81, 8.84, 6.08, 5.39, 8.15, 6.42, 5.73]\n",
    "dd['x4'] = [8.0, 8.0, 8.0, 8.0, 8.0, 8.0, 8.0, 19.0, 8.0, 8.0, 8.0]\n",
    "dd['y4'] = [6.58, 5.76, 7.71, 8.84, 8.47, 7.04, 5.25, 12.50, 5.56, 7.91, 6.89]"
   ]
  },
  {
   "cell_type": "code",
   "execution_count": 4,
   "metadata": {
    "collapsed": false
   },
   "outputs": [],
   "source": [
    "df = pd.DataFrame(dd)"
   ]
  },
  {
   "cell_type": "code",
   "execution_count": 5,
   "metadata": {
    "collapsed": false
   },
   "outputs": [
    {
     "data": {
      "text/html": [
       "<div style=\"max-height:1000px;max-width:1500px;overflow:auto;\">\n",
       "<table border=\"1\" class=\"dataframe\">\n",
       "  <thead>\n",
       "    <tr style=\"text-align: right;\">\n",
       "      <th></th>\n",
       "      <th>x1</th>\n",
       "      <th>x2</th>\n",
       "      <th>x3</th>\n",
       "      <th>x4</th>\n",
       "      <th>y1</th>\n",
       "      <th>y2</th>\n",
       "      <th>y3</th>\n",
       "      <th>y4</th>\n",
       "    </tr>\n",
       "  </thead>\n",
       "  <tbody>\n",
       "    <tr>\n",
       "      <th>0 </th>\n",
       "      <td> 10</td>\n",
       "      <td> 10</td>\n",
       "      <td> 10</td>\n",
       "      <td>  8</td>\n",
       "      <td>  8.04</td>\n",
       "      <td> 9.14</td>\n",
       "      <td>  7.46</td>\n",
       "      <td>  6.58</td>\n",
       "    </tr>\n",
       "    <tr>\n",
       "      <th>1 </th>\n",
       "      <td>  8</td>\n",
       "      <td>  8</td>\n",
       "      <td>  8</td>\n",
       "      <td>  8</td>\n",
       "      <td>  6.95</td>\n",
       "      <td> 8.14</td>\n",
       "      <td>  6.77</td>\n",
       "      <td>  5.76</td>\n",
       "    </tr>\n",
       "    <tr>\n",
       "      <th>2 </th>\n",
       "      <td> 13</td>\n",
       "      <td> 13</td>\n",
       "      <td> 13</td>\n",
       "      <td>  8</td>\n",
       "      <td>  7.58</td>\n",
       "      <td> 8.74</td>\n",
       "      <td> 12.74</td>\n",
       "      <td>  7.71</td>\n",
       "    </tr>\n",
       "    <tr>\n",
       "      <th>3 </th>\n",
       "      <td>  9</td>\n",
       "      <td>  9</td>\n",
       "      <td>  9</td>\n",
       "      <td>  8</td>\n",
       "      <td>  8.81</td>\n",
       "      <td> 8.77</td>\n",
       "      <td>  7.11</td>\n",
       "      <td>  8.84</td>\n",
       "    </tr>\n",
       "    <tr>\n",
       "      <th>4 </th>\n",
       "      <td> 11</td>\n",
       "      <td> 11</td>\n",
       "      <td> 11</td>\n",
       "      <td>  8</td>\n",
       "      <td>  8.33</td>\n",
       "      <td> 9.26</td>\n",
       "      <td>  7.81</td>\n",
       "      <td>  8.47</td>\n",
       "    </tr>\n",
       "    <tr>\n",
       "      <th>5 </th>\n",
       "      <td> 14</td>\n",
       "      <td> 14</td>\n",
       "      <td> 14</td>\n",
       "      <td>  8</td>\n",
       "      <td>  9.96</td>\n",
       "      <td> 8.10</td>\n",
       "      <td>  8.84</td>\n",
       "      <td>  7.04</td>\n",
       "    </tr>\n",
       "    <tr>\n",
       "      <th>6 </th>\n",
       "      <td>  6</td>\n",
       "      <td>  6</td>\n",
       "      <td>  6</td>\n",
       "      <td>  8</td>\n",
       "      <td>  7.24</td>\n",
       "      <td> 6.13</td>\n",
       "      <td>  6.08</td>\n",
       "      <td>  5.25</td>\n",
       "    </tr>\n",
       "    <tr>\n",
       "      <th>7 </th>\n",
       "      <td>  4</td>\n",
       "      <td>  4</td>\n",
       "      <td>  4</td>\n",
       "      <td> 19</td>\n",
       "      <td>  4.26</td>\n",
       "      <td> 3.10</td>\n",
       "      <td>  5.39</td>\n",
       "      <td> 12.50</td>\n",
       "    </tr>\n",
       "    <tr>\n",
       "      <th>8 </th>\n",
       "      <td> 12</td>\n",
       "      <td> 12</td>\n",
       "      <td> 12</td>\n",
       "      <td>  8</td>\n",
       "      <td> 10.84</td>\n",
       "      <td> 9.13</td>\n",
       "      <td>  8.15</td>\n",
       "      <td>  5.56</td>\n",
       "    </tr>\n",
       "    <tr>\n",
       "      <th>9 </th>\n",
       "      <td>  7</td>\n",
       "      <td>  7</td>\n",
       "      <td>  7</td>\n",
       "      <td>  8</td>\n",
       "      <td>  4.82</td>\n",
       "      <td> 7.26</td>\n",
       "      <td>  6.42</td>\n",
       "      <td>  7.91</td>\n",
       "    </tr>\n",
       "    <tr>\n",
       "      <th>10</th>\n",
       "      <td>  5</td>\n",
       "      <td>  5</td>\n",
       "      <td>  5</td>\n",
       "      <td>  8</td>\n",
       "      <td>  5.68</td>\n",
       "      <td> 4.74</td>\n",
       "      <td>  5.73</td>\n",
       "      <td>  6.89</td>\n",
       "    </tr>\n",
       "  </tbody>\n",
       "</table>\n",
       "</div>"
      ],
      "text/plain": [
       "    x1  x2  x3  x4     y1    y2     y3     y4\n",
       "0   10  10  10   8   8.04  9.14   7.46   6.58\n",
       "1    8   8   8   8   6.95  8.14   6.77   5.76\n",
       "2   13  13  13   8   7.58  8.74  12.74   7.71\n",
       "3    9   9   9   8   8.81  8.77   7.11   8.84\n",
       "4   11  11  11   8   8.33  9.26   7.81   8.47\n",
       "5   14  14  14   8   9.96  8.10   8.84   7.04\n",
       "6    6   6   6   8   7.24  6.13   6.08   5.25\n",
       "7    4   4   4  19   4.26  3.10   5.39  12.50\n",
       "8   12  12  12   8  10.84  9.13   8.15   5.56\n",
       "9    7   7   7   8   4.82  7.26   6.42   7.91\n",
       "10   5   5   5   8   5.68  4.74   5.73   6.89"
      ]
     },
     "execution_count": 5,
     "metadata": {},
     "output_type": "execute_result"
    }
   ],
   "source": [
    "df"
   ]
  },
  {
   "cell_type": "code",
   "execution_count": 6,
   "metadata": {
    "collapsed": false
   },
   "outputs": [
    {
     "data": {
      "text/plain": [
       "x1    9.000000\n",
       "x2    9.000000\n",
       "x3    9.000000\n",
       "x4    9.000000\n",
       "y1    7.500909\n",
       "y2    7.500909\n",
       "y3    7.500000\n",
       "y4    7.500909\n",
       "dtype: float64"
      ]
     },
     "execution_count": 6,
     "metadata": {},
     "output_type": "execute_result"
    }
   ],
   "source": [
    "df.mean()"
   ]
  },
  {
   "cell_type": "code",
   "execution_count": 7,
   "metadata": {
    "collapsed": false
   },
   "outputs": [
    {
     "data": {
      "text/plain": [
       "x1    11.000000\n",
       "x2    11.000000\n",
       "x3    11.000000\n",
       "x4    11.000000\n",
       "y1     4.127269\n",
       "y2     4.127629\n",
       "y3     4.122620\n",
       "y4     4.123249\n",
       "dtype: float64"
      ]
     },
     "execution_count": 7,
     "metadata": {},
     "output_type": "execute_result"
    }
   ],
   "source": [
    "df.std()*df.std()"
   ]
  },
  {
   "cell_type": "code",
   "execution_count": 8,
   "metadata": {
    "collapsed": false
   },
   "outputs": [
    {
     "data": {
      "text/plain": [
       "x1    99.00\n",
       "x2    99.00\n",
       "x3    99.00\n",
       "x4    99.00\n",
       "y1    82.51\n",
       "y2    82.51\n",
       "y3    82.50\n",
       "y4    82.51\n",
       "dtype: float64"
      ]
     },
     "execution_count": 8,
     "metadata": {},
     "output_type": "execute_result"
    }
   ],
   "source": [
    "df.sum()"
   ]
  },
  {
   "cell_type": "code",
   "execution_count": 9,
   "metadata": {
    "collapsed": false
   },
   "outputs": [
    {
     "name": "stdout",
     "output_type": "stream",
     "text": [
      "0.816420516345\n",
      "0.816236506\n",
      "0.81628673949\n",
      "0.816521436889\n"
     ]
    }
   ],
   "source": [
    "print df.x1.corr(df.y1)\n",
    "print df.x2.corr(df.y2)\n",
    "print df.x3.corr(df.y3)\n",
    "print df.x4.corr(df.y4)"
   ]
  },
  {
   "cell_type": "code",
   "execution_count": 10,
   "metadata": {
    "collapsed": false
   },
   "outputs": [
    {
     "name": "stdout",
     "output_type": "stream",
     "text": [
      "[ 0.50009091]\n",
      "3.00009090909\n"
     ]
    }
   ],
   "source": [
    "clf1 = linear_model.LinearRegression(fit_intercept=True)\n",
    "clf1.fit (df.x1.reshape(11,1), df.y1)\n",
    "print clf1.coef_\n",
    "print clf1.intercept_"
   ]
  },
  {
   "cell_type": "code",
   "execution_count": 11,
   "metadata": {
    "collapsed": false
   },
   "outputs": [
    {
     "name": "stdout",
     "output_type": "stream",
     "text": [
      "[ 0.5]\n",
      "3.00090909091\n"
     ]
    }
   ],
   "source": [
    "clf2 = linear_model.LinearRegression(fit_intercept=True)\n",
    "clf2.fit (df.x2.reshape(11,1), df.y2)\n",
    "print clf2.coef_\n",
    "print clf2.intercept_"
   ]
  },
  {
   "cell_type": "code",
   "execution_count": 12,
   "metadata": {
    "collapsed": false
   },
   "outputs": [
    {
     "name": "stdout",
     "output_type": "stream",
     "text": [
      "[ 0.49972727]\n",
      "3.00245454545\n"
     ]
    }
   ],
   "source": [
    "clf3 = linear_model.LinearRegression(fit_intercept=True)\n",
    "clf3.fit (df.x3.reshape(11,1), df.y3)\n",
    "print clf3.coef_\n",
    "print clf3.intercept_"
   ]
  },
  {
   "cell_type": "code",
   "execution_count": 13,
   "metadata": {
    "collapsed": false
   },
   "outputs": [
    {
     "name": "stdout",
     "output_type": "stream",
     "text": [
      "[ 0.49990909]\n",
      "3.00172727273\n"
     ]
    }
   ],
   "source": [
    "clf4 = linear_model.LinearRegression(fit_intercept=True)\n",
    "clf4.fit (df.x4.reshape(11,1), df.y4)\n",
    "print clf4.coef_\n",
    "print clf4.intercept_"
   ]
  },
  {
   "cell_type": "code",
   "execution_count": 45,
   "metadata": {
    "collapsed": false
   },
   "outputs": [],
   "source": [
    "x = np.arange(0,22,0.5)\n",
    "x = x.reshape(44, 1)"
   ]
  },
  {
   "cell_type": "code",
   "execution_count": 48,
   "metadata": {
    "collapsed": false
   },
   "outputs": [
    {
     "data": {
      "text/plain": [
       "<matplotlib.text.Text at 0x11852d8d0>"
      ]
     },
     "execution_count": 48,
     "metadata": {},
     "output_type": "execute_result"
    },
    {
     "data": {
      "image/png": "[encoded data removed]",
      "text/plain": [
       "<matplotlib.figure.Figure at 0x118b1af50>"
      ]
     },
     "metadata": {},
     "output_type": "display_data"
    }
   ],
   "source": [
    "fig = plt.figure(figsize=(10,10))\n",
    "ax1 = plt.subplot(221)\n",
    "ax1.plot(df.x1.values, df.y1.values, 'bo')\n",
    "ax1.plot(x, clf1.predict(x))\n",
    "ax1.set_xlim(0,22)\n",
    "ax1.set_ylim(0,14)\n",
    "ax1.set_xlabel('x1')\n",
    "ax1.set_ylabel('y1')\n",
    "ax1.set_title(\"Anscombe's Quartet Dataset 1\")\n",
    "\n",
    "ax2 = plt.subplot(222)\n",
    "ax2.plot(df.x2.values, df.y2.values, 'bo')\n",
    "ax2.plot(x, clf1.predict(x))\n",
    "ax2.set_xlim(0,22)\n",
    "ax2.set_ylim(0,14)\n",
    "ax2.set_xlabel('x2')\n",
    "ax2.set_ylabel('y2')\n",
    "ax2.set_title(\"Anscombe's Quartet Dataset 1\")\n",
    "\n",
    "ax3 = plt.subplot(223)\n",
    "ax3.plot(df.x3.values, df.y3.values, 'bo')\n",
    "ax3.plot(x, clf1.predict(x))\n",
    "ax3.set_xlim(0,22)\n",
    "ax3.set_ylim(0,14)\n",
    "ax3.set_xlabel('x3')\n",
    "ax3.set_ylabel('y3')\n",
    "ax3.set_title(\"Anscombe's Quartet Dataset 1\")\n",
    "\n",
    "ax4 = plt.subplot(224)\n",
    "ax4.plot(df.x4.values, df.y4.values, 'bo')\n",
    "ax4.plot(x, clf1.predict(x))\n",
    "ax4.set_xlim(0,22)\n",
    "ax4.set_ylim(0,14)\n",
    "ax4.set_xlabel('x4')\n",
    "ax4.set_ylabel('y4')\n",
    "ax4.set_title(\"Anscombe's Quartet Dataset 4\")\n"
   ]
  }
 ],
 "metadata": {
  "kernelspec": {
   "display_name": "Python 2",
   "language": "python",
   "name": "python2"
  },
  "language_info": {
   "codemirror_mode": {
    "name": "ipython",
    "version": 2
   },
   "file_extension": ".py",
   "mimetype": "text/x-python",
   "name": "python",
   "nbconvert_exporter": "python",
   "pygments_lexer": "ipython2",
   "version": "2.7.9"
  }
 },
 "nbformat": 4,
 "nbformat_minor": 0
}
