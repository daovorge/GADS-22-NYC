{
 "cells": [
  {
   "cell_type": "markdown",
   "metadata": {},
   "source": [
    "#Basic Numpy"
   ]
  },
  {
   "cell_type": "markdown",
   "metadata": {},
   "source": [
    "##Numpy stands for numerical python"
   ]
  },
  {
   "cell_type": "markdown",
   "metadata": {},
   "source": [
    "####The starring role is played by the \"ndarray\"\n",
    "####The numpy library also provides linear algebra routines\n",
    "####Pandas is built on numpy\n",
    "####There is overlap in what numpy provides, in terms of data analysis capabilities"
   ]
  },
  {
   "cell_type": "code",
   "execution_count": 2,
   "metadata": {
    "collapsed": true
   },
   "outputs": [],
   "source": [
    "#The standard way to import the numpy library\n",
    "import numpy as np"
   ]
  },
  {
   "cell_type": "markdown",
   "metadata": {},
   "source": [
    "#Constructing"
   ]
  },
  {
   "cell_type": "code",
   "execution_count": 125,
   "metadata": {
    "collapsed": false
   },
   "outputs": [
    {
     "name": "stdout",
     "output_type": "stream",
     "text": [
      "[ 3.   4.7  2.   0.   1.2  1. ]\n"
     ]
    }
   ],
   "source": [
    "#TODO create a python list to hold the following numbers 3, 4.7, 2, 0, 1.2, 1\n",
    "#TODO convert the python list to an ndarry using the \"np.array()\" method\n",
    "a_list = [3, 4.7, 2, 0, 1.2, 1]\n",
    "a_np_array = np.array(a_list)\n",
    "print a_np_array"
   ]
  },
  {
   "cell_type": "code",
   "execution_count": 4,
   "metadata": {
    "collapsed": false
   },
   "outputs": [
    {
     "name": "stdout",
     "output_type": "stream",
     "text": [
      "(6,)\n",
      "float64\n"
     ]
    }
   ],
   "source": [
    "#TODO using the shape attribute print out the shape of the ndarray you created\n",
    "#TODO using the dtype attribute print out the type of the ndarray you created\n",
    "print a_np_array.shape\n",
    "print a_np_array.dtype"
   ]
  },
  {
   "cell_type": "code",
   "execution_count": 5,
   "metadata": {
    "collapsed": false
   },
   "outputs": [
    {
     "name": "stdout",
     "output_type": "stream",
     "text": [
      "2\n",
      "(2, 6)\n",
      "float64\n"
     ]
    }
   ],
   "source": [
    "#TODO create a second list of numbers 2, 3.4, 3.3, 6, 2, 1\n",
    "#TODO in python create a new list which contains the 2 lists of numbers\n",
    "#TODO convert this list of lists into a 2 dimensionl ndarray\n",
    "#TODO confirm the dimensionality of the array using the ndim attribute, also print out the shape and type\n",
    "b_list = [2, 3.4, 3.3, 6, 2, 1]\n",
    "c_list = [a_list, b_list]\n",
    "c_np_array = np.array(c_list)\n",
    "print c_np_array.ndim\n",
    "print c_np_array.shape\n",
    "print c_np_array.dtype"
   ]
  },
  {
   "cell_type": "markdown",
   "metadata": {},
   "source": [
    "####There are a number of helper functions to create arrays from scratch"
   ]
  },
  {
   "cell_type": "code",
   "execution_count": 6,
   "metadata": {
    "collapsed": false
   },
   "outputs": [
    {
     "name": "stdout",
     "output_type": "stream",
     "text": [
      "[0 0 0 0 0] [ 0.  0.  0.  0.  0.] [1 1 1 1 1] [ 1.  1.  1.  1.  1.]\n"
     ]
    }
   ],
   "source": [
    "#TODO using the np.zeros and np.ones methods create 4 ndarrays, 2 of type int, 2 of type float \n",
    "#hint: there is a dtype option within the array method that can be used to set the type\n",
    "a1 = np.zeros(5, dtype=np.int)\n",
    "a2 = np.zeros(5, dtype=np.float)\n",
    "a3 = np.ones(5, dtype=np.int)\n",
    "a4 = np.ones(5, dtype=np.float)\n",
    "\n",
    "print a1, a2, a3, a4"
   ]
  },
  {
   "cell_type": "markdown",
   "metadata": {},
   "source": [
    "####It is often necessary to recast data types from one type to another, as we will see with the upcoming exploratory data analysis work"
   ]
  },
  {
   "cell_type": "code",
   "execution_count": 7,
   "metadata": {
    "collapsed": false
   },
   "outputs": [
    {
     "name": "stdout",
     "output_type": "stream",
     "text": [
      "['0' '0' '0' '0' '0']\n",
      "<type 'numpy.ndarray'>\n",
      "|S21\n"
     ]
    }
   ],
   "source": [
    "#TODO using the built in method astype convert one of the numerical arrays into an array of strings\n",
    "#TODO confirm that the new array really is of dtype string\n",
    "a1str = a1.astype(str)\n",
    "print a1str\n",
    "print type(a1str)\n",
    "print a1str.dtype"
   ]
  },
  {
   "cell_type": "markdown",
   "metadata": {},
   "source": [
    "##Question: Does astype create a new copy of the array?"
   ]
  },
  {
   "cell_type": "markdown",
   "metadata": {},
   "source": [
    "###Yes - even if the type of the new array is the same as that of the original array"
   ]
  },
  {
   "cell_type": "markdown",
   "metadata": {},
   "source": [
    "####Often when you read datasets from file numbers get read as strings"
   ]
  },
  {
   "cell_type": "code",
   "execution_count": 8,
   "metadata": {
    "collapsed": false
   },
   "outputs": [
    {
     "name": "stdout",
     "output_type": "stream",
     "text": [
      "[ 0.  0.  0.  0.  0.]\n"
     ]
    }
   ],
   "source": [
    "#TODO convert the array of strings back to floats\n",
    "a1float = a1str.astype(float)\n",
    "print a1float"
   ]
  },
  {
   "cell_type": "code",
   "execution_count": 9,
   "metadata": {
    "collapsed": false
   },
   "outputs": [
    {
     "name": "stdout",
     "output_type": "stream",
     "text": [
      "[50 52 54 56 58 60 62 64 66 68 70 72 74 76 78 80 82 84 86 88]\n",
      "20\n"
     ]
    }
   ],
   "source": [
    "#TODO what does the np.arange do\n",
    "#TODO create an integer array containing 20 integers, starting at 50 and going up in steps of 2\n",
    "int_array = np.arange(50, 90, 2)\n",
    "print int_array\n",
    "print len(int_array)"
   ]
  },
  {
   "cell_type": "markdown",
   "metadata": {},
   "source": [
    "#Vectorization"
   ]
  },
  {
   "cell_type": "code",
   "execution_count": 10,
   "metadata": {
    "collapsed": false
   },
   "outputs": [
    {
     "name": "stdout",
     "output_type": "stream",
     "text": [
      "[[ 1.  1.  1.]\n",
      " [ 1.  1.  1.]]\n",
      "(2, 3)\n",
      "[[2 4 8]\n",
      " [2 5 6]]\n",
      "(2, 3)\n"
     ]
    }
   ],
   "source": [
    "#TODO create a 2 by 3 array of floats - use the array you created above or create new ones\n",
    "float_array = np.ones((2,3), dtype=np.float)\n",
    "print float_array\n",
    "print float_array.shape\n",
    "\n",
    "#OR\n",
    "\n",
    "float_array_2 = np.array(([2, 4, 8], [2, 5, 6]))\n",
    "print float_array_2\n",
    "print float_array_2.shape"
   ]
  },
  {
   "cell_type": "code",
   "execution_count": 11,
   "metadata": {
    "collapsed": false
   },
   "outputs": [
    {
     "name": "stdout",
     "output_type": "stream",
     "text": [
      "[[ 4 16 64]\n",
      " [ 4 25 36]]\n",
      "27\n"
     ]
    },
    {
     "data": {
      "text/plain": [
       "array([[  8.6,  17.2,  34.4],\n",
       "       [  8.6,  21.5,  25.8]])"
      ]
     },
     "execution_count": 11,
     "metadata": {},
     "output_type": "execute_result"
    }
   ],
   "source": [
    "#TODO produce an array of the squares of all the numbers\n",
    "#TODO produce an array of the sum of all the numbers\n",
    "#TODO produce an array where all the numbers are multiplied by 4.3\n",
    "squares = float_array_2 * float_array_2\n",
    "print squares\n",
    "sums = float_array_2.sum()\n",
    "print sums\n",
    "four_pt_3 = float_array_2 * 4.3\n",
    "four_pt_3"
   ]
  },
  {
   "cell_type": "markdown",
   "metadata": {},
   "source": [
    "##Question what is the difference between vectorization and broadcasting"
   ]
  },
  {
   "cell_type": "markdown",
   "metadata": {},
   "source": [
    "#Quoting from Wes McKinney\n",
    "###Using NumPy arrays enables you to express many kinds of data processing tasks as concise array expressions that might otherwise require *writing loops*. \n",
    "\n",
    "###This practice of replacing explicit loops with array expressions is commonly referred to as *vectorization*. \n",
    "\n",
    "###In general, vectorized array operations will often be one or two (or more) orders of magnitude faster than their pure Python equivalents, with the biggest impact in any kind of numerical computations.\n",
    "\n",
    "###Any arithmetic operations between equal-size arrays applies the operation elementwise\n",
    "\n",
    "###Broadcasting describes how arithmetic works between arrays of different shapes. It is a very powerful feature, but one that can be easily misunderstood, even by experienced users. The simplest example of broadcasting occurs when combining a scalar value with an array.\n",
    "\n",
    "####McKinney, Wes (2012-10-08). Python for Data Analysis: Data Wrangling with Pandas, NumPy, and IPython (p. 97). O'Reilly Media. Kindle Edition. "
   ]
  },
  {
   "cell_type": "code",
   "execution_count": 106,
   "metadata": {
    "collapsed": false
   },
   "outputs": [
    {
     "name": "stdout",
     "output_type": "stream",
     "text": [
      "[[1 4 9]\n",
      " [1 4 9]]\n"
     ]
    }
   ],
   "source": [
    "#Vectorization example:\n",
    "test_array = np.array([[1, 2, 3], [1, 2, 3]])\n",
    "print test_array * test_array"
   ]
  },
  {
   "cell_type": "code",
   "execution_count": 126,
   "metadata": {
    "collapsed": false
   },
   "outputs": [
    {
     "data": {
      "text/plain": [
       "array([[3, 6, 9],\n",
       "       [3, 6, 9]])"
      ]
     },
     "execution_count": 126,
     "metadata": {},
     "output_type": "execute_result"
    }
   ],
   "source": [
    "#Broadcasting example (ultra simple example):\n",
    "test_array * 3"
   ]
  },
  {
   "cell_type": "markdown",
   "metadata": {},
   "source": [
    "#Basic Indexing, Slicing and Dicing"
   ]
  },
  {
   "cell_type": "code",
   "execution_count": 112,
   "metadata": {
    "collapsed": false
   },
   "outputs": [
    {
     "name": "stdout",
     "output_type": "stream",
     "text": [
      "58\n",
      "[58 60 62 64]\n"
     ]
    }
   ],
   "source": [
    "#TODO using the array of 20 integers you created above find:\n",
    "#The 5th element\n",
    "#The 5th to 8th elements inclusive\n",
    "print int_array[4]\n",
    "print int_array[4:8]"
   ]
  },
  {
   "cell_type": "code",
   "execution_count": 115,
   "metadata": {
    "collapsed": false
   },
   "outputs": [
    {
     "name": "stdout",
     "output_type": "stream",
     "text": [
      "[ 50  52  54  56 324 336 347 358  66  68  70  72  74  76  78  80  82  84\n",
      "  86  88]\n"
     ]
    }
   ],
   "source": [
    "#TODO multiply the 5th to 8th elements by 5.6\n",
    "#TODO now print the original array in full\n",
    "int_array[4:8] *= 5.6\n",
    "print int_array"
   ]
  },
  {
   "cell_type": "code",
   "execution_count": 123,
   "metadata": {
    "collapsed": false
   },
   "outputs": [
    {
     "name": "stdout",
     "output_type": "stream",
     "text": [
      "[     50      52      54      56 1287876     -10     -10     -10      66\n",
      "      68      70      72      74      76      78      80      82      84\n",
      "      86      88]\n",
      "[ 50  52  54  56 -10 -10 -10 -10  66  68  70  72  74  76  78  80  82  84\n",
      "  86  88]\n"
     ]
    }
   ],
   "source": [
    "#A better example might be:\n",
    "int_array_slice = int_array[4:8]\n",
    "int_array_slice[0] = 1287876\n",
    "print int_array\n",
    "\n",
    "int_array_slice[:] = -10\n",
    "print int_array"
   ]
  },
  {
   "cell_type": "markdown",
   "metadata": {},
   "source": [
    "##Question: What do you notice about the changes you made to the slice?"
   ]
  },
  {
   "cell_type": "markdown",
   "metadata": {},
   "source": [
    "###The slice is a view to the original array. Both the original array and the slice point to the same thing. If you change the slice then the original array also changes. It's not a huge thing but on occasion it catches me out and I get unexpected results"
   ]
  },
  {
   "cell_type": "code",
   "execution_count": 118,
   "metadata": {
    "collapsed": false
   },
   "outputs": [
    {
     "name": "stdout",
     "output_type": "stream",
     "text": [
      "[ 50  52  54  56 324 336 347 358  66  68  70  72  74  76  78  80  82  84\n",
      "  86  88]\n",
      "[ 162.   168.   173.5  179. ]\n"
     ]
    }
   ],
   "source": [
    "#TODO This time make a slice by using the 'copy' method\n",
    "#TODO Multiply this by 0.5\n",
    "#TODO print the original array\n",
    "int_array_slice = int_array[4:8].copy() * 0.5\n",
    "print int_array\n",
    "print int_array_slice"
   ]
  },
  {
   "cell_type": "markdown",
   "metadata": {},
   "source": [
    "####This is the difference between a view and a copy"
   ]
  },
  {
   "cell_type": "code",
   "execution_count": 130,
   "metadata": {
    "collapsed": false
   },
   "outputs": [
    {
     "name": "stdout",
     "output_type": "stream",
     "text": [
      "[50 52 54 32 32 32 32 32 32 32]\n",
      "[32 32 32 32 32 32 32 32 32 32 32 32 32 32 32 32 32]\n",
      "[50 52 54 32 32 32 32 32 32 32 32 32 32 32 32 32 32 32 32 32]\n"
     ]
    }
   ],
   "source": [
    "#TODO using the array of 20 integers slice the array from the begining to the 10th element\n",
    "#TODO now slice it from the 4th element to the end\n",
    "#TODO assign 32 to all the elements of the slice\n",
    "#TODO print the original array\n",
    "print int_array[:10]\n",
    "print int_array[3:]\n",
    "int_array[3:] = 32\n",
    "print int_array"
   ]
  },
  {
   "cell_type": "markdown",
   "metadata": {},
   "source": [
    "##Sorting"
   ]
  },
  {
   "cell_type": "code",
   "execution_count": 97,
   "metadata": {
    "collapsed": false
   },
   "outputs": [
    {
     "name": "stdout",
     "output_type": "stream",
     "text": [
      "[1 2 4 5 8]\n"
     ]
    }
   ],
   "source": [
    "a = np.array([4, 5, 2, 8, 1])\n",
    "#TODO using the built in sort method to sort this array\n",
    "#TODO confirm the array has been sorted by printing out the array\n",
    "a.sort()\n",
    "print a\n",
    "\n",
    "#This can be a little confusing as the sort occurs in place. a.sort() executes the in-place sort on a. It changes a.\n",
    "#You can't do this \"print a.sort()\" - try it.\n",
    "#You a.sort(), then you print a"
   ]
  },
  {
   "cell_type": "code",
   "execution_count": 101,
   "metadata": {
    "collapsed": false
   },
   "outputs": [
    {
     "name": "stdout",
     "output_type": "stream",
     "text": [
      "(2, 3)\n",
      "[[ 3  4 29]\n",
      " [ 6  8 11]]\n",
      "[[ 4  3 11]\n",
      " [ 8  6 29]]\n"
     ]
    }
   ],
   "source": [
    "a = np.array([[4, 3, 29], [8, 6, 11]])\n",
    "#TODO print the shape of this multi-dimensional array\n",
    "#TODO print the array and sort each row, reprint the array to confirm\n",
    "print a.shape\n",
    "a.sort(axis=1)\n",
    "print a\n",
    "\n",
    "a = np.array([[4, 3, 29], [8, 6, 11]])\n",
    "#TODO now sort by columns\n",
    "a.sort(axis=0)\n",
    "print a"
   ]
  },
  {
   "cell_type": "markdown",
   "metadata": {},
   "source": [
    "##NP arrays as sets"
   ]
  },
  {
   "cell_type": "code",
   "execution_count": 90,
   "metadata": {
    "collapsed": false
   },
   "outputs": [
    {
     "name": "stdout",
     "output_type": "stream",
     "text": [
      "['Bill' 'Daniel' 'Jim' 'John' 'Tony']\n",
      "set(['Tony', 'Jim', 'John', 'Bill', 'Daniel'])\n"
     ]
    }
   ],
   "source": [
    "names = np.array(['Jim', 'John', 'Bill', 'Tony', 'Jim', 'Bill', 'Daniel', 'Jim'])\n",
    "#TODO print out just the unique names in this nd array\n",
    "print np.unique(names)\n",
    "\n",
    "#formal conversion to a set\n",
    "\n",
    "names_set = set(names)\n",
    "print names_set"
   ]
  },
  {
   "cell_type": "markdown",
   "metadata": {},
   "source": [
    "#Random Number Generation"
   ]
  },
  {
   "cell_type": "markdown",
   "metadata": {},
   "source": [
    "Here is a linkg to the documentation for the random sampling routines built into numpy http://docs.scipy.org/doc/numpy/reference/routines.random.html#\n",
    "\n",
    "These are incredibly useful and powerful"
   ]
  },
  {
   "cell_type": "code",
   "execution_count": 60,
   "metadata": {
    "collapsed": false
   },
   "outputs": [
    {
     "name": "stdout",
     "output_type": "stream",
     "text": [
      "[ 0.39525025  0.62855481  0.19918225  0.30729624  0.02042127  0.31155328\n",
      "  0.03596808  0.95924069  0.55319113  0.60677951]\n"
     ]
    }
   ],
   "source": [
    "#TODO using np.random.rand create an array of 10 random numbers\n",
    "rand_array = np.random.rand(10)\n",
    "print rand_array"
   ]
  },
  {
   "cell_type": "markdown",
   "metadata": {},
   "source": [
    "#Universal Functions"
   ]
  },
  {
   "cell_type": "markdown",
   "metadata": {},
   "source": [
    "####A function that performs elementwise operation on the data in an nddarray."
   ]
  },
  {
   "cell_type": "code",
   "execution_count": 66,
   "metadata": {
    "collapsed": false
   },
   "outputs": [
    {
     "name": "stdout",
     "output_type": "stream",
     "text": [
      "[ 0.62868931  0.79281448  0.44629838  0.55434307  0.14290301  0.55816958\n",
      "  0.18965252  0.97940834  0.74376819  0.77896053]\n",
      "[ 0.39525025  0.62855481  0.19918225  0.30729624  0.02042127  0.31155328\n",
      "  0.03596808  0.95924069  0.55319113  0.60677951]\n"
     ]
    }
   ],
   "source": [
    "#TODO using the random number array you created above caluclate the following for all the elements of the array:\n",
    "#the square root\n",
    "#the absolute value\n",
    "sqroot_array = np.sqrt(rand_array)\n",
    "print sqroot_array\n",
    "abs_array = np.abs(rand_array)\n",
    "print abs_array\n",
    "#Note there are 2 absolute value functions np.abs() and np.fabs()"
   ]
  },
  {
   "cell_type": "code",
   "execution_count": 82,
   "metadata": {
    "collapsed": false
   },
   "outputs": [
    {
     "name": "stdout",
     "output_type": "stream",
     "text": [
      "[False False False False False False False False False False]\n",
      "[ True  True]\n"
     ]
    }
   ],
   "source": [
    "#TODO create a boolean array by checking that each element of the array is \"not a number\"\n",
    "bool_array = np.isnan(sqroot_array)\n",
    "print bool_array\n",
    "\n",
    "#conversely\n",
    "\n",
    "test_array = np.array([[1, 2, 3, 5], [np.NaN, np.NaN]])\n",
    "bool_array2 = np.isnan(test_array[1])\n",
    "print bool_array2"
   ]
  },
  {
   "cell_type": "markdown",
   "metadata": {},
   "source": [
    "##Mathematical and Statistical Methods"
   ]
  },
  {
   "cell_type": "code",
   "execution_count": 16,
   "metadata": {
    "collapsed": false
   },
   "outputs": [
    {
     "name": "stdout",
     "output_type": "stream",
     "text": [
      "1000\n"
     ]
    }
   ],
   "source": [
    "#TODO create an array of 1000 normally distributed numbers (standard normal distribution)\n",
    "rn_array = np.random.normal(0, 1, 1000)\n",
    "print len(rn_array)\n",
    "#print rn_array"
   ]
  },
  {
   "cell_type": "code",
   "execution_count": 29,
   "metadata": {
    "collapsed": false
   },
   "outputs": [
    {
     "name": "stdout",
     "output_type": "stream",
     "text": [
      "0.0320237964792\n",
      "0.998142664358\n",
      "original array\n",
      "-0.39 -0.70  0.37  1.57  2.08 -0.15 -2.13 -0.06 -0.05 -1.11 \n",
      "cumulative sum of original array\n",
      "-0.39 -1.09 -0.72  0.85  2.93  2.78  0.65  0.59  0.54 -0.57\n"
     ]
    }
   ],
   "source": [
    "#TODO get the mean, sum, standard deviation, and cumulative sum\n",
    "rn_array_mean = rn_array.mean()\n",
    "print rn_array_mean\n",
    "rn_array_std = rn_array.std()\n",
    "print rn_array_std\n",
    "rn_array_cumsum = rn_array.cumsum()\n",
    "print \"original array\"\n",
    "for i in xrange(10):\n",
    "    print \"{:5.2f}\".format(rn_array[i]), \n",
    "print \"\\ncumulative sum of original array\"\n",
    "for i in xrange(10):\n",
    "    print \"{:5.2f}\".format(rn_array_cumsum[i]), "
   ]
  },
  {
   "cell_type": "code",
   "execution_count": 53,
   "metadata": {
    "collapsed": false
   },
   "outputs": [
    {
     "name": "stdout",
     "output_type": "stream",
     "text": [
      "499.5\n",
      "Manuually evaluated using 1/N: 288.674990257\n",
      "Manuually evaluated using 1/N-1: 288.819436096\n",
      "Built in function: 288.674990257\n",
      "np standard deviation uses 1/N\n"
     ]
    }
   ],
   "source": [
    "##Question: To calculate standard deviation does np.std() use 1/N or 1/(N-1)\n",
    "#test_array = np.array([1, 2, 3, 4, 5, 6, 7, 8, 9, 10])\n",
    "test_array = np.array(np.arange(1000)) \n",
    "N = len(test_array)\n",
    "test_array_mean = test_array.mean()\n",
    "sum_sq_array = (test_array - test_array_mean) * (test_array - test_array_mean)\n",
    "sum_sq = sum_sq_array.sum()\n",
    "man_mean_a = np.sqrt(1.0/N * sum_sq)\n",
    "man_mean_b = np.sqrt(1.0/(N-1) * sum_sq)\n",
    "\n",
    "print \"Manuually evaluated using 1/N:\", man_mean_a\n",
    "print \"Manuually evaluated using 1/N-1:\", man_mean_b\n",
    "print \"Built in function:\", test_array.std()\n",
    "\n",
    "if man_mean_a - test_array.std() < 1e-16:\n",
    "    print \"np standard deviation uses 1/N\"\n",
    "else:\n",
    "    print \"np standard deviation uses 1/N-1\""
   ]
  },
  {
   "cell_type": "code",
   "execution_count": 59,
   "metadata": {
    "collapsed": false
   },
   "outputs": [
    {
     "name": "stdout",
     "output_type": "stream",
     "text": [
      "288.674990257 288.819436096 288.674990257\n"
     ]
    }
   ],
   "source": [
    "#TODO write no more than 4 lines of code to justify your answer\n",
    "test_array = np.array(np.arange(1000)) \n",
    "man_mean_a = np.sqrt(1.0/len(test_array) * ((test_array - test_array_mean) * (test_array - test_array_mean)).sum())\n",
    "man_mean_b = np.sqrt(1.0/(len(test_array)-1) * ((test_array - test_array_mean) * (test_array - test_array_mean)).sum())\n",
    "print man_mean_a, man_mean_b, test_array.std()"
   ]
  },
  {
   "cell_type": "markdown",
   "metadata": {},
   "source": [
    "##Meshgrid"
   ]
  },
  {
   "cell_type": "code",
   "execution_count": 78,
   "metadata": {
    "collapsed": false
   },
   "outputs": [
    {
     "name": "stdout",
     "output_type": "stream",
     "text": [
      "points is an array of   3 points: [-1  0  1]\n",
      "the x axis points are\n",
      "[[-1  0  1]\n",
      " [-1  0  1]\n",
      " [-1  0  1]]\n",
      "the y axis points are\n",
      "[[-1 -1 -1]\n",
      " [ 0  0  0]\n",
      " [ 1  1  1]]\n",
      "The individual pairs of points could be generated like this:\n",
      "( -1 , -1 ) ( 0 , -1 ) ( 1 , -1 ) ( -1 , 0 ) ( 0 , 0 ) ( 1 , 0 ) ( -1 , 1 ) ( 0 , 1 ) ( 1 , 1 )\n"
     ]
    }
   ],
   "source": [
    "points = np.arange(-1, 2, 1)\n",
    "print \"points is an array of  \", len(points), \"points:\", points\n",
    "\n",
    "#To create a meshgrid we would therefore need a total of 9 points in a grid, 3 along an x axis and 3 along a y axis\n",
    "x, y = np.meshgrid(points, points)\n",
    "\n",
    "print \"the x axis points are\\n\", x\n",
    "print \"the y axis points are\\n\", y\n",
    "\n",
    "print \"The individual pairs of points could be generated like this:\"\n",
    "\n",
    "for i in np.arange(len(points)):\n",
    "    for j in np.arange(len(points)):\n",
    "        print \"(\", x[i][j], \",\", y[i][j], \")\","
   ]
  },
  {
   "cell_type": "markdown",
   "metadata": {},
   "source": [
    "####Meshgrad is useful for 3d plotting"
   ]
  }
 ],
 "metadata": {
  "kernelspec": {
   "display_name": "Python 2",
   "language": "python",
   "name": "python2"
  },
  "language_info": {
   "codemirror_mode": {
    "name": "ipython",
    "version": 2
   },
   "file_extension": ".py",
   "mimetype": "text/x-python",
   "name": "python",
   "nbconvert_exporter": "python",
   "pygments_lexer": "ipython2",
   "version": "2.7.9"
  }
 },
 "nbformat": 4,
 "nbformat_minor": 0
}
