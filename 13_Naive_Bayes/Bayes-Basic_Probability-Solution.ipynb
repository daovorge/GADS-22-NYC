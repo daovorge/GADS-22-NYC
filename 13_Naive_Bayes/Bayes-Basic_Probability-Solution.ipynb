{
 "cells": [
  {
   "cell_type": "code",
   "execution_count": 2,
   "metadata": {
    "collapsed": false
   },
   "outputs": [],
   "source": [
    "from IPython.display import Latex\n",
    "from IPython.display import Math\n",
    "from scipy.stats import bernoulli\n",
    "import numpy as np\n",
    "import matplotlib.pyplot as plt\n",
    "%matplotlib inline"
   ]
  },
  {
   "cell_type": "code",
   "execution_count": 3,
   "metadata": {
    "collapsed": false
   },
   "outputs": [],
   "source": [
    "redbox = {\"rb1\" : \"apple\", \"rb2\" : \"apple\", \"rb3\" : \"orange\", \\\n",
    "          \"rb4\" : \"orange\", \"rb5\" : \"orange\", \"rb6\" : \"orange\" , \"rb7\" : \"orange\", \"rb8\" : \"orange\"}"
   ]
  },
  {
   "cell_type": "code",
   "execution_count": 4,
   "metadata": {
    "collapsed": false
   },
   "outputs": [],
   "source": [
    "bluebox = {\"bb1\" : \"apple\", \"bb2\" : \"apple\", \"bb3\" : \"apple\", \"bb4\" : \"orange\"}"
   ]
  },
  {
   "cell_type": "code",
   "execution_count": 5,
   "metadata": {
    "collapsed": false
   },
   "outputs": [],
   "source": [
    "def pAppleGivenRed(redbox):\n",
    "    '''returns the probability of getting a apple given the redbox'''\n",
    "    \n",
    "    apple = 0\n",
    "    orange = 0\n",
    "    for item in redbox:\n",
    "        if redbox[item] == \"apple\":\n",
    "            apple += 1\n",
    "        else:\n",
    "            orange += 1\n",
    "    return float(apple)/len(redbox)\n",
    "\n",
    "def pAppleGivenBlue(bluebox):\n",
    "    '''returns the probability of getting an apple given the bluebox'''\n",
    "\n",
    "    apple = 0\n",
    "    orange = 0\n",
    "    for item in bluebox:\n",
    "        if bluebox[item] == \"apple\":\n",
    "            apple += 1\n",
    "        else:\n",
    "            orange += 1\n",
    "    return float(apple)/len(bluebox)\n",
    "\n",
    "def chooseBox(N, probability_of_bluebox):\n",
    "    '''uses the bernoulli distribution to obtain random samples where the probability of 1 is set \n",
    "    using the argument probability_of_bluebox.\n",
    "    Using the results of the sampling returns the probability of the bluebox'''\n",
    "    \n",
    "    red = 0\n",
    "    blue = 0\n",
    "    for i in range(N):\n",
    "        choose_box = bernoulli.rvs(probability_of_bluebox, size=1)\n",
    "        if choose_box == 1:\n",
    "            blue += 1;\n",
    "        else:\n",
    "            red += 1;\n",
    "    \n",
    "    return float(blue)/float(N)\n",
    "    \n",
    "def chooseFruit(N, bluebox, redbox, blueboxprior=0.6):\n",
    "    '''deterimines and prints the probability of an apple or an orange, marginalizing out from which\n",
    "    box the fruit was chosen from. The prior probability of boxes is set using blueboxprior'''\n",
    "    \n",
    "    redboxprior = 1.0 - blueboxprior\n",
    "    orange = 0\n",
    "    apple = 0\n",
    "    blueboxfruitnumber = len(bluebox)\n",
    "    redboxfruitnumber = len(redbox)\n",
    "    blueboxfruitprob = 1.0/blueboxfruitnumber\n",
    "    redboxfruitprob = 1.0/redboxfruitnumber\n",
    "    \n",
    "    for i in range(N):\n",
    "        #randomnly choose the box using the prior probability for the bluebox\n",
    "        box = bernoulli.rvs(blueboxprior, size=1)\n",
    "        \n",
    "        if box == 1:\n",
    "            #blue box was chosen\n",
    "            #using the multinomial (1 out of K) choose a piece of fruit\n",
    "            #each piece of fruit has equal probability of being chosen\n",
    "            choose_bluebox_fruit = np.random.multinomial(1, [blueboxfruitprob]*blueboxfruitnumber)\n",
    "            \n",
    "            for j in range(len(bluebox)):\n",
    "                \n",
    "                #determine what fruit was chosen\n",
    "                if choose_bluebox_fruit[j] == 1:\n",
    "                    fruit = bluebox[bluebox.keys()[j]]\n",
    "                    if fruit == \"apple\":\n",
    "                        apple += 1\n",
    "                    else:\n",
    "                        orange += 1\n",
    "        else:\n",
    "            #red box was chosen\n",
    "            #using the multinomial (1 out of K) choose a piece of fruit\n",
    "            #each piece of fruit has equal probability of being chosen\n",
    "            choose_redbox_fruit = np.random.multinomial(1, [redboxfruitprob]*redboxfruitnumber)\n",
    "            for j in range(len(redbox)):\n",
    "                \n",
    "                #determine what fruit was chosen\n",
    "                if choose_redbox_fruit[j] == 1:\n",
    "                    fruit = redbox[redbox.keys()[j]]\n",
    "                    if fruit == \"apple\":\n",
    "                        apple += 1\n",
    "                    else:\n",
    "                        orange += 1\n",
    "                        \n",
    "    #print out the probabilities of each fruit based upon the samplin\n",
    "    print \"Apple: \", float(apple)/float(N)\n",
    "    print \"Orange: \", float(orange)/float(N)"
   ]
  },
  {
   "cell_type": "code",
   "execution_count": 6,
   "metadata": {
    "collapsed": false
   },
   "outputs": [
    {
     "name": "stdout",
     "output_type": "stream",
     "text": [
      "0.25\n",
      "0.75\n"
     ]
    }
   ],
   "source": [
    "print pAppleGivenRed(redbox)\n",
    "print pAppleGivenBlue(bluebox)"
   ]
  },
  {
   "cell_type": "code",
   "execution_count": 7,
   "metadata": {
    "collapsed": false
   },
   "outputs": [
    {
     "data": {
      "text/plain": [
       "0.50155"
      ]
     },
     "execution_count": 7,
     "metadata": {},
     "output_type": "execute_result"
    }
   ],
   "source": [
    "chooseBox(100000, 0.5)"
   ]
  },
  {
   "cell_type": "markdown",
   "metadata": {},
   "source": [
    "---\n",
    "Questions:\n",
    "===\n",
    "***\n",
    "\n",
    "1. Calculate, using the rules of probability, the probability of an Apple using a prior probability of choosing a blue box of 0.4, 0.5, and 0.6\n",
    "\n",
    "2. Using the sampling routine chooseFruit confirm that a long run sample converges on your probabilities"
   ]
  },
  {
   "cell_type": "code",
   "execution_count": 8,
   "metadata": {
    "collapsed": false
   },
   "outputs": [
    {
     "name": "stdout",
     "output_type": "stream",
     "text": [
      "Apple:  0.49829\n",
      "Orange:  0.50171\n"
     ]
    }
   ],
   "source": [
    "N =  100000\n",
    "blue_box_prior_prob = 0.5\n",
    "chooseFruit(N, bluebox, redbox, blueboxprior = blue_box_prior_prob)"
   ]
  },
  {
   "cell_type": "markdown",
   "metadata": {},
   "source": [
    "####Hint:\n",
    "\n",
    "$$P(Apple) = P(Apple|bluebox) * P(bluebox) + P(Apple|redbox) * P(redbox)$$"
   ]
  },
  {
   "cell_type": "code",
   "execution_count": 9,
   "metadata": {
    "collapsed": false
   },
   "outputs": [
    {
     "name": "stdout",
     "output_type": "stream",
     "text": [
      "P Blue box =  0.4\n",
      "P Red box =  0.6\n",
      "\n",
      "\n",
      "P Apple given blue box =  0.75\n",
      "P Orange given blue box =  0.25\n",
      "\n",
      "\n",
      "P Apple given red box =  0.25\n",
      "P Orange given red box =  0.75\n",
      "\n",
      "\n",
      "P_Apple is 0.45\n",
      "P_Orange is 0.55\n",
      "\n",
      "\n",
      "P(Box is blue|Fruit is an apple) =  0.67\n",
      "P(Box is red|Fruit is an apple) =  0.33\n",
      "\n",
      "\n",
      "P(Box is red|Fruit is an orange) =  0.82\n",
      "P(Box is blue|Fruit is an orange) =  0.18\n"
     ]
    }
   ],
   "source": [
    "P_BlueBox = 0.4\n",
    "P_RedBox = 1 - P_BlueBox;\n",
    "\n",
    "P_Apple_given_BlueBox = pAppleGivenBlue(bluebox)\n",
    "P_Orange_given_BlueBox = 1 - P_Apple_given_BlueBox\n",
    "\n",
    "P_Apple_given_RedBox = pAppleGivenRed(redbox)\n",
    "P_Orange_given_RedBox = 1 - P_Apple_given_RedBox\n",
    "\n",
    "P_Apple = P_Apple_given_BlueBox * P_BlueBox + P_Apple_given_RedBox * P_RedBox\n",
    "P_Orange = P_Orange_given_BlueBox * P_BlueBox + P_Orange_given_RedBox * P_RedBox\n",
    "\n",
    "print \"P Blue box = \",P_BlueBox\n",
    "print \"P Red box = \",P_RedBox\n",
    "print \"\\n\"\n",
    "print \"P Apple given blue box = \",P_Apple_given_BlueBox\n",
    "print \"P Orange given blue box = \",P_Orange_given_BlueBox\n",
    "print \"\\n\"\n",
    "print \"P Apple given red box = \",P_Apple_given_RedBox\n",
    "print \"P Orange given red box = \",P_Orange_given_RedBox\n",
    "print \"\\n\"\n",
    "print \"P_Apple is\", P_Apple\n",
    "print \"P_Orange is\", P_Orange\n",
    "print \"\\n\"\n",
    "P_BoxIsBlue_given_Apple = P_Apple_given_BlueBox * P_BlueBox / P_Apple\n",
    "print \"P(Box is blue|Fruit is an apple) = {:5.2f}\".format(P_BoxIsBlue_given_Apple)\n",
    "P_BoxIsRed_given_Apple = P_Apple_given_RedBox * P_RedBox / P_Apple\n",
    "print \"P(Box is red|Fruit is an apple) = {:5.2f}\".format(P_BoxIsRed_given_Apple)\n",
    "print \"\\n\"\n",
    "P_BoxIsRed_given_Orange = P_Orange_given_RedBox * P_RedBox / P_Orange\n",
    "print \"P(Box is red|Fruit is an orange) = {:5.2f}\".format(P_BoxIsRed_given_Orange)\n",
    "P_BoxIsBlue_given_Orange = P_Orange_given_BlueBox * P_BlueBox / P_Orange\n",
    "print \"P(Box is blue|Fruit is an orange) = {:5.2f}\".format(P_BoxIsBlue_given_Orange)"
   ]
  },
  {
   "cell_type": "markdown",
   "metadata": {},
   "source": [
    "---\n",
    "Questions:\n",
    "===\n",
    "***\n",
    "\n",
    "1. Calculate, using Bayes, the probability of having chosen the blue box given that the fruit was an apple (the prior probability of a blue box should be 0.6)\n",
    "\n",
    "2. Now repeat with priors of 0.5 and 0.4"
   ]
  },
  {
   "cell_type": "markdown",
   "metadata": {},
   "source": [
    "####Hint:\n",
    "\n",
    "$$P(\\text{box is blue } | \\text{ fruit is an apple}) = \\frac{P(\\text{fruit is an apple } | \\text{ box is blue}) * P(\\text{box is blue})}{P(\\text{fruit is an apple})}$$"
   ]
  },
  {
   "cell_type": "markdown",
   "metadata": {},
   "source": [
    "---\n",
    "THE RULES OF PROBABILITY\n",
    "=====\n",
    "***"
   ]
  },
  {
   "cell_type": "markdown",
   "metadata": {},
   "source": [
    "$\\text{Take 2 random variables: X, and Y}$\n",
    "\n",
    "$\\text{X can take on any of the values }x_{i}\\text{ where }i=1,...,M$\n",
    "\n",
    "$\\text{Y can take on any of the values }y_{j}\\text{ where }j=1,...,L$\n",
    "\n",
    "$\\text{Consider N trials where we sample from both X and Y}$\n",
    "\n",
    "$n_{ij}\\text{ is the subset of the N trials where X takes the value }x_{i}\\text{ and Y takes the value }y_{j}$\n",
    "\n",
    "$\\text{Irrespective of the values that Y takes, }c_{i}\\text{ is the number of trials where X takes the value }x_{i}$\n",
    "\n",
    "$\\text{Irrespective of the values that X takes, }r_{j}\\text{ is the number of trials where Y takes the value}y_{j}$"
   ]
  },
  {
   "cell_type": "markdown",
   "metadata": {},
   "source": [
    "---\n",
    "Joint Probability\n",
    "=====\n",
    "***"
   ]
  },
  {
   "cell_type": "markdown",
   "metadata": {},
   "source": [
    "$\\text{The probability that X takes the value }x_{i}\\text{ AND Y takes the value }y_{j}\\text{ is denoted:}$\n",
    "\n",
    "$p(X=x_{i}, Y=y_{j}) \\text{ or } P(X, Y)$\n",
    "\n",
    "$p(X, Y)=\\frac{n_{ij}}{N}$\n",
    "\n",
    "$\\text{and called the joint probability of }X \\text{ and } Y$"
   ]
  },
  {
   "cell_type": "markdown",
   "metadata": {},
   "source": [
    "---\n",
    "Marginal Probability\n",
    "=====\n",
    "***"
   ]
  },
  {
   "cell_type": "markdown",
   "metadata": {},
   "source": [
    "$\\text{The probability that X takes the value }x_{i}\\text{ irrespective of the value of Y}\\text{ is denoted:}$\n",
    "\n",
    "$p(X=x_{i}) \\text{ or }P(X)$\n",
    "\n",
    "$p(X)=\\frac{c_{i}}{N}$\n",
    "\n",
    "$c_{i} \\text{ may be expressed as the sum of the values of }n_{ij}\\text{ summed over all the values of j}$\n",
    "\n",
    "$c_{i}=\\sum_{j}n{ij}$\n",
    "\n",
    "$\\therefore p(X)=\\frac{c_{i}}{N}=\\frac{\\sum_{j}n{ij}}{N}=\\sum_{j}\\frac{n_{ij}}{N}=\\sum_{Y}p(X,Y)$\n",
    "\n",
    "$p(X)\\text{ is called the MARGINAL PROBABILITY}$ \n",
    "\n",
    "Other variables, $Y$ here, are being summed out or marginalized"
   ]
  },
  {
   "cell_type": "markdown",
   "metadata": {},
   "source": [
    "---\n",
    "The SUM RULE: \n",
    "======\n",
    "***"
   ]
  },
  {
   "cell_type": "markdown",
   "metadata": {},
   "source": [
    "##$$p(X)=\\sum_{Y}p(X,Y)$$"
   ]
  },
  {
   "cell_type": "markdown",
   "metadata": {},
   "source": [
    "---\n",
    "Conditional Probability\n",
    "=====\n",
    "***"
   ]
  },
  {
   "cell_type": "markdown",
   "metadata": {},
   "source": [
    "$\\text{Consider those instances for which }X=x_{i}\\text{, then the fraction of such instances}$\n",
    "\n",
    "$\\text{ for which }Y=y_{j}\\text{ is written }p(Y=y_{j}|X=x_{i})$\n",
    "\n",
    "$p(Y|X)\\text{ is called the CONDITIONAL PROBABILITY.}$\n",
    "\n",
    "$p(Y=y_{j}|X=x_{i})=\\frac{n_{ij}}{c_{i}}$\n",
    "\n",
    "$ p(X, Y)=\\frac{n_{ij}}{N}=\\frac{n_{ij}}{c_{i}}\\times\\frac{c_{i}}{N}=p(Y|X)p(X)$"
   ]
  },
  {
   "cell_type": "markdown",
   "metadata": {},
   "source": [
    "---\n",
    "The PRODUCT RULE: \n",
    "======\n",
    "***"
   ]
  },
  {
   "cell_type": "markdown",
   "metadata": {},
   "source": [
    "##$$p(X, Y)=p(Y|X)p(X)$$"
   ]
  },
  {
   "cell_type": "markdown",
   "metadata": {},
   "source": [
    "---\n",
    "RULES OF PROBABILITY:\n",
    "======\n",
    "***"
   ]
  },
  {
   "cell_type": "markdown",
   "metadata": {},
   "source": [
    "##Sum Rule: $P(X)=\\sum_{Y}P(X,Y)$\n",
    "##Product Rule: $P(X, Y)=P(Y|X)p(X)$\n",
    "---"
   ]
  },
  {
   "cell_type": "markdown",
   "metadata": {},
   "source": [
    "---\n",
    "Bayes' Theorem\n",
    "=====\n",
    "***"
   ]
  },
  {
   "cell_type": "markdown",
   "metadata": {},
   "source": [
    "$P(X, Y) = P(Y, X)$\n",
    "\n",
    "$P(X, Y) = P(Y|X) P(X)\\text{  and  }P(Y, X) = P(X|Y) P(Y)$\n",
    "\n",
    "$P(Y|X) P(X) = P(X|Y) P(Y)$\n",
    "\n",
    "$\\therefore P(X|Y) = \\frac{P(Y|X)P(X)}{P(Y)}$"
   ]
  },
  {
   "cell_type": "markdown",
   "metadata": {},
   "source": [
    "---\n",
    "BAYES' THEOREM:\n",
    "=====\n",
    "***"
   ]
  },
  {
   "cell_type": "markdown",
   "metadata": {},
   "source": [
    "##$$P(X|Y) = \\frac{P(Y|X)P(X)}{P(Y)}$$\n",
    "###OR\n",
    "##$$\\text{Posterior} = \\frac{\\text{Likelihood}\\text{ x }\\text{Prior}}{\\text{Normalization}}$$"
   ]
  },
  {
   "cell_type": "markdown",
   "metadata": {},
   "source": [
    "$\\text{The denominator can be expressed in terms of the quantities appearing in the numerator:}$\n",
    "\n",
    "$P(Y)=\\sum_{X}P(Y|X)P(X)$\n",
    "\n",
    "$\\therefore P(X|Y) = \\frac{P(Y|X)P(X)}{\\sum_{X}P(Y|X)P(X)}$"
   ]
  },
  {
   "cell_type": "markdown",
   "metadata": {},
   "source": [
    "---\n",
    "#INDEPENDENCE"
   ]
  },
  {
   "cell_type": "markdown",
   "metadata": {},
   "source": [
    "##$$\\text{If }p(X, Y) = p(X)p(Y) \\text{ then X and Y are said to be independent}$$\n",
    "\n",
    "$\\text{This means that }p(Y|X) = P(Y)$\n",
    "\n",
    "$\\text{ So the conditional distribution Y given X, is indeed independent of X}$"
   ]
  },
  {
   "cell_type": "code",
   "execution_count": 17,
   "metadata": {
    "collapsed": false
   },
   "outputs": [
    {
     "data": {
      "image/png": "[encoded data removed]",
      "text/plain": [
       "<matplotlib.figure.Figure at 0x10e9f0e90>"
      ]
     },
     "metadata": {},
     "output_type": "display_data"
    }
   ],
   "source": [
    "np.random.seed(2)\n",
    "\n",
    "#generate some random data\n",
    "X = np.zeros((90, 2))\n",
    "X[:40,0] = np.random.normal(loc = 6.5, scale = 1.1, size = 40)\n",
    "X[:40,1] = np.random.normal(1.5, scale = 0.07, size = 40)\n",
    "\n",
    "X[40:90,0] = np.random.normal(loc = 3.5, scale = 1.1, size = 50)\n",
    "X[40:90,1] = np.random.normal(0.5, scale = 0.07, size = 50)\n",
    "\n",
    "fig = plt.figure(figsize=(15, 15))\n",
    "ax = plt.subplot(221)\n",
    "\n",
    "#the main plot of the data within the 2 D grid\n",
    "ax.scatter(X[:,0], X[:,1])\n",
    "ax.set_title(\"P(X, Y)\")\n",
    "ax.set_xlabel(\"X\")\n",
    "ax.set_ylabel(\"Y=1                  Y=2\")\n",
    "ax.set_xlim(0,10)\n",
    "ax.set_ylim(0,2)\n",
    "ax.grid(b=True, linewidth = 2, which='major', linestyle='-', color='red')\n",
    "ax.xaxis.set_ticks([1,2,3,4,5,6,7,8,9,10])\n",
    "ax.xaxis.set_ticklabels([])\n",
    "ax.yaxis.set_ticklabels([])\n",
    "ax.yaxis.set_ticks([1])\n",
    "\n",
    "\n",
    "#now plot the 3 histograms\n",
    "ax = plt.subplot(222)\n",
    "\n",
    "#this is the rotated P(Y) histogram\n",
    "ax.hist(X[:,1], bins = 2, orientation='horizontal')\n",
    "ax.xaxis.set_ticklabels([])\n",
    "ax.yaxis.set_ticklabels([])\n",
    "ax.set_title(\"P(Y)\")\n",
    "ax.set_ylabel(\"Y\")\n",
    "\n",
    "ax = plt.subplot(223)\n",
    "\n",
    "#this is the P(X) histogram\n",
    "ax.set_xlim(0, 10)\n",
    "ax.hist(X[:, 0], bins=10)\n",
    "ax.set_title(\"P(X)\")\n",
    "ax.set_xlabel(\"X\")\n",
    "ax.xaxis.set_ticklabels([])\n",
    "ax.yaxis.set_ticklabels([])\n",
    "\n",
    "ax = plt.subplot(224)\n",
    "\n",
    "#this is one of the 2 P(X|Y) histograms, which is placed on the diagonal\n",
    "ax.set_title(\"P(X|Y=1)\")\n",
    "ax.set_xlabel(\"X\")\n",
    "ax.set_xlim(0,10)\n",
    "ax.hist(X[40:90,0], bins = 5)\n",
    "ax.xaxis.set_ticklabels([])\n",
    "ax.yaxis.set_ticklabels([])\n",
    "\n",
    "plt.tight_layout()"
   ]
  },
  {
   "cell_type": "markdown",
   "metadata": {},
   "source": [
    "---\n",
    "NAIVE BAYES CLASSIFIER\n",
    "=====\n",
    "***"
   ]
  },
  {
   "cell_type": "markdown",
   "metadata": {},
   "source": [
    "$P(C_{k}|\\vec{x}) \\text{ where } x = (x_{1}, x_{2}, ..., x_{N})$\n",
    "\n",
    "- using Bayes:\n",
    "\n",
    "$P(C_{k}|\\vec{x}) = \\frac{P(\\vec{x}|C_{k}) \\times P(C_{k})}{P(\\vec{x})}$\n",
    "\n",
    "- because we will be comparing 2 probabilities (for at least a 2 class problem) we can ignore the denominator. \n",
    "\n",
    "- The relatively magnitude of $P(C_{k}|\\vec{x})$ will be the same whether or not we divide by $P(\\vec{x})$\n",
    "\n",
    "$\\text{Let }N=3$\n",
    "\n",
    "$P(C_{k}|\\vec{x}) = P(C_{k}|x_{1}, x_{2}, x_{3}) $\n",
    "\n",
    "- expand using Bayes and forget the denominator\n",
    "\n",
    "$=  P(x_{1}, x_{2}, x_{3}|C_{k})  \\times p(C_{k})$\n",
    "\n",
    "- Now use the product rule to expand out the first term\n",
    "\n",
    "##$ = P(x_{1}|C_{k}) \\times P(x_{2}, x_{3}|C_{k}, x_{1})  \\times p(C_{k})$\n",
    "\n",
    "##$ = P(x_{2}|C_{k}, x_{1})  \\times P(x_{3}|C_{k}, x_{1}, x_{2}) \\times P(x_{1}|C_{k}) \\times p(C_{k})$\n",
    "\n",
    "If $x_{1}, x_{2}, \\text{ and } x_{3}$ are independent then \n",
    "\n",
    "$P(x_{2}|C_{k}, x_{1}) = P(x_{2}|C_{k})$ and \n",
    "\n",
    "$P(x_{3}|C_{k}, x_{1}, x_{2}) = P(x_{3}|C_{k})$\n",
    "\n",
    "$P(C_{k}|\\vec{x}) = P(C_{k}, x_{1}, x_{2}, x_{3})$\n",
    "\n",
    "$ = P(C_{k}) \\times P(x_{1}|C_{k}) \\times P(x_{2}|C_{k}) \\times P(x_{3}|C_{k})$"
   ]
  },
  {
   "cell_type": "markdown",
   "metadata": {},
   "source": [
    "Naive Bayes Classifier\n",
    "=====\n",
    "***\n",
    "##$$\\hat{y} = \\text{argmax}_{k \\in {1, ..., K}} \\text{  } P(C_{k}) \\prod^{N}_{i=1}P(x_{i}|C_{k})$$\n",
    "---"
   ]
  }
 ],
 "metadata": {
  "kernelspec": {
   "display_name": "Python 2",
   "language": "python",
   "name": "python2"
  },
  "language_info": {
   "codemirror_mode": {
    "name": "ipython",
    "version": 2
   },
   "file_extension": ".py",
   "mimetype": "text/x-python",
   "name": "python",
   "nbconvert_exporter": "python",
   "pygments_lexer": "ipython2",
   "version": "2.7.10"
  }
 },
 "nbformat": 4,
 "nbformat_minor": 0
}
