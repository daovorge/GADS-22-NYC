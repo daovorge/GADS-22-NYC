{
 "cells": [
  {
   "cell_type": "code",
   "execution_count": 1,
   "metadata": {
    "collapsed": false
   },
   "outputs": [],
   "source": [
    "import pandas as pd\n",
    "import numpy as np\n",
    "import matplotlib.pyplot as plt\n",
    "%matplotlib inline\n",
    "from random import choice\n",
    "from sklearn.linear_model import LinearRegression\n",
    "from sklearn.metrics import mean_squared_error\n",
    "from sklearn.pipeline import make_pipeline\n",
    "from sklearn.preprocessing import PolynomialFeatures"
   ]
  },
  {
   "cell_type": "markdown",
   "metadata": {},
   "source": [
    "---\n",
    "Example of Time Series Modelling\n",
    "=====\n",
    "***"
   ]
  },
  {
   "cell_type": "markdown",
   "metadata": {},
   "source": [
    "####Going to use Ebola Deaths as an example"
   ]
  },
  {
   "cell_type": "code",
   "execution_count": 2,
   "metadata": {
    "collapsed": false
   },
   "outputs": [],
   "source": [
    "df = pd.DataFrame.from_csv('https://raw.githubusercontent.com/cmrivers/ebola/master/country_timeseries.csv',\\\n",
    "                           index_col=0)"
   ]
  },
  {
   "cell_type": "code",
   "execution_count": 3,
   "metadata": {
    "collapsed": false
   },
   "outputs": [
    {
     "data": {
      "text/plain": [
       "Index([u'Day', u'Cases_Guinea', u'Cases_Liberia', u'Cases_SierraLeone',\n",
       "       u'Cases_Nigeria', u'Cases_Senegal', u'Cases_UnitedStates',\n",
       "       u'Cases_Spain', u'Cases_Mali', u'Deaths_Guinea', u'Deaths_Liberia',\n",
       "       u'Deaths_SierraLeone', u'Deaths_Nigeria', u'Deaths_Senegal',\n",
       "       u'Deaths_UnitedStates', u'Deaths_Spain', u'Deaths_Mali'],\n",
       "      dtype='object')"
      ]
     },
     "execution_count": 3,
     "metadata": {},
     "output_type": "execute_result"
    }
   ],
   "source": [
    "df.columns"
   ]
  },
  {
   "cell_type": "code",
   "execution_count": 4,
   "metadata": {
    "collapsed": false
   },
   "outputs": [
    {
     "name": "stdout",
     "output_type": "stream",
     "text": [
      "<class 'pandas.core.frame.DataFrame'>\n",
      "DatetimeIndex: 122 entries, 2015-01-05 to 2014-03-22\n",
      "Data columns (total 17 columns):\n",
      "Day                    122 non-null int64\n",
      "Cases_Guinea           93 non-null float64\n",
      "Cases_Liberia          83 non-null float64\n",
      "Cases_SierraLeone      87 non-null float64\n",
      "Cases_Nigeria          38 non-null float64\n",
      "Cases_Senegal          25 non-null float64\n",
      "Cases_UnitedStates     18 non-null float64\n",
      "Cases_Spain            16 non-null float64\n",
      "Cases_Mali             12 non-null float64\n",
      "Deaths_Guinea          92 non-null float64\n",
      "Deaths_Liberia         81 non-null float64\n",
      "Deaths_SierraLeone     87 non-null float64\n",
      "Deaths_Nigeria         38 non-null float64\n",
      "Deaths_Senegal         22 non-null float64\n",
      "Deaths_UnitedStates    18 non-null float64\n",
      "Deaths_Spain           16 non-null float64\n",
      "Deaths_Mali            12 non-null float64\n",
      "dtypes: float64(16), int64(1)\n",
      "memory usage: 17.2 KB\n"
     ]
    }
   ],
   "source": [
    "df.info()"
   ]
  },
  {
   "cell_type": "markdown",
   "metadata": {},
   "source": [
    "####We need to impute missing data values, in order to preserve as much of the time series as possible"
   ]
  },
  {
   "cell_type": "markdown",
   "metadata": {},
   "source": [
    "###Look at \"both\" ends of this data"
   ]
  },
  {
   "cell_type": "code",
   "execution_count": 5,
   "metadata": {
    "collapsed": false
   },
   "outputs": [
    {
     "data": {
      "text/html": [
       "<div>\n",
       "<table border=\"1\" class=\"dataframe\">\n",
       "  <thead>\n",
       "    <tr style=\"text-align: right;\">\n",
       "      <th></th>\n",
       "      <th>Deaths_Guinea</th>\n",
       "      <th>Deaths_Liberia</th>\n",
       "      <th>Deaths_SierraLeone</th>\n",
       "    </tr>\n",
       "    <tr>\n",
       "      <th>Date</th>\n",
       "      <th></th>\n",
       "      <th></th>\n",
       "      <th></th>\n",
       "    </tr>\n",
       "  </thead>\n",
       "  <tbody>\n",
       "    <tr>\n",
       "      <th>2015-01-04</th>\n",
       "      <td>1781</td>\n",
       "      <td>NaN</td>\n",
       "      <td>2943</td>\n",
       "    </tr>\n",
       "  </tbody>\n",
       "</table>\n",
       "</div>"
      ],
      "text/plain": [
       "            Deaths_Guinea  Deaths_Liberia  Deaths_SierraLeone\n",
       "Date                                                         \n",
       "2015-01-04           1781             NaN                2943"
      ]
     },
     "execution_count": 5,
     "metadata": {},
     "output_type": "execute_result"
    }
   ],
   "source": [
    "deathColList = [\"Deaths_Guinea\", \"Deaths_Liberia\", \"Deaths_SierraLeone\"]\n",
    "\n",
    "df.sort(\"Day\", ascending=False)[deathColList][1:2]"
   ]
  },
  {
   "cell_type": "code",
   "execution_count": 6,
   "metadata": {
    "collapsed": false
   },
   "outputs": [
    {
     "data": {
      "text/html": [
       "<div>\n",
       "<table border=\"1\" class=\"dataframe\">\n",
       "  <thead>\n",
       "    <tr style=\"text-align: right;\">\n",
       "      <th></th>\n",
       "      <th>Deaths_Guinea</th>\n",
       "      <th>Deaths_Liberia</th>\n",
       "      <th>Deaths_SierraLeone</th>\n",
       "    </tr>\n",
       "    <tr>\n",
       "      <th>Date</th>\n",
       "      <th></th>\n",
       "      <th></th>\n",
       "      <th></th>\n",
       "    </tr>\n",
       "  </thead>\n",
       "  <tbody>\n",
       "    <tr>\n",
       "      <th>2014-03-24</th>\n",
       "      <td>59</td>\n",
       "      <td>NaN</td>\n",
       "      <td>NaN</td>\n",
       "    </tr>\n",
       "  </tbody>\n",
       "</table>\n",
       "</div>"
      ],
      "text/plain": [
       "            Deaths_Guinea  Deaths_Liberia  Deaths_SierraLeone\n",
       "Date                                                         \n",
       "2014-03-24             59             NaN                 NaN"
      ]
     },
     "execution_count": 6,
     "metadata": {},
     "output_type": "execute_result"
    }
   ],
   "source": [
    "df.sort(\"Day\", ascending=True)[deathColList][1:2]"
   ]
  },
  {
   "cell_type": "markdown",
   "metadata": {},
   "source": [
    "##### Use both a backfill AND a forward fill in order to fill all the NAs. "
   ]
  },
  {
   "cell_type": "code",
   "execution_count": 7,
   "metadata": {
    "collapsed": false
   },
   "outputs": [],
   "source": [
    "df1 = df.bfill()\n",
    "df1 = df1.ffill()"
   ]
  },
  {
   "cell_type": "code",
   "execution_count": 8,
   "metadata": {
    "collapsed": false
   },
   "outputs": [
    {
     "data": {
      "text/html": [
       "<div>\n",
       "<table border=\"1\" class=\"dataframe\">\n",
       "  <thead>\n",
       "    <tr style=\"text-align: right;\">\n",
       "      <th></th>\n",
       "      <th>Deaths_Guinea</th>\n",
       "      <th>Deaths_Liberia</th>\n",
       "      <th>Deaths_SierraLeone</th>\n",
       "    </tr>\n",
       "    <tr>\n",
       "      <th>Date</th>\n",
       "      <th></th>\n",
       "      <th></th>\n",
       "      <th></th>\n",
       "    </tr>\n",
       "  </thead>\n",
       "  <tbody>\n",
       "    <tr>\n",
       "      <th>2015-01-04</th>\n",
       "      <td>1781</td>\n",
       "      <td>3496</td>\n",
       "      <td>2943</td>\n",
       "    </tr>\n",
       "  </tbody>\n",
       "</table>\n",
       "</div>"
      ],
      "text/plain": [
       "            Deaths_Guinea  Deaths_Liberia  Deaths_SierraLeone\n",
       "Date                                                         \n",
       "2015-01-04           1781            3496                2943"
      ]
     },
     "execution_count": 8,
     "metadata": {},
     "output_type": "execute_result"
    }
   ],
   "source": [
    "df1.sort(\"Day\", ascending=False)[deathColList][1:2]"
   ]
  },
  {
   "cell_type": "code",
   "execution_count": 9,
   "metadata": {
    "collapsed": false
   },
   "outputs": [
    {
     "data": {
      "text/html": [
       "<div>\n",
       "<table border=\"1\" class=\"dataframe\">\n",
       "  <thead>\n",
       "    <tr style=\"text-align: right;\">\n",
       "      <th></th>\n",
       "      <th>Deaths_Guinea</th>\n",
       "      <th>Deaths_Liberia</th>\n",
       "      <th>Deaths_SierraLeone</th>\n",
       "    </tr>\n",
       "    <tr>\n",
       "      <th>Date</th>\n",
       "      <th></th>\n",
       "      <th></th>\n",
       "      <th></th>\n",
       "    </tr>\n",
       "  </thead>\n",
       "  <tbody>\n",
       "    <tr>\n",
       "      <th>2014-03-24</th>\n",
       "      <td>59</td>\n",
       "      <td>6</td>\n",
       "      <td>5</td>\n",
       "    </tr>\n",
       "  </tbody>\n",
       "</table>\n",
       "</div>"
      ],
      "text/plain": [
       "            Deaths_Guinea  Deaths_Liberia  Deaths_SierraLeone\n",
       "Date                                                         \n",
       "2014-03-24             59               6                   5"
      ]
     },
     "execution_count": 9,
     "metadata": {},
     "output_type": "execute_result"
    }
   ],
   "source": [
    "df1.sort(\"Day\", ascending=True)[deathColList][1:2]"
   ]
  },
  {
   "cell_type": "code",
   "execution_count": 10,
   "metadata": {
    "collapsed": false
   },
   "outputs": [],
   "source": [
    "deaths_df = df1[deathColList]"
   ]
  },
  {
   "cell_type": "code",
   "execution_count": 12,
   "metadata": {
    "collapsed": false
   },
   "outputs": [
    {
     "data": {
      "text/plain": [
       "<matplotlib.axes._subplots.AxesSubplot at 0x10d7d92d0>"
      ]
     },
     "execution_count": 12,
     "metadata": {},
     "output_type": "execute_result"
    },
    {
     "data": {
      "image/png": "[encoded data removed]",
      "text/plain": [
       "<matplotlib.figure.Figure at 0x10d77ef90>"
      ]
     },
     "metadata": {},
     "output_type": "display_data"
    }
   ],
   "source": [
    "deaths_df.plot(figsize=(8,8))"
   ]
  },
  {
   "cell_type": "markdown",
   "metadata": {},
   "source": [
    "####The following cell illustrates basic time series modelling\n",
    "####It's a good start to get your head round what's going on, in terms of lagging columns\n",
    "####The data has only a single column\n",
    "####You lag this column by 1 time value to create a new column\n",
    "####Your Auto-regressive model size determines how many lagged columns you create\n",
    "####Then you build your model using the rows of all the lagged columns"
   ]
  },
  {
   "cell_type": "code",
   "execution_count": 14,
   "metadata": {
    "collapsed": false
   },
   "outputs": [
    {
     "name": "stdout",
     "output_type": "stream",
     "text": [
      "training location end is 61\n",
      "So the first 5 rows of data that we will be predicting are:\n",
      "--------------------------------\n",
      "Date\n",
      "2014-08-18    396\n",
      "2014-08-16    394\n",
      "2014-08-13    380\n",
      "2014-08-11    377\n",
      "2014-08-09    373\n",
      "Name: Deaths_Guinea, dtype: float64\n",
      "--------------------------------\n",
      "\n",
      "here are the first 10 rows of the lagged data\n",
      "ar_size if 4 so you have 4 columns, each lagged by 1\n",
      "clearly you can't use the first ar_size rows because as you lag you create NaNs\n",
      "--------------------------------\n",
      "            Deaths_Guinea  Deaths_Guinea  Deaths_Guinea  Deaths_Guinea\n",
      "Date                                                                  \n",
      "2015-01-05            NaN            NaN            NaN            NaN\n",
      "2015-01-04           1786            NaN            NaN            NaN\n",
      "2015-01-03           1781           1786            NaN            NaN\n",
      "2015-01-02           1767           1781           1786            NaN\n",
      "2014-12-31           1739           1767           1781           1786\n",
      "2014-12-28           1739           1739           1767           1781\n",
      "2014-12-27           1708           1739           1739           1767\n",
      "2014-12-24           1697           1708           1739           1739\n",
      "2014-12-21           1607           1697           1708           1739\n",
      "2014-12-20           1607           1607           1697           1708 \n",
      "\n",
      "\n",
      "--------------------------------\n",
      "\n",
      "--------------------------------\n",
      "Build a model using these values:  1786.0 1781.0 1767.0 1739.0 to predict this value:  1739.0 and\n",
      "1781.0 1767.0 1739.0 1739.0 to predict this value:  1708.0 and\n",
      "1767.0 1739.0 1739.0 1708.0 to predict this value:  1697.0 and\n",
      "1739.0 1739.0 1708.0 1697.0 to predict this value:  1607.0 and\n",
      "1739.0 1708.0 1697.0 1607.0 to predict this value:  1607.0 and\n",
      "--------------------------------\n",
      "\n",
      "--------------------------------\n",
      "Predicted        Actual\n",
      "     394.01      396.00\n",
      "     448.68      394.00\n",
      "     379.10      380.00\n",
      "     341.46      377.00\n",
      "     354.47      373.00\n",
      "     335.43      367.00\n",
      "     336.02      363.00\n",
      "     332.76      358.00\n",
      "     324.33      346.00\n",
      "     315.65      339.00\n",
      "     315.79      319.00\n",
      "     287.67      314.00\n",
      "     306.02      310.00\n",
      "     282.15      310.00\n",
      "     277.24      304.00\n",
      "     266.84      309.00\n",
      "     281.25      307.00\n",
      "     262.94      305.00\n",
      "     284.17      303.00\n",
      "     270.68      270.00\n",
      "     242.32      270.00\n",
      "     286.03      267.00\n",
      "     255.80      267.00\n",
      "     237.64      264.00\n",
      "     228.00      264.00\n",
      "     234.62      226.00\n",
      "     192.45      215.00\n",
      "     213.67      215.00\n",
      "     266.80      208.00\n",
      "     162.42      193.00\n",
      "     162.11      186.00\n",
      "     170.76      174.00\n",
      "     144.35      171.00\n",
      "     152.47      157.00\n",
      "     113.06      158.00\n",
      "     142.66      157.00\n",
      "     114.78      155.00\n",
      "     123.12      149.00\n",
      "     112.64      143.00\n",
      "     110.06      141.00\n",
      "     110.38      141.00\n",
      "     104.86      136.00\n",
      "      96.31      136.00\n",
      "     106.38      136.00\n",
      "      97.17      129.00\n",
      "      90.91      122.00\n",
      "      89.90      108.00\n",
      "      70.81      108.00\n",
      "      99.40      106.00\n",
      "      65.50      101.00\n",
      "      64.35       95.00\n",
      "      59.16       86.00\n",
      "      48.85       83.00\n",
      "      57.86       80.00\n",
      "      42.69       70.00\n",
      "      26.72       70.00\n",
      "      47.56       66.00\n",
      "      20.34       62.00\n",
      "      26.33       60.00\n",
      "      24.53       59.00\n",
      "      21.12       29.00\n"
     ]
    }
   ],
   "source": [
    "colList = deaths_df.columns\n",
    "\n",
    "#For example purposes just try and predict the deaths for the first country in the column list\n",
    "#So the data just has a single column of data\n",
    "cols = colList[0]\n",
    "\n",
    "#For convenience set the deaths column to y\n",
    "y = deaths_df[cols]\n",
    "\n",
    "#We use the first half of the data to train on\n",
    "#This is not ideal - you really want to use a fixed size moving window to train on as you time series progresses\n",
    "#However, this is not a bad place to start!\n",
    "train_end = len(y)/2\n",
    "print \"training location end is {:d}\".format(train_end)\n",
    "\n",
    "print \"So the first 5 rows of data that we will be predicting are:\"\n",
    "print \"--------------------------------\"\n",
    "print y[train_end: train_end + 5]\n",
    "print \"--------------------------------\\n\"\n",
    "\n",
    "#ar_size represents the size of your Auto-regressive model\n",
    "#so if your model size is 4 then use x1 (at time t-4), x2 (at time t-3), x3 (at time t-2), x4 (at time t-1)\n",
    "#to predict x5 (the current value)\n",
    "\n",
    "ar_size = 4\n",
    "    \n",
    "#Obviously you need to lag your column by 1, up to ar_size in order to get your training data\n",
    "#You get as many columns as you need because of ar_size\n",
    "lagged = pd.concat([y.shift(i+1) for i in xrange(0, ar_size)], axis=1)\n",
    "\n",
    "print \"here are the first 10 rows of the lagged data\"\n",
    "print \"ar_size if 4 so you have 4 columns, each lagged by 1\"\n",
    "print \"clearly you can't use the first ar_size rows because as you lag you create NaNs\"\n",
    "print \"--------------------------------\"\n",
    "print lagged[0:10], \"\\n\\n\"\n",
    "print \"--------------------------------\\n\"\n",
    "    \n",
    "#The training set will consist of all the lagged columns and the first half of the rows\n",
    "#Here's your X and y for the model:\n",
    "X = lagged.ix[ar_size:train_end]\n",
    "yy = y.ix[ar_size:train_end]\n",
    "    \n",
    "#Look at the five rows of the training set and test set\n",
    "#See what pd.shift is doing\n",
    "print \"--------------------------------\"\n",
    "print \"Build a model using these values: \",\n",
    "for m in xrange(5):\n",
    "    for k in xrange(ar_size - 1, -1, -1):\n",
    "        print X.ix[m][k],\n",
    "    print \"to predict this value: \",\n",
    "    print yy[m],\n",
    "    print \"and\"\n",
    "print \"--------------------------------\\n\"\n",
    "\n",
    "\n",
    "#Now fit your model    \n",
    "clf = make_pipeline(PolynomialFeatures(degree=3, interaction_only=False), LinearRegression(fit_intercept=True))\n",
    "clf.fit(X, yy)\n",
    "    \n",
    "predictions = []\n",
    "#Now use the model to predict the second half of the data\n",
    "print \"--------------------------------\"\n",
    "print \"Predicted        Actual\"\n",
    "for t in xrange(train_end, len(y)):\n",
    "    y_hat = clf.predict(lagged.ix[t])\n",
    "    print \"{:11.2f} {:11.2f}\".format(y_hat[0], y.ix[t])"
   ]
  },
  {
   "cell_type": "markdown",
   "metadata": {},
   "source": [
    "#####Really need to optimize the number of training vectors required and then utilize a moving window\n",
    "#####This is particularly noticeable for this data which is rapidly changing. \n",
    "#####So older data will be less relevant and useful to predict the next data point\n",
    "#####A moving window would allow the model to train optimally as the time series progresses, dropping old data off the back of the window as new data becomes available at the front of the window"
   ]
  }
 ],
 "metadata": {
  "kernelspec": {
   "display_name": "Python 2",
   "language": "python",
   "name": "python2"
  },
  "language_info": {
   "codemirror_mode": {
    "name": "ipython",
    "version": 2
   },
   "file_extension": ".py",
   "mimetype": "text/x-python",
   "name": "python",
   "nbconvert_exporter": "python",
   "pygments_lexer": "ipython2",
   "version": "2.7.10"
  }
 },
 "nbformat": 4,
 "nbformat_minor": 0
}
