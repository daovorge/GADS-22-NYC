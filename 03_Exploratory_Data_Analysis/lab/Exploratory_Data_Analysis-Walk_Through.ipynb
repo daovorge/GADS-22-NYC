{
 "cells": [
  {
   "cell_type": "markdown",
   "metadata": {},
   "source": [
    "#An Exploratory Data Analysis\n",
    "\n",
    "####A voyage through evaluating preferential factors in cinema using public IMDB data.\n",
    "####This notebook has been adapted from [Chris Beaumont's](http://chrisbeaumont.org/) [\"Rubric for Data Wrangling and Exploration\"](http://nbviewer.ipython.org/github/cs109/content/blob/master/lec_04_wrangling.ipynb)"
   ]
  },
  {
   "cell_type": "code",
   "execution_count": 1,
   "metadata": {
    "collapsed": true
   },
   "outputs": [],
   "source": [
    "import numpy as np\n",
    "import pandas as pd\n",
    "import matplotlib.pyplot as plt\n",
    "import matplotlib as mpl\n",
    "%matplotlib inline"
   ]
  },
  {
   "cell_type": "markdown",
   "metadata": {},
   "source": [
    "####Once you have done a git pull the dataset 'imdb_top_10000.txt' will be in Datasets folder under GADS-22-NYC\n",
    "####Try and read the data in directly using the pandas built in read_csv method - hint you will need to set the delimiter argument to 'tab', i.e. \\t\n",
    "####If you hadn't been told to tab delimit you might need to inspect the data file using a text editor to discover the delimitation between data fields"
   ]
  },
  {
   "cell_type": "code",
   "execution_count": 3,
   "metadata": {
    "collapsed": false
   },
   "outputs": [],
   "source": [
    "data = pd.read_csv('/Users/mrgh/GADS-22-NYC/Datasets/imdb_top_10000.txt', header=None, delimiter='\\t')"
   ]
  },
  {
   "cell_type": "markdown",
   "metadata": {},
   "source": [
    "####Two good initial starting places to considering the data are pd built in functions 'head' and 'describe'"
   ]
  },
  {
   "cell_type": "markdown",
   "metadata": {},
   "source": [
    "##Questions:\n",
    " 1. How many columns are there?\n",
    " 2. How many rows are there?\n",
    " 3. What do you notice about the column names?\n",
    " 4. How many of the columns are numeric?"
   ]
  },
  {
   "cell_type": "code",
   "execution_count": 4,
   "metadata": {
    "collapsed": false
   },
   "outputs": [
    {
     "data": {
      "text/html": [
       "<div style=\"max-height:1000px;max-width:1500px;overflow:auto;\">\n",
       "<table border=\"1\" class=\"dataframe\">\n",
       "  <thead>\n",
       "    <tr style=\"text-align: right;\">\n",
       "      <th></th>\n",
       "      <th>0</th>\n",
       "      <th>1</th>\n",
       "      <th>2</th>\n",
       "      <th>3</th>\n",
       "      <th>4</th>\n",
       "      <th>5</th>\n",
       "      <th>6</th>\n",
       "    </tr>\n",
       "  </thead>\n",
       "  <tbody>\n",
       "    <tr>\n",
       "      <th>0</th>\n",
       "      <td> tt0111161</td>\n",
       "      <td> The Shawshank Redemption (1994)</td>\n",
       "      <td> 1994</td>\n",
       "      <td> 9.2</td>\n",
       "      <td> 619479</td>\n",
       "      <td> 142 mins.</td>\n",
       "      <td>                      Crime|Drama</td>\n",
       "    </tr>\n",
       "    <tr>\n",
       "      <th>1</th>\n",
       "      <td> tt0110912</td>\n",
       "      <td>             Pulp Fiction (1994)</td>\n",
       "      <td> 1994</td>\n",
       "      <td> 9.0</td>\n",
       "      <td> 490065</td>\n",
       "      <td> 154 mins.</td>\n",
       "      <td>                   Crime|Thriller</td>\n",
       "    </tr>\n",
       "    <tr>\n",
       "      <th>2</th>\n",
       "      <td> tt0137523</td>\n",
       "      <td>               Fight Club (1999)</td>\n",
       "      <td> 1999</td>\n",
       "      <td> 8.8</td>\n",
       "      <td> 458173</td>\n",
       "      <td> 139 mins.</td>\n",
       "      <td>           Drama|Mystery|Thriller</td>\n",
       "    </tr>\n",
       "    <tr>\n",
       "      <th>3</th>\n",
       "      <td> tt0133093</td>\n",
       "      <td>               The Matrix (1999)</td>\n",
       "      <td> 1999</td>\n",
       "      <td> 8.7</td>\n",
       "      <td> 448114</td>\n",
       "      <td> 136 mins.</td>\n",
       "      <td>          Action|Adventure|Sci-Fi</td>\n",
       "    </tr>\n",
       "    <tr>\n",
       "      <th>4</th>\n",
       "      <td> tt1375666</td>\n",
       "      <td>                Inception (2010)</td>\n",
       "      <td> 2010</td>\n",
       "      <td> 8.9</td>\n",
       "      <td> 385149</td>\n",
       "      <td> 148 mins.</td>\n",
       "      <td> Action|Adventure|Sci-Fi|Thriller</td>\n",
       "    </tr>\n",
       "  </tbody>\n",
       "</table>\n",
       "</div>"
      ],
      "text/plain": [
       "           0                                1     2    3       4          5  \\\n",
       "0  tt0111161  The Shawshank Redemption (1994)  1994  9.2  619479  142 mins.   \n",
       "1  tt0110912              Pulp Fiction (1994)  1994  9.0  490065  154 mins.   \n",
       "2  tt0137523                Fight Club (1999)  1999  8.8  458173  139 mins.   \n",
       "3  tt0133093                The Matrix (1999)  1999  8.7  448114  136 mins.   \n",
       "4  tt1375666                 Inception (2010)  2010  8.9  385149  148 mins.   \n",
       "\n",
       "                                  6  \n",
       "0                       Crime|Drama  \n",
       "1                    Crime|Thriller  \n",
       "2            Drama|Mystery|Thriller  \n",
       "3           Action|Adventure|Sci-Fi  \n",
       "4  Action|Adventure|Sci-Fi|Thriller  "
      ]
     },
     "execution_count": 4,
     "metadata": {},
     "output_type": "execute_result"
    }
   ],
   "source": [
    "data.head()"
   ]
  },
  {
   "cell_type": "code",
   "execution_count": 5,
   "metadata": {
    "collapsed": false
   },
   "outputs": [
    {
     "data": {
      "text/html": [
       "<div style=\"max-height:1000px;max-width:1500px;overflow:auto;\">\n",
       "<table border=\"1\" class=\"dataframe\">\n",
       "  <thead>\n",
       "    <tr style=\"text-align: right;\">\n",
       "      <th></th>\n",
       "      <th>2</th>\n",
       "      <th>3</th>\n",
       "      <th>4</th>\n",
       "    </tr>\n",
       "  </thead>\n",
       "  <tbody>\n",
       "    <tr>\n",
       "      <th>count</th>\n",
       "      <td> 10000.000000</td>\n",
       "      <td> 10000.000000</td>\n",
       "      <td>  10000.000000</td>\n",
       "    </tr>\n",
       "    <tr>\n",
       "      <th>mean</th>\n",
       "      <td>  1993.472800</td>\n",
       "      <td>     6.386070</td>\n",
       "      <td>  16604.012800</td>\n",
       "    </tr>\n",
       "    <tr>\n",
       "      <th>std</th>\n",
       "      <td>    14.829924</td>\n",
       "      <td>     1.189933</td>\n",
       "      <td>  34563.459698</td>\n",
       "    </tr>\n",
       "    <tr>\n",
       "      <th>min</th>\n",
       "      <td>  1950.000000</td>\n",
       "      <td>     1.500000</td>\n",
       "      <td>   1356.000000</td>\n",
       "    </tr>\n",
       "    <tr>\n",
       "      <th>25%</th>\n",
       "      <td>  1986.000000</td>\n",
       "      <td>     5.700000</td>\n",
       "      <td>   2333.750000</td>\n",
       "    </tr>\n",
       "    <tr>\n",
       "      <th>50%</th>\n",
       "      <td>  1998.000000</td>\n",
       "      <td>     6.600000</td>\n",
       "      <td>   4980.500000</td>\n",
       "    </tr>\n",
       "    <tr>\n",
       "      <th>75%</th>\n",
       "      <td>  2005.000000</td>\n",
       "      <td>     7.200000</td>\n",
       "      <td>  15277.750000</td>\n",
       "    </tr>\n",
       "    <tr>\n",
       "      <th>max</th>\n",
       "      <td>  2011.000000</td>\n",
       "      <td>     9.200000</td>\n",
       "      <td> 619479.000000</td>\n",
       "    </tr>\n",
       "  </tbody>\n",
       "</table>\n",
       "</div>"
      ],
      "text/plain": [
       "                  2             3              4\n",
       "count  10000.000000  10000.000000   10000.000000\n",
       "mean    1993.472800      6.386070   16604.012800\n",
       "std       14.829924      1.189933   34563.459698\n",
       "min     1950.000000      1.500000    1356.000000\n",
       "25%     1986.000000      5.700000    2333.750000\n",
       "50%     1998.000000      6.600000    4980.500000\n",
       "75%     2005.000000      7.200000   15277.750000\n",
       "max     2011.000000      9.200000  619479.000000"
      ]
     },
     "execution_count": 5,
     "metadata": {},
     "output_type": "execute_result"
    }
   ],
   "source": [
    "data.describe()"
   ]
  },
  {
   "cell_type": "markdown",
   "metadata": {},
   "source": [
    "####Let's sort out the column headings to be a bit more informative\n",
    "####print the column names\n",
    "####Propose a list of new names\n",
    "####Assign the new names to the columns\n",
    "####Confirm that it's all hunky dorey"
   ]
  },
  {
   "cell_type": "code",
   "execution_count": 6,
   "metadata": {
    "collapsed": false
   },
   "outputs": [
    {
     "name": "stdout",
     "output_type": "stream",
     "text": [
      "Int64Index([0, 1, 2, 3, 4, 5, 6], dtype='int64')\n",
      "\n",
      "\n",
      "\n",
      "0\n",
      "1\n",
      "2\n",
      "3\n",
      "4\n",
      "5\n",
      "6\n"
     ]
    }
   ],
   "source": [
    "print data.columns\n",
    "print \"\\n\\n\"\n",
    "#or\n",
    "for column_name in data.columns:\n",
    "    print column_name"
   ]
  },
  {
   "cell_type": "code",
   "execution_count": 7,
   "metadata": {
    "collapsed": true
   },
   "outputs": [],
   "source": [
    "new_column_names = ['imdbID', 'Title', 'Year', 'Score', 'Votes', 'Runtime', 'Genres']"
   ]
  },
  {
   "cell_type": "code",
   "execution_count": 8,
   "metadata": {
    "collapsed": true
   },
   "outputs": [],
   "source": [
    "data.columns = new_column_names"
   ]
  },
  {
   "cell_type": "code",
   "execution_count": 9,
   "metadata": {
    "collapsed": false
   },
   "outputs": [
    {
     "data": {
      "text/html": [
       "<div style=\"max-height:1000px;max-width:1500px;overflow:auto;\">\n",
       "<table border=\"1\" class=\"dataframe\">\n",
       "  <thead>\n",
       "    <tr style=\"text-align: right;\">\n",
       "      <th></th>\n",
       "      <th>imdbID</th>\n",
       "      <th>Title</th>\n",
       "      <th>Year</th>\n",
       "      <th>Score</th>\n",
       "      <th>Votes</th>\n",
       "      <th>Runtime</th>\n",
       "      <th>Genres</th>\n",
       "    </tr>\n",
       "  </thead>\n",
       "  <tbody>\n",
       "    <tr>\n",
       "      <th>0</th>\n",
       "      <td> tt0111161</td>\n",
       "      <td> The Shawshank Redemption (1994)</td>\n",
       "      <td> 1994</td>\n",
       "      <td> 9.2</td>\n",
       "      <td> 619479</td>\n",
       "      <td> 142 mins.</td>\n",
       "      <td>                      Crime|Drama</td>\n",
       "    </tr>\n",
       "    <tr>\n",
       "      <th>1</th>\n",
       "      <td> tt0110912</td>\n",
       "      <td>             Pulp Fiction (1994)</td>\n",
       "      <td> 1994</td>\n",
       "      <td> 9.0</td>\n",
       "      <td> 490065</td>\n",
       "      <td> 154 mins.</td>\n",
       "      <td>                   Crime|Thriller</td>\n",
       "    </tr>\n",
       "    <tr>\n",
       "      <th>2</th>\n",
       "      <td> tt0137523</td>\n",
       "      <td>               Fight Club (1999)</td>\n",
       "      <td> 1999</td>\n",
       "      <td> 8.8</td>\n",
       "      <td> 458173</td>\n",
       "      <td> 139 mins.</td>\n",
       "      <td>           Drama|Mystery|Thriller</td>\n",
       "    </tr>\n",
       "    <tr>\n",
       "      <th>3</th>\n",
       "      <td> tt0133093</td>\n",
       "      <td>               The Matrix (1999)</td>\n",
       "      <td> 1999</td>\n",
       "      <td> 8.7</td>\n",
       "      <td> 448114</td>\n",
       "      <td> 136 mins.</td>\n",
       "      <td>          Action|Adventure|Sci-Fi</td>\n",
       "    </tr>\n",
       "    <tr>\n",
       "      <th>4</th>\n",
       "      <td> tt1375666</td>\n",
       "      <td>                Inception (2010)</td>\n",
       "      <td> 2010</td>\n",
       "      <td> 8.9</td>\n",
       "      <td> 385149</td>\n",
       "      <td> 148 mins.</td>\n",
       "      <td> Action|Adventure|Sci-Fi|Thriller</td>\n",
       "    </tr>\n",
       "  </tbody>\n",
       "</table>\n",
       "</div>"
      ],
      "text/plain": [
       "      imdbID                            Title  Year  Score   Votes    Runtime  \\\n",
       "0  tt0111161  The Shawshank Redemption (1994)  1994    9.2  619479  142 mins.   \n",
       "1  tt0110912              Pulp Fiction (1994)  1994    9.0  490065  154 mins.   \n",
       "2  tt0137523                Fight Club (1999)  1999    8.8  458173  139 mins.   \n",
       "3  tt0133093                The Matrix (1999)  1999    8.7  448114  136 mins.   \n",
       "4  tt1375666                 Inception (2010)  2010    8.9  385149  148 mins.   \n",
       "\n",
       "                             Genres  \n",
       "0                       Crime|Drama  \n",
       "1                    Crime|Thriller  \n",
       "2            Drama|Mystery|Thriller  \n",
       "3           Action|Adventure|Sci-Fi  \n",
       "4  Action|Adventure|Sci-Fi|Thriller  "
      ]
     },
     "execution_count": 9,
     "metadata": {},
     "output_type": "execute_result"
    }
   ],
   "source": [
    "data.head()"
   ]
  },
  {
   "cell_type": "markdown",
   "metadata": {},
   "source": [
    "####What data types do we actually have in the data frame?"
   ]
  },
  {
   "cell_type": "code",
   "execution_count": 10,
   "metadata": {
    "collapsed": false
   },
   "outputs": [
    {
     "name": "stdout",
     "output_type": "stream",
     "text": [
      "imdbID : <type 'str'>\n",
      "Title : <type 'str'>\n",
      "Year : <type 'numpy.int64'>\n",
      "Score : <type 'numpy.float64'>\n",
      "Votes : <type 'numpy.int64'>\n",
      "Runtime : <type 'str'>\n",
      "Genres : <type 'str'>\n"
     ]
    }
   ],
   "source": [
    "for column_name in data.columns:\n",
    "    print column_name, \":\", type(data[column_name][0])"
   ]
  },
  {
   "cell_type": "markdown",
   "metadata": {},
   "source": [
    "####or"
   ]
  },
  {
   "cell_type": "code",
   "execution_count": 11,
   "metadata": {
    "collapsed": false
   },
   "outputs": [
    {
     "data": {
      "text/plain": [
       "imdbID      object\n",
       "Title       object\n",
       "Year         int64\n",
       "Score      float64\n",
       "Votes        int64\n",
       "Runtime     object\n",
       "Genres      object\n",
       "dtype: object"
      ]
     },
     "execution_count": 11,
     "metadata": {},
     "output_type": "execute_result"
    }
   ],
   "source": [
    "data.dtypes"
   ]
  },
  {
   "cell_type": "markdown",
   "metadata": {},
   "source": [
    "####Year is an integer, Score is a float, Votes is an integer\n",
    "####Runtime is a string and not terribly useful as such\n",
    "####Genres is also unhelpful having multiple genres listed together in a string\n",
    "####Let's fix Runtime and Genres\n",
    "####The year in the Title column is also superfluous and needs to be removed"
   ]
  },
  {
   "cell_type": "markdown",
   "metadata": {},
   "source": [
    "###Fixing the title\n",
    "####I always explore my approach before actually trying it!\n",
    "####THIS IS DATA MUNGING AND IS WHERE A LOT OF DATA SCIENTISTS SPEND A LOT OF TIME!!!"
   ]
  },
  {
   "cell_type": "code",
   "execution_count": 12,
   "metadata": {
    "collapsed": false
   },
   "outputs": [
    {
     "name": "stdout",
     "output_type": "stream",
     "text": [
      "The Shawshank Redemption (1994)\n",
      "['The Shawshank Redemption', '1994)']\n",
      "The Shawshank Redemption\n"
     ]
    }
   ],
   "source": [
    "#Just separate out the series from the data frame\n",
    "title = data['Title']\n",
    "#See what each title potentially contains\n",
    "print title[0]\n",
    "#A string split should work\n",
    "#This is a built in function that will split the string according to a pattern match\n",
    "#Here the pattern to match is 'space opening left bracket' or ' ('\n",
    "print title[0].split(' (')\n",
    "print title[0].split(' (')[0]"
   ]
  },
  {
   "cell_type": "markdown",
   "metadata": {},
   "source": [
    "####Python has a powerful feature called a List Comprehension, which can often replace loops and provides for very compact code"
   ]
  },
  {
   "cell_type": "code",
   "execution_count": 13,
   "metadata": {
    "collapsed": false
   },
   "outputs": [],
   "source": [
    "data['Title'] = [title.split(' (')[0] for title in data['Title']]"
   ]
  },
  {
   "cell_type": "markdown",
   "metadata": {},
   "source": [
    "####We can't check that all the titles have been processed perfectly, but we can get an idea that the code above has done it's job\n"
   ]
  },
  {
   "cell_type": "code",
   "execution_count": 34,
   "metadata": {
    "collapsed": false
   },
   "outputs": [
    {
     "data": {
      "text/plain": [
       "0                           The Shawshank Redemption\n",
       "1                                       Pulp Fiction\n",
       "2                                         Fight Club\n",
       "3                                         The Matrix\n",
       "4                                          Inception\n",
       "5                                       Forrest Gump\n",
       "6                                    American Beauty\n",
       "7                                             Avatar\n",
       "8                                   Schindler's List\n",
       "9     Star Wars: Episode V - The Empire Strikes Back\n",
       "10                                     Batman Begins\n",
       "11                                The Usual Suspects\n",
       "12                          The Silence of the Lambs\n",
       "13                                           Titanic\n",
       "14                                        Braveheart\n",
       "15                                   The Sixth Sense\n",
       "16                                 Kill Bill: Vol. 1\n",
       "17                                        Goodfellas\n",
       "18                                               300\n",
       "19                                      The Prestige\n",
       "20                                    Reservoir Dogs\n",
       "21                            Leon: The Professional\n",
       "22                                    The Green Mile\n",
       "23                              Inglourious Basterds\n",
       "24                                         WALL\\xb7E\n",
       "Name: Title, dtype: object"
      ]
     },
     "execution_count": 34,
     "metadata": {},
     "output_type": "execute_result"
    }
   ],
   "source": [
    "data['Title'][0:25]"
   ]
  },
  {
   "cell_type": "code",
   "execution_count": 35,
   "metadata": {
    "collapsed": false
   },
   "outputs": [
    {
     "data": {
      "text/plain": [
       "9975             Birdemic: Shock and Terror\n",
       "9976    What Becomes of the Broken Hearted?\n",
       "9977                      Back to the Beach\n",
       "9978                            Hello Again\n",
       "9979                       Major Movie Star\n",
       "9980                     The Touch of Satan\n",
       "9981                              Don McKay\n",
       "9982                             Brainstorm\n",
       "9983            Sex Lives of the Potato Men\n",
       "9984                                 Lawman\n",
       "9985                     The Dunwich Horror\n",
       "9986                         I Live in Fear\n",
       "9987                     The Long Walk Home\n",
       "9988                                Evil Ed\n",
       "9989                            Another You\n",
       "9990                             Zerophilia\n",
       "9991           The Merchant of Four Seasons\n",
       "9992                              Stateside\n",
       "9993                           Scarlet Diva\n",
       "9994                                 Aprile\n",
       "9995                                Meduzot\n",
       "9996                         Daltry Calhoun\n",
       "9997                 The Quiller Memorandum\n",
       "9998                                   Taal\n",
       "9999                         The Navigators\n",
       "Name: Title, dtype: object"
      ]
     },
     "execution_count": 35,
     "metadata": {},
     "output_type": "execute_result"
    }
   ],
   "source": [
    "data['Title'][-25:]"
   ]
  },
  {
   "cell_type": "markdown",
   "metadata": {},
   "source": [
    "#Challenge\n",
    "1. Taking a similar approach fix the runtime column"
   ]
  },
  {
   "cell_type": "code",
   "execution_count": 14,
   "metadata": {
    "collapsed": false
   },
   "outputs": [
    {
     "name": "stdout",
     "output_type": "stream",
     "text": [
      "142 mins.\n",
      "['142', 'ins.']\n"
     ]
    }
   ],
   "source": [
    "rt = data['Runtime']\n",
    "print rt[0]\n",
    "print rt[0].split(' m')"
   ]
  },
  {
   "cell_type": "code",
   "execution_count": 15,
   "metadata": {
    "collapsed": true
   },
   "outputs": [],
   "source": [
    "data['Runtime'] = [rt.split(' m')[0] for rt in data['Runtime']]"
   ]
  },
  {
   "cell_type": "code",
   "execution_count": 16,
   "metadata": {
    "collapsed": false
   },
   "outputs": [
    {
     "data": {
      "text/plain": [
       "0     142\n",
       "1     154\n",
       "2     139\n",
       "3     136\n",
       "4     148\n",
       "5     142\n",
       "6     122\n",
       "7     162\n",
       "8     195\n",
       "9     124\n",
       "10    140\n",
       "11    106\n",
       "12    118\n",
       "13    194\n",
       "14    177\n",
       "15    107\n",
       "16    111\n",
       "17    146\n",
       "18    117\n",
       "19    130\n",
       "20     99\n",
       "21    110\n",
       "22    189\n",
       "23    153\n",
       "24     98\n",
       "Name: Runtime, dtype: object"
      ]
     },
     "execution_count": 16,
     "metadata": {},
     "output_type": "execute_result"
    }
   ],
   "source": [
    "data['Runtime'][0:25]"
   ]
  },
  {
   "cell_type": "markdown",
   "metadata": {},
   "source": [
    "####But we're not done with Runtime\n",
    "####Firstly, because you have stripped out mins DO NOT forget what the units for the column are\n",
    "####What is the type of data['Runtime']"
   ]
  },
  {
   "cell_type": "code",
   "execution_count": 39,
   "metadata": {
    "collapsed": false
   },
   "outputs": [],
   "source": [
    "#This is not entirely necessary\n",
    "#I will recount the tumor story!!!\n",
    "new_column_names = ['imdbID', 'Title', 'Year', 'Score', 'Votes', 'Runtime_in_mins', 'Genres']\n",
    "data.columns = new_column_names"
   ]
  },
  {
   "cell_type": "code",
   "execution_count": 17,
   "metadata": {
    "collapsed": false
   },
   "outputs": [
    {
     "data": {
      "text/html": [
       "<div style=\"max-height:1000px;max-width:1500px;overflow:auto;\">\n",
       "<table border=\"1\" class=\"dataframe\">\n",
       "  <thead>\n",
       "    <tr style=\"text-align: right;\">\n",
       "      <th></th>\n",
       "      <th>imdbID</th>\n",
       "      <th>Title</th>\n",
       "      <th>Year</th>\n",
       "      <th>Score</th>\n",
       "      <th>Votes</th>\n",
       "      <th>Runtime</th>\n",
       "      <th>Genres</th>\n",
       "    </tr>\n",
       "  </thead>\n",
       "  <tbody>\n",
       "    <tr>\n",
       "      <th>0</th>\n",
       "      <td> tt0111161</td>\n",
       "      <td> The Shawshank Redemption</td>\n",
       "      <td> 1994</td>\n",
       "      <td> 9.2</td>\n",
       "      <td> 619479</td>\n",
       "      <td> 142</td>\n",
       "      <td>                      Crime|Drama</td>\n",
       "    </tr>\n",
       "    <tr>\n",
       "      <th>1</th>\n",
       "      <td> tt0110912</td>\n",
       "      <td>             Pulp Fiction</td>\n",
       "      <td> 1994</td>\n",
       "      <td> 9.0</td>\n",
       "      <td> 490065</td>\n",
       "      <td> 154</td>\n",
       "      <td>                   Crime|Thriller</td>\n",
       "    </tr>\n",
       "    <tr>\n",
       "      <th>2</th>\n",
       "      <td> tt0137523</td>\n",
       "      <td>               Fight Club</td>\n",
       "      <td> 1999</td>\n",
       "      <td> 8.8</td>\n",
       "      <td> 458173</td>\n",
       "      <td> 139</td>\n",
       "      <td>           Drama|Mystery|Thriller</td>\n",
       "    </tr>\n",
       "    <tr>\n",
       "      <th>3</th>\n",
       "      <td> tt0133093</td>\n",
       "      <td>               The Matrix</td>\n",
       "      <td> 1999</td>\n",
       "      <td> 8.7</td>\n",
       "      <td> 448114</td>\n",
       "      <td> 136</td>\n",
       "      <td>          Action|Adventure|Sci-Fi</td>\n",
       "    </tr>\n",
       "    <tr>\n",
       "      <th>4</th>\n",
       "      <td> tt1375666</td>\n",
       "      <td>                Inception</td>\n",
       "      <td> 2010</td>\n",
       "      <td> 8.9</td>\n",
       "      <td> 385149</td>\n",
       "      <td> 148</td>\n",
       "      <td> Action|Adventure|Sci-Fi|Thriller</td>\n",
       "    </tr>\n",
       "  </tbody>\n",
       "</table>\n",
       "</div>"
      ],
      "text/plain": [
       "      imdbID                     Title  Year  Score   Votes Runtime  \\\n",
       "0  tt0111161  The Shawshank Redemption  1994    9.2  619479     142   \n",
       "1  tt0110912              Pulp Fiction  1994    9.0  490065     154   \n",
       "2  tt0137523                Fight Club  1999    8.8  458173     139   \n",
       "3  tt0133093                The Matrix  1999    8.7  448114     136   \n",
       "4  tt1375666                 Inception  2010    8.9  385149     148   \n",
       "\n",
       "                             Genres  \n",
       "0                       Crime|Drama  \n",
       "1                    Crime|Thriller  \n",
       "2            Drama|Mystery|Thriller  \n",
       "3           Action|Adventure|Sci-Fi  \n",
       "4  Action|Adventure|Sci-Fi|Thriller  "
      ]
     },
     "execution_count": 17,
     "metadata": {},
     "output_type": "execute_result"
    }
   ],
   "source": [
    "data.head()"
   ]
  },
  {
   "cell_type": "code",
   "execution_count": 18,
   "metadata": {
    "collapsed": false
   },
   "outputs": [
    {
     "data": {
      "text/plain": [
       "imdbID      object\n",
       "Title       object\n",
       "Year         int64\n",
       "Score      float64\n",
       "Votes        int64\n",
       "Runtime     object\n",
       "Genres      object\n",
       "dtype: object"
      ]
     },
     "execution_count": 18,
     "metadata": {},
     "output_type": "execute_result"
    }
   ],
   "source": [
    "data.dtypes"
   ]
  },
  {
   "cell_type": "markdown",
   "metadata": {},
   "source": [
    "####We now want to convert the Runtime data column to an integer"
   ]
  },
  {
   "cell_type": "code",
   "execution_count": 20,
   "metadata": {
    "collapsed": false
   },
   "outputs": [],
   "source": [
    "data['Runtime'] = data['Runtime'].astype(int)"
   ]
  },
  {
   "cell_type": "markdown",
   "metadata": {},
   "source": [
    "####Check the result"
   ]
  },
  {
   "cell_type": "code",
   "execution_count": 21,
   "metadata": {
    "collapsed": false
   },
   "outputs": [
    {
     "data": {
      "text/plain": [
       "imdbID      object\n",
       "Title       object\n",
       "Year         int64\n",
       "Score      float64\n",
       "Votes        int64\n",
       "Runtime      int64\n",
       "Genres      object\n",
       "dtype: object"
      ]
     },
     "execution_count": 21,
     "metadata": {},
     "output_type": "execute_result"
    }
   ],
   "source": [
    "data.dtypes"
   ]
  },
  {
   "cell_type": "code",
   "execution_count": 32,
   "metadata": {
    "collapsed": false
   },
   "outputs": [
    {
     "name": "stdout",
     "output_type": "stream",
     "text": [
      "imdbID : <type 'str'>\n",
      "Title : <type 'str'>\n",
      "Year : <type 'numpy.int64'>\n",
      "Score : <type 'numpy.float64'>\n",
      "Votes : <type 'numpy.int64'>\n",
      "Runtime : <type 'numpy.int64'>\n",
      "Genres : <type 'str'>\n"
     ]
    }
   ],
   "source": [
    "for column_name in data.columns:\n",
    "    print column_name, \":\", type(data[column_name][0])"
   ]
  },
  {
   "cell_type": "markdown",
   "metadata": {},
   "source": [
    "####This could have been more easily achieved by using a cast in the list comprehension\n",
    "####data['Runtime'] = [float(rt.split(' m')[0]) for rt in data['Runtime']]"
   ]
  },
  {
   "cell_type": "markdown",
   "metadata": {},
   "source": [
    "#Question:\n",
    "1. What do you think might be the best way to alter \"Genres\"?\n",
    "####Let's prototype again"
   ]
  },
  {
   "cell_type": "code",
   "execution_count": 33,
   "metadata": {
    "collapsed": false
   },
   "outputs": [
    {
     "name": "stdout",
     "output_type": "stream",
     "text": [
      "Action|Adventure|Sci-Fi\n"
     ]
    }
   ],
   "source": [
    "gen = data['Genres']\n",
    "print gen[3]"
   ]
  },
  {
   "cell_type": "markdown",
   "metadata": {},
   "source": [
    "####It would be helpful to know how many genres are listed in the database, and what they are"
   ]
  },
  {
   "cell_type": "code",
   "execution_count": 34,
   "metadata": {
    "collapsed": false
   },
   "outputs": [
    {
     "name": "stdout",
     "output_type": "stream",
     "text": [
      "['Crime', 'Drama', 'Thriller', 'Mystery', 'Action', 'Adventure', 'Sci-Fi', 'Comedy', 'Romance', 'Fantasy', 'Biography', 'History', 'War', 'Family', 'Animation', 'Musical', 'Horror', 'Western', 'Sport', 'Music', 'Film-Noir', 'Adult', 'News', 'Reality-TV']\n"
     ]
    }
   ],
   "source": [
    "genre_list = []\n",
    "for genre in data['Genres']:\n",
    "    #print genre\n",
    "    individual_genres = genre.split('|')\n",
    "    #print individual_genres\n",
    "    for a_genre in individual_genres:\n",
    "        #print a_genre\n",
    "        if a_genre not in genre_list:\n",
    "            #print a_genre\n",
    "            genre_list.append(a_genre)\n",
    "\n",
    "print genre_list"
   ]
  },
  {
   "cell_type": "markdown",
   "metadata": {},
   "source": [
    "####What did you notice about the above code?"
   ]
  },
  {
   "cell_type": "code",
   "execution_count": 25,
   "metadata": {
    "collapsed": false
   },
   "outputs": [
    {
     "name": "stdout",
     "output_type": "stream",
     "text": [
      "found type float in genre  nan\n"
     ]
    }
   ],
   "source": [
    "for g in data['Genres']:\n",
    "    #print type(g)\n",
    "    if type(g) is float:\n",
    "        print \"found type float in genre \", g"
   ]
  },
  {
   "cell_type": "markdown",
   "metadata": {},
   "source": [
    "#Question:\n",
    "####What did I neglect to do at the start of the munge??"
   ]
  },
  {
   "cell_type": "code",
   "execution_count": 35,
   "metadata": {
    "collapsed": true
   },
   "outputs": [],
   "source": [
    "#na's would be one of the first things you would address after reading in a new dataset\n",
    "data = data.dropna()\n",
    "data_dna = data.copy()"
   ]
  },
  {
   "cell_type": "markdown",
   "metadata": {},
   "source": [
    "#Question:\n",
    "1. What is the difference between a 'view' and a 'copy'"
   ]
  },
  {
   "cell_type": "code",
   "execution_count": 36,
   "metadata": {
    "collapsed": false
   },
   "outputs": [
    {
     "data": {
      "text/html": [
       "<div style=\"max-height:1000px;max-width:1500px;overflow:auto;\">\n",
       "<table border=\"1\" class=\"dataframe\">\n",
       "  <thead>\n",
       "    <tr style=\"text-align: right;\">\n",
       "      <th></th>\n",
       "      <th>Year</th>\n",
       "      <th>Score</th>\n",
       "      <th>Votes</th>\n",
       "      <th>Runtime</th>\n",
       "    </tr>\n",
       "  </thead>\n",
       "  <tbody>\n",
       "    <tr>\n",
       "      <th>count</th>\n",
       "      <td> 9999.000000</td>\n",
       "      <td> 9999.000000</td>\n",
       "      <td>   9999.000000</td>\n",
       "      <td> 9999.000000</td>\n",
       "    </tr>\n",
       "    <tr>\n",
       "      <th>mean</th>\n",
       "      <td> 1993.471447</td>\n",
       "      <td>    6.385989</td>\n",
       "      <td>  16605.462946</td>\n",
       "      <td>  103.580358</td>\n",
       "    </tr>\n",
       "    <tr>\n",
       "      <th>std</th>\n",
       "      <td>   14.830049</td>\n",
       "      <td>    1.189965</td>\n",
       "      <td>  34564.883945</td>\n",
       "      <td>   26.629310</td>\n",
       "    </tr>\n",
       "    <tr>\n",
       "      <th>min</th>\n",
       "      <td> 1950.000000</td>\n",
       "      <td>    1.500000</td>\n",
       "      <td>   1356.000000</td>\n",
       "      <td>    0.000000</td>\n",
       "    </tr>\n",
       "    <tr>\n",
       "      <th>25%</th>\n",
       "      <td> 1986.000000</td>\n",
       "      <td>    5.700000</td>\n",
       "      <td>   2334.500000</td>\n",
       "      <td>   93.000000</td>\n",
       "    </tr>\n",
       "    <tr>\n",
       "      <th>50%</th>\n",
       "      <td> 1998.000000</td>\n",
       "      <td>    6.600000</td>\n",
       "      <td>   4981.000000</td>\n",
       "      <td>  102.000000</td>\n",
       "    </tr>\n",
       "    <tr>\n",
       "      <th>75%</th>\n",
       "      <td> 2005.000000</td>\n",
       "      <td>    7.200000</td>\n",
       "      <td>  15278.500000</td>\n",
       "      <td>  115.000000</td>\n",
       "    </tr>\n",
       "    <tr>\n",
       "      <th>max</th>\n",
       "      <td> 2011.000000</td>\n",
       "      <td>    9.200000</td>\n",
       "      <td> 619479.000000</td>\n",
       "      <td>  450.000000</td>\n",
       "    </tr>\n",
       "  </tbody>\n",
       "</table>\n",
       "</div>"
      ],
      "text/plain": [
       "              Year        Score          Votes      Runtime\n",
       "count  9999.000000  9999.000000    9999.000000  9999.000000\n",
       "mean   1993.471447     6.385989   16605.462946   103.580358\n",
       "std      14.830049     1.189965   34564.883945    26.629310\n",
       "min    1950.000000     1.500000    1356.000000     0.000000\n",
       "25%    1986.000000     5.700000    2334.500000    93.000000\n",
       "50%    1998.000000     6.600000    4981.000000   102.000000\n",
       "75%    2005.000000     7.200000   15278.500000   115.000000\n",
       "max    2011.000000     9.200000  619479.000000   450.000000"
      ]
     },
     "execution_count": 36,
     "metadata": {},
     "output_type": "execute_result"
    }
   ],
   "source": [
    "data_dna.describe()"
   ]
  },
  {
   "cell_type": "code",
   "execution_count": 37,
   "metadata": {
    "collapsed": false
   },
   "outputs": [
    {
     "data": {
      "text/plain": [
       "imdbID      object\n",
       "Title       object\n",
       "Year         int64\n",
       "Score      float64\n",
       "Votes        int64\n",
       "Runtime      int64\n",
       "Genres      object\n",
       "dtype: object"
      ]
     },
     "execution_count": 37,
     "metadata": {},
     "output_type": "execute_result"
    }
   ],
   "source": [
    "data_dna.dtypes"
   ]
  },
  {
   "cell_type": "markdown",
   "metadata": {},
   "source": [
    "####Now try and create the list of genres"
   ]
  },
  {
   "cell_type": "code",
   "execution_count": 38,
   "metadata": {
    "collapsed": false
   },
   "outputs": [
    {
     "name": "stdout",
     "output_type": "stream",
     "text": [
      "['Action', 'Adult', 'Adventure', 'Animation', 'Biography', 'Comedy', 'Crime', 'Drama', 'Family', 'Fantasy', 'Film-Noir', 'History', 'Horror', 'Music', 'Musical', 'Mystery', 'News', 'Reality-TV', 'Romance', 'Sci-Fi', 'Sport', 'Thriller', 'War', 'Western']\n"
     ]
    }
   ],
   "source": [
    "genre_list = []\n",
    "for genre in data_dna['Genres']:\n",
    "    individual_genres = genre.split('|')\n",
    "    for a_genre in individual_genres:\n",
    "        if a_genre not in genre_list:\n",
    "            genre_list.append(a_genre)\n",
    "\n",
    "print sorted(genre_list)"
   ]
  },
  {
   "cell_type": "markdown",
   "metadata": {},
   "source": [
    "####Python has a built in sets\n",
    "####Just like list comprehension you can do set comprehension\n",
    "####So better:"
   ]
  },
  {
   "cell_type": "code",
   "execution_count": 39,
   "metadata": {
    "collapsed": false
   },
   "outputs": [
    {
     "name": "stdout",
     "output_type": "stream",
     "text": [
      "['Action', 'Adult', 'Adventure', 'Animation', 'Biography', 'Comedy', 'Crime', 'Drama', 'Family', 'Fantasy', 'Film-Noir', 'History', 'Horror', 'Music', 'Musical', 'Mystery', 'News', 'Reality-TV', 'Romance', 'Sci-Fi', 'Sport', 'Thriller', 'War', 'Western']\n"
     ]
    }
   ],
   "source": [
    "genre_set = set()\n",
    "for genre in data_dna['Genres']:\n",
    "    genre_set.update(a_genre for a_genre in genre.split('|'))\n",
    "    \n",
    "genre_set=sorted(genre_set)\n",
    "print genre_set"
   ]
  },
  {
   "cell_type": "markdown",
   "metadata": {},
   "source": [
    "####This is what we don't want to do:\n",
    "\n",
    "|Genre 1|Genre 2|Genre 3|\n",
    "|-------|-------|-------|\n",
    "|Action|--|--|\n",
    "|--|Adult|--|\n",
    "\n",
    "####instead:"
   ]
  },
  {
   "cell_type": "code",
   "execution_count": 40,
   "metadata": {
    "collapsed": false
   },
   "outputs": [],
   "source": [
    "for g in genre_set:\n",
    "    data_dna[g] = [g in movie_type.split('|') for movie_type in data_dna['Genres']]"
   ]
  },
  {
   "cell_type": "markdown",
   "metadata": {},
   "source": [
    "#Exercise:\n",
    "1. Unpick the list comprehension above and be sure you understand what is happening\n",
    "2. Re-write the code using loops"
   ]
  },
  {
   "cell_type": "code",
   "execution_count": 54,
   "metadata": {
    "collapsed": false
   },
   "outputs": [],
   "source": [
    "for g in genre_set:\n",
    "    mask = []\n",
    "    for gen_list in data_dna['Genres']:\n",
    "        mask.append(int(g in gen_list.split('|')))\n",
    "    data_dna[g]=mask "
   ]
  },
  {
   "cell_type": "code",
   "execution_count": 41,
   "metadata": {
    "collapsed": false
   },
   "outputs": [
    {
     "data": {
      "text/html": [
       "<div style=\"max-height:1000px;max-width:1500px;overflow:auto;\">\n",
       "<table border=\"1\" class=\"dataframe\">\n",
       "  <thead>\n",
       "    <tr style=\"text-align: right;\">\n",
       "      <th></th>\n",
       "      <th>imdbID</th>\n",
       "      <th>Title</th>\n",
       "      <th>Year</th>\n",
       "      <th>Score</th>\n",
       "      <th>Votes</th>\n",
       "      <th>Runtime</th>\n",
       "      <th>Genres</th>\n",
       "      <th>Action</th>\n",
       "      <th>Adult</th>\n",
       "      <th>Adventure</th>\n",
       "      <th>...</th>\n",
       "      <th>Musical</th>\n",
       "      <th>Mystery</th>\n",
       "      <th>News</th>\n",
       "      <th>Reality-TV</th>\n",
       "      <th>Romance</th>\n",
       "      <th>Sci-Fi</th>\n",
       "      <th>Sport</th>\n",
       "      <th>Thriller</th>\n",
       "      <th>War</th>\n",
       "      <th>Western</th>\n",
       "    </tr>\n",
       "  </thead>\n",
       "  <tbody>\n",
       "    <tr>\n",
       "      <th>0</th>\n",
       "      <td> tt0111161</td>\n",
       "      <td> The Shawshank Redemption</td>\n",
       "      <td> 1994</td>\n",
       "      <td> 9.2</td>\n",
       "      <td> 619479</td>\n",
       "      <td> 142</td>\n",
       "      <td>                      Crime|Drama</td>\n",
       "      <td> False</td>\n",
       "      <td> False</td>\n",
       "      <td> False</td>\n",
       "      <td>...</td>\n",
       "      <td> False</td>\n",
       "      <td> False</td>\n",
       "      <td> False</td>\n",
       "      <td> False</td>\n",
       "      <td> False</td>\n",
       "      <td> False</td>\n",
       "      <td> False</td>\n",
       "      <td> False</td>\n",
       "      <td> False</td>\n",
       "      <td> False</td>\n",
       "    </tr>\n",
       "    <tr>\n",
       "      <th>1</th>\n",
       "      <td> tt0110912</td>\n",
       "      <td>             Pulp Fiction</td>\n",
       "      <td> 1994</td>\n",
       "      <td> 9.0</td>\n",
       "      <td> 490065</td>\n",
       "      <td> 154</td>\n",
       "      <td>                   Crime|Thriller</td>\n",
       "      <td> False</td>\n",
       "      <td> False</td>\n",
       "      <td> False</td>\n",
       "      <td>...</td>\n",
       "      <td> False</td>\n",
       "      <td> False</td>\n",
       "      <td> False</td>\n",
       "      <td> False</td>\n",
       "      <td> False</td>\n",
       "      <td> False</td>\n",
       "      <td> False</td>\n",
       "      <td>  True</td>\n",
       "      <td> False</td>\n",
       "      <td> False</td>\n",
       "    </tr>\n",
       "    <tr>\n",
       "      <th>2</th>\n",
       "      <td> tt0137523</td>\n",
       "      <td>               Fight Club</td>\n",
       "      <td> 1999</td>\n",
       "      <td> 8.8</td>\n",
       "      <td> 458173</td>\n",
       "      <td> 139</td>\n",
       "      <td>           Drama|Mystery|Thriller</td>\n",
       "      <td> False</td>\n",
       "      <td> False</td>\n",
       "      <td> False</td>\n",
       "      <td>...</td>\n",
       "      <td> False</td>\n",
       "      <td>  True</td>\n",
       "      <td> False</td>\n",
       "      <td> False</td>\n",
       "      <td> False</td>\n",
       "      <td> False</td>\n",
       "      <td> False</td>\n",
       "      <td>  True</td>\n",
       "      <td> False</td>\n",
       "      <td> False</td>\n",
       "    </tr>\n",
       "    <tr>\n",
       "      <th>3</th>\n",
       "      <td> tt0133093</td>\n",
       "      <td>               The Matrix</td>\n",
       "      <td> 1999</td>\n",
       "      <td> 8.7</td>\n",
       "      <td> 448114</td>\n",
       "      <td> 136</td>\n",
       "      <td>          Action|Adventure|Sci-Fi</td>\n",
       "      <td>  True</td>\n",
       "      <td> False</td>\n",
       "      <td>  True</td>\n",
       "      <td>...</td>\n",
       "      <td> False</td>\n",
       "      <td> False</td>\n",
       "      <td> False</td>\n",
       "      <td> False</td>\n",
       "      <td> False</td>\n",
       "      <td>  True</td>\n",
       "      <td> False</td>\n",
       "      <td> False</td>\n",
       "      <td> False</td>\n",
       "      <td> False</td>\n",
       "    </tr>\n",
       "    <tr>\n",
       "      <th>4</th>\n",
       "      <td> tt1375666</td>\n",
       "      <td>                Inception</td>\n",
       "      <td> 2010</td>\n",
       "      <td> 8.9</td>\n",
       "      <td> 385149</td>\n",
       "      <td> 148</td>\n",
       "      <td> Action|Adventure|Sci-Fi|Thriller</td>\n",
       "      <td>  True</td>\n",
       "      <td> False</td>\n",
       "      <td>  True</td>\n",
       "      <td>...</td>\n",
       "      <td> False</td>\n",
       "      <td> False</td>\n",
       "      <td> False</td>\n",
       "      <td> False</td>\n",
       "      <td> False</td>\n",
       "      <td>  True</td>\n",
       "      <td> False</td>\n",
       "      <td>  True</td>\n",
       "      <td> False</td>\n",
       "      <td> False</td>\n",
       "    </tr>\n",
       "  </tbody>\n",
       "</table>\n",
       "<p>5 rows × 31 columns</p>\n",
       "</div>"
      ],
      "text/plain": [
       "      imdbID                     Title  Year  Score   Votes  Runtime  \\\n",
       "0  tt0111161  The Shawshank Redemption  1994    9.2  619479      142   \n",
       "1  tt0110912              Pulp Fiction  1994    9.0  490065      154   \n",
       "2  tt0137523                Fight Club  1999    8.8  458173      139   \n",
       "3  tt0133093                The Matrix  1999    8.7  448114      136   \n",
       "4  tt1375666                 Inception  2010    8.9  385149      148   \n",
       "\n",
       "                             Genres Action  Adult Adventure   ...   Musical  \\\n",
       "0                       Crime|Drama  False  False     False   ...     False   \n",
       "1                    Crime|Thriller  False  False     False   ...     False   \n",
       "2            Drama|Mystery|Thriller  False  False     False   ...     False   \n",
       "3           Action|Adventure|Sci-Fi   True  False      True   ...     False   \n",
       "4  Action|Adventure|Sci-Fi|Thriller   True  False      True   ...     False   \n",
       "\n",
       "  Mystery   News Reality-TV Romance Sci-Fi  Sport Thriller    War Western  \n",
       "0   False  False      False   False  False  False    False  False   False  \n",
       "1   False  False      False   False  False  False     True  False   False  \n",
       "2    True  False      False   False  False  False     True  False   False  \n",
       "3   False  False      False   False   True  False    False  False   False  \n",
       "4   False  False      False   False   True  False     True  False   False  \n",
       "\n",
       "[5 rows x 31 columns]"
      ]
     },
     "execution_count": 41,
     "metadata": {},
     "output_type": "execute_result"
    }
   ],
   "source": [
    "data_dna.head()"
   ]
  },
  {
   "cell_type": "code",
   "execution_count": 56,
   "metadata": {
    "collapsed": false
   },
   "outputs": [
    {
     "data": {
      "text/html": [
       "<div style=\"max-height:1000px;max-width:1500px;overflow:auto;\">\n",
       "<table border=\"1\" class=\"dataframe\">\n",
       "  <thead>\n",
       "    <tr style=\"text-align: right;\">\n",
       "      <th></th>\n",
       "      <th>Year</th>\n",
       "      <th>Score</th>\n",
       "      <th>Votes</th>\n",
       "      <th>Runtime_in_mins</th>\n",
       "      <th>Action</th>\n",
       "      <th>Adult</th>\n",
       "      <th>Adventure</th>\n",
       "      <th>Animation</th>\n",
       "      <th>Biography</th>\n",
       "      <th>Comedy</th>\n",
       "      <th>...</th>\n",
       "      <th>Musical</th>\n",
       "      <th>Mystery</th>\n",
       "      <th>News</th>\n",
       "      <th>Reality-TV</th>\n",
       "      <th>Romance</th>\n",
       "      <th>Sci-Fi</th>\n",
       "      <th>Sport</th>\n",
       "      <th>Thriller</th>\n",
       "      <th>War</th>\n",
       "      <th>Western</th>\n",
       "    </tr>\n",
       "  </thead>\n",
       "  <tbody>\n",
       "    <tr>\n",
       "      <th>count</th>\n",
       "      <td> 9999.000000</td>\n",
       "      <td> 9999.000000</td>\n",
       "      <td>   9999.000000</td>\n",
       "      <td> 9999.000000</td>\n",
       "      <td> 9999.000000</td>\n",
       "      <td> 9999.000000</td>\n",
       "      <td> 9999.000000</td>\n",
       "      <td> 9999.000000</td>\n",
       "      <td> 9999.000000</td>\n",
       "      <td> 9999.000000</td>\n",
       "      <td>...</td>\n",
       "      <td> 9999.000000</td>\n",
       "      <td> 9999.000000</td>\n",
       "      <td> 9999.000000</td>\n",
       "      <td> 9999.000000</td>\n",
       "      <td> 9999.000000</td>\n",
       "      <td> 9999.000000</td>\n",
       "      <td> 9999.000000</td>\n",
       "      <td> 9999.000000</td>\n",
       "      <td> 9999.000000</td>\n",
       "      <td> 9999.000000</td>\n",
       "    </tr>\n",
       "    <tr>\n",
       "      <th>mean</th>\n",
       "      <td> 1993.471447</td>\n",
       "      <td>    6.385989</td>\n",
       "      <td>  16605.462946</td>\n",
       "      <td>  103.580358</td>\n",
       "      <td>    0.189119</td>\n",
       "      <td>    0.000900</td>\n",
       "      <td>    0.131313</td>\n",
       "      <td>    0.031403</td>\n",
       "      <td>    0.039404</td>\n",
       "      <td>    0.392239</td>\n",
       "      <td>...</td>\n",
       "      <td>    0.026003</td>\n",
       "      <td>    0.100910</td>\n",
       "      <td>    0.000100</td>\n",
       "      <td>    0.000100</td>\n",
       "      <td>    0.244124</td>\n",
       "      <td>    0.089709</td>\n",
       "      <td>    0.028803</td>\n",
       "      <td>    0.283228</td>\n",
       "      <td>    0.051205</td>\n",
       "      <td>    0.023502</td>\n",
       "    </tr>\n",
       "    <tr>\n",
       "      <th>std</th>\n",
       "      <td>   14.830049</td>\n",
       "      <td>    1.189965</td>\n",
       "      <td>  34564.883945</td>\n",
       "      <td>   26.629310</td>\n",
       "      <td>    0.391623</td>\n",
       "      <td>    0.029989</td>\n",
       "      <td>    0.337759</td>\n",
       "      <td>    0.174413</td>\n",
       "      <td>    0.194564</td>\n",
       "      <td>    0.488274</td>\n",
       "      <td>...</td>\n",
       "      <td>    0.159151</td>\n",
       "      <td>    0.301225</td>\n",
       "      <td>    0.010001</td>\n",
       "      <td>    0.010001</td>\n",
       "      <td>    0.429588</td>\n",
       "      <td>    0.285779</td>\n",
       "      <td>    0.167260</td>\n",
       "      <td>    0.450589</td>\n",
       "      <td>    0.220427</td>\n",
       "      <td>    0.151500</td>\n",
       "    </tr>\n",
       "    <tr>\n",
       "      <th>min</th>\n",
       "      <td> 1950.000000</td>\n",
       "      <td>    1.500000</td>\n",
       "      <td>   1356.000000</td>\n",
       "      <td>    0.000000</td>\n",
       "      <td>    0.000000</td>\n",
       "      <td>    0.000000</td>\n",
       "      <td>    0.000000</td>\n",
       "      <td>    0.000000</td>\n",
       "      <td>    0.000000</td>\n",
       "      <td>    0.000000</td>\n",
       "      <td>...</td>\n",
       "      <td>    0.000000</td>\n",
       "      <td>    0.000000</td>\n",
       "      <td>    0.000000</td>\n",
       "      <td>    0.000000</td>\n",
       "      <td>    0.000000</td>\n",
       "      <td>    0.000000</td>\n",
       "      <td>    0.000000</td>\n",
       "      <td>    0.000000</td>\n",
       "      <td>    0.000000</td>\n",
       "      <td>    0.000000</td>\n",
       "    </tr>\n",
       "    <tr>\n",
       "      <th>25%</th>\n",
       "      <td> 1986.000000</td>\n",
       "      <td>    5.700000</td>\n",
       "      <td>   2334.500000</td>\n",
       "      <td>   93.000000</td>\n",
       "      <td>    0.000000</td>\n",
       "      <td>    0.000000</td>\n",
       "      <td>    0.000000</td>\n",
       "      <td>    0.000000</td>\n",
       "      <td>    0.000000</td>\n",
       "      <td>    0.000000</td>\n",
       "      <td>...</td>\n",
       "      <td>    0.000000</td>\n",
       "      <td>    0.000000</td>\n",
       "      <td>    0.000000</td>\n",
       "      <td>    0.000000</td>\n",
       "      <td>    0.000000</td>\n",
       "      <td>    0.000000</td>\n",
       "      <td>    0.000000</td>\n",
       "      <td>    0.000000</td>\n",
       "      <td>    0.000000</td>\n",
       "      <td>    0.000000</td>\n",
       "    </tr>\n",
       "    <tr>\n",
       "      <th>50%</th>\n",
       "      <td> 1998.000000</td>\n",
       "      <td>    6.600000</td>\n",
       "      <td>   4981.000000</td>\n",
       "      <td>  102.000000</td>\n",
       "      <td>    0.000000</td>\n",
       "      <td>    0.000000</td>\n",
       "      <td>    0.000000</td>\n",
       "      <td>    0.000000</td>\n",
       "      <td>    0.000000</td>\n",
       "      <td>    0.000000</td>\n",
       "      <td>...</td>\n",
       "      <td>    0.000000</td>\n",
       "      <td>    0.000000</td>\n",
       "      <td>    0.000000</td>\n",
       "      <td>    0.000000</td>\n",
       "      <td>    0.000000</td>\n",
       "      <td>    0.000000</td>\n",
       "      <td>    0.000000</td>\n",
       "      <td>    0.000000</td>\n",
       "      <td>    0.000000</td>\n",
       "      <td>    0.000000</td>\n",
       "    </tr>\n",
       "    <tr>\n",
       "      <th>75%</th>\n",
       "      <td> 2005.000000</td>\n",
       "      <td>    7.200000</td>\n",
       "      <td>  15278.500000</td>\n",
       "      <td>  115.000000</td>\n",
       "      <td>    0.000000</td>\n",
       "      <td>    0.000000</td>\n",
       "      <td>    0.000000</td>\n",
       "      <td>    0.000000</td>\n",
       "      <td>    0.000000</td>\n",
       "      <td>    1.000000</td>\n",
       "      <td>...</td>\n",
       "      <td>    0.000000</td>\n",
       "      <td>    0.000000</td>\n",
       "      <td>    0.000000</td>\n",
       "      <td>    0.000000</td>\n",
       "      <td>    0.000000</td>\n",
       "      <td>    0.000000</td>\n",
       "      <td>    0.000000</td>\n",
       "      <td>    1.000000</td>\n",
       "      <td>    0.000000</td>\n",
       "      <td>    0.000000</td>\n",
       "    </tr>\n",
       "    <tr>\n",
       "      <th>max</th>\n",
       "      <td> 2011.000000</td>\n",
       "      <td>    9.200000</td>\n",
       "      <td> 619479.000000</td>\n",
       "      <td>  450.000000</td>\n",
       "      <td>    1.000000</td>\n",
       "      <td>    1.000000</td>\n",
       "      <td>    1.000000</td>\n",
       "      <td>    1.000000</td>\n",
       "      <td>    1.000000</td>\n",
       "      <td>    1.000000</td>\n",
       "      <td>...</td>\n",
       "      <td>    1.000000</td>\n",
       "      <td>    1.000000</td>\n",
       "      <td>    1.000000</td>\n",
       "      <td>    1.000000</td>\n",
       "      <td>    1.000000</td>\n",
       "      <td>    1.000000</td>\n",
       "      <td>    1.000000</td>\n",
       "      <td>    1.000000</td>\n",
       "      <td>    1.000000</td>\n",
       "      <td>    1.000000</td>\n",
       "    </tr>\n",
       "  </tbody>\n",
       "</table>\n",
       "<p>8 rows × 28 columns</p>\n",
       "</div>"
      ],
      "text/plain": [
       "              Year        Score          Votes  Runtime_in_mins       Action  \\\n",
       "count  9999.000000  9999.000000    9999.000000      9999.000000  9999.000000   \n",
       "mean   1993.471447     6.385989   16605.462946       103.580358     0.189119   \n",
       "std      14.830049     1.189965   34564.883945        26.629310     0.391623   \n",
       "min    1950.000000     1.500000    1356.000000         0.000000     0.000000   \n",
       "25%    1986.000000     5.700000    2334.500000        93.000000     0.000000   \n",
       "50%    1998.000000     6.600000    4981.000000       102.000000     0.000000   \n",
       "75%    2005.000000     7.200000   15278.500000       115.000000     0.000000   \n",
       "max    2011.000000     9.200000  619479.000000       450.000000     1.000000   \n",
       "\n",
       "             Adult    Adventure    Animation    Biography       Comedy  \\\n",
       "count  9999.000000  9999.000000  9999.000000  9999.000000  9999.000000   \n",
       "mean      0.000900     0.131313     0.031403     0.039404     0.392239   \n",
       "std       0.029989     0.337759     0.174413     0.194564     0.488274   \n",
       "min       0.000000     0.000000     0.000000     0.000000     0.000000   \n",
       "25%       0.000000     0.000000     0.000000     0.000000     0.000000   \n",
       "50%       0.000000     0.000000     0.000000     0.000000     0.000000   \n",
       "75%       0.000000     0.000000     0.000000     0.000000     1.000000   \n",
       "max       1.000000     1.000000     1.000000     1.000000     1.000000   \n",
       "\n",
       "          ...           Musical      Mystery         News   Reality-TV  \\\n",
       "count     ...       9999.000000  9999.000000  9999.000000  9999.000000   \n",
       "mean      ...          0.026003     0.100910     0.000100     0.000100   \n",
       "std       ...          0.159151     0.301225     0.010001     0.010001   \n",
       "min       ...          0.000000     0.000000     0.000000     0.000000   \n",
       "25%       ...          0.000000     0.000000     0.000000     0.000000   \n",
       "50%       ...          0.000000     0.000000     0.000000     0.000000   \n",
       "75%       ...          0.000000     0.000000     0.000000     0.000000   \n",
       "max       ...          1.000000     1.000000     1.000000     1.000000   \n",
       "\n",
       "           Romance       Sci-Fi        Sport     Thriller          War  \\\n",
       "count  9999.000000  9999.000000  9999.000000  9999.000000  9999.000000   \n",
       "mean      0.244124     0.089709     0.028803     0.283228     0.051205   \n",
       "std       0.429588     0.285779     0.167260     0.450589     0.220427   \n",
       "min       0.000000     0.000000     0.000000     0.000000     0.000000   \n",
       "25%       0.000000     0.000000     0.000000     0.000000     0.000000   \n",
       "50%       0.000000     0.000000     0.000000     0.000000     0.000000   \n",
       "75%       0.000000     0.000000     0.000000     1.000000     0.000000   \n",
       "max       1.000000     1.000000     1.000000     1.000000     1.000000   \n",
       "\n",
       "           Western  \n",
       "count  9999.000000  \n",
       "mean      0.023502  \n",
       "std       0.151500  \n",
       "min       0.000000  \n",
       "25%       0.000000  \n",
       "50%       0.000000  \n",
       "75%       0.000000  \n",
       "max       1.000000  \n",
       "\n",
       "[8 rows x 28 columns]"
      ]
     },
     "execution_count": 56,
     "metadata": {},
     "output_type": "execute_result"
    }
   ],
   "source": [
    "data_dna.describe()"
   ]
  },
  {
   "cell_type": "markdown",
   "metadata": {},
   "source": [
    "#Question:\n",
    "1. How does python interpret True and False?"
   ]
  },
  {
   "cell_type": "code",
   "execution_count": 57,
   "metadata": {
    "collapsed": false
   },
   "outputs": [
    {
     "data": {
      "text/plain": [
       "imdbID              object\n",
       "Title               object\n",
       "Year                 int64\n",
       "Score              float64\n",
       "Votes                int64\n",
       "Runtime_in_mins      int64\n",
       "Genres              object\n",
       "Action               int64\n",
       "Adult                int64\n",
       "Adventure            int64\n",
       "Animation            int64\n",
       "Biography            int64\n",
       "Comedy               int64\n",
       "Crime                int64\n",
       "Drama                int64\n",
       "Family               int64\n",
       "Fantasy              int64\n",
       "Film-Noir            int64\n",
       "History              int64\n",
       "Horror               int64\n",
       "Music                int64\n",
       "Musical              int64\n",
       "Mystery              int64\n",
       "News                 int64\n",
       "Reality-TV           int64\n",
       "Romance              int64\n",
       "Sci-Fi               int64\n",
       "Sport                int64\n",
       "Thriller             int64\n",
       "War                  int64\n",
       "Western              int64\n",
       "dtype: object"
      ]
     },
     "execution_count": 57,
     "metadata": {},
     "output_type": "execute_result"
    }
   ],
   "source": [
    "data_dna.dtypes"
   ]
  },
  {
   "cell_type": "code",
   "execution_count": 58,
   "metadata": {
    "collapsed": false
   },
   "outputs": [
    {
     "data": {
      "text/html": [
       "<div style=\"max-height:1000px;max-width:1500px;overflow:auto;\">\n",
       "<table border=\"1\" class=\"dataframe\">\n",
       "  <thead>\n",
       "    <tr style=\"text-align: right;\">\n",
       "      <th></th>\n",
       "      <th>Score</th>\n",
       "      <th>Runtime_in_mins</th>\n",
       "      <th>Year</th>\n",
       "      <th>Votes</th>\n",
       "    </tr>\n",
       "  </thead>\n",
       "  <tbody>\n",
       "    <tr>\n",
       "      <th>count</th>\n",
       "      <td> 9999.000000</td>\n",
       "      <td> 9999.000000</td>\n",
       "      <td> 9999.000000</td>\n",
       "      <td>   9999.000000</td>\n",
       "    </tr>\n",
       "    <tr>\n",
       "      <th>mean</th>\n",
       "      <td>    6.385989</td>\n",
       "      <td>  103.580358</td>\n",
       "      <td> 1993.471447</td>\n",
       "      <td>  16605.462946</td>\n",
       "    </tr>\n",
       "    <tr>\n",
       "      <th>std</th>\n",
       "      <td>    1.189965</td>\n",
       "      <td>   26.629310</td>\n",
       "      <td>   14.830049</td>\n",
       "      <td>  34564.883945</td>\n",
       "    </tr>\n",
       "    <tr>\n",
       "      <th>min</th>\n",
       "      <td>    1.500000</td>\n",
       "      <td>    0.000000</td>\n",
       "      <td> 1950.000000</td>\n",
       "      <td>   1356.000000</td>\n",
       "    </tr>\n",
       "    <tr>\n",
       "      <th>25%</th>\n",
       "      <td>    5.700000</td>\n",
       "      <td>   93.000000</td>\n",
       "      <td> 1986.000000</td>\n",
       "      <td>   2334.500000</td>\n",
       "    </tr>\n",
       "    <tr>\n",
       "      <th>50%</th>\n",
       "      <td>    6.600000</td>\n",
       "      <td>  102.000000</td>\n",
       "      <td> 1998.000000</td>\n",
       "      <td>   4981.000000</td>\n",
       "    </tr>\n",
       "    <tr>\n",
       "      <th>75%</th>\n",
       "      <td>    7.200000</td>\n",
       "      <td>  115.000000</td>\n",
       "      <td> 2005.000000</td>\n",
       "      <td>  15278.500000</td>\n",
       "    </tr>\n",
       "    <tr>\n",
       "      <th>max</th>\n",
       "      <td>    9.200000</td>\n",
       "      <td>  450.000000</td>\n",
       "      <td> 2011.000000</td>\n",
       "      <td> 619479.000000</td>\n",
       "    </tr>\n",
       "  </tbody>\n",
       "</table>\n",
       "</div>"
      ],
      "text/plain": [
       "             Score  Runtime_in_mins         Year          Votes\n",
       "count  9999.000000      9999.000000  9999.000000    9999.000000\n",
       "mean      6.385989       103.580358  1993.471447   16605.462946\n",
       "std       1.189965        26.629310    14.830049   34564.883945\n",
       "min       1.500000         0.000000  1950.000000    1356.000000\n",
       "25%       5.700000        93.000000  1986.000000    2334.500000\n",
       "50%       6.600000       102.000000  1998.000000    4981.000000\n",
       "75%       7.200000       115.000000  2005.000000   15278.500000\n",
       "max       9.200000       450.000000  2011.000000  619479.000000"
      ]
     },
     "execution_count": 58,
     "metadata": {},
     "output_type": "execute_result"
    }
   ],
   "source": [
    "data_dna[['Score', 'Runtime_in_mins', 'Year', 'Votes']].describe()"
   ]
  },
  {
   "cell_type": "markdown",
   "metadata": {},
   "source": [
    "#Question:\n",
    "1. What else do we have to address?"
   ]
  },
  {
   "cell_type": "markdown",
   "metadata": {},
   "source": [
    "####There are some movies that have 0 min runtimes\n",
    "####Let's investigate and address"
   ]
  },
  {
   "cell_type": "code",
   "execution_count": 42,
   "metadata": {
    "collapsed": false
   },
   "outputs": [],
   "source": [
    "number_zero_mins = len(data_dna['Runtime'][data_dna['Runtime']==0])"
   ]
  },
  {
   "cell_type": "code",
   "execution_count": 43,
   "metadata": {
    "collapsed": false
   },
   "outputs": [
    {
     "name": "stdout",
     "output_type": "stream",
     "text": [
      "282\n"
     ]
    }
   ],
   "source": [
    "print number_zero_mins"
   ]
  },
  {
   "cell_type": "markdown",
   "metadata": {},
   "source": [
    "####This is pretty awkward notation\n",
    "####Dot notation is less so"
   ]
  },
  {
   "cell_type": "code",
   "execution_count": 44,
   "metadata": {
    "collapsed": false
   },
   "outputs": [],
   "source": [
    "number_zero_mins = len(data_dna.Runtime[data_dna.Runtime==0])"
   ]
  },
  {
   "cell_type": "code",
   "execution_count": 45,
   "metadata": {
    "collapsed": false
   },
   "outputs": [
    {
     "name": "stdout",
     "output_type": "stream",
     "text": [
      "282\n"
     ]
    }
   ],
   "source": [
    "print number_zero_mins"
   ]
  },
  {
   "cell_type": "markdown",
   "metadata": {},
   "source": [
    "####You might choose to remove these movies from the dataset depending on what you are trying to discover\n",
    "####Another approach is to keep the records in the dataset and flag these entries as 'NAN's or Not a Number"
   ]
  },
  {
   "cell_type": "code",
   "execution_count": 46,
   "metadata": {
    "collapsed": true
   },
   "outputs": [],
   "source": [
    "mask = data_dna.Runtime==0"
   ]
  },
  {
   "cell_type": "code",
   "execution_count": 53,
   "metadata": {
    "collapsed": false
   },
   "outputs": [
    {
     "name": "stdout",
     "output_type": "stream",
     "text": [
      "0     False\n",
      "1     False\n",
      "2     False\n",
      "3     False\n",
      "4     False\n",
      "5     False\n",
      "6     False\n",
      "7     False\n",
      "8     False\n",
      "9     False\n",
      "10    False\n",
      "11    False\n",
      "12    False\n",
      "13    False\n",
      "14    False\n",
      "...\n",
      "9985    False\n",
      "9986    False\n",
      "9987    False\n",
      "9988    False\n",
      "9989    False\n",
      "9990    False\n",
      "9991    False\n",
      "9992    False\n",
      "9993    False\n",
      "9994    False\n",
      "9995    False\n",
      "9996    False\n",
      "9997    False\n",
      "9998    False\n",
      "9999    False\n",
      "Name: Runtime, Length: 9999, dtype: bool\n"
     ]
    }
   ],
   "source": [
    "print mask"
   ]
  },
  {
   "cell_type": "code",
   "execution_count": 49,
   "metadata": {
    "collapsed": false
   },
   "outputs": [
    {
     "name": "stderr",
     "output_type": "stream",
     "text": [
      "/Users/mrgh/anaconda/lib/python2.7/site-packages/IPython/kernel/__main__.py:1: SettingWithCopyWarning: \n",
      "A value is trying to be set on a copy of a slice from a DataFrame\n",
      "\n",
      "See the the caveats in the documentation: http://pandas.pydata.org/pandas-docs/stable/indexing.html#indexing-view-versus-copy\n",
      "  if __name__ == '__main__':\n"
     ]
    }
   ],
   "source": [
    "data_dna.Runtime[mask] = np.nan"
   ]
  },
  {
   "cell_type": "code",
   "execution_count": 51,
   "metadata": {
    "collapsed": false
   },
   "outputs": [
    {
     "data": {
      "text/html": [
       "<div style=\"max-height:1000px;max-width:1500px;overflow:auto;\">\n",
       "<table border=\"1\" class=\"dataframe\">\n",
       "  <thead>\n",
       "    <tr style=\"text-align: right;\">\n",
       "      <th></th>\n",
       "      <th>Score</th>\n",
       "      <th>Runtime</th>\n",
       "      <th>Year</th>\n",
       "      <th>Votes</th>\n",
       "    </tr>\n",
       "  </thead>\n",
       "  <tbody>\n",
       "    <tr>\n",
       "      <th>count</th>\n",
       "      <td> 9999.000000</td>\n",
       "      <td> 9717.000000</td>\n",
       "      <td> 9999.000000</td>\n",
       "      <td>   9999.000000</td>\n",
       "    </tr>\n",
       "    <tr>\n",
       "      <th>mean</th>\n",
       "      <td>    6.385989</td>\n",
       "      <td>  106.586395</td>\n",
       "      <td> 1993.471447</td>\n",
       "      <td>  16605.462946</td>\n",
       "    </tr>\n",
       "    <tr>\n",
       "      <th>std</th>\n",
       "      <td>    1.189965</td>\n",
       "      <td>   20.230330</td>\n",
       "      <td>   14.830049</td>\n",
       "      <td>  34564.883945</td>\n",
       "    </tr>\n",
       "    <tr>\n",
       "      <th>min</th>\n",
       "      <td>    1.500000</td>\n",
       "      <td>   45.000000</td>\n",
       "      <td> 1950.000000</td>\n",
       "      <td>   1356.000000</td>\n",
       "    </tr>\n",
       "    <tr>\n",
       "      <th>25%</th>\n",
       "      <td>    5.700000</td>\n",
       "      <td>   93.000000</td>\n",
       "      <td> 1986.000000</td>\n",
       "      <td>   2334.500000</td>\n",
       "    </tr>\n",
       "    <tr>\n",
       "      <th>50%</th>\n",
       "      <td>    6.600000</td>\n",
       "      <td>  103.000000</td>\n",
       "      <td> 1998.000000</td>\n",
       "      <td>   4981.000000</td>\n",
       "    </tr>\n",
       "    <tr>\n",
       "      <th>75%</th>\n",
       "      <td>    7.200000</td>\n",
       "      <td>  115.000000</td>\n",
       "      <td> 2005.000000</td>\n",
       "      <td>  15278.500000</td>\n",
       "    </tr>\n",
       "    <tr>\n",
       "      <th>max</th>\n",
       "      <td>    9.200000</td>\n",
       "      <td>  450.000000</td>\n",
       "      <td> 2011.000000</td>\n",
       "      <td> 619479.000000</td>\n",
       "    </tr>\n",
       "  </tbody>\n",
       "</table>\n",
       "</div>"
      ],
      "text/plain": [
       "             Score      Runtime         Year          Votes\n",
       "count  9999.000000  9717.000000  9999.000000    9999.000000\n",
       "mean      6.385989   106.586395  1993.471447   16605.462946\n",
       "std       1.189965    20.230330    14.830049   34564.883945\n",
       "min       1.500000    45.000000  1950.000000    1356.000000\n",
       "25%       5.700000    93.000000  1986.000000    2334.500000\n",
       "50%       6.600000   103.000000  1998.000000    4981.000000\n",
       "75%       7.200000   115.000000  2005.000000   15278.500000\n",
       "max       9.200000   450.000000  2011.000000  619479.000000"
      ]
     },
     "execution_count": 51,
     "metadata": {},
     "output_type": "execute_result"
    }
   ],
   "source": [
    "data_dna[['Score', 'Runtime', 'Year', 'Votes']].describe()"
   ]
  },
  {
   "cell_type": "code",
   "execution_count": 66,
   "metadata": {
    "collapsed": false
   },
   "outputs": [
    {
     "data": {
      "text/plain": [
       "imdbID              object\n",
       "Title               object\n",
       "Year                 int64\n",
       "Score              float64\n",
       "Votes                int64\n",
       "Runtime_in_mins    float64\n",
       "Genres              object\n",
       "Action               int64\n",
       "Adult                int64\n",
       "Adventure            int64\n",
       "Animation            int64\n",
       "Biography            int64\n",
       "Comedy               int64\n",
       "Crime                int64\n",
       "Drama                int64\n",
       "Family               int64\n",
       "Fantasy              int64\n",
       "Film-Noir            int64\n",
       "History              int64\n",
       "Horror               int64\n",
       "Music                int64\n",
       "Musical              int64\n",
       "Mystery              int64\n",
       "News                 int64\n",
       "Reality-TV           int64\n",
       "Romance              int64\n",
       "Sci-Fi               int64\n",
       "Sport                int64\n",
       "Thriller             int64\n",
       "War                  int64\n",
       "Western              int64\n",
       "dtype: object"
      ]
     },
     "execution_count": 66,
     "metadata": {},
     "output_type": "execute_result"
    }
   ],
   "source": [
    "data_dna.dtypes"
   ]
  },
  {
   "cell_type": "markdown",
   "metadata": {},
   "source": [
    "#This finishes the 'munging' phase (until you discover other things and have to go back!!)"
   ]
  },
  {
   "cell_type": "code",
   "execution_count": 67,
   "metadata": {
    "collapsed": false
   },
   "outputs": [],
   "source": [
    "mpl.style.use('ggplot')"
   ]
  },
  {
   "cell_type": "code",
   "execution_count": 68,
   "metadata": {
    "collapsed": false
   },
   "outputs": [
    {
     "data": {
      "text/plain": [
       "<matplotlib.text.Text at 0x100432210>"
      ]
     },
     "execution_count": 68,
     "metadata": {},
     "output_type": "execute_result"
    },
    {
     "data": {
      "image/png": "[encoded data removed]",
      "text/plain": [
       "<matplotlib.figure.Figure at 0x10d383b50>"
      ]
     },
     "metadata": {},
     "output_type": "display_data"
    }
   ],
   "source": [
    "fig = plt.figure(figsize=(7,7))\n",
    "ax = plt.subplot(111)\n",
    "ax.hist(data_dna.Year, bins = np.arange(1950, 2013), color='b')\n",
    "ax.set_title(\"Histogram of Movies Released by Year\")\n",
    "ax.set_xlabel(\"Year\")"
   ]
  },
  {
   "cell_type": "markdown",
   "metadata": {},
   "source": [
    "#Exercise:\n",
    "1. Plot a histogram of the imdb rating for the movies in the dataset\n",
    "2. plot a histogram of the runtimes for the moveis in the dataset"
   ]
  },
  {
   "cell_type": "code",
   "execution_count": 69,
   "metadata": {
    "collapsed": false
   },
   "outputs": [
    {
     "data": {
      "text/plain": [
       "<matplotlib.text.Text at 0x10dbc9c50>"
      ]
     },
     "execution_count": 69,
     "metadata": {},
     "output_type": "execute_result"
    },
    {
     "data": {
      "image/png": "[encoded data removed]",
      "text/plain": [
       "<matplotlib.figure.Figure at 0x10da67810>"
      ]
     },
     "metadata": {},
     "output_type": "display_data"
    }
   ],
   "source": [
    "fig = plt.figure(figsize = (20,5))\n",
    "ax = plt.subplot(121)\n",
    "ax.scatter(data_dna.Votes, data_dna.Score, color='g',  marker='.')\n",
    "ax.set_title(\"Plot of Votes vs Score\")\n",
    "ax.set_xlabel(\"Votes\")\n",
    "ax.set_ylabel(\"Imdb Score\")\n",
    "\n",
    "ax1 = plt.subplot(122)\n",
    "ax1.scatter(data_dna.Votes, data_dna.Score, color='r', marker='.')\n",
    "ax1.set_xscale('Log')\n",
    "ax1.set_title(\"Plot of Log Votes vs Score\")\n",
    "ax1.set_xlabel(\"Log Votes\")\n",
    "ax1.set_ylabel(\"Imdb Score\")"
   ]
  },
  {
   "cell_type": "markdown",
   "metadata": {},
   "source": [
    "#Exercise:\n",
    "1. Plot a scatter plot of Year vs Imdb Score"
   ]
  },
  {
   "cell_type": "markdown",
   "metadata": {},
   "source": [
    "####The lowest rated movies are:"
   ]
  },
  {
   "cell_type": "code",
   "execution_count": 70,
   "metadata": {
    "collapsed": false
   },
   "outputs": [
    {
     "data": {
      "text/html": [
       "<div style=\"max-height:1000px;max-width:1500px;overflow:auto;\">\n",
       "<table border=\"1\" class=\"dataframe\">\n",
       "  <thead>\n",
       "    <tr style=\"text-align: right;\">\n",
       "      <th></th>\n",
       "      <th>Title</th>\n",
       "    </tr>\n",
       "  </thead>\n",
       "  <tbody>\n",
       "    <tr>\n",
       "      <th>1982</th>\n",
       "      <td>     Manos: The Hands of Fate</td>\n",
       "    </tr>\n",
       "    <tr>\n",
       "      <th>2793</th>\n",
       "      <td> Superbabies: Baby Geniuses 2</td>\n",
       "    </tr>\n",
       "    <tr>\n",
       "      <th>3746</th>\n",
       "      <td>            Daniel the Wizard</td>\n",
       "    </tr>\n",
       "    <tr>\n",
       "      <th>5158</th>\n",
       "      <td>                 Ben &amp; Arthur</td>\n",
       "    </tr>\n",
       "    <tr>\n",
       "      <th>5993</th>\n",
       "      <td>    Night Train to Mundo Fine</td>\n",
       "    </tr>\n",
       "    <tr>\n",
       "      <th>6257</th>\n",
       "      <td>              Monster a-Go Go</td>\n",
       "    </tr>\n",
       "    <tr>\n",
       "      <th>6726</th>\n",
       "      <td>                   Dream Well</td>\n",
       "    </tr>\n",
       "  </tbody>\n",
       "</table>\n",
       "</div>"
      ],
      "text/plain": [
       "                             Title\n",
       "1982      Manos: The Hands of Fate\n",
       "2793  Superbabies: Baby Geniuses 2\n",
       "3746             Daniel the Wizard\n",
       "5158                  Ben & Arthur\n",
       "5993     Night Train to Mundo Fine\n",
       "6257               Monster a-Go Go\n",
       "6726                    Dream Well"
      ]
     },
     "execution_count": 70,
     "metadata": {},
     "output_type": "execute_result"
    }
   ],
   "source": [
    "data_dna[data_dna.Score == data_dna.Score.min()][['Title']]"
   ]
  },
  {
   "cell_type": "markdown",
   "metadata": {},
   "source": [
    "#Exercise:\n",
    "1. Get a list of the highest rated movies"
   ]
  },
  {
   "cell_type": "markdown",
   "metadata": {},
   "source": [
    "####The most frequent genres:"
   ]
  },
  {
   "cell_type": "code",
   "execution_count": 71,
   "metadata": {
    "collapsed": false
   },
   "outputs": [
    {
     "data": {
      "text/html": [
       "<div style=\"max-height:1000px;max-width:1500px;overflow:auto;\">\n",
       "<table border=\"1\" class=\"dataframe\">\n",
       "  <thead>\n",
       "    <tr style=\"text-align: right;\">\n",
       "      <th></th>\n",
       "      <th>Genre Count</th>\n",
       "    </tr>\n",
       "  </thead>\n",
       "  <tbody>\n",
       "    <tr>\n",
       "      <th>Action</th>\n",
       "      <td> 1891</td>\n",
       "    </tr>\n",
       "    <tr>\n",
       "      <th>Adult</th>\n",
       "      <td>    9</td>\n",
       "    </tr>\n",
       "    <tr>\n",
       "      <th>Adventure</th>\n",
       "      <td> 1313</td>\n",
       "    </tr>\n",
       "    <tr>\n",
       "      <th>Animation</th>\n",
       "      <td>  314</td>\n",
       "    </tr>\n",
       "    <tr>\n",
       "      <th>Biography</th>\n",
       "      <td>  394</td>\n",
       "    </tr>\n",
       "    <tr>\n",
       "      <th>Comedy</th>\n",
       "      <td> 3922</td>\n",
       "    </tr>\n",
       "    <tr>\n",
       "      <th>Crime</th>\n",
       "      <td> 1867</td>\n",
       "    </tr>\n",
       "    <tr>\n",
       "      <th>Drama</th>\n",
       "      <td> 5697</td>\n",
       "    </tr>\n",
       "    <tr>\n",
       "      <th>Family</th>\n",
       "      <td>  754</td>\n",
       "    </tr>\n",
       "    <tr>\n",
       "      <th>Fantasy</th>\n",
       "      <td>  916</td>\n",
       "    </tr>\n",
       "    <tr>\n",
       "      <th>Film-Noir</th>\n",
       "      <td>   40</td>\n",
       "    </tr>\n",
       "    <tr>\n",
       "      <th>History</th>\n",
       "      <td>  358</td>\n",
       "    </tr>\n",
       "    <tr>\n",
       "      <th>Horror</th>\n",
       "      <td> 1215</td>\n",
       "    </tr>\n",
       "    <tr>\n",
       "      <th>Music</th>\n",
       "      <td>  371</td>\n",
       "    </tr>\n",
       "    <tr>\n",
       "      <th>Musical</th>\n",
       "      <td>  260</td>\n",
       "    </tr>\n",
       "    <tr>\n",
       "      <th>Mystery</th>\n",
       "      <td> 1009</td>\n",
       "    </tr>\n",
       "    <tr>\n",
       "      <th>News</th>\n",
       "      <td>    1</td>\n",
       "    </tr>\n",
       "    <tr>\n",
       "      <th>Reality-TV</th>\n",
       "      <td>    1</td>\n",
       "    </tr>\n",
       "    <tr>\n",
       "      <th>Romance</th>\n",
       "      <td> 2441</td>\n",
       "    </tr>\n",
       "    <tr>\n",
       "      <th>Sci-Fi</th>\n",
       "      <td>  897</td>\n",
       "    </tr>\n",
       "    <tr>\n",
       "      <th>Sport</th>\n",
       "      <td>  288</td>\n",
       "    </tr>\n",
       "    <tr>\n",
       "      <th>Thriller</th>\n",
       "      <td> 2832</td>\n",
       "    </tr>\n",
       "    <tr>\n",
       "      <th>War</th>\n",
       "      <td>  512</td>\n",
       "    </tr>\n",
       "    <tr>\n",
       "      <th>Western</th>\n",
       "      <td>  235</td>\n",
       "    </tr>\n",
       "  </tbody>\n",
       "</table>\n",
       "</div>"
      ],
      "text/plain": [
       "           Genre Count\n",
       "Action            1891\n",
       "Adult                9\n",
       "Adventure         1313\n",
       "Animation          314\n",
       "Biography          394\n",
       "Comedy            3922\n",
       "Crime             1867\n",
       "Drama             5697\n",
       "Family             754\n",
       "Fantasy            916\n",
       "Film-Noir           40\n",
       "History            358\n",
       "Horror            1215\n",
       "Music              371\n",
       "Musical            260\n",
       "Mystery           1009\n",
       "News                 1\n",
       "Reality-TV           1\n",
       "Romance           2441\n",
       "Sci-Fi             897\n",
       "Sport              288\n",
       "Thriller          2832\n",
       "War                512\n",
       "Western            235"
      ]
     },
     "execution_count": 71,
     "metadata": {},
     "output_type": "execute_result"
    }
   ],
   "source": [
    "#sum, by default, sums across a row\n",
    "fg = pd.DataFrame(data_dna.sum()[7:], columns = [\"Genre Count\"])\n",
    "fg"
   ]
  },
  {
   "cell_type": "markdown",
   "metadata": {},
   "source": [
    "####and plot this"
   ]
  },
  {
   "cell_type": "code",
   "execution_count": 72,
   "metadata": {
    "collapsed": false
   },
   "outputs": [
    {
     "data": {
      "text/plain": [
       "<matplotlib.text.Text at 0x10dfe5250>"
      ]
     },
     "execution_count": 72,
     "metadata": {},
     "output_type": "execute_result"
    },
    {
     "data": {
      "image/png": "[encoded data removed]",
      "text/plain": [
       "<matplotlib.figure.Figure at 0x10df1e210>"
      ]
     },
     "metadata": {},
     "output_type": "display_data"
    }
   ],
   "source": [
    "fig = plt.figure(figsize=(15,5))\n",
    "ax = plt.subplot(111)\n",
    "ax.plot(fg.values, color='r', linestyle='--', marker='o', drawstyle='steps-post')\n",
    "ax.set_xticks(np.arange(0,25))\n",
    "ax.set_xticklabels(fg.index, rotation=-90, fontsize='large')\n",
    "ax.set_title(\"Genre Popularity\")\n",
    "ax.set_xlabel(\"Genre\")\n",
    "ax.set_ylabel(\"Popularity\")"
   ]
  },
  {
   "cell_type": "markdown",
   "metadata": {},
   "source": [
    "####Finally let's look at grouping\n",
    "####Group the movies by decade"
   ]
  },
  {
   "cell_type": "code",
   "execution_count": 73,
   "metadata": {
    "collapsed": false
   },
   "outputs": [
    {
     "name": "stdout",
     "output_type": "stream",
     "text": [
      "0     1990\n",
      "1     1990\n",
      "2     1990\n",
      "3     1990\n",
      "4     2010\n",
      "5     1990\n",
      "6     1990\n",
      "7     2000\n",
      "8     1990\n",
      "9     1980\n",
      "10    2000\n",
      "11    1990\n",
      "12    1990\n",
      "13    1990\n",
      "14    1990\n",
      "...\n",
      "9985    1970\n",
      "9986    1950\n",
      "9987    1990\n",
      "9988    1990\n",
      "9989    1990\n",
      "9990    2000\n",
      "9991    1970\n",
      "9992    2000\n",
      "9993    2000\n",
      "9994    1990\n",
      "9995    2000\n",
      "9996    2000\n",
      "9997    1960\n",
      "9998    1990\n",
      "9999    2000\n",
      "Name: Year, Length: 9999, dtype: int64\n"
     ]
    }
   ],
   "source": [
    "decade = (data['Year']//10) * 10\n",
    "print decade"
   ]
  },
  {
   "cell_type": "markdown",
   "metadata": {},
   "source": [
    "#Question:\n",
    "1. What is the python operator //"
   ]
  },
  {
   "cell_type": "code",
   "execution_count": 74,
   "metadata": {
    "collapsed": false
   },
   "outputs": [
    {
     "name": "stderr",
     "output_type": "stream",
     "text": [
      "/Users/mrgholt/anaconda/lib/python2.7/site-packages/IPython/kernel/__main__.py:2: SettingWithCopyWarning: \n",
      "A value is trying to be set on a copy of a slice from a DataFrame.\n",
      "Try using .loc[row_indexer,col_indexer] = value instead\n",
      "\n",
      "See the the caveats in the documentation: http://pandas.pydata.org/pandas-docs/stable/indexing.html#indexing-view-versus-copy\n",
      "  from IPython.kernel.zmq import kernelapp as app\n"
     ]
    }
   ],
   "source": [
    "gdf = data[['Title', 'Year']]\n",
    "gdf['decade']=decade"
   ]
  },
  {
   "cell_type": "code",
   "execution_count": 75,
   "metadata": {
    "collapsed": true
   },
   "outputs": [],
   "source": [
    "####Group by the year and find the highest scoring m"
   ]
  },
  {
   "cell_type": "code",
   "execution_count": 76,
   "metadata": {
    "collapsed": false
   },
   "outputs": [
    {
     "name": "stdout",
     "output_type": "stream",
     "text": [
      "1950 ['Sunset Blvd.']\n",
      "1951 ['Strangers on a Train']\n",
      "1952 [\"Singin' in the Rain\"]\n",
      "1953 ['The Wages of Fear' 'Tokyo Story']\n",
      "1954 ['Seven Samurai']\n",
      "1955 ['Diabolique']\n",
      "1956 ['The Killing']\n",
      "1957 ['12 Angry Men']\n",
      "1958 ['Vertigo']\n",
      "1959 ['North by Northwest']\n",
      "1960 ['Psycho']\n",
      "1961 ['Yojimbo']\n",
      "1962 ['To Kill a Mockingbird' 'Lawrence of Arabia']\n",
      "1963 ['The Great Escape' 'High and Low']\n",
      "1964 ['Dr. Strangelove or: How I Learned to Stop Worrying and Love the Bomb']\n",
      "1965 ['For a Few Dollars More']\n",
      "1966 ['The Good, the Bad and the Ugly']\n",
      "1967 ['Cool Hand Luke']\n",
      "1968 ['Once Upon a Time in the West']\n",
      "1969 ['Butch Cassidy and the Sundance Kid' 'Army of Shadows']\n",
      "1970 ['Patton' 'The Conformist' 'Le Cercle Rouge']\n",
      "1971 ['A Clockwork Orange']\n",
      "1972 ['The Godfather']\n",
      "1973 ['The Sting' 'Scenes from a Marriage']\n",
      "1974 ['The Godfather: Part II']\n",
      "1975 ['Outrageous Class']\n",
      "1976 ['Tosun Pasa']\n",
      "1977 ['Star Wars: Episode IV - A New Hope']\n",
      "1978 ['The Girl with the Red Scarf']\n",
      "1979 ['Apocalypse Now']\n",
      "1980 ['Star Wars: Episode V - The Empire Strikes Back']\n",
      "1981 ['Raiders of the Lost Ark']\n",
      "1982 ['The Marathon Family']\n",
      "1983 ['Star Wars: Episode VI - Return of the Jedi']\n",
      "1984 ['Balkan Spy']\n",
      "1985 ['The Broken Landlord']\n",
      "1986 ['Aliens']\n",
      "1987 ['Mr. Muhsin']\n",
      "1988 ['Cinema Paradiso']\n",
      "1989 ['Indiana Jones and the Last Crusade' \"Don't Let Them Shoot the Kite\"]\n",
      "1990 ['Goodfellas']\n",
      "1991 ['The Silence of the Lambs']\n",
      "1992 ['Reservoir Dogs']\n",
      "1993 [\"Schindler's List\"]\n",
      "1994 ['The Shawshank Redemption']\n",
      "1995 ['The Usual Suspects' 'Se7en']\n",
      "1996 ['Fargo' 'The Bandit']\n",
      "1997 ['Life Is Beautiful']\n",
      "1998 ['American History X']\n",
      "1999 ['Fight Club']\n",
      "2000 ['Memento']\n",
      "2001 ['The Lord of the Rings: The Fellowship of the Ring']\n",
      "2002 ['City of God']\n",
      "2003 ['The Lord of the Rings: The Return of the King']\n",
      "2004 ['Eternal Sunshine of the Spotless Mind']\n",
      "2005 ['My Father and My Son']\n",
      "2006 ['The Departed' 'The Lives of Others']\n",
      "2007 ['Like Stars on Earth']\n",
      "2008 ['The Dark Knight']\n",
      "2009 ['Inglourious Basterds']\n",
      "2010 ['Inception']\n",
      "2011 ['A Separation']\n"
     ]
    }
   ],
   "source": [
    "for year, subset in  data_dna.groupby('Year'):\n",
    "    print year, subset[subset.Score == subset.Score.max()].Title.values"
   ]
  },
  {
   "cell_type": "code",
   "execution_count": 166,
   "metadata": {
    "collapsed": false
   },
   "outputs": [
    {
     "name": "stdout",
     "output_type": "stream",
     "text": [
      "count     27423\n",
      "unique     8830\n",
      "top         The\n",
      "freq       2139\n",
      "dtype: object\n"
     ]
    },
    {
     "data": {
      "text/html": [
       "<div style=\"max-height:1000px;max-width:1500px;overflow:auto;\">\n",
       "<table border=\"1\" class=\"dataframe\">\n",
       "  <thead>\n",
       "    <tr style=\"text-align: right;\">\n",
       "      <th></th>\n",
       "      <th>Word</th>\n",
       "      <th>Count</th>\n",
       "    </tr>\n",
       "  </thead>\n",
       "  <tbody>\n",
       "    <tr>\n",
       "      <th>0   </th>\n",
       "      <td>       The</td>\n",
       "      <td> 2139</td>\n",
       "    </tr>\n",
       "    <tr>\n",
       "      <th>1   </th>\n",
       "      <td>        of</td>\n",
       "      <td>  944</td>\n",
       "    </tr>\n",
       "    <tr>\n",
       "      <th>2   </th>\n",
       "      <td>       the</td>\n",
       "      <td>  928</td>\n",
       "    </tr>\n",
       "    <tr>\n",
       "      <th>3   </th>\n",
       "      <td>       and</td>\n",
       "      <td>  309</td>\n",
       "    </tr>\n",
       "    <tr>\n",
       "      <th>4   </th>\n",
       "      <td>        in</td>\n",
       "      <td>  257</td>\n",
       "    </tr>\n",
       "    <tr>\n",
       "      <th>5   </th>\n",
       "      <td>         A</td>\n",
       "      <td>  191</td>\n",
       "    </tr>\n",
       "    <tr>\n",
       "      <th>6   </th>\n",
       "      <td>        to</td>\n",
       "      <td>  181</td>\n",
       "    </tr>\n",
       "    <tr>\n",
       "      <th>7   </th>\n",
       "      <td>         a</td>\n",
       "      <td>  164</td>\n",
       "    </tr>\n",
       "    <tr>\n",
       "      <th>8   </th>\n",
       "      <td>       Man</td>\n",
       "      <td>  147</td>\n",
       "    </tr>\n",
       "    <tr>\n",
       "      <th>9   </th>\n",
       "      <td>      Love</td>\n",
       "      <td>  116</td>\n",
       "    </tr>\n",
       "    <tr>\n",
       "      <th>10  </th>\n",
       "      <td>         &amp;</td>\n",
       "      <td>  112</td>\n",
       "    </tr>\n",
       "    <tr>\n",
       "      <th>11  </th>\n",
       "      <td>        My</td>\n",
       "      <td>  101</td>\n",
       "    </tr>\n",
       "    <tr>\n",
       "      <th>12  </th>\n",
       "      <td>        on</td>\n",
       "      <td>   99</td>\n",
       "    </tr>\n",
       "    <tr>\n",
       "      <th>13  </th>\n",
       "      <td>         2</td>\n",
       "      <td>   94</td>\n",
       "    </tr>\n",
       "    <tr>\n",
       "      <th>14  </th>\n",
       "      <td>         I</td>\n",
       "      <td>   91</td>\n",
       "    </tr>\n",
       "    <tr>\n",
       "      <th>15  </th>\n",
       "      <td>      Dead</td>\n",
       "      <td>   83</td>\n",
       "    </tr>\n",
       "    <tr>\n",
       "      <th>16  </th>\n",
       "      <td>     Night</td>\n",
       "      <td>   80</td>\n",
       "    </tr>\n",
       "    <tr>\n",
       "      <th>17  </th>\n",
       "      <td>      Last</td>\n",
       "      <td>   77</td>\n",
       "    </tr>\n",
       "    <tr>\n",
       "      <th>18  </th>\n",
       "      <td>       for</td>\n",
       "      <td>   76</td>\n",
       "    </tr>\n",
       "    <tr>\n",
       "      <th>19  </th>\n",
       "      <td>        Me</td>\n",
       "      <td>   70</td>\n",
       "    </tr>\n",
       "    <tr>\n",
       "      <th>20  </th>\n",
       "      <td>      with</td>\n",
       "      <td>   67</td>\n",
       "    </tr>\n",
       "    <tr>\n",
       "      <th>21  </th>\n",
       "      <td>     Movie</td>\n",
       "      <td>   66</td>\n",
       "    </tr>\n",
       "    <tr>\n",
       "      <th>22  </th>\n",
       "      <td>        II</td>\n",
       "      <td>   66</td>\n",
       "    </tr>\n",
       "    <tr>\n",
       "      <th>23  </th>\n",
       "      <td>      Life</td>\n",
       "      <td>   62</td>\n",
       "    </tr>\n",
       "    <tr>\n",
       "      <th>24  </th>\n",
       "      <td>    Little</td>\n",
       "      <td>   61</td>\n",
       "    </tr>\n",
       "    <tr>\n",
       "      <th>25  </th>\n",
       "      <td>      from</td>\n",
       "      <td>   60</td>\n",
       "    </tr>\n",
       "    <tr>\n",
       "      <th>26  </th>\n",
       "      <td>       You</td>\n",
       "      <td>   58</td>\n",
       "    </tr>\n",
       "    <tr>\n",
       "      <th>27  </th>\n",
       "      <td>       Big</td>\n",
       "      <td>   57</td>\n",
       "    </tr>\n",
       "    <tr>\n",
       "      <th>28  </th>\n",
       "      <td>       Day</td>\n",
       "      <td>   57</td>\n",
       "    </tr>\n",
       "    <tr>\n",
       "      <th>29  </th>\n",
       "      <td>     House</td>\n",
       "      <td>   55</td>\n",
       "    </tr>\n",
       "    <tr>\n",
       "      <th>...</th>\n",
       "      <td>...</td>\n",
       "      <td>...</td>\n",
       "    </tr>\n",
       "    <tr>\n",
       "      <th>8800</th>\n",
       "      <td>   Plumage</td>\n",
       "      <td>    1</td>\n",
       "    </tr>\n",
       "    <tr>\n",
       "      <th>8801</th>\n",
       "      <td>  Wackness</td>\n",
       "      <td>    1</td>\n",
       "    </tr>\n",
       "    <tr>\n",
       "      <th>8802</th>\n",
       "      <td>  Avenging</td>\n",
       "      <td>    1</td>\n",
       "    </tr>\n",
       "    <tr>\n",
       "      <th>8803</th>\n",
       "      <td>      Otar</td>\n",
       "      <td>    1</td>\n",
       "    </tr>\n",
       "    <tr>\n",
       "      <th>8804</th>\n",
       "      <td>      Cria</td>\n",
       "      <td>    1</td>\n",
       "    </tr>\n",
       "    <tr>\n",
       "      <th>8805</th>\n",
       "      <td>    Writer</td>\n",
       "      <td>    1</td>\n",
       "    </tr>\n",
       "    <tr>\n",
       "      <th>8806</th>\n",
       "      <td>    Shiver</td>\n",
       "      <td>    1</td>\n",
       "    </tr>\n",
       "    <tr>\n",
       "      <th>8807</th>\n",
       "      <td>       Oye</td>\n",
       "      <td>    1</td>\n",
       "    </tr>\n",
       "    <tr>\n",
       "      <th>8808</th>\n",
       "      <td>    Bovary</td>\n",
       "      <td>    1</td>\n",
       "    </tr>\n",
       "    <tr>\n",
       "      <th>8809</th>\n",
       "      <td>    Rififi</td>\n",
       "      <td>    1</td>\n",
       "    </tr>\n",
       "    <tr>\n",
       "      <th>8810</th>\n",
       "      <td>   Quentin</td>\n",
       "      <td>    1</td>\n",
       "    </tr>\n",
       "    <tr>\n",
       "      <th>8811</th>\n",
       "      <td>     Mario</td>\n",
       "      <td>    1</td>\n",
       "    </tr>\n",
       "    <tr>\n",
       "      <th>8812</th>\n",
       "      <td>    Landed</td>\n",
       "      <td>    1</td>\n",
       "    </tr>\n",
       "    <tr>\n",
       "      <th>8813</th>\n",
       "      <td>      boon</td>\n",
       "      <td>    1</td>\n",
       "    </tr>\n",
       "    <tr>\n",
       "      <th>8814</th>\n",
       "      <td>      Desk</td>\n",
       "      <td>    1</td>\n",
       "    </tr>\n",
       "    <tr>\n",
       "      <th>8815</th>\n",
       "      <td>    Fatale</td>\n",
       "      <td>    1</td>\n",
       "    </tr>\n",
       "    <tr>\n",
       "      <th>8816</th>\n",
       "      <td>     Marie</td>\n",
       "      <td>    1</td>\n",
       "    </tr>\n",
       "    <tr>\n",
       "      <th>8817</th>\n",
       "      <td>  Woodsman</td>\n",
       "      <td>    1</td>\n",
       "    </tr>\n",
       "    <tr>\n",
       "      <th>8818</th>\n",
       "      <td>    Boss's</td>\n",
       "      <td>    1</td>\n",
       "    </tr>\n",
       "    <tr>\n",
       "      <th>8819</th>\n",
       "      <td>     Route</td>\n",
       "      <td>    1</td>\n",
       "    </tr>\n",
       "    <tr>\n",
       "      <th>8820</th>\n",
       "      <td> Mal\\xe8na</td>\n",
       "      <td>    1</td>\n",
       "    </tr>\n",
       "    <tr>\n",
       "      <th>8821</th>\n",
       "      <td> Warhammer</td>\n",
       "      <td>    1</td>\n",
       "    </tr>\n",
       "    <tr>\n",
       "      <th>8822</th>\n",
       "      <td>  Scanners</td>\n",
       "      <td>    1</td>\n",
       "    </tr>\n",
       "    <tr>\n",
       "      <th>8823</th>\n",
       "      <td>  Romulus,</td>\n",
       "      <td>    1</td>\n",
       "    </tr>\n",
       "    <tr>\n",
       "      <th>8824</th>\n",
       "      <td>      Sith</td>\n",
       "      <td>    1</td>\n",
       "    </tr>\n",
       "    <tr>\n",
       "      <th>8825</th>\n",
       "      <td>      Sita</td>\n",
       "      <td>    1</td>\n",
       "    </tr>\n",
       "    <tr>\n",
       "      <th>8826</th>\n",
       "      <td> Hemingway</td>\n",
       "      <td>    1</td>\n",
       "    </tr>\n",
       "    <tr>\n",
       "      <th>8827</th>\n",
       "      <td>      Lust</td>\n",
       "      <td>    1</td>\n",
       "    </tr>\n",
       "    <tr>\n",
       "      <th>8828</th>\n",
       "      <td>   Gaulois</td>\n",
       "      <td>    1</td>\n",
       "    </tr>\n",
       "    <tr>\n",
       "      <th>8829</th>\n",
       "      <td>  Morgans?</td>\n",
       "      <td>    1</td>\n",
       "    </tr>\n",
       "  </tbody>\n",
       "</table>\n",
       "<p>8830 rows × 2 columns</p>\n",
       "</div>"
      ],
      "text/plain": [
       "           Word  Count\n",
       "0           The   2139\n",
       "1            of    944\n",
       "2           the    928\n",
       "3           and    309\n",
       "4            in    257\n",
       "5             A    191\n",
       "6            to    181\n",
       "7             a    164\n",
       "8           Man    147\n",
       "9          Love    116\n",
       "10            &    112\n",
       "11           My    101\n",
       "12           on     99\n",
       "13            2     94\n",
       "14            I     91\n",
       "15         Dead     83\n",
       "16        Night     80\n",
       "17         Last     77\n",
       "18          for     76\n",
       "19           Me     70\n",
       "20         with     67\n",
       "21        Movie     66\n",
       "22           II     66\n",
       "23         Life     62\n",
       "24       Little     61\n",
       "25         from     60\n",
       "26          You     58\n",
       "27          Big     57\n",
       "28          Day     57\n",
       "29        House     55\n",
       "...         ...    ...\n",
       "8800    Plumage      1\n",
       "8801   Wackness      1\n",
       "8802   Avenging      1\n",
       "8803       Otar      1\n",
       "8804       Cria      1\n",
       "8805     Writer      1\n",
       "8806     Shiver      1\n",
       "8807        Oye      1\n",
       "8808     Bovary      1\n",
       "8809     Rififi      1\n",
       "8810    Quentin      1\n",
       "8811      Mario      1\n",
       "8812     Landed      1\n",
       "8813       boon      1\n",
       "8814       Desk      1\n",
       "8815     Fatale      1\n",
       "8816      Marie      1\n",
       "8817   Woodsman      1\n",
       "8818     Boss's      1\n",
       "8819      Route      1\n",
       "8820  Mal\\xe8na      1\n",
       "8821  Warhammer      1\n",
       "8822   Scanners      1\n",
       "8823   Romulus,      1\n",
       "8824       Sith      1\n",
       "8825       Sita      1\n",
       "8826  Hemingway      1\n",
       "8827       Lust      1\n",
       "8828    Gaulois      1\n",
       "8829   Morgans?      1\n",
       "\n",
       "[8830 rows x 2 columns]"
      ]
     },
     "execution_count": 166,
     "metadata": {},
     "output_type": "execute_result"
    }
   ],
   "source": [
    "import operator\n",
    "title_list = [title.split(' ') for title in data_dna.Title]\n",
    "#print title_list\n",
    "#[word_list for word_list in title_list]\n",
    "word_dict = {}\n",
    "final_word_list = []\n",
    "for word_list in title_list:\n",
    "    #print word_list\n",
    "    for word in word_list:\n",
    "        word_dict.setdefault(word, 0)\n",
    "        word_dict[word] += 1\n",
    "        final_word_list.append(word)\n",
    "        \n",
    "sorted_words = sorted(word_dict.items(), key=operator.itemgetter(1), reverse=True)\n",
    "sdf = pd.DataFrame(sorted_words, columns=['Word', 'Count'])\n",
    "\n",
    "s = pd.Series(final_word_list)\n",
    "print s.describe()\n",
    "sdf"
   ]
  },
  {
   "cell_type": "code",
   "execution_count": 90,
   "metadata": {
    "collapsed": false
   },
   "outputs": [
    {
     "name": "stdout",
     "output_type": "stream",
     "text": [
      "         Score    Votes\n",
      "Score  1.00000  0.26599\n",
      "Votes  0.26599  1.00000\n"
     ]
    }
   ],
   "source": [
    "new_df = data_dna[['Score', 'Votes']]\n",
    "print new_df.corr()"
   ]
  }
 ],
 "metadata": {
  "kernelspec": {
   "display_name": "Python 2",
   "language": "python",
   "name": "python2"
  },
  "language_info": {
   "codemirror_mode": {
    "name": "ipython",
    "version": 2
   },
   "file_extension": ".py",
   "mimetype": "text/x-python",
   "name": "python",
   "nbconvert_exporter": "python",
   "pygments_lexer": "ipython2",
   "version": "2.7.10"
  }
 },
 "nbformat": 4,
 "nbformat_minor": 0
}
