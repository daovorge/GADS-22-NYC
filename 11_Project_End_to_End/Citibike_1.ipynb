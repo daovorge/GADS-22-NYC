{
 "cells": [
  {
   "cell_type": "code",
   "execution_count": 1,
   "metadata": {
    "collapsed": true
   },
   "outputs": [],
   "source": [
    "import numpy as np\n",
    "import pandas as pd\n",
    "from datetime import datetime\n",
    "import matplotlib.pyplot as plt\n",
    "import matplotlib as mpl\n",
    "%matplotlib inline"
   ]
  },
  {
   "cell_type": "markdown",
   "metadata": {},
   "source": [
    "---\n",
    "#New York CitiBikes \n",
    "#The Prediction of Speed and the Influence of Terrain and Weather\n",
    "##Acknowledgements\n",
    "##  1 Citibike operated by NYC Bike Share\n",
    "##  2 MapQuest Open Platform Web Services\n",
    "##  3 Weather Underground\n",
    "---"
   ]
  },
  {
   "cell_type": "markdown",
   "metadata": {},
   "source": [
    "---\n",
    "##Why did I choose to do a project on CitiBikes?\n",
    "### * Freely available dataset\n",
    "### * Large, relatively complete dataset\n",
    "### * High quality dataset\n",
    "### * Has many variables\n",
    "### * Timeseries data, so that expands the possibilities\n",
    "### * Lots of projects have used this data, so lots of idea around\n",
    "---\n",
    "##The dataset drove my choice of project. \n",
    "##In short I chose this dataset because of its qualities\n",
    "##Then I figured out some kind of slightly unique way of analyzing it"
   ]
  },
  {
   "cell_type": "markdown",
   "metadata": {},
   "source": [
    "---\n",
    "##Here is just one months data\n",
    "---"
   ]
  },
  {
   "cell_type": "code",
   "execution_count": 2,
   "metadata": {
    "collapsed": false
   },
   "outputs": [],
   "source": [
    "data = pd.read_csv(\"/Users/mrgholt/GADS-22-NYC/Citibike_Data/raw/2014-01 - Citi Bike trip data.csv\")"
   ]
  },
  {
   "cell_type": "code",
   "execution_count": 3,
   "metadata": {
    "collapsed": false
   },
   "outputs": [
    {
     "name": "stdout",
     "output_type": "stream",
     "text": [
      "<class 'pandas.core.frame.DataFrame'>\n",
      "Int64Index: 300400 entries, 0 to 300399\n",
      "Data columns (total 15 columns):\n",
      "tripduration               300400 non-null int64\n",
      "starttime                  300400 non-null object\n",
      "stoptime                   300400 non-null object\n",
      "start station id           300400 non-null int64\n",
      "start station name         300400 non-null object\n",
      "start station latitude     300400 non-null float64\n",
      "start station longitude    300400 non-null float64\n",
      "end station id             300400 non-null int64\n",
      "end station name           300400 non-null object\n",
      "end station latitude       300400 non-null float64\n",
      "end station longitude      300400 non-null float64\n",
      "bikeid                     300400 non-null int64\n",
      "usertype                   300400 non-null object\n",
      "birth year                 300400 non-null object\n",
      "gender                     300400 non-null int64\n",
      "dtypes: float64(4), int64(5), object(6)\n",
      "memory usage: 36.7+ MB\n"
     ]
    }
   ],
   "source": [
    "data.info()"
   ]
  },
  {
   "cell_type": "code",
   "execution_count": 4,
   "metadata": {
    "collapsed": false
   },
   "outputs": [
    {
     "name": "stdout",
     "output_type": "stream",
     "text": [
      "<class 'pandas.core.frame.DataFrame'>\n",
      "Int64Index: 300400 entries, 0 to 300399\n",
      "Data columns (total 15 columns):\n",
      "tripduration               300400 non-null int64\n",
      "starttime                  300400 non-null object\n",
      "stoptime                   300400 non-null object\n",
      "start station id           300400 non-null int64\n",
      "start station name         300400 non-null object\n",
      "start station latitude     300400 non-null float64\n",
      "start station longitude    300400 non-null float64\n",
      "end station id             300400 non-null int64\n",
      "end station name           300400 non-null object\n",
      "end station latitude       300400 non-null float64\n",
      "end station longitude      300400 non-null float64\n",
      "bikeid                     300400 non-null int64\n",
      "usertype                   300400 non-null object\n",
      "birth year                 300400 non-null object\n",
      "gender                     300400 non-null int64\n",
      "dtypes: float64(4), int64(5), object(6)\n",
      "memory usage: 36.7+ MB\n"
     ]
    }
   ],
   "source": [
    "data = data.dropna()\n",
    "data.info()"
   ]
  },
  {
   "cell_type": "markdown",
   "metadata": {},
   "source": [
    "---\n",
    "##A big clean dataset\n",
    "---"
   ]
  },
  {
   "cell_type": "code",
   "execution_count": 5,
   "metadata": {
    "collapsed": false
   },
   "outputs": [
    {
     "name": "stdout",
     "output_type": "stream",
     "text": [
      "   tripduration            starttime             stoptime  start station id  \\\n",
      "0           471  2014-01-01 00:00:06  2014-01-01 00:07:57              2009   \n",
      "1          1494  2014-01-01 00:00:38  2014-01-01 00:25:32               536   \n",
      "2           464  2014-01-01 00:03:59  2014-01-01 00:11:43               228   \n",
      "3           373  2014-01-01 00:05:15  2014-01-01 00:11:28               519   \n",
      "\n",
      "         start station name  start station latitude  start station longitude  \\\n",
      "0  Catherine St & Monroe St               40.711174               -73.996826   \n",
      "1           1 Ave & E 30 St               40.741444               -73.975361   \n",
      "2           E 48 St & 3 Ave               40.754601               -73.971879   \n",
      "3         Pershing Square N               40.751884               -73.977702   \n",
      "\n",
      "   end station id          end station name  end station latitude  \\\n",
      "0             263  Elizabeth St & Hester St             40.717290   \n",
      "1             259   South St & Whitehall St             40.701221   \n",
      "2            2022       E 59 St & Sutton Pl             40.758491   \n",
      "3             526           E 33 St & 5 Ave             40.747659   \n",
      "\n",
      "   end station longitude  bikeid    usertype birth year  gender  \n",
      "0             -73.996375   16379  Subscriber       1986       1  \n",
      "1             -74.012342   15611  Subscriber       1963       1  \n",
      "2             -73.959206   16613  Subscriber       1991       1  \n",
      "3             -73.984907   15938  Subscriber       1989       1  \n"
     ]
    }
   ],
   "source": [
    "print data.head(4)"
   ]
  },
  {
   "cell_type": "code",
   "execution_count": 6,
   "metadata": {
    "collapsed": false
   },
   "outputs": [
    {
     "name": "stdout",
     "output_type": "stream",
     "text": [
      "tripduration <type 'str'>\n",
      "starttime <type 'str'>\n",
      "stoptime <type 'str'>\n",
      "start station id <type 'str'>\n",
      "start station name <type 'str'>\n",
      "start station latitude <type 'str'>\n",
      "start station longitude <type 'str'>\n",
      "end station id <type 'str'>\n",
      "end station name <type 'str'>\n",
      "end station latitude <type 'str'>\n",
      "end station longitude <type 'str'>\n",
      "bikeid <type 'str'>\n",
      "usertype <type 'str'>\n",
      "birth year <type 'str'>\n",
      "gender <type 'str'>\n"
     ]
    }
   ],
   "source": [
    "for i in xrange(len(data.columns)):\n",
    "    print data.columns[i], type(data.columns[i])"
   ]
  },
  {
   "cell_type": "markdown",
   "metadata": {
    "collapsed": false
   },
   "source": [
    "---\n",
    "#Initial Ideas\n",
    "---\n",
    "## * Initially wanted to try and deduce a map from the trips\n",
    "## * I was drawn to the idea of producing 'fancy' graphics\n",
    "## * Somehow use the latitude and longitude information and draw some kind of map and hoped it looked like NYC\n",
    "## * While the idea of producing cool, fancy maps is very appealing, I dismissed this as too difficult given the time constraints to finish the project\n",
    "---"
   ]
  },
  {
   "cell_type": "markdown",
   "metadata": {},
   "source": [
    "---\n",
    "#The Big Idea!!!\n",
    "---\n",
    "##Looking at the data I noticed there was no information concerning speed\n",
    "##How fast do these bikes go, especially round NYC??\n",
    "##There was no specific route information, so how could I estimate speed???\n",
    "---\n",
    "#Consider...\n",
    "##To get some estimate of speed we would need to have some idea of the route and therefore the distance\n",
    "##Hmmmm...\n",
    "##On investigation it turns out the MapQuest have a public api available that will return a 'bike route' between and given pair of longitude/latitude coordinates!\n",
    "##http://www.mapquestapi.com/"
   ]
  },
  {
   "cell_type": "markdown",
   "metadata": {},
   "source": [
    "---\n",
    "#Further thoughts\n",
    "##It doesn't matter that this isn't the exact route, as we are just trying to estimate some kind of speed\n",
    "##MapQuest will return a consistent route between any 2 give CitiBike stations, given their respective longitudes and latitudes\n",
    "##So the trick will be find a subset of riders who have the following characteristics:\n",
    "## * All of the same gender - to eliminate speed variances due to gender\n",
    "## * Are Citibike subscribers, and not 'guests' - to eliminate the casual rider\n",
    "## * Are business hours riders only - to try and get the regular, daily rider, who might ride hard, and fast and use a consistent route\n",
    "## * Ride fast between any two given stations. Such riders might go for speed and therefore may never change their route, once they have found a good one.\n",
    "## * Ride well used routes between stations - meaning there are a lot of trips taken between the pair of stations\n",
    "---\n",
    "##So I wanted the subset of Citibike riders that were daily or regular users, who got on and cycled with a purpose between 2 stations\n",
    "##If I could get such a subset of riders and then assume a constant route maybe then I could estimate their speed\n",
    "---"
   ]
  },
  {
   "cell_type": "markdown",
   "metadata": {},
   "source": [
    "---\n",
    "#1. Exploratory Data Analysis and Munging\n",
    "---"
   ]
  },
  {
   "cell_type": "markdown",
   "metadata": {},
   "source": [
    "---\n",
    "##Get proper dates and times into the starttime and stoptime columns\n",
    "---"
   ]
  },
  {
   "cell_type": "code",
   "execution_count": 7,
   "metadata": {
    "collapsed": false
   },
   "outputs": [
    {
     "name": "stdout",
     "output_type": "stream",
     "text": [
      "2014-01-01 00:00:06\n"
     ]
    },
    {
     "data": {
      "text/plain": [
       "str"
      ]
     },
     "execution_count": 7,
     "metadata": {},
     "output_type": "execute_result"
    }
   ],
   "source": [
    "print data.starttime[0]\n",
    "type(data.starttime[0])"
   ]
  },
  {
   "cell_type": "markdown",
   "metadata": {},
   "source": [
    "---\n",
    "##These columns were coverted using the pandas built in to_datetime function\n",
    "---"
   ]
  },
  {
   "cell_type": "code",
   "execution_count": 8,
   "metadata": {
    "collapsed": false
   },
   "outputs": [],
   "source": [
    "data.starttime = pd.to_datetime(data.starttime)\n",
    "data.stoptime = pd.to_datetime(data.stoptime)"
   ]
  },
  {
   "cell_type": "code",
   "execution_count": 9,
   "metadata": {
    "collapsed": false
   },
   "outputs": [
    {
     "data": {
      "text/plain": [
       "pandas.tslib.Timestamp"
      ]
     },
     "execution_count": 9,
     "metadata": {},
     "output_type": "execute_result"
    }
   ],
   "source": [
    "data.starttime[0]\n",
    "type(data.starttime[0])"
   ]
  },
  {
   "cell_type": "markdown",
   "metadata": {},
   "source": [
    "---\n",
    "##Next subset the data based on gender\n",
    "---"
   ]
  },
  {
   "cell_type": "code",
   "execution_count": 10,
   "metadata": {
    "collapsed": false
   },
   "outputs": [
    {
     "data": {
      "text/plain": [
       "0    1\n",
       "1    1\n",
       "2    1\n",
       "3    1\n",
       "4    1\n",
       "Name: gender, dtype: int64"
      ]
     },
     "execution_count": 10,
     "metadata": {},
     "output_type": "execute_result"
    }
   ],
   "source": [
    "data.gender.head()"
   ]
  },
  {
   "cell_type": "markdown",
   "metadata": {},
   "source": [
    "---\n",
    "##Filter to use only the data for men\n",
    "##Men took the bulk of all the trips taken\n",
    "---"
   ]
  },
  {
   "cell_type": "code",
   "execution_count": 11,
   "metadata": {
    "collapsed": true
   },
   "outputs": [],
   "source": [
    "dfMale = data[data.gender==1].copy()"
   ]
  },
  {
   "cell_type": "code",
   "execution_count": 12,
   "metadata": {
    "collapsed": false
   },
   "outputs": [
    {
     "name": "stdout",
     "output_type": "stream",
     "text": [
      "<class 'pandas.core.frame.DataFrame'>\n",
      "Int64Index: 236106 entries, 0 to 300399\n",
      "Data columns (total 15 columns):\n",
      "tripduration               236106 non-null int64\n",
      "starttime                  236106 non-null datetime64[ns]\n",
      "stoptime                   236106 non-null datetime64[ns]\n",
      "start station id           236106 non-null int64\n",
      "start station name         236106 non-null object\n",
      "start station latitude     236106 non-null float64\n",
      "start station longitude    236106 non-null float64\n",
      "end station id             236106 non-null int64\n",
      "end station name           236106 non-null object\n",
      "end station latitude       236106 non-null float64\n",
      "end station longitude      236106 non-null float64\n",
      "bikeid                     236106 non-null int64\n",
      "usertype                   236106 non-null object\n",
      "birth year                 236106 non-null object\n",
      "gender                     236106 non-null int64\n",
      "dtypes: datetime64[ns](2), float64(4), int64(5), object(4)\n",
      "memory usage: 28.8+ MB\n"
     ]
    }
   ],
   "source": [
    "dfMale.info()"
   ]
  },
  {
   "cell_type": "markdown",
   "metadata": {},
   "source": [
    "---\n",
    "##Filter to use only Citibike subscribers\n",
    "---"
   ]
  },
  {
   "cell_type": "code",
   "execution_count": 13,
   "metadata": {
    "collapsed": false
   },
   "outputs": [
    {
     "data": {
      "text/plain": [
       "0    Subscriber\n",
       "1    Subscriber\n",
       "2    Subscriber\n",
       "3    Subscriber\n",
       "4    Subscriber\n",
       "Name: usertype, dtype: object"
      ]
     },
     "execution_count": 13,
     "metadata": {},
     "output_type": "execute_result"
    }
   ],
   "source": [
    "data.usertype.head()"
   ]
  },
  {
   "cell_type": "code",
   "execution_count": 14,
   "metadata": {
    "collapsed": false
   },
   "outputs": [],
   "source": [
    "dfMaleSubscriber = dfMale[dfMale.usertype=='Subscriber'].copy()"
   ]
  },
  {
   "cell_type": "markdown",
   "metadata": {},
   "source": [
    "---\n",
    "##Just check that 'Subscriber' is consistently used (and not 'subscriber', or 'subscription', etc)\n",
    "---"
   ]
  },
  {
   "cell_type": "code",
   "execution_count": 15,
   "metadata": {
    "collapsed": false
   },
   "outputs": [
    {
     "data": {
      "text/plain": [
       "236106"
      ]
     },
     "execution_count": 15,
     "metadata": {},
     "output_type": "execute_result"
    }
   ],
   "source": [
    "len(['subscriber' in s.lower() for s in dfMaleSubscriber.usertype])"
   ]
  },
  {
   "cell_type": "markdown",
   "metadata": {},
   "source": [
    "---\n",
    "##Now that I have legitimate date and times in the starttime and endtime columns I can think about subsetting the data even more\n",
    "##Only use data from Mon to Fri\n",
    "##Confirmed that 1 Jan 2014 was a wed, and 3rd was a Fri\n",
    "---"
   ]
  },
  {
   "cell_type": "code",
   "execution_count": 16,
   "metadata": {
    "collapsed": false
   },
   "outputs": [
    {
     "name": "stdout",
     "output_type": "stream",
     "text": [
      "2014-01-01 00:00:06\n",
      "2\n",
      "2014-01-03 18:18:43\n",
      "4\n"
     ]
    }
   ],
   "source": [
    "print dfMaleSubscriber.starttime[0]\n",
    "print dfMaleSubscriber.starttime[0].dayofweek\n",
    "print dfMaleSubscriber.starttime[15504]\n",
    "print dfMaleSubscriber.starttime[15504].dayofweek"
   ]
  },
  {
   "cell_type": "code",
   "execution_count": 17,
   "metadata": {
    "collapsed": true
   },
   "outputs": [],
   "source": [
    "dfMaleSubscriber = dfMaleSubscriber.reset_index()"
   ]
  },
  {
   "cell_type": "code",
   "execution_count": 18,
   "metadata": {
    "collapsed": false
   },
   "outputs": [
    {
     "name": "stdout",
     "output_type": "stream",
     "text": [
      "236106\n"
     ]
    }
   ],
   "source": [
    "print len(dfMaleSubscriber.starttime)"
   ]
  },
  {
   "cell_type": "code",
   "execution_count": 19,
   "metadata": {
    "collapsed": false
   },
   "outputs": [
    {
     "name": "stdout",
     "output_type": "stream",
     "text": [
      ". . . . .\n"
     ]
    }
   ],
   "source": [
    "#This cell takes a few minutes to run!!\n",
    "\n",
    "dayofweeklist = []\n",
    "for i in xrange(len(dfMaleSubscriber.starttime)):\n",
    "    if i % 50000 == 0:\n",
    "        print '.',\n",
    "    st = dfMaleSubscriber.loc[i].starttime.dayofweek\n",
    "    if st == 0:\n",
    "        dayofweeklist.append('mon')\n",
    "    elif st == 1:\n",
    "        dayofweeklist.append('tue')\n",
    "    elif st == 2:\n",
    "        dayofweeklist.append('wed')\n",
    "    elif st == 3:\n",
    "        dayofweeklist.append('thu')\n",
    "    elif st == 4:\n",
    "        dayofweeklist.append('fri')\n",
    "    elif st == 5:\n",
    "        dayofweeklist.append('sat')\n",
    "    elif st == 6:\n",
    "        dayofweeklist.append('sun')\n",
    "    else:\n",
    "        dayofweeklist.append('unk')\n",
    "        print \"shouldn't be here\""
   ]
  },
  {
   "cell_type": "code",
   "execution_count": 20,
   "metadata": {
    "collapsed": true
   },
   "outputs": [],
   "source": [
    "dfMaleSubscriber['dayofweek'] = dayofweeklist"
   ]
  },
  {
   "cell_type": "code",
   "execution_count": 21,
   "metadata": {
    "collapsed": false
   },
   "outputs": [
    {
     "data": {
      "text/plain": [
       "0    wed\n",
       "1    wed\n",
       "2    wed\n",
       "3    wed\n",
       "4    wed\n",
       "Name: dayofweek, dtype: object"
      ]
     },
     "execution_count": 21,
     "metadata": {},
     "output_type": "execute_result"
    }
   ],
   "source": [
    "dfMaleSubscriber.dayofweek[0:5]"
   ]
  },
  {
   "cell_type": "code",
   "execution_count": 22,
   "metadata": {
    "collapsed": false
   },
   "outputs": [
    {
     "name": "stdout",
     "output_type": "stream",
     "text": [
      "<class 'pandas.core.frame.DataFrame'>\n",
      "Int64Index: 236106 entries, 0 to 236105\n",
      "Data columns (total 17 columns):\n",
      "index                      236106 non-null int64\n",
      "tripduration               236106 non-null int64\n",
      "starttime                  236106 non-null datetime64[ns]\n",
      "stoptime                   236106 non-null datetime64[ns]\n",
      "start station id           236106 non-null int64\n",
      "start station name         236106 non-null object\n",
      "start station latitude     236106 non-null float64\n",
      "start station longitude    236106 non-null float64\n",
      "end station id             236106 non-null int64\n",
      "end station name           236106 non-null object\n",
      "end station latitude       236106 non-null float64\n",
      "end station longitude      236106 non-null float64\n",
      "bikeid                     236106 non-null int64\n",
      "usertype                   236106 non-null object\n",
      "birth year                 236106 non-null object\n",
      "gender                     236106 non-null int64\n",
      "dayofweek                  236106 non-null object\n",
      "dtypes: datetime64[ns](2), float64(4), int64(6), object(5)\n",
      "memory usage: 32.4+ MB\n"
     ]
    }
   ],
   "source": [
    "dfMaleSubscriber.info()"
   ]
  },
  {
   "cell_type": "code",
   "execution_count": 23,
   "metadata": {
    "collapsed": false
   },
   "outputs": [],
   "source": [
    "dfMaleSubscriberWeekday = dfMaleSubscriber[(dfMaleSubscriber['dayofweek'] == 'mon') | \\\n",
    "                                          (dfMaleSubscriber['dayofweek'] == 'tue') |\\\n",
    "                                          (dfMaleSubscriber['dayofweek'] == 'wed') |\\\n",
    "                                          (dfMaleSubscriber['dayofweek'] == 'thu') |\\\n",
    "                                          (dfMaleSubscriber['dayofweek'] == 'fri')].copy()"
   ]
  },
  {
   "cell_type": "code",
   "execution_count": 24,
   "metadata": {
    "collapsed": false
   },
   "outputs": [
    {
     "data": {
      "text/plain": [
       "index                      0\n",
       "tripduration               0\n",
       "starttime                  0\n",
       "stoptime                   0\n",
       "start station id           0\n",
       "start station name         0\n",
       "start station latitude     0\n",
       "start station longitude    0\n",
       "end station id             0\n",
       "end station name           0\n",
       "end station latitude       0\n",
       "end station longitude      0\n",
       "bikeid                     0\n",
       "usertype                   0\n",
       "birth year                 0\n",
       "gender                     0\n",
       "dayofweek                  0\n",
       "dtype: int64"
      ]
     },
     "execution_count": 24,
     "metadata": {},
     "output_type": "execute_result"
    }
   ],
   "source": [
    "dfMaleSubscriberWeekday[dfMaleSubscriberWeekday.dayofweek == 'sun'].count()"
   ]
  },
  {
   "cell_type": "markdown",
   "metadata": {},
   "source": [
    "---\n",
    "##I also wanted to exclude other non-work days: meaning 2014 holidays\n",
    "---"
   ]
  },
  {
   "cell_type": "code",
   "execution_count": 25,
   "metadata": {
    "collapsed": true
   },
   "outputs": [],
   "source": [
    "holiday_list = [\"2014:01:01\", \"2014:01:20\", \"2014:02:17\", \"2014:05:26\", \\\n",
    "                \"2014:07:04\", \"2013:09:02\", \"2013:10:14\", \"2013:11:11\", \"2013:11:28\", \"2013:12:25\"]"
   ]
  },
  {
   "cell_type": "code",
   "execution_count": 26,
   "metadata": {
    "collapsed": false
   },
   "outputs": [
    {
     "name": "stdout",
     "output_type": "stream",
     "text": [
      "<class 'pandas.core.frame.DataFrame'>\n",
      "Int64Index: 196767 entries, 0 to 236105\n",
      "Data columns (total 17 columns):\n",
      "index                      196767 non-null int64\n",
      "tripduration               196767 non-null int64\n",
      "starttime                  196767 non-null datetime64[ns]\n",
      "stoptime                   196767 non-null datetime64[ns]\n",
      "start station id           196767 non-null int64\n",
      "start station name         196767 non-null object\n",
      "start station latitude     196767 non-null float64\n",
      "start station longitude    196767 non-null float64\n",
      "end station id             196767 non-null int64\n",
      "end station name           196767 non-null object\n",
      "end station latitude       196767 non-null float64\n",
      "end station longitude      196767 non-null float64\n",
      "bikeid                     196767 non-null int64\n",
      "usertype                   196767 non-null object\n",
      "birth year                 196767 non-null object\n",
      "gender                     196767 non-null int64\n",
      "dayofweek                  196767 non-null object\n",
      "dtypes: datetime64[ns](2), float64(4), int64(6), object(5)\n",
      "memory usage: 27.0+ MB\n"
     ]
    }
   ],
   "source": [
    "dfMaleSubscriberWeekday.info()"
   ]
  },
  {
   "cell_type": "code",
   "execution_count": 27,
   "metadata": {
    "collapsed": false
   },
   "outputs": [],
   "source": [
    "dfMaleSubscriberWeekday['holidays'] = [(st.strftime('%Y:%m:%d') in holiday_list) for \\\n",
    "                                       st in dfMaleSubscriberWeekday.starttime]"
   ]
  },
  {
   "cell_type": "code",
   "execution_count": 28,
   "metadata": {
    "collapsed": false
   },
   "outputs": [],
   "source": [
    "dfMaleSubscriberWeekdayH = dfMaleSubscriberWeekday[dfMaleSubscriberWeekday.holidays==False].copy()"
   ]
  },
  {
   "cell_type": "code",
   "execution_count": 29,
   "metadata": {
    "collapsed": false
   },
   "outputs": [
    {
     "name": "stdout",
     "output_type": "stream",
     "text": [
      "<class 'pandas.core.frame.DataFrame'>\n",
      "Int64Index: 182582 entries, 4217 to 236105\n",
      "Data columns (total 18 columns):\n",
      "index                      182582 non-null int64\n",
      "tripduration               182582 non-null int64\n",
      "starttime                  182582 non-null datetime64[ns]\n",
      "stoptime                   182582 non-null datetime64[ns]\n",
      "start station id           182582 non-null int64\n",
      "start station name         182582 non-null object\n",
      "start station latitude     182582 non-null float64\n",
      "start station longitude    182582 non-null float64\n",
      "end station id             182582 non-null int64\n",
      "end station name           182582 non-null object\n",
      "end station latitude       182582 non-null float64\n",
      "end station longitude      182582 non-null float64\n",
      "bikeid                     182582 non-null int64\n",
      "usertype                   182582 non-null object\n",
      "birth year                 182582 non-null object\n",
      "gender                     182582 non-null int64\n",
      "dayofweek                  182582 non-null object\n",
      "holidays                   182582 non-null bool\n",
      "dtypes: bool(1), datetime64[ns](2), float64(4), int64(6), object(5)\n",
      "memory usage: 25.2+ MB\n"
     ]
    }
   ],
   "source": [
    "dfMaleSubscriberWeekdayH.info()"
   ]
  },
  {
   "cell_type": "markdown",
   "metadata": {},
   "source": [
    "---\n",
    "##And finally subset the data further by only using trips started in working hours: 9am to 4pm\n",
    "---"
   ]
  },
  {
   "cell_type": "code",
   "execution_count": 30,
   "metadata": {
    "collapsed": false
   },
   "outputs": [],
   "source": [
    "dfMaleSubscriberWeekdayH['ninetofive'] = [((int(st.strftime('%H')) >= 9) & (int(st.strftime('%H')) <= 16)) for \\\n",
    "                                       st in dfMaleSubscriberWeekdayH.starttime]"
   ]
  },
  {
   "cell_type": "code",
   "execution_count": 31,
   "metadata": {
    "collapsed": false
   },
   "outputs": [],
   "source": [
    "dfMaleSubscriberWeekdayHH = dfMaleSubscriberWeekdayH[dfMaleSubscriberWeekdayH.ninetofive == True]"
   ]
  },
  {
   "cell_type": "code",
   "execution_count": 32,
   "metadata": {
    "collapsed": false
   },
   "outputs": [
    {
     "name": "stdout",
     "output_type": "stream",
     "text": [
      "<class 'pandas.core.frame.DataFrame'>\n",
      "Int64Index: 71616 entries, 5715 to 231747\n",
      "Data columns (total 19 columns):\n",
      "index                      71616 non-null int64\n",
      "tripduration               71616 non-null int64\n",
      "starttime                  71616 non-null datetime64[ns]\n",
      "stoptime                   71616 non-null datetime64[ns]\n",
      "start station id           71616 non-null int64\n",
      "start station name         71616 non-null object\n",
      "start station latitude     71616 non-null float64\n",
      "start station longitude    71616 non-null float64\n",
      "end station id             71616 non-null int64\n",
      "end station name           71616 non-null object\n",
      "end station latitude       71616 non-null float64\n",
      "end station longitude      71616 non-null float64\n",
      "bikeid                     71616 non-null int64\n",
      "usertype                   71616 non-null object\n",
      "birth year                 71616 non-null object\n",
      "gender                     71616 non-null int64\n",
      "dayofweek                  71616 non-null object\n",
      "holidays                   71616 non-null bool\n",
      "ninetofive                 71616 non-null bool\n",
      "dtypes: bool(2), datetime64[ns](2), float64(4), int64(6), object(5)\n",
      "memory usage: 10.0+ MB\n"
     ]
    }
   ],
   "source": [
    "dfMaleSubscriberWeekdayHH.info()"
   ]
  },
  {
   "cell_type": "code",
   "execution_count": 33,
   "metadata": {
    "collapsed": false
   },
   "outputs": [
    {
     "name": "stdout",
     "output_type": "stream",
     "text": [
      "      index  tripduration           starttime            stoptime  \\\n",
      "5715   7868           474 2014-01-02 09:00:14 2014-01-02 09:08:08   \n",
      "\n",
      "      start station id          start station name  start station latitude  \\\n",
      "5715              3002  South End Ave & Liberty St               40.711512   \n",
      "\n",
      "      start station longitude  end station id       end station name  \\\n",
      "5715               -74.015756             304  Broadway & Battery Pl   \n",
      "\n",
      "      end station latitude  end station longitude  bikeid    usertype  \\\n",
      "5715             40.704633             -74.013617   20645  Subscriber   \n",
      "\n",
      "     birth year  gender dayofweek holidays ninetofive  \n",
      "5715       1982       1       thu    False       True  \n"
     ]
    }
   ],
   "source": [
    "print dfMaleSubscriberWeekdayHH.head(1)"
   ]
  },
  {
   "cell_type": "markdown",
   "metadata": {},
   "source": [
    "---\n",
    "#A consolidated function to do all that processing\n",
    "---"
   ]
  },
  {
   "cell_type": "code",
   "execution_count": 34,
   "metadata": {
    "collapsed": true
   },
   "outputs": [],
   "source": [
    "def prepare_data(filename):\n",
    "    data = pd.read_csv(filename)\n",
    "    data = data.dropna()\n",
    "    data.starttime = pd.to_datetime(data.starttime)\n",
    "    data.stoptime = pd.to_datetime(data.stoptime)\n",
    "    dfMale = data[data.gender==1].copy()\n",
    "    dfMaleSubscriber = dfMale[dfMale.usertype=='Subscriber'].copy()\n",
    "    dfMaleSubscriber['dayofweek'] = [(st.dayofweek in [0,1,2,3,4]) for st in dfMaleSubscriber.starttime]\n",
    "    dfMaleSubscriberWeekday = dfMaleSubscriber[dfMaleSubscriber.dayofweek==True].copy()\n",
    "    holiday_list = [\"2014:01:01\", \"2014:01:20\", \"2014:02:17\", \\\n",
    "                    \"2014:05:26\", \"2014:07:04\", \"2013:09:02\", \"2013:10:14\", \"2013:11:11\", \"2013:11:28\", \"2013:12:25\"]\n",
    "    dfMaleSubscriberWeekday['holidays'] = [(st.strftime('%Y:%m:%d') in holiday_list) for \\\n",
    "                                       st in dfMaleSubscriberWeekday.starttime]\n",
    "    dfMaleSubscriberWeekdayH = dfMaleSubscriberWeekday[dfMaleSubscriberWeekday.holidays==False].copy()\n",
    "    dfMaleSubscriberWeekdayH['ninetofive'] = [((int(st.strftime('%H')) >= 9) & (int(st.strftime('%H')) <= 16)) for \\\n",
    "                                       st in dfMaleSubscriberWeekdayH.starttime]\n",
    "    dfMaleSubscriberWeekdayHH = dfMaleSubscriberWeekdayH[dfMaleSubscriberWeekdayH.ninetofive == True]\n",
    "    return dfMaleSubscriberWeekdayHH"
   ]
  },
  {
   "cell_type": "code",
   "execution_count": 35,
   "metadata": {
    "collapsed": false
   },
   "outputs": [],
   "source": [
    "dfJan = prepare_data(\"/Users/mrgholt/GADS-22-NYC/Citibike_Data/raw/2014-01 - Citi Bike trip data.csv\")"
   ]
  },
  {
   "cell_type": "code",
   "execution_count": 36,
   "metadata": {
    "collapsed": false
   },
   "outputs": [
    {
     "name": "stdout",
     "output_type": "stream",
     "text": [
      "<class 'pandas.core.frame.DataFrame'>\n",
      "Int64Index: 71616 entries, 7868 to 294992\n",
      "Data columns (total 18 columns):\n",
      "tripduration               71616 non-null int64\n",
      "starttime                  71616 non-null datetime64[ns]\n",
      "stoptime                   71616 non-null datetime64[ns]\n",
      "start station id           71616 non-null int64\n",
      "start station name         71616 non-null object\n",
      "start station latitude     71616 non-null float64\n",
      "start station longitude    71616 non-null float64\n",
      "end station id             71616 non-null int64\n",
      "end station name           71616 non-null object\n",
      "end station latitude       71616 non-null float64\n",
      "end station longitude      71616 non-null float64\n",
      "bikeid                     71616 non-null int64\n",
      "usertype                   71616 non-null object\n",
      "birth year                 71616 non-null object\n",
      "gender                     71616 non-null int64\n",
      "dayofweek                  71616 non-null bool\n",
      "holidays                   71616 non-null bool\n",
      "ninetofive                 71616 non-null bool\n",
      "dtypes: bool(3), datetime64[ns](2), float64(4), int64(5), object(4)\n",
      "memory usage: 8.9+ MB\n"
     ]
    }
   ],
   "source": [
    "dfJan.info()"
   ]
  },
  {
   "cell_type": "markdown",
   "metadata": {},
   "source": [
    "---\n",
    "##This processing was done for all 12 months data.\n",
    "---"
   ]
  },
  {
   "cell_type": "markdown",
   "metadata": {},
   "source": [
    "---\n",
    "#Finding the speed kings\n",
    "---"
   ]
  },
  {
   "cell_type": "markdown",
   "metadata": {},
   "source": [
    "---\n",
    "##I did not want trips where the start station and the end station were the same\n",
    "---"
   ]
  },
  {
   "cell_type": "code",
   "execution_count": 37,
   "metadata": {
    "collapsed": false
   },
   "outputs": [],
   "source": [
    "dfs = dfJan[dfJan['start station id'] != dfJan['end station id']].copy()"
   ]
  },
  {
   "cell_type": "code",
   "execution_count": 38,
   "metadata": {
    "collapsed": false
   },
   "outputs": [
    {
     "data": {
      "text/html": [
       "<div style=\"max-height:1000px;max-width:1500px;overflow:auto;\">\n",
       "<table border=\"1\" class=\"dataframe\">\n",
       "  <thead>\n",
       "    <tr style=\"text-align: right;\">\n",
       "      <th></th>\n",
       "      <th>tripduration</th>\n",
       "      <th>start station id</th>\n",
       "      <th>start station latitude</th>\n",
       "      <th>start station longitude</th>\n",
       "      <th>end station id</th>\n",
       "      <th>end station latitude</th>\n",
       "      <th>end station longitude</th>\n",
       "      <th>bikeid</th>\n",
       "      <th>gender</th>\n",
       "      <th>dayofweek</th>\n",
       "      <th>holidays</th>\n",
       "      <th>ninetofive</th>\n",
       "    </tr>\n",
       "  </thead>\n",
       "  <tbody>\n",
       "    <tr>\n",
       "      <th>count</th>\n",
       "      <td>  70598.000000</td>\n",
       "      <td> 70598.000000</td>\n",
       "      <td> 70598.000000</td>\n",
       "      <td> 70598.000000</td>\n",
       "      <td> 70598.000000</td>\n",
       "      <td> 70598.000000</td>\n",
       "      <td> 70598.000000</td>\n",
       "      <td> 70598.000000</td>\n",
       "      <td> 70598</td>\n",
       "      <td> 70598</td>\n",
       "      <td> 70598</td>\n",
       "      <td> 70598</td>\n",
       "    </tr>\n",
       "    <tr>\n",
       "      <th>mean</th>\n",
       "      <td>    668.418610</td>\n",
       "      <td>   438.194099</td>\n",
       "      <td>    40.736475</td>\n",
       "      <td>   -73.989981</td>\n",
       "      <td>   439.289498</td>\n",
       "      <td>    40.736627</td>\n",
       "      <td>   -73.990858</td>\n",
       "      <td> 18000.236112</td>\n",
       "      <td>     1</td>\n",
       "      <td>     1</td>\n",
       "      <td>     0</td>\n",
       "      <td>     1</td>\n",
       "    </tr>\n",
       "    <tr>\n",
       "      <th>std</th>\n",
       "      <td>   3078.833987</td>\n",
       "      <td>   321.557620</td>\n",
       "      <td>     0.018961</td>\n",
       "      <td>     0.011635</td>\n",
       "      <td>   323.654280</td>\n",
       "      <td>     0.018714</td>\n",
       "      <td>     0.011344</td>\n",
       "      <td>  2004.295785</td>\n",
       "      <td>     0</td>\n",
       "      <td>     0</td>\n",
       "      <td>     0</td>\n",
       "      <td>     0</td>\n",
       "    </tr>\n",
       "    <tr>\n",
       "      <th>min</th>\n",
       "      <td>     60.000000</td>\n",
       "      <td>    72.000000</td>\n",
       "      <td>    40.680342</td>\n",
       "      <td>   -74.017134</td>\n",
       "      <td>    72.000000</td>\n",
       "      <td>    40.680342</td>\n",
       "      <td>   -74.017134</td>\n",
       "      <td> 14529.000000</td>\n",
       "      <td>     1</td>\n",
       "      <td>  True</td>\n",
       "      <td> False</td>\n",
       "      <td>  True</td>\n",
       "    </tr>\n",
       "    <tr>\n",
       "      <th>25%</th>\n",
       "      <td>    328.000000</td>\n",
       "      <td>   307.000000</td>\n",
       "      <td>    40.723627</td>\n",
       "      <td>   -73.998004</td>\n",
       "      <td>   307.000000</td>\n",
       "      <td>    40.724399</td>\n",
       "      <td>   -73.999061</td>\n",
       "      <td> 16252.000000</td>\n",
       "      <td>     1</td>\n",
       "      <td>     1</td>\n",
       "      <td>     0</td>\n",
       "      <td>     1</td>\n",
       "    </tr>\n",
       "    <tr>\n",
       "      <th>50%</th>\n",
       "      <td>    487.000000</td>\n",
       "      <td>   412.000000</td>\n",
       "      <td>    40.739323</td>\n",
       "      <td>   -73.989978</td>\n",
       "      <td>   412.000000</td>\n",
       "      <td>    40.739713</td>\n",
       "      <td>   -73.990765</td>\n",
       "      <td> 17977.000000</td>\n",
       "      <td>     1</td>\n",
       "      <td>     1</td>\n",
       "      <td>     0</td>\n",
       "      <td>     1</td>\n",
       "    </tr>\n",
       "    <tr>\n",
       "      <th>75%</th>\n",
       "      <td>    732.000000</td>\n",
       "      <td>   490.000000</td>\n",
       "      <td>    40.751493</td>\n",
       "      <td>   -73.981693</td>\n",
       "      <td>   492.000000</td>\n",
       "      <td>    40.750664</td>\n",
       "      <td>   -73.982912</td>\n",
       "      <td> 19715.750000</td>\n",
       "      <td>     1</td>\n",
       "      <td>     1</td>\n",
       "      <td>     0</td>\n",
       "      <td>     1</td>\n",
       "    </tr>\n",
       "    <tr>\n",
       "      <th>max</th>\n",
       "      <td> 495511.000000</td>\n",
       "      <td>  3002.000000</td>\n",
       "      <td>    40.770513</td>\n",
       "      <td>   -73.950048</td>\n",
       "      <td>  3002.000000</td>\n",
       "      <td>    40.770513</td>\n",
       "      <td>   -73.950048</td>\n",
       "      <td> 21536.000000</td>\n",
       "      <td>     1</td>\n",
       "      <td>  True</td>\n",
       "      <td> False</td>\n",
       "      <td>  True</td>\n",
       "    </tr>\n",
       "  </tbody>\n",
       "</table>\n",
       "</div>"
      ],
      "text/plain": [
       "        tripduration  start station id  start station latitude  \\\n",
       "count   70598.000000      70598.000000            70598.000000   \n",
       "mean      668.418610        438.194099               40.736475   \n",
       "std      3078.833987        321.557620                0.018961   \n",
       "min        60.000000         72.000000               40.680342   \n",
       "25%       328.000000        307.000000               40.723627   \n",
       "50%       487.000000        412.000000               40.739323   \n",
       "75%       732.000000        490.000000               40.751493   \n",
       "max    495511.000000       3002.000000               40.770513   \n",
       "\n",
       "       start station longitude  end station id  end station latitude  \\\n",
       "count             70598.000000    70598.000000          70598.000000   \n",
       "mean                -73.989981      439.289498             40.736627   \n",
       "std                   0.011635      323.654280              0.018714   \n",
       "min                 -74.017134       72.000000             40.680342   \n",
       "25%                 -73.998004      307.000000             40.724399   \n",
       "50%                 -73.989978      412.000000             40.739713   \n",
       "75%                 -73.981693      492.000000             40.750664   \n",
       "max                 -73.950048     3002.000000             40.770513   \n",
       "\n",
       "       end station longitude        bikeid  gender dayofweek holidays  \\\n",
       "count           70598.000000  70598.000000   70598     70598    70598   \n",
       "mean              -73.990858  18000.236112       1         1        0   \n",
       "std                 0.011344   2004.295785       0         0        0   \n",
       "min               -74.017134  14529.000000       1      True    False   \n",
       "25%               -73.999061  16252.000000       1         1        0   \n",
       "50%               -73.990765  17977.000000       1         1        0   \n",
       "75%               -73.982912  19715.750000       1         1        0   \n",
       "max               -73.950048  21536.000000       1      True    False   \n",
       "\n",
       "      ninetofive  \n",
       "count      70598  \n",
       "mean           1  \n",
       "std            0  \n",
       "min         True  \n",
       "25%            1  \n",
       "50%            1  \n",
       "75%            1  \n",
       "max         True  "
      ]
     },
     "execution_count": 38,
     "metadata": {},
     "output_type": "execute_result"
    }
   ],
   "source": [
    "dfs.describe()"
   ]
  },
  {
   "cell_type": "markdown",
   "metadata": {},
   "source": [
    "---\n",
    "##Create a temp dataframe to hold start station, end station and the trip duration\n",
    "---"
   ]
  },
  {
   "cell_type": "code",
   "execution_count": 39,
   "metadata": {
    "collapsed": false
   },
   "outputs": [],
   "source": [
    "dfstemp = dfs[['start station id', 'end station id', 'tripduration']]"
   ]
  },
  {
   "cell_type": "code",
   "execution_count": 40,
   "metadata": {
    "collapsed": false
   },
   "outputs": [
    {
     "data": {
      "text/html": [
       "<div style=\"max-height:1000px;max-width:1500px;overflow:auto;\">\n",
       "<table border=\"1\" class=\"dataframe\">\n",
       "  <thead>\n",
       "    <tr style=\"text-align: right;\">\n",
       "      <th></th>\n",
       "      <th>start station id</th>\n",
       "      <th>end station id</th>\n",
       "      <th>tripduration</th>\n",
       "    </tr>\n",
       "  </thead>\n",
       "  <tbody>\n",
       "    <tr>\n",
       "      <th>7868</th>\n",
       "      <td> 3002</td>\n",
       "      <td>  304</td>\n",
       "      <td>  474</td>\n",
       "    </tr>\n",
       "    <tr>\n",
       "      <th>7869</th>\n",
       "      <td>  195</td>\n",
       "      <td>  316</td>\n",
       "      <td>  160</td>\n",
       "    </tr>\n",
       "    <tr>\n",
       "      <th>7870</th>\n",
       "      <td>  469</td>\n",
       "      <td> 2017</td>\n",
       "      <td>  634</td>\n",
       "    </tr>\n",
       "    <tr>\n",
       "      <th>7871</th>\n",
       "      <td>  492</td>\n",
       "      <td>  519</td>\n",
       "      <td>  380</td>\n",
       "    </tr>\n",
       "    <tr>\n",
       "      <th>7872</th>\n",
       "      <td>  161</td>\n",
       "      <td>  367</td>\n",
       "      <td> 1536</td>\n",
       "    </tr>\n",
       "  </tbody>\n",
       "</table>\n",
       "</div>"
      ],
      "text/plain": [
       "      start station id  end station id  tripduration\n",
       "7868              3002             304           474\n",
       "7869               195             316           160\n",
       "7870               469            2017           634\n",
       "7871               492             519           380\n",
       "7872               161             367          1536"
      ]
     },
     "execution_count": 40,
     "metadata": {},
     "output_type": "execute_result"
    }
   ],
   "source": [
    "dfstemp.head()"
   ]
  },
  {
   "cell_type": "markdown",
   "metadata": {},
   "source": [
    "---\n",
    "#Now use the groupby functionality to group by both start and end station ids\n",
    "---"
   ]
  },
  {
   "cell_type": "code",
   "execution_count": 41,
   "metadata": {
    "collapsed": false
   },
   "outputs": [],
   "source": [
    "temp = dfstemp.groupby(['start station id', 'end station id'])"
   ]
  },
  {
   "cell_type": "markdown",
   "metadata": {},
   "source": [
    "---\n",
    "##Accessing the temp object we can find out about a number of metrics - count (meaning the number of trips), min (meaning the minimum trip duration), and median (meaning the median duration of the trips)\n",
    "---"
   ]
  },
  {
   "cell_type": "markdown",
   "metadata": {},
   "source": [
    "---\n",
    "##Number of trips\n",
    "---"
   ]
  },
  {
   "cell_type": "code",
   "execution_count": 42,
   "metadata": {
    "collapsed": false
   },
   "outputs": [],
   "source": [
    "counts = temp.count()"
   ]
  },
  {
   "cell_type": "code",
   "execution_count": 43,
   "metadata": {
    "collapsed": true
   },
   "outputs": [],
   "source": [
    "counts.columns = ['number of trips']"
   ]
  },
  {
   "cell_type": "code",
   "execution_count": 44,
   "metadata": {
    "collapsed": false
   },
   "outputs": [
    {
     "name": "stdout",
     "output_type": "stream",
     "text": [
      "start station id  end station id\n",
      "72                116           \n",
      "                  127           \n",
      "                  137           \n",
      "                  152           \n",
      "                  153           \n",
      "                  173           \n",
      "                  212           \n",
      "                  228           \n",
      "                  229           \n",
      "                  247           \n"
     ]
    }
   ],
   "source": [
    "print counts.index[0:10]"
   ]
  },
  {
   "cell_type": "code",
   "execution_count": 45,
   "metadata": {
    "collapsed": false
   },
   "outputs": [
    {
     "name": "stdout",
     "output_type": "stream",
     "text": [
      "                                 number of trips\n",
      "start station id end station id                 \n",
      "72               116                           2\n",
      "                 127                           1\n",
      "                 137                           1\n",
      "                 152                           1\n",
      "                 153                           2\n",
      "                 173                           2\n",
      "                 212                           9\n",
      "                 228                           2\n",
      "                 229                           1\n",
      "                 247                           2\n"
     ]
    }
   ],
   "source": [
    "print counts[0:10]"
   ]
  },
  {
   "cell_type": "markdown",
   "metadata": {},
   "source": [
    "---\n",
    "##Minimum trip duration\n",
    "---"
   ]
  },
  {
   "cell_type": "code",
   "execution_count": 46,
   "metadata": {
    "collapsed": true
   },
   "outputs": [],
   "source": [
    "mins = temp.min()"
   ]
  },
  {
   "cell_type": "code",
   "execution_count": 47,
   "metadata": {
    "collapsed": true
   },
   "outputs": [],
   "source": [
    "mins.columns = ['min duration']"
   ]
  },
  {
   "cell_type": "code",
   "execution_count": 48,
   "metadata": {
    "collapsed": false
   },
   "outputs": [
    {
     "name": "stdout",
     "output_type": "stream",
     "text": [
      "                                 min duration\n",
      "start station id end station id              \n",
      "72               116                     1035\n",
      "                 127                      280\n",
      "                 137                      839\n",
      "                 152                     1465\n",
      "                 153                      765\n"
     ]
    }
   ],
   "source": [
    "print mins[0:5]"
   ]
  },
  {
   "cell_type": "markdown",
   "metadata": {},
   "source": [
    "---\n",
    "##Median trip duration\n",
    "---"
   ]
  },
  {
   "cell_type": "code",
   "execution_count": 49,
   "metadata": {
    "collapsed": false
   },
   "outputs": [],
   "source": [
    "medians = temp.median()"
   ]
  },
  {
   "cell_type": "code",
   "execution_count": 50,
   "metadata": {
    "collapsed": false
   },
   "outputs": [],
   "source": [
    "medians.columns = ['median duration']"
   ]
  },
  {
   "cell_type": "code",
   "execution_count": 51,
   "metadata": {
    "collapsed": false
   },
   "outputs": [
    {
     "name": "stdout",
     "output_type": "stream",
     "text": [
      "                                 median duration\n",
      "start station id end station id                 \n",
      "72               116                      1114.5\n",
      "                 127                       280.0\n",
      "                 137                       839.0\n",
      "                 152                      1465.0\n",
      "                 153                       969.0\n"
     ]
    }
   ],
   "source": [
    "print medians[0:5]"
   ]
  },
  {
   "cell_type": "markdown",
   "metadata": {},
   "source": [
    "---\n",
    "##Grouping by 2 columns has produced a hierarchical index\n",
    "---"
   ]
  },
  {
   "cell_type": "markdown",
   "metadata": {},
   "source": [
    "---\n",
    "##Now want to merge the 2 dataframes onto a common start station - stop station index\n",
    "---"
   ]
  },
  {
   "cell_type": "code",
   "execution_count": 52,
   "metadata": {
    "collapsed": false
   },
   "outputs": [],
   "source": [
    "df = pd.merge(counts, mins, left_index=True, right_index=True)"
   ]
  },
  {
   "cell_type": "code",
   "execution_count": 53,
   "metadata": {
    "collapsed": false
   },
   "outputs": [
    {
     "data": {
      "text/html": [
       "<div style=\"max-height:1000px;max-width:1500px;overflow:auto;\">\n",
       "<table border=\"1\" class=\"dataframe\">\n",
       "  <thead>\n",
       "    <tr style=\"text-align: right;\">\n",
       "      <th></th>\n",
       "      <th></th>\n",
       "      <th>number of trips</th>\n",
       "      <th>min duration</th>\n",
       "    </tr>\n",
       "    <tr>\n",
       "      <th>start station id</th>\n",
       "      <th>end station id</th>\n",
       "      <th></th>\n",
       "      <th></th>\n",
       "    </tr>\n",
       "  </thead>\n",
       "  <tbody>\n",
       "    <tr>\n",
       "      <th rowspan=\"5\" valign=\"top\">72</th>\n",
       "      <th>116</th>\n",
       "      <td> 2</td>\n",
       "      <td> 1035</td>\n",
       "    </tr>\n",
       "    <tr>\n",
       "      <th>127</th>\n",
       "      <td> 1</td>\n",
       "      <td>  280</td>\n",
       "    </tr>\n",
       "    <tr>\n",
       "      <th>137</th>\n",
       "      <td> 1</td>\n",
       "      <td>  839</td>\n",
       "    </tr>\n",
       "    <tr>\n",
       "      <th>152</th>\n",
       "      <td> 1</td>\n",
       "      <td> 1465</td>\n",
       "    </tr>\n",
       "    <tr>\n",
       "      <th>153</th>\n",
       "      <td> 2</td>\n",
       "      <td>  765</td>\n",
       "    </tr>\n",
       "  </tbody>\n",
       "</table>\n",
       "</div>"
      ],
      "text/plain": [
       "                                 number of trips  min duration\n",
       "start station id end station id                               \n",
       "72               116                           2          1035\n",
       "                 127                           1           280\n",
       "                 137                           1           839\n",
       "                 152                           1          1465\n",
       "                 153                           2           765"
      ]
     },
     "execution_count": 53,
     "metadata": {},
     "output_type": "execute_result"
    }
   ],
   "source": [
    "df[0:5]"
   ]
  },
  {
   "cell_type": "markdown",
   "metadata": {},
   "source": [
    "---\n",
    "#Now add the median trip times\n",
    "---"
   ]
  },
  {
   "cell_type": "code",
   "execution_count": 54,
   "metadata": {
    "collapsed": false
   },
   "outputs": [],
   "source": [
    "dfA = df\n",
    "dfA['medians'] = medians['median duration']"
   ]
  },
  {
   "cell_type": "code",
   "execution_count": 55,
   "metadata": {
    "collapsed": false
   },
   "outputs": [
    {
     "data": {
      "text/html": [
       "<div style=\"max-height:1000px;max-width:1500px;overflow:auto;\">\n",
       "<table border=\"1\" class=\"dataframe\">\n",
       "  <thead>\n",
       "    <tr style=\"text-align: right;\">\n",
       "      <th></th>\n",
       "      <th></th>\n",
       "      <th>number of trips</th>\n",
       "      <th>min duration</th>\n",
       "      <th>medians</th>\n",
       "    </tr>\n",
       "    <tr>\n",
       "      <th>start station id</th>\n",
       "      <th>end station id</th>\n",
       "      <th></th>\n",
       "      <th></th>\n",
       "      <th></th>\n",
       "    </tr>\n",
       "  </thead>\n",
       "  <tbody>\n",
       "    <tr>\n",
       "      <th rowspan=\"5\" valign=\"top\">72</th>\n",
       "      <th>116</th>\n",
       "      <td> 2</td>\n",
       "      <td> 1035</td>\n",
       "      <td> 1114.5</td>\n",
       "    </tr>\n",
       "    <tr>\n",
       "      <th>127</th>\n",
       "      <td> 1</td>\n",
       "      <td>  280</td>\n",
       "      <td>  280.0</td>\n",
       "    </tr>\n",
       "    <tr>\n",
       "      <th>137</th>\n",
       "      <td> 1</td>\n",
       "      <td>  839</td>\n",
       "      <td>  839.0</td>\n",
       "    </tr>\n",
       "    <tr>\n",
       "      <th>152</th>\n",
       "      <td> 1</td>\n",
       "      <td> 1465</td>\n",
       "      <td> 1465.0</td>\n",
       "    </tr>\n",
       "    <tr>\n",
       "      <th>153</th>\n",
       "      <td> 2</td>\n",
       "      <td>  765</td>\n",
       "      <td>  969.0</td>\n",
       "    </tr>\n",
       "  </tbody>\n",
       "</table>\n",
       "</div>"
      ],
      "text/plain": [
       "                                 number of trips  min duration  medians\n",
       "start station id end station id                                        \n",
       "72               116                           2          1035   1114.5\n",
       "                 127                           1           280    280.0\n",
       "                 137                           1           839    839.0\n",
       "                 152                           1          1465   1465.0\n",
       "                 153                           2           765    969.0"
      ]
     },
     "execution_count": 55,
     "metadata": {},
     "output_type": "execute_result"
    }
   ],
   "source": [
    "dfA[0:5]"
   ]
  },
  {
   "cell_type": "markdown",
   "metadata": {},
   "source": [
    "---\n",
    "##Resetting the index removes the hierarchical indices\n",
    "---"
   ]
  },
  {
   "cell_type": "markdown",
   "metadata": {},
   "source": [
    "---\n",
    "##By flattening out the hierarchical index we get a dataframe that holds the info we need\n",
    "---"
   ]
  },
  {
   "cell_type": "code",
   "execution_count": 56,
   "metadata": {
    "collapsed": false
   },
   "outputs": [
    {
     "data": {
      "text/html": [
       "<div style=\"max-height:1000px;max-width:1500px;overflow:auto;\">\n",
       "<table border=\"1\" class=\"dataframe\">\n",
       "  <thead>\n",
       "    <tr style=\"text-align: right;\">\n",
       "      <th></th>\n",
       "      <th>start station id</th>\n",
       "      <th>end station id</th>\n",
       "      <th>number of trips</th>\n",
       "      <th>min duration</th>\n",
       "      <th>medians</th>\n",
       "    </tr>\n",
       "  </thead>\n",
       "  <tbody>\n",
       "    <tr>\n",
       "      <th>0</th>\n",
       "      <td> 72</td>\n",
       "      <td> 116</td>\n",
       "      <td> 2</td>\n",
       "      <td> 1035</td>\n",
       "      <td> 1114.5</td>\n",
       "    </tr>\n",
       "    <tr>\n",
       "      <th>1</th>\n",
       "      <td> 72</td>\n",
       "      <td> 127</td>\n",
       "      <td> 1</td>\n",
       "      <td>  280</td>\n",
       "      <td>  280.0</td>\n",
       "    </tr>\n",
       "    <tr>\n",
       "      <th>2</th>\n",
       "      <td> 72</td>\n",
       "      <td> 137</td>\n",
       "      <td> 1</td>\n",
       "      <td>  839</td>\n",
       "      <td>  839.0</td>\n",
       "    </tr>\n",
       "    <tr>\n",
       "      <th>3</th>\n",
       "      <td> 72</td>\n",
       "      <td> 152</td>\n",
       "      <td> 1</td>\n",
       "      <td> 1465</td>\n",
       "      <td> 1465.0</td>\n",
       "    </tr>\n",
       "    <tr>\n",
       "      <th>4</th>\n",
       "      <td> 72</td>\n",
       "      <td> 153</td>\n",
       "      <td> 2</td>\n",
       "      <td>  765</td>\n",
       "      <td>  969.0</td>\n",
       "    </tr>\n",
       "  </tbody>\n",
       "</table>\n",
       "</div>"
      ],
      "text/plain": [
       "   start station id  end station id  number of trips  min duration  medians\n",
       "0                72             116                2          1035   1114.5\n",
       "1                72             127                1           280    280.0\n",
       "2                72             137                1           839    839.0\n",
       "3                72             152                1          1465   1465.0\n",
       "4                72             153                2           765    969.0"
      ]
     },
     "execution_count": 56,
     "metadata": {},
     "output_type": "execute_result"
    }
   ],
   "source": [
    "dfA = dfA.reset_index()\n",
    "dfA[0:5]"
   ]
  },
  {
   "cell_type": "markdown",
   "metadata": {},
   "source": [
    "---\n",
    "##Can now produce some plots for presentational purposes\n",
    "---"
   ]
  },
  {
   "cell_type": "code",
   "execution_count": 59,
   "metadata": {
    "collapsed": false
   },
   "outputs": [
    {
     "data": {
      "text/plain": [
       "107"
      ]
     },
     "execution_count": 59,
     "metadata": {},
     "output_type": "execute_result"
    }
   ],
   "source": [
    "dfA['number of trips'].max()"
   ]
  },
  {
   "cell_type": "code",
   "execution_count": 60,
   "metadata": {
    "collapsed": false
   },
   "outputs": [
    {
     "name": "stdout",
     "output_type": "stream",
     "text": [
      "   index  start station id  end station id  number of trips  min duration  \\\n",
      "0   7226               318             477              107           241   \n",
      "1  15996               458             521               70           251   \n",
      "\n",
      "   medians  \n",
      "0    385.0  \n",
      "1    381.5  \n"
     ]
    }
   ],
   "source": [
    "dfAsorted = dfA.sort(['number of trips'], ascending=False)\n",
    "dfAsorted = dfAsorted.reset_index()\n",
    "print dfAsorted[0:2]\n",
    "\n",
    "nx = []\n",
    "for i in xrange(len(dfAsorted['start station id'])):\n",
    "    temp = int(dfAsorted.loc[i]['start station id'])\n",
    "    temp1 = int(dfAsorted.loc[i]['end station id'])\n",
    "    #print dfsorted.loc[i]['number of trips']\n",
    "    temp_str = str(temp) + '-' + str(temp1)\n",
    "    nx.append(temp_str)"
   ]
  },
  {
   "cell_type": "code",
   "execution_count": 61,
   "metadata": {
    "collapsed": false
   },
   "outputs": [
    {
     "name": "stdout",
     "output_type": "stream",
     "text": [
      "['318-477', '458-521', '536-379', '359-477', '493-492', '2012-379', '329-327', '153-492', '519-492', '546-379']\n"
     ]
    }
   ],
   "source": [
    "print nx[0:10]"
   ]
  },
  {
   "cell_type": "markdown",
   "metadata": {},
   "source": [
    "---\n",
    "##Trips between 2 stations\n",
    "---"
   ]
  },
  {
   "cell_type": "code",
   "execution_count": 62,
   "metadata": {
    "collapsed": false
   },
   "outputs": [
    {
     "data": {
      "image/png": "[encoded data removed]",
      "text/plain": [
       "<matplotlib.figure.Figure at 0x10bdfccd0>"
      ]
     },
     "metadata": {},
     "output_type": "display_data"
    }
   ],
   "source": [
    "mpl.style.use('ggplot')\n",
    "fig = plt.figure(figsize = (20, 7))\n",
    "ax = plt.subplot(111)\n",
    "\n",
    "x_plot = np.linspace(1, 26, 25)\n",
    "ax.set_ylim(0, 110)\n",
    "ax.set_ylabel(\"Number of Trips\")\n",
    "ax.set_xlabel(\"Start Station Id - End Station Id\")\n",
    "ax.set_title(\"Number of Trips Between Two Stations\")\n",
    "ax.bar(x_plot, dfAsorted['number of trips'][0:25])\n",
    "ax.set_xticks(x_plot)\n",
    "myplot = ax.set_xticklabels(nx, rotation=45, fontsize='large')"
   ]
  },
  {
   "cell_type": "markdown",
   "metadata": {},
   "source": [
    "---\n",
    "##Trip durations compared to the monthly median\n",
    "---"
   ]
  },
  {
   "cell_type": "code",
   "execution_count": 88,
   "metadata": {
    "collapsed": false
   },
   "outputs": [
    {
     "data": {
      "image/png": "[encoded data removed]",
      "text/plain": [
       "<matplotlib.figure.Figure at 0x10bee6810>"
      ]
     },
     "metadata": {},
     "output_type": "display_data"
    }
   ],
   "source": [
    "mpl.style.use('ggplot')\n",
    "fig = plt.figure(figsize = (20, 7))\n",
    "ax = plt.subplot(111)\n",
    "\n",
    "x_plot = np.linspace(1, 26, 25)\n",
    "ax.set_ylim(0, 900)\n",
    "ax.set_ylabel(\"Duration (seconds)\")\n",
    "ax.set_xlabel(\"Start Station Id - End Station Id\")\n",
    "ax.set_title(\"Minimum and Median Trip Duration\")\n",
    "ax.plot(x_plot, dfAsorted['min duration'][0:25], 'o', markersize=10, label=\"Minimum Trip Duration\")\n",
    "ax.plot(x_plot, dfAsorted['medians'][0:25], '-', label=\"Median Trip Duration\")\n",
    "\n",
    "ax.set_xticks(x_plot)\n",
    "ax.legend(loc='best')\n",
    "myplot = ax.set_xticklabels(nx, rotation=45, fontsize='large')"
   ]
  },
  {
   "cell_type": "code",
   "execution_count": 205,
   "metadata": {
    "collapsed": false
   },
   "outputs": [
    {
     "data": {
      "text/html": [
       "<div style=\"max-height:1000px;max-width:1500px;overflow:auto;\">\n",
       "<table border=\"1\" class=\"dataframe\">\n",
       "  <thead>\n",
       "    <tr style=\"text-align: right;\">\n",
       "      <th></th>\n",
       "      <th>start station id</th>\n",
       "      <th>end station id</th>\n",
       "      <th>number of trips</th>\n",
       "      <th>min duration</th>\n",
       "      <th>means</th>\n",
       "    </tr>\n",
       "  </thead>\n",
       "  <tbody>\n",
       "    <tr>\n",
       "      <th>7226 </th>\n",
       "      <td> 318</td>\n",
       "      <td> 477</td>\n",
       "      <td> 107</td>\n",
       "      <td> 241</td>\n",
       "      <td> 394.766355</td>\n",
       "    </tr>\n",
       "    <tr>\n",
       "      <th>15996</th>\n",
       "      <td> 458</td>\n",
       "      <td> 521</td>\n",
       "      <td>  70</td>\n",
       "      <td> 251</td>\n",
       "      <td> 393.900000</td>\n",
       "    </tr>\n",
       "    <tr>\n",
       "      <th>22741</th>\n",
       "      <td> 536</td>\n",
       "      <td> 379</td>\n",
       "      <td>  68</td>\n",
       "      <td> 328</td>\n",
       "      <td> 512.602941</td>\n",
       "    </tr>\n",
       "    <tr>\n",
       "      <th>9988 </th>\n",
       "      <td> 359</td>\n",
       "      <td> 477</td>\n",
       "      <td>  64</td>\n",
       "      <td> 381</td>\n",
       "      <td> 505.093750</td>\n",
       "    </tr>\n",
       "    <tr>\n",
       "      <th>19007</th>\n",
       "      <td> 493</td>\n",
       "      <td> 492</td>\n",
       "      <td>  58</td>\n",
       "      <td> 244</td>\n",
       "      <td> 361.362069</td>\n",
       "    </tr>\n",
       "  </tbody>\n",
       "</table>\n",
       "</div>"
      ],
      "text/plain": [
       "       start station id  end station id  number of trips  min duration  \\\n",
       "7226                318             477              107           241   \n",
       "15996               458             521               70           251   \n",
       "22741               536             379               68           328   \n",
       "9988                359             477               64           381   \n",
       "19007               493             492               58           244   \n",
       "\n",
       "            means  \n",
       "7226   394.766355  \n",
       "15996  393.900000  \n",
       "22741  512.602941  \n",
       "9988   505.093750  \n",
       "19007  361.362069  "
      ]
     },
     "execution_count": 205,
     "metadata": {},
     "output_type": "execute_result"
    }
   ],
   "source": [
    "dfsorted[0:5]"
   ]
  },
  {
   "cell_type": "markdown",
   "metadata": {},
   "source": [
    "---\n",
    "##Re-assign to a more memorable identifier\n",
    "---"
   ]
  },
  {
   "cell_type": "code",
   "execution_count": 63,
   "metadata": {
    "collapsed": true
   },
   "outputs": [],
   "source": [
    "dfS1Jan = df"
   ]
  },
  {
   "cell_type": "code",
   "execution_count": 64,
   "metadata": {
    "collapsed": false
   },
   "outputs": [
    {
     "data": {
      "text/html": [
       "<div style=\"max-height:1000px;max-width:1500px;overflow:auto;\">\n",
       "<table border=\"1\" class=\"dataframe\">\n",
       "  <thead>\n",
       "    <tr style=\"text-align: right;\">\n",
       "      <th></th>\n",
       "      <th>tripduration</th>\n",
       "      <th>start station id</th>\n",
       "      <th>start station latitude</th>\n",
       "      <th>start station longitude</th>\n",
       "      <th>end station id</th>\n",
       "      <th>end station latitude</th>\n",
       "      <th>end station longitude</th>\n",
       "      <th>bikeid</th>\n",
       "      <th>gender</th>\n",
       "      <th>dayofweek</th>\n",
       "      <th>holidays</th>\n",
       "      <th>ninetofive</th>\n",
       "    </tr>\n",
       "  </thead>\n",
       "  <tbody>\n",
       "    <tr>\n",
       "      <th>count</th>\n",
       "      <td>  71616.000000</td>\n",
       "      <td> 71616.000000</td>\n",
       "      <td> 71616.000000</td>\n",
       "      <td> 71616.000000</td>\n",
       "      <td> 71616.000000</td>\n",
       "      <td> 71616.000000</td>\n",
       "      <td> 71616.000000</td>\n",
       "      <td> 71616.000000</td>\n",
       "      <td> 71616</td>\n",
       "      <td> 71616</td>\n",
       "      <td> 71616</td>\n",
       "      <td> 71616</td>\n",
       "    </tr>\n",
       "    <tr>\n",
       "      <th>mean</th>\n",
       "      <td>    674.931244</td>\n",
       "      <td>   438.915564</td>\n",
       "      <td>    40.736402</td>\n",
       "      <td>   -73.989989</td>\n",
       "      <td>   439.995392</td>\n",
       "      <td>    40.736551</td>\n",
       "      <td>   -73.990853</td>\n",
       "      <td> 18001.722618</td>\n",
       "      <td>     1</td>\n",
       "      <td>     1</td>\n",
       "      <td>     0</td>\n",
       "      <td>     1</td>\n",
       "    </tr>\n",
       "    <tr>\n",
       "      <th>std</th>\n",
       "      <td>   3065.992557</td>\n",
       "      <td>   323.724689</td>\n",
       "      <td>     0.019000</td>\n",
       "      <td>     0.011658</td>\n",
       "      <td>   325.775525</td>\n",
       "      <td>     0.018758</td>\n",
       "      <td>     0.011371</td>\n",
       "      <td>  2004.455076</td>\n",
       "      <td>     0</td>\n",
       "      <td>     0</td>\n",
       "      <td>     0</td>\n",
       "      <td>     0</td>\n",
       "    </tr>\n",
       "    <tr>\n",
       "      <th>min</th>\n",
       "      <td>     60.000000</td>\n",
       "      <td>    72.000000</td>\n",
       "      <td>    40.680342</td>\n",
       "      <td>   -74.017134</td>\n",
       "      <td>    72.000000</td>\n",
       "      <td>    40.680342</td>\n",
       "      <td>   -74.017134</td>\n",
       "      <td> 14529.000000</td>\n",
       "      <td>     1</td>\n",
       "      <td>  True</td>\n",
       "      <td> False</td>\n",
       "      <td>  True</td>\n",
       "    </tr>\n",
       "    <tr>\n",
       "      <th>25%</th>\n",
       "      <td>    327.000000</td>\n",
       "      <td>   307.000000</td>\n",
       "      <td>    40.723180</td>\n",
       "      <td>   -73.998004</td>\n",
       "      <td>   307.000000</td>\n",
       "      <td>    40.724055</td>\n",
       "      <td>   -73.999061</td>\n",
       "      <td> 16254.000000</td>\n",
       "      <td>     1</td>\n",
       "      <td>     1</td>\n",
       "      <td>     0</td>\n",
       "      <td>     1</td>\n",
       "    </tr>\n",
       "    <tr>\n",
       "      <th>50%</th>\n",
       "      <td>    488.000000</td>\n",
       "      <td>   411.000000</td>\n",
       "      <td>    40.739323</td>\n",
       "      <td>   -73.989978</td>\n",
       "      <td>   412.000000</td>\n",
       "      <td>    40.739445</td>\n",
       "      <td>   -73.990765</td>\n",
       "      <td> 17980.000000</td>\n",
       "      <td>     1</td>\n",
       "      <td>     1</td>\n",
       "      <td>     0</td>\n",
       "      <td>     1</td>\n",
       "    </tr>\n",
       "    <tr>\n",
       "      <th>75%</th>\n",
       "      <td>    738.000000</td>\n",
       "      <td>   490.000000</td>\n",
       "      <td>    40.751396</td>\n",
       "      <td>   -73.981780</td>\n",
       "      <td>   492.000000</td>\n",
       "      <td>    40.750664</td>\n",
       "      <td>   -73.982912</td>\n",
       "      <td> 19716.000000</td>\n",
       "      <td>     1</td>\n",
       "      <td>     1</td>\n",
       "      <td>     0</td>\n",
       "      <td>     1</td>\n",
       "    </tr>\n",
       "    <tr>\n",
       "      <th>max</th>\n",
       "      <td> 495511.000000</td>\n",
       "      <td>  3002.000000</td>\n",
       "      <td>    40.770513</td>\n",
       "      <td>   -73.950048</td>\n",
       "      <td>  3002.000000</td>\n",
       "      <td>    40.770513</td>\n",
       "      <td>   -73.950048</td>\n",
       "      <td> 21536.000000</td>\n",
       "      <td>     1</td>\n",
       "      <td>  True</td>\n",
       "      <td> False</td>\n",
       "      <td>  True</td>\n",
       "    </tr>\n",
       "  </tbody>\n",
       "</table>\n",
       "</div>"
      ],
      "text/plain": [
       "        tripduration  start station id  start station latitude  \\\n",
       "count   71616.000000      71616.000000            71616.000000   \n",
       "mean      674.931244        438.915564               40.736402   \n",
       "std      3065.992557        323.724689                0.019000   \n",
       "min        60.000000         72.000000               40.680342   \n",
       "25%       327.000000        307.000000               40.723180   \n",
       "50%       488.000000        411.000000               40.739323   \n",
       "75%       738.000000        490.000000               40.751396   \n",
       "max    495511.000000       3002.000000               40.770513   \n",
       "\n",
       "       start station longitude  end station id  end station latitude  \\\n",
       "count             71616.000000    71616.000000          71616.000000   \n",
       "mean                -73.989989      439.995392             40.736551   \n",
       "std                   0.011658      325.775525              0.018758   \n",
       "min                 -74.017134       72.000000             40.680342   \n",
       "25%                 -73.998004      307.000000             40.724055   \n",
       "50%                 -73.989978      412.000000             40.739445   \n",
       "75%                 -73.981780      492.000000             40.750664   \n",
       "max                 -73.950048     3002.000000             40.770513   \n",
       "\n",
       "       end station longitude        bikeid  gender dayofweek holidays  \\\n",
       "count           71616.000000  71616.000000   71616     71616    71616   \n",
       "mean              -73.990853  18001.722618       1         1        0   \n",
       "std                 0.011371   2004.455076       0         0        0   \n",
       "min               -74.017134  14529.000000       1      True    False   \n",
       "25%               -73.999061  16254.000000       1         1        0   \n",
       "50%               -73.990765  17980.000000       1         1        0   \n",
       "75%               -73.982912  19716.000000       1         1        0   \n",
       "max               -73.950048  21536.000000       1      True    False   \n",
       "\n",
       "      ninetofive  \n",
       "count      71616  \n",
       "mean           1  \n",
       "std            0  \n",
       "min         True  \n",
       "25%            1  \n",
       "50%            1  \n",
       "75%            1  \n",
       "max         True  "
      ]
     },
     "execution_count": 64,
     "metadata": {},
     "output_type": "execute_result"
    }
   ],
   "source": [
    "dfJan.describe()"
   ]
  },
  {
   "cell_type": "markdown",
   "metadata": {},
   "source": [
    "---\n",
    "##This has reduced the 71616 rows in the original dataset down to a mere 24290 rows\n",
    "---"
   ]
  },
  {
   "cell_type": "code",
   "execution_count": 65,
   "metadata": {
    "collapsed": false
   },
   "outputs": [
    {
     "data": {
      "text/html": [
       "<div style=\"max-height:1000px;max-width:1500px;overflow:auto;\">\n",
       "<table border=\"1\" class=\"dataframe\">\n",
       "  <thead>\n",
       "    <tr style=\"text-align: right;\">\n",
       "      <th></th>\n",
       "      <th>start station id</th>\n",
       "      <th>end station id</th>\n",
       "      <th>number of trips</th>\n",
       "      <th>min duration</th>\n",
       "      <th>medians</th>\n",
       "    </tr>\n",
       "  </thead>\n",
       "  <tbody>\n",
       "    <tr>\n",
       "      <th>count</th>\n",
       "      <td> 24290.000000</td>\n",
       "      <td> 24290.000000</td>\n",
       "      <td> 24290.000000</td>\n",
       "      <td>  24290.000000</td>\n",
       "      <td>  24290.000000</td>\n",
       "    </tr>\n",
       "    <tr>\n",
       "      <th>mean</th>\n",
       "      <td>   439.506834</td>\n",
       "      <td>   440.737876</td>\n",
       "      <td>     2.906464</td>\n",
       "      <td>    764.944874</td>\n",
       "      <td>    831.639337</td>\n",
       "    </tr>\n",
       "    <tr>\n",
       "      <th>std</th>\n",
       "      <td>   341.801998</td>\n",
       "      <td>   346.834319</td>\n",
       "      <td>     3.547931</td>\n",
       "      <td>   4559.771905</td>\n",
       "      <td>   4587.781853</td>\n",
       "    </tr>\n",
       "    <tr>\n",
       "      <th>min</th>\n",
       "      <td>    72.000000</td>\n",
       "      <td>    72.000000</td>\n",
       "      <td>     1.000000</td>\n",
       "      <td>     60.000000</td>\n",
       "      <td>     62.000000</td>\n",
       "    </tr>\n",
       "    <tr>\n",
       "      <th>25%</th>\n",
       "      <td>   303.000000</td>\n",
       "      <td>   300.000000</td>\n",
       "      <td>     1.000000</td>\n",
       "      <td>    343.000000</td>\n",
       "      <td>    405.000000</td>\n",
       "    </tr>\n",
       "    <tr>\n",
       "      <th>50%</th>\n",
       "      <td>   398.000000</td>\n",
       "      <td>   394.000000</td>\n",
       "      <td>     2.000000</td>\n",
       "      <td>    549.000000</td>\n",
       "      <td>    610.500000</td>\n",
       "    </tr>\n",
       "    <tr>\n",
       "      <th>75%</th>\n",
       "      <td>   485.000000</td>\n",
       "      <td>   485.000000</td>\n",
       "      <td>     3.000000</td>\n",
       "      <td>    870.000000</td>\n",
       "      <td>    927.000000</td>\n",
       "    </tr>\n",
       "    <tr>\n",
       "      <th>max</th>\n",
       "      <td>  3002.000000</td>\n",
       "      <td>  3002.000000</td>\n",
       "      <td>   107.000000</td>\n",
       "      <td> 495511.000000</td>\n",
       "      <td> 495511.000000</td>\n",
       "    </tr>\n",
       "  </tbody>\n",
       "</table>\n",
       "</div>"
      ],
      "text/plain": [
       "       start station id  end station id  number of trips   min duration  \\\n",
       "count      24290.000000    24290.000000     24290.000000   24290.000000   \n",
       "mean         439.506834      440.737876         2.906464     764.944874   \n",
       "std          341.801998      346.834319         3.547931    4559.771905   \n",
       "min           72.000000       72.000000         1.000000      60.000000   \n",
       "25%          303.000000      300.000000         1.000000     343.000000   \n",
       "50%          398.000000      394.000000         2.000000     549.000000   \n",
       "75%          485.000000      485.000000         3.000000     870.000000   \n",
       "max         3002.000000     3002.000000       107.000000  495511.000000   \n",
       "\n",
       "             medians  \n",
       "count   24290.000000  \n",
       "mean      831.639337  \n",
       "std      4587.781853  \n",
       "min        62.000000  \n",
       "25%       405.000000  \n",
       "50%       610.500000  \n",
       "75%       927.000000  \n",
       "max    495511.000000  "
      ]
     },
     "execution_count": 65,
     "metadata": {},
     "output_type": "execute_result"
    }
   ],
   "source": [
    "dfS1Jan.describe()"
   ]
  },
  {
   "cell_type": "markdown",
   "metadata": {},
   "source": [
    "---\n",
    "##Sort the dataframe based upon the number of trips taken, we want the station pairs that have the most trips\n",
    "---"
   ]
  },
  {
   "cell_type": "code",
   "execution_count": 66,
   "metadata": {
    "collapsed": false
   },
   "outputs": [],
   "source": [
    "dfS1JanSorted = dfS1Jan.sort(['number of trips'], ascending=False)"
   ]
  },
  {
   "cell_type": "code",
   "execution_count": 67,
   "metadata": {
    "collapsed": false
   },
   "outputs": [],
   "source": [
    "dfS1JanSorted = dfS1JanSorted.reset_index()"
   ]
  },
  {
   "cell_type": "markdown",
   "metadata": {},
   "source": [
    "---\n",
    "##The final dataframe contains station pairs for which a large number of trips have ocurred, and a record of the minimum times taken by the fatest riders\n",
    "---"
   ]
  },
  {
   "cell_type": "code",
   "execution_count": 68,
   "metadata": {
    "collapsed": false
   },
   "outputs": [
    {
     "data": {
      "text/html": [
       "<div style=\"max-height:1000px;max-width:1500px;overflow:auto;\">\n",
       "<table border=\"1\" class=\"dataframe\">\n",
       "  <thead>\n",
       "    <tr style=\"text-align: right;\">\n",
       "      <th></th>\n",
       "      <th>index</th>\n",
       "      <th>start station id</th>\n",
       "      <th>end station id</th>\n",
       "      <th>number of trips</th>\n",
       "      <th>min duration</th>\n",
       "      <th>medians</th>\n",
       "    </tr>\n",
       "  </thead>\n",
       "  <tbody>\n",
       "    <tr>\n",
       "      <th>0</th>\n",
       "      <td>  7226</td>\n",
       "      <td> 318</td>\n",
       "      <td> 477</td>\n",
       "      <td> 107</td>\n",
       "      <td> 241</td>\n",
       "      <td> 385.0</td>\n",
       "    </tr>\n",
       "    <tr>\n",
       "      <th>1</th>\n",
       "      <td> 15996</td>\n",
       "      <td> 458</td>\n",
       "      <td> 521</td>\n",
       "      <td>  70</td>\n",
       "      <td> 251</td>\n",
       "      <td> 381.5</td>\n",
       "    </tr>\n",
       "    <tr>\n",
       "      <th>2</th>\n",
       "      <td> 22741</td>\n",
       "      <td> 536</td>\n",
       "      <td> 379</td>\n",
       "      <td>  68</td>\n",
       "      <td> 328</td>\n",
       "      <td> 479.5</td>\n",
       "    </tr>\n",
       "    <tr>\n",
       "      <th>3</th>\n",
       "      <td>  9988</td>\n",
       "      <td> 359</td>\n",
       "      <td> 477</td>\n",
       "      <td>  64</td>\n",
       "      <td> 381</td>\n",
       "      <td> 490.0</td>\n",
       "    </tr>\n",
       "    <tr>\n",
       "      <th>4</th>\n",
       "      <td> 19007</td>\n",
       "      <td> 493</td>\n",
       "      <td> 492</td>\n",
       "      <td>  58</td>\n",
       "      <td> 244</td>\n",
       "      <td> 348.5</td>\n",
       "    </tr>\n",
       "  </tbody>\n",
       "</table>\n",
       "</div>"
      ],
      "text/plain": [
       "   index  start station id  end station id  number of trips  min duration  \\\n",
       "0   7226               318             477              107           241   \n",
       "1  15996               458             521               70           251   \n",
       "2  22741               536             379               68           328   \n",
       "3   9988               359             477               64           381   \n",
       "4  19007               493             492               58           244   \n",
       "\n",
       "   medians  \n",
       "0    385.0  \n",
       "1    381.5  \n",
       "2    479.5  \n",
       "3    490.0  \n",
       "4    348.5  "
      ]
     },
     "execution_count": 68,
     "metadata": {},
     "output_type": "execute_result"
    }
   ],
   "source": [
    "dfS1JanSorted.head()"
   ]
  },
  {
   "cell_type": "markdown",
   "metadata": {},
   "source": [
    "---\n",
    "##Now use this data frame to pull out the records from the raw data\n",
    "##We want the full record of the trips between 2 stations that took the minimum duration of time, remembering that these are the most popular routes\n",
    "##Let's limit it to having 1000 records per month\n",
    "---"
   ]
  },
  {
   "cell_type": "code",
   "execution_count": 69,
   "metadata": {
    "collapsed": true
   },
   "outputs": [],
   "source": [
    "def process_top(df):\n",
    "    dftemp = df[df['start station id'] != df['end station id']].copy()\n",
    "    \n",
    "    dfstemp = dftemp[['start station id', 'end station id', 'tripduration']]\n",
    "    \n",
    "    temp = dfstemp.groupby(['start station id', 'end station id'])\n",
    "    \n",
    "    counts = temp.count()\n",
    "    counts.columns = ['number of trips']\n",
    "    mins = temp.min()\n",
    "    mins.columns = ['min duration']\n",
    "    \n",
    "    dfm = pd.merge(counts, mins, left_index=True, right_index=True)\n",
    "    dfm = dfm.reset_index()\n",
    "    \n",
    "    dfmSorted = dfm.sort(['number of trips'], ascending=False)\n",
    "    dfmSorted = dfmSorted.reset_index()\n",
    "    \n",
    "    #create a new dataframe of 1000 records\n",
    "    nn = np.arange(0,1000)\n",
    "    dfN = pd.DataFrame(columns = df.columns, index=nn)\n",
    "\n",
    "    count = 0\n",
    "    for i in xrange(1000):\n",
    "        \n",
    "        #get the trips that match the criterion, working our way through the sort dataframe\n",
    "        temp = dfJan[(df['start station id'] == dfmSorted['start station id'][i]) & \\\n",
    "             (df['end station id'] == dfmSorted['end station id'][i]) & \\\n",
    "             (df['tripduration'] == dfmSorted['min duration'][i])]\n",
    "        \n",
    "        #this may return more than a single record\n",
    "        #either way transfer the row across\n",
    "        if len(temp) > 1:\n",
    "            for j in xrange(len(temp)):\n",
    "                dfN.loc[count] = temp.iloc[j].values\n",
    "                count += 1\n",
    "        else :\n",
    "            try:\n",
    "                dfN.loc[count] = temp.iloc[0].values\n",
    "                count += 1\n",
    "            except:\n",
    "                print len(temp)\n",
    "                print temp.values\n",
    "        if count == 1000:\n",
    "            break\n",
    "    \n",
    "    return dfN\n",
    "    "
   ]
  },
  {
   "cell_type": "code",
   "execution_count": 70,
   "metadata": {
    "collapsed": true
   },
   "outputs": [],
   "source": [
    "dfN = process_top(dfJan)"
   ]
  },
  {
   "cell_type": "code",
   "execution_count": 71,
   "metadata": {
    "collapsed": false
   },
   "outputs": [
    {
     "name": "stdout",
     "output_type": "stream",
     "text": [
      "<class 'pandas.core.frame.DataFrame'>\n",
      "Int64Index: 1000 entries, 0 to 999\n",
      "Data columns (total 18 columns):\n",
      "tripduration               1000 non-null object\n",
      "starttime                  1000 non-null object\n",
      "stoptime                   1000 non-null object\n",
      "start station id           1000 non-null object\n",
      "start station name         1000 non-null object\n",
      "start station latitude     1000 non-null object\n",
      "start station longitude    1000 non-null object\n",
      "end station id             1000 non-null object\n",
      "end station name           1000 non-null object\n",
      "end station latitude       1000 non-null object\n",
      "end station longitude      1000 non-null object\n",
      "bikeid                     1000 non-null object\n",
      "usertype                   1000 non-null object\n",
      "birth year                 1000 non-null object\n",
      "gender                     1000 non-null object\n",
      "dayofweek                  1000 non-null object\n",
      "holidays                   1000 non-null object\n",
      "ninetofive                 1000 non-null object\n",
      "dtypes: object(18)\n",
      "memory usage: 148.4+ KB\n"
     ]
    }
   ],
   "source": [
    "dfN.info()"
   ]
  },
  {
   "cell_type": "code",
   "execution_count": 86,
   "metadata": {
    "collapsed": false,
    "scrolled": true
   },
   "outputs": [
    {
     "data": {
      "text/html": [
       "<div style=\"max-height:1000px;max-width:1500px;overflow:auto;\">\n",
       "<table border=\"1\" class=\"dataframe\">\n",
       "  <thead>\n",
       "    <tr style=\"text-align: right;\">\n",
       "      <th></th>\n",
       "      <th>start station id</th>\n",
       "      <th>end station id</th>\n",
       "      <th>tripduration</th>\n",
       "      <th>starttime</th>\n",
       "      <th>stoptime</th>\n",
       "      <th>usertype</th>\n",
       "      <th>gender</th>\n",
       "      <th>dayofweek</th>\n",
       "      <th>holidays</th>\n",
       "      <th>ninetofive</th>\n",
       "    </tr>\n",
       "  </thead>\n",
       "  <tbody>\n",
       "    <tr>\n",
       "      <th>0 </th>\n",
       "      <td>  318</td>\n",
       "      <td> 477</td>\n",
       "      <td> 241</td>\n",
       "      <td> 2014-01-10 16:26:25</td>\n",
       "      <td> 2014-01-10 16:30:26</td>\n",
       "      <td> Subscriber</td>\n",
       "      <td> 1</td>\n",
       "      <td> True</td>\n",
       "      <td> False</td>\n",
       "      <td> True</td>\n",
       "    </tr>\n",
       "    <tr>\n",
       "      <th>1 </th>\n",
       "      <td>  458</td>\n",
       "      <td> 521</td>\n",
       "      <td> 251</td>\n",
       "      <td> 2014-01-17 16:18:16</td>\n",
       "      <td> 2014-01-17 16:22:27</td>\n",
       "      <td> Subscriber</td>\n",
       "      <td> 1</td>\n",
       "      <td> True</td>\n",
       "      <td> False</td>\n",
       "      <td> True</td>\n",
       "    </tr>\n",
       "    <tr>\n",
       "      <th>2 </th>\n",
       "      <td>  536</td>\n",
       "      <td> 379</td>\n",
       "      <td> 328</td>\n",
       "      <td> 2014-01-15 14:53:14</td>\n",
       "      <td> 2014-01-15 14:58:42</td>\n",
       "      <td> Subscriber</td>\n",
       "      <td> 1</td>\n",
       "      <td> True</td>\n",
       "      <td> False</td>\n",
       "      <td> True</td>\n",
       "    </tr>\n",
       "    <tr>\n",
       "      <th>3 </th>\n",
       "      <td>  359</td>\n",
       "      <td> 477</td>\n",
       "      <td> 381</td>\n",
       "      <td> 2014-01-17 15:10:45</td>\n",
       "      <td> 2014-01-17 15:17:06</td>\n",
       "      <td> Subscriber</td>\n",
       "      <td> 1</td>\n",
       "      <td> True</td>\n",
       "      <td> False</td>\n",
       "      <td> True</td>\n",
       "    </tr>\n",
       "    <tr>\n",
       "      <th>4 </th>\n",
       "      <td>  493</td>\n",
       "      <td> 492</td>\n",
       "      <td> 244</td>\n",
       "      <td> 2014-01-15 12:58:43</td>\n",
       "      <td> 2014-01-15 13:02:47</td>\n",
       "      <td> Subscriber</td>\n",
       "      <td> 1</td>\n",
       "      <td> True</td>\n",
       "      <td> False</td>\n",
       "      <td> True</td>\n",
       "    </tr>\n",
       "    <tr>\n",
       "      <th>5 </th>\n",
       "      <td> 2012</td>\n",
       "      <td> 379</td>\n",
       "      <td> 469</td>\n",
       "      <td> 2014-01-02 14:23:43</td>\n",
       "      <td> 2014-01-02 14:31:32</td>\n",
       "      <td> Subscriber</td>\n",
       "      <td> 1</td>\n",
       "      <td> True</td>\n",
       "      <td> False</td>\n",
       "      <td> True</td>\n",
       "    </tr>\n",
       "    <tr>\n",
       "      <th>6 </th>\n",
       "      <td>  329</td>\n",
       "      <td> 327</td>\n",
       "      <td> 176</td>\n",
       "      <td> 2014-01-15 16:12:15</td>\n",
       "      <td> 2014-01-15 16:15:11</td>\n",
       "      <td> Subscriber</td>\n",
       "      <td> 1</td>\n",
       "      <td> True</td>\n",
       "      <td> False</td>\n",
       "      <td> True</td>\n",
       "    </tr>\n",
       "    <tr>\n",
       "      <th>7 </th>\n",
       "      <td>  153</td>\n",
       "      <td> 492</td>\n",
       "      <td> 196</td>\n",
       "      <td> 2014-01-15 12:06:45</td>\n",
       "      <td> 2014-01-15 12:10:01</td>\n",
       "      <td> Subscriber</td>\n",
       "      <td> 1</td>\n",
       "      <td> True</td>\n",
       "      <td> False</td>\n",
       "      <td> True</td>\n",
       "    </tr>\n",
       "    <tr>\n",
       "      <th>8 </th>\n",
       "      <td>  519</td>\n",
       "      <td> 492</td>\n",
       "      <td> 346</td>\n",
       "      <td> 2014-01-17 13:39:11</td>\n",
       "      <td> 2014-01-17 13:44:57</td>\n",
       "      <td> Subscriber</td>\n",
       "      <td> 1</td>\n",
       "      <td> True</td>\n",
       "      <td> False</td>\n",
       "      <td> True</td>\n",
       "    </tr>\n",
       "    <tr>\n",
       "      <th>9 </th>\n",
       "      <td>  546</td>\n",
       "      <td> 379</td>\n",
       "      <td> 194</td>\n",
       "      <td> 2014-01-17 16:12:09</td>\n",
       "      <td> 2014-01-17 16:15:23</td>\n",
       "      <td> Subscriber</td>\n",
       "      <td> 1</td>\n",
       "      <td> True</td>\n",
       "      <td> False</td>\n",
       "      <td> True</td>\n",
       "    </tr>\n",
       "    <tr>\n",
       "      <th>10</th>\n",
       "      <td>  494</td>\n",
       "      <td> 388</td>\n",
       "      <td> 132</td>\n",
       "      <td> 2014-01-08 09:09:28</td>\n",
       "      <td> 2014-01-08 09:11:40</td>\n",
       "      <td> Subscriber</td>\n",
       "      <td> 1</td>\n",
       "      <td> True</td>\n",
       "      <td> False</td>\n",
       "      <td> True</td>\n",
       "    </tr>\n",
       "    <tr>\n",
       "      <th>11</th>\n",
       "      <td>  525</td>\n",
       "      <td> 490</td>\n",
       "      <td> 216</td>\n",
       "      <td> 2014-01-06 15:39:10</td>\n",
       "      <td> 2014-01-06 15:42:46</td>\n",
       "      <td> Subscriber</td>\n",
       "      <td> 1</td>\n",
       "      <td> True</td>\n",
       "      <td> False</td>\n",
       "      <td> True</td>\n",
       "    </tr>\n",
       "    <tr>\n",
       "      <th>12</th>\n",
       "      <td>  472</td>\n",
       "      <td> 527</td>\n",
       "      <td> 174</td>\n",
       "      <td> 2014-01-08 11:01:27</td>\n",
       "      <td> 2014-01-08 11:04:21</td>\n",
       "      <td> Subscriber</td>\n",
       "      <td> 1</td>\n",
       "      <td> True</td>\n",
       "      <td> False</td>\n",
       "      <td> True</td>\n",
       "    </tr>\n",
       "    <tr>\n",
       "      <th>13</th>\n",
       "      <td>  528</td>\n",
       "      <td> 379</td>\n",
       "      <td> 343</td>\n",
       "      <td> 2014-01-09 15:51:31</td>\n",
       "      <td> 2014-01-09 15:57:14</td>\n",
       "      <td> Subscriber</td>\n",
       "      <td> 1</td>\n",
       "      <td> True</td>\n",
       "      <td> False</td>\n",
       "      <td> True</td>\n",
       "    </tr>\n",
       "    <tr>\n",
       "      <th>14</th>\n",
       "      <td>  536</td>\n",
       "      <td> 477</td>\n",
       "      <td> 710</td>\n",
       "      <td> 2014-01-16 15:14:21</td>\n",
       "      <td> 2014-01-16 15:26:11</td>\n",
       "      <td> Subscriber</td>\n",
       "      <td> 1</td>\n",
       "      <td> True</td>\n",
       "      <td> False</td>\n",
       "      <td> True</td>\n",
       "    </tr>\n",
       "    <tr>\n",
       "      <th>15</th>\n",
       "      <td>  538</td>\n",
       "      <td> 492</td>\n",
       "      <td> 381</td>\n",
       "      <td> 2014-01-30 14:26:23</td>\n",
       "      <td> 2014-01-30 14:32:44</td>\n",
       "      <td> Subscriber</td>\n",
       "      <td> 1</td>\n",
       "      <td> True</td>\n",
       "      <td> False</td>\n",
       "      <td> True</td>\n",
       "    </tr>\n",
       "    <tr>\n",
       "      <th>16</th>\n",
       "      <td>  417</td>\n",
       "      <td> 377</td>\n",
       "      <td> 285</td>\n",
       "      <td> 2014-01-17 10:33:42</td>\n",
       "      <td> 2014-01-17 10:38:27</td>\n",
       "      <td> Subscriber</td>\n",
       "      <td> 1</td>\n",
       "      <td> True</td>\n",
       "      <td> False</td>\n",
       "      <td> True</td>\n",
       "    </tr>\n",
       "    <tr>\n",
       "      <th>17</th>\n",
       "      <td>  294</td>\n",
       "      <td> 483</td>\n",
       "      <td> 178</td>\n",
       "      <td> 2014-01-16 15:30:52</td>\n",
       "      <td> 2014-01-16 15:33:50</td>\n",
       "      <td> Subscriber</td>\n",
       "      <td> 1</td>\n",
       "      <td> True</td>\n",
       "      <td> False</td>\n",
       "      <td> True</td>\n",
       "    </tr>\n",
       "    <tr>\n",
       "      <th>18</th>\n",
       "      <td>  318</td>\n",
       "      <td> 524</td>\n",
       "      <td> 112</td>\n",
       "      <td> 2014-01-17 12:41:29</td>\n",
       "      <td> 2014-01-17 12:43:21</td>\n",
       "      <td> Subscriber</td>\n",
       "      <td> 1</td>\n",
       "      <td> True</td>\n",
       "      <td> False</td>\n",
       "      <td> True</td>\n",
       "    </tr>\n",
       "    <tr>\n",
       "      <th>19</th>\n",
       "      <td>   72</td>\n",
       "      <td> 488</td>\n",
       "      <td> 293</td>\n",
       "      <td> 2014-01-27 16:09:58</td>\n",
       "      <td> 2014-01-27 16:14:51</td>\n",
       "      <td> Subscriber</td>\n",
       "      <td> 1</td>\n",
       "      <td> True</td>\n",
       "      <td> False</td>\n",
       "      <td> True</td>\n",
       "    </tr>\n",
       "  </tbody>\n",
       "</table>\n",
       "</div>"
      ],
      "text/plain": [
       "   start station id end station id tripduration            starttime  \\\n",
       "0               318            477          241  2014-01-10 16:26:25   \n",
       "1               458            521          251  2014-01-17 16:18:16   \n",
       "2               536            379          328  2014-01-15 14:53:14   \n",
       "3               359            477          381  2014-01-17 15:10:45   \n",
       "4               493            492          244  2014-01-15 12:58:43   \n",
       "5              2012            379          469  2014-01-02 14:23:43   \n",
       "6               329            327          176  2014-01-15 16:12:15   \n",
       "7               153            492          196  2014-01-15 12:06:45   \n",
       "8               519            492          346  2014-01-17 13:39:11   \n",
       "9               546            379          194  2014-01-17 16:12:09   \n",
       "10              494            388          132  2014-01-08 09:09:28   \n",
       "11              525            490          216  2014-01-06 15:39:10   \n",
       "12              472            527          174  2014-01-08 11:01:27   \n",
       "13              528            379          343  2014-01-09 15:51:31   \n",
       "14              536            477          710  2014-01-16 15:14:21   \n",
       "15              538            492          381  2014-01-30 14:26:23   \n",
       "16              417            377          285  2014-01-17 10:33:42   \n",
       "17              294            483          178  2014-01-16 15:30:52   \n",
       "18              318            524          112  2014-01-17 12:41:29   \n",
       "19               72            488          293  2014-01-27 16:09:58   \n",
       "\n",
       "               stoptime    usertype gender dayofweek holidays ninetofive  \n",
       "0   2014-01-10 16:30:26  Subscriber      1      True    False       True  \n",
       "1   2014-01-17 16:22:27  Subscriber      1      True    False       True  \n",
       "2   2014-01-15 14:58:42  Subscriber      1      True    False       True  \n",
       "3   2014-01-17 15:17:06  Subscriber      1      True    False       True  \n",
       "4   2014-01-15 13:02:47  Subscriber      1      True    False       True  \n",
       "5   2014-01-02 14:31:32  Subscriber      1      True    False       True  \n",
       "6   2014-01-15 16:15:11  Subscriber      1      True    False       True  \n",
       "7   2014-01-15 12:10:01  Subscriber      1      True    False       True  \n",
       "8   2014-01-17 13:44:57  Subscriber      1      True    False       True  \n",
       "9   2014-01-17 16:15:23  Subscriber      1      True    False       True  \n",
       "10  2014-01-08 09:11:40  Subscriber      1      True    False       True  \n",
       "11  2014-01-06 15:42:46  Subscriber      1      True    False       True  \n",
       "12  2014-01-08 11:04:21  Subscriber      1      True    False       True  \n",
       "13  2014-01-09 15:57:14  Subscriber      1      True    False       True  \n",
       "14  2014-01-16 15:26:11  Subscriber      1      True    False       True  \n",
       "15  2014-01-30 14:32:44  Subscriber      1      True    False       True  \n",
       "16  2014-01-17 10:38:27  Subscriber      1      True    False       True  \n",
       "17  2014-01-16 15:33:50  Subscriber      1      True    False       True  \n",
       "18  2014-01-17 12:43:21  Subscriber      1      True    False       True  \n",
       "19  2014-01-27 16:14:51  Subscriber      1      True    False       True  "
      ]
     },
     "execution_count": 86,
     "metadata": {},
     "output_type": "execute_result"
    }
   ],
   "source": [
    "dfDisplay = dfN[['start station id', 'end station id', 'tripduration', 'starttime', 'stoptime', \\\n",
    "                 'usertype', 'gender', 'dayofweek', 'holidays', 'ninetofive']]\n",
    "dfDisplay[0:20]"
   ]
  }
 ],
 "metadata": {
  "kernelspec": {
   "display_name": "Python 2",
   "language": "python",
   "name": "python2"
  },
  "language_info": {
   "codemirror_mode": {
    "name": "ipython",
    "version": 2
   },
   "file_extension": ".py",
   "mimetype": "text/x-python",
   "name": "python",
   "nbconvert_exporter": "python",
   "pygments_lexer": "ipython2",
   "version": "2.7.9"
  }
 },
 "nbformat": 4,
 "nbformat_minor": 0
}
