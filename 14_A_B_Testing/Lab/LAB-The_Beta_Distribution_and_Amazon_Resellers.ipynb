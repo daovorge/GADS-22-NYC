{
 "cells": [
  {
   "cell_type": "code",
   "execution_count": 1,
   "metadata": {
    "collapsed": false
   },
   "outputs": [],
   "source": [
    "import pandas as pd\n",
    "import numpy as np\n",
    "import matplotlib.pyplot as plt\n",
    "%matplotlib inline\n",
    "from scipy.stats import beta"
   ]
  },
  {
   "cell_type": "markdown",
   "metadata": {},
   "source": [
    "---\n",
    "The Beta Distribution\n",
    "=====\n",
    "***"
   ]
  },
  {
   "cell_type": "markdown",
   "metadata": {},
   "source": [
    "####1. Set a = 5, b = 10 and calculate the mean and variance of the resulting beta distribution. Now spend a couple of minutes altering the values for a and b and noting the change in mean and variance"
   ]
  },
  {
   "cell_type": "markdown",
   "metadata": {},
   "source": [
    "####2. Generate 100 random values from your beta distribution (the one that you defined in 1. above)"
   ]
  },
  {
   "cell_type": "markdown",
   "metadata": {},
   "source": [
    "####3. Now, on the same graph, plot a histogram of the random values, and a plot of the pdf"
   ]
  },
  {
   "cell_type": "markdown",
   "metadata": {},
   "source": [
    "---\n",
    "[A Bayesian view of Amazon Resellers](http://www.johndcook.com/blog/2011/09/27/bayesian-amazon/)\n",
    "=====\n",
    "***"
   ]
  },
  {
   "cell_type": "markdown",
   "metadata": {},
   "source": [
    "####Three Amazon resellers offer a book at essentially the same price. Here are their ratings:\n",
    "- 94% positive out of 85,193 reviews\n",
    "- 98% positive out of 20,785 reviews\n",
    "- 99% positive out of 840 reviews\n",
    "####Which reseller is likely to give the best service?"
   ]
  },
  {
   "cell_type": "markdown",
   "metadata": {},
   "source": [
    "#### A simpler example:\n",
    "\n",
    "- Reseller A has 90 positive reviews out of 100 (90% positive)\n",
    "- Reseller B has two reviews, both positive. (100% positive)\n",
    "\n",
    "####Which is better?  (better = more trustworthy)"
   ]
  },
  {
   "cell_type": "code",
   "execution_count": 2,
   "metadata": {
    "collapsed": false
   },
   "outputs": [
    {
     "data": {
      "text/plain": [
       "<matplotlib.legend.Legend at 0x10d0cd090>"
      ]
     },
     "execution_count": 2,
     "metadata": {},
     "output_type": "execute_result"
    },
    {
     "data": {
      "image/png": "[encoded data removed]",
      "text/plain": [
       "<matplotlib.figure.Figure at 0x10d088d10>"
      ]
     },
     "metadata": {},
     "output_type": "display_data"
    }
   ],
   "source": [
    "# Plot Beta Distribution of Beta(1,1) (the Prior)\n",
    "# Plot Beta(1,1)\n",
    "# Plot Beta(91,11)\n",
    "# Plot Beta(3,1)\n",
    "# what does pdf plot look like?\n",
    "fig = plt.figure(figsize=(5, 5))\n",
    "ax = plt.subplot(111)\n",
    "\n",
    "xs = np.linspace(0, 1, 200)\n",
    "\n",
    "resellerA_a = 90 + 1\n",
    "resellerA_b = 10 + 1\n",
    "resellerB_a = 2 + 1\n",
    "resellerB_b = 0 + 1\n",
    "pA = ax.plot(xs, beta.pdf(xs, resellerA_a, resellerA_b), 'r-', lw=2, alpha=0.6, \n",
    "             label='beta(a=%0.2f, b=%0.2f) pdf'%(resellerA_a, resellerA_b))\n",
    "pB = ax.plot(xs, beta.pdf(xs, resellerB_a, resellerB_b), 'b-', lw=2, alpha=0.6, \n",
    "             label='beta(a=%0.2f, b=%0.2f) pdf'%(resellerB_a, resellerB_b))\n",
    "\n",
    "ax.legend()"
   ]
  },
  {
   "cell_type": "code",
   "execution_count": 3,
   "metadata": {
    "collapsed": false
   },
   "outputs": [],
   "source": [
    "# What is the probability that a sample from resellerA is bigger than a sample from resellerB?\n",
    "# We answer this with random sampling!\n",
    "def percent_better(a1, b1, a2, b2, size):\n",
    "    \n",
    "    ra = beta.rvs(a1, b1, size=size)\n",
    "    #print ra\n",
    "    rb = beta.rvs(a2, b2, size=size)\n",
    "    #print rb\n",
    "    #This is just a count of the number of times ra exceeds rb\n",
    "    #print (ra >= rb)\n",
    "    return sum(ra >= rb) / float(size)"
   ]
  },
  {
   "cell_type": "code",
   "execution_count": 4,
   "metadata": {
    "collapsed": false
   },
   "outputs": [
    {
     "name": "stdout",
     "output_type": "stream",
     "text": [
      "Reseller A is better than Reseller B by 0.71%\n"
     ]
    }
   ],
   "source": [
    "pb = percent_better(resellerA_a, resellerA_b, resellerB_a, resellerB_b, size=100000)\n",
    "if pb > 0.5:\n",
    "    print \"Reseller A is better than Reseller B by {:0.2}%\".format(pb)\n",
    "else:\n",
    "    print \"Reseller B is better than Reseller A by {:0.2}%\".format(pb)"
   ]
  },
  {
   "cell_type": "markdown",
   "metadata": {},
   "source": [
    "####4. Now replicate this analysis for the original problem, including plotting the 3 distributions for each reseller, finding the means and variances for the distribution of each reseller, and determining which is 'best'\n",
    "####5. What do you notice?"
   ]
  },
  {
   "cell_type": "markdown",
   "metadata": {},
   "source": [
    "## Back to the original Question\n",
    "Three Amazon resellers offer a book at essentially the same price. Here are their ratings:\n",
    "    \n",
    "- Reseller A: 94% positive out of 85,193 reviews\n",
    "- Reseller B: 98% positive out of 20,785 reviews\n",
    "- Reseller C: 99% positive out of 840 reviews\n",
    "\n",
    "Which reseller is likely to give the best service?"
   ]
  }
 ],
 "metadata": {
  "kernelspec": {
   "display_name": "Python 2",
   "language": "python",
   "name": "python2"
  },
  "language_info": {
   "codemirror_mode": {
    "name": "ipython",
    "version": 2
   },
   "file_extension": ".py",
   "mimetype": "text/x-python",
   "name": "python",
   "nbconvert_exporter": "python",
   "pygments_lexer": "ipython2",
   "version": "2.7.10"
  }
 },
 "nbformat": 4,
 "nbformat_minor": 0
}
