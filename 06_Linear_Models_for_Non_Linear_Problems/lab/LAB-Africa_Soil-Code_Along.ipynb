{
 "cells": [
  {
   "cell_type": "code",
   "execution_count": 46,
   "metadata": {
    "collapsed": false
   },
   "outputs": [],
   "source": [
    "import pandas as pd\n",
    "import numpy as np\n",
    "import matplotlib.pyplot as plt\n",
    "import matplotlib as mpl\n",
    "mpl.style.use('ggplot')\n",
    "%matplotlib inline\n",
    "from sklearn.pipeline import make_pipeline\n",
    "from sklearn.preprocessing import PolynomialFeatures\n",
    "from sklearn.linear_model import LinearRegression\n",
    "from sklearn.pipeline import Pipeline\n",
    "from sklearn.metrics import mean_squared_error"
   ]
  },
  {
   "cell_type": "markdown",
   "metadata": {},
   "source": [
    "#Africa Soil Prediction"
   ]
  },
  {
   "cell_type": "markdown",
   "metadata": {},
   "source": [
    "##Source = www.kaggle.com Africa Soil Property Prediction Challenge\n",
    "\n",
    "###Data munged and modified by Jarret Petrillo, GADs-14 TA\n",
    "\n",
    "Predict physical and chemical properties of soil using spectral measurements\n",
    "\n",
    "\"Advances in rapid, low cost analysis of soil samples using infrared spectroscopy, georeferencing of soil samples, and greater availability of earth remote sensing data provide new opportunities for predicting soil functional properties at unsampled locations. Soil functional properties are those properties related to a soil’s capacity to support essential ecosystem services such as primary productivity, nutrient and water retention, and resistance to soil erosion. Digital mapping of soil functional properties, especially in data sparse regions such as Africa, is important for planning sustainable agricultural intensification and natural resources management.\"\n",
    "\n",
    "\"Diffuse reflectance infrared spectroscopy has shown potential in numerous studies to provide a highly repeatable, rapid and low cost measurement of many soil functional properties. The amount of light absorbed by a soil sample is measured, with minimal sample preparation, at hundreds of specific wavebands across a range of wavelengths to provide an infrared spectrum. The measurement can be typically performed in about 30 seconds, in contrast to conventional reference tests, which are slow and expensive and use chemicals.\"\n",
    "\n",
    "\"Conventional reference soil tests are calibrated to the infrared spectra on a subset of samples selected to span the diversity in soils in a given target geographical area. The calibration models are then used to predict the soil test values for the whole sample set. The predicted soil test values from georeferenced soil samples can in turn be calibrated to remote sensing covariates, which are recorded for every pixel at a fixed spatial resolution in an area, and the calibration model is then used to predict the soil test values for each pixel. The result is a digital map of the soil properties.\""
   ]
  },
  {
   "cell_type": "markdown",
   "metadata": {},
   "source": [
    "##pH is the target variable for predictions. \n",
    "\n",
    "####The data have been monotonously transformed from the original measurements and thus include negative values. \n",
    "\n",
    "   * PIDN: unique soil sample identifier\n",
    "   * pH: pH values\n",
    "   * ELEV: Shuttle Radar Topography Mission elevation data\n",
    "   * Ref: average long-term Reflectance measurements from MODIS satellite images (Ref2 = red)\n",
    "   * BSA: average long-term Black Sky Albedo measurements from MODIS satellite images (BSAN = near-infrared)\n",
    "   * LST: average long-term Land Surface Temperatures from MODIS satellite images (LSTN = night time temperature)\n",
    "   * Infrared01 - Infrared05: These are 5 bands of infrared absorbance measurements."
   ]
  },
  {
   "cell_type": "code",
   "execution_count": 47,
   "metadata": {
    "collapsed": false
   },
   "outputs": [],
   "source": [
    "data = pd.read_csv(\"/Users/mrgholt/GADS-22-NYC/Datasets/africa_ph.csv\")\n",
    "del data['Unnamed: 0']"
   ]
  },
  {
   "cell_type": "markdown",
   "metadata": {},
   "source": [
    "##Aim: To predict pH using one, some or all of the other data features available\n",
    "###NB: This is a clean dataset! - You do not have to spend time finding NaNs, or '.', or '#'. Simply go straight to the plotting and fun stuff (aka non-linear regression)"
   ]
  },
  {
   "cell_type": "markdown",
   "metadata": {},
   "source": [
    "##1. Produce a plot of the pH values\n",
    "####Suggestion: for this exercise it is considerably easier to use the plot function build into the pandas dataframe data structure"
   ]
  },
  {
   "cell_type": "markdown",
   "metadata": {},
   "source": [
    "##2. Using 'corrwith' list out the features and their correlation coefficients (against the pH)"
   ]
  },
  {
   "cell_type": "markdown",
   "metadata": {},
   "source": [
    "##3. Order the coefficients in terms of descending magnitude (absolute value) of correlation with pH, and plot them "
   ]
  },
  {
   "cell_type": "markdown",
   "metadata": {},
   "source": [
    "##4. Plot each of the features in turn\n",
    "##5. Make some observations that might be pertinent to the choice of features necessary to accurately predict pH\n",
    "####Hint: is there is an obvious case of colinearity amongst the prospective input features"
   ]
  },
  {
   "cell_type": "markdown",
   "metadata": {},
   "source": [
    "##6. Produce scatter plots for the 3 top features, each vs pH"
   ]
  },
  {
   "cell_type": "markdown",
   "metadata": {},
   "source": [
    "##7. Produce a scatter plot for the ELEV feature vs pH"
   ]
  },
  {
   "cell_type": "markdown",
   "metadata": {},
   "source": [
    "##8. Make an observation about the ELEV data"
   ]
  },
  {
   "cell_type": "markdown",
   "metadata": {},
   "source": [
    "##9. Pick at least 3 features to use in a non-linear regressive model"
   ]
  },
  {
   "cell_type": "markdown",
   "metadata": {},
   "source": [
    "##10. Using your choice of features randomly partition the dataset into 2 separate data subsets - a training set and a test set.\n",
    "###Your initial dataset should have m = 736 (736 training examples). The training set and test set should then contain around half each (doesn't have to be an equal split - just a random assignment, approximately half"
   ]
  },
  {
   "cell_type": "markdown",
   "metadata": {},
   "source": [
    "##11. Now write a loop to fit non-linear regression models of degree 1 to 20 using the training set\n",
    "###For each model you construct measure the mean squared error of the model on the TEST set (NOT the training set)"
   ]
  },
  {
   "cell_type": "markdown",
   "metadata": {},
   "source": [
    "##12. What is the correlation between the predicted pH on the test data and the actual test data pH for the best model?"
   ]
  },
  {
   "cell_type": "markdown",
   "metadata": {},
   "source": [
    "##13. Plot the actual pH (test set) and predicted pH (test set) on the same plot using the best model\n",
    "###The model has not \"seen\" the data in the test set before so now we get to see how well it does in the wild"
   ]
  }
 ],
 "metadata": {
  "kernelspec": {
   "display_name": "Python 2",
   "language": "python",
   "name": "python2"
  },
  "language_info": {
   "codemirror_mode": {
    "name": "ipython",
    "version": 2
   },
   "file_extension": ".py",
   "mimetype": "text/x-python",
   "name": "python",
   "nbconvert_exporter": "python",
   "pygments_lexer": "ipython2",
   "version": "2.7.9"
  }
 },
 "nbformat": 4,
 "nbformat_minor": 0
}
