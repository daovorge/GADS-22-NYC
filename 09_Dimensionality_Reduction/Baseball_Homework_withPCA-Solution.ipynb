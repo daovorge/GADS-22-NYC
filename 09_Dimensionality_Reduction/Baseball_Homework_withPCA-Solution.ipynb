{
 "cells": [
  {
   "cell_type": "code",
   "execution_count": 1,
   "metadata": {
    "collapsed": false
   },
   "outputs": [],
   "source": [
    "import pandas as pd\n",
    "import numpy as np\n",
    "\n",
    "import matplotlib.pyplot as plt\n",
    "import matplotlib as mpl\n",
    "import operator\n",
    "%matplotlib inline\n",
    "\n",
    "from sklearn import cross_validation\n",
    "from sklearn import preprocessing\n",
    "from sklearn.pipeline import make_pipeline\n",
    "from sklearn.preprocessing import PolynomialFeatures\n",
    "from sklearn.pipeline import Pipeline\n",
    "from sklearn.decomposition import PCA\n",
    "from sklearn.metrics import mean_squared_error\n",
    "from sklearn.cross_validation import train_test_split\n",
    "from sklearn.linear_model import Ridge\n",
    "from sklearn.linear_model import Lasso"
   ]
  },
  {
   "cell_type": "markdown",
   "metadata": {},
   "source": [
    "---\n",
    "#Using PCA to 'optimize' the brute force solution\n",
    "---"
   ]
  },
  {
   "cell_type": "markdown",
   "metadata": {},
   "source": [
    "---\n",
    "##Do a little data munging\n",
    "---"
   ]
  },
  {
   "cell_type": "code",
   "execution_count": 2,
   "metadata": {
    "collapsed": false
   },
   "outputs": [],
   "source": [
    "df = pd.read_csv('/Users/mrgholt/GADS-22-NYC/Datasets/Hitters.csv')\n",
    "df.dropna(inplace = True)\n",
    "df.League = pd.factorize(df.League)[0]\n",
    "df.Division = pd.factorize(df.Division)[0]\n",
    "df.NewLeague = pd.factorize(df.NewLeague)[0]"
   ]
  },
  {
   "cell_type": "markdown",
   "metadata": {},
   "source": [
    "---\n",
    "##Feature Scale\n",
    "---"
   ]
  },
  {
   "cell_type": "code",
   "execution_count": 3,
   "metadata": {
    "collapsed": false
   },
   "outputs": [],
   "source": [
    "scaler = preprocessing.StandardScaler(copy=True, with_mean=True, with_std=True).fit(df)\n",
    "df_scaled = pd.DataFrame(scaler.transform(df), columns=df.columns)"
   ]
  },
  {
   "cell_type": "markdown",
   "metadata": {},
   "source": [
    "---\n",
    "#Ridge\n",
    "## Now see if we can trim the input dimension using PCA, while retaining predictive performance\n",
    "---"
   ]
  },
  {
   "cell_type": "markdown",
   "metadata": {},
   "source": [
    "---\n",
    "##From the brute force solution take the best predictors that were found\n",
    "---"
   ]
  },
  {
   "cell_type": "code",
   "execution_count": 4,
   "metadata": {
    "collapsed": true
   },
   "outputs": [],
   "source": [
    "best_predictors = ['AtBat', 'Walks', 'Years', 'CRBI', 'NewLeague']"
   ]
  },
  {
   "cell_type": "code",
   "execution_count": 5,
   "metadata": {
    "collapsed": false
   },
   "outputs": [],
   "source": [
    "#a 50/50 split of the training and test data\n",
    "X_train, X_test, y_train, y_test = train_test_split(df_scaled[best_predictors], \\\n",
    "                        df_scaled['Salary'], test_size=0.5, random_state=42)\n",
    "\n",
    "#we know the optimal polynomial degree\n",
    "pf_model = PolynomialFeatures(4).fit(X_train)\n",
    "pf = pf_model.transform(X_train)\n",
    "\n",
    "#accumulate the mse's in this list\n",
    "mse_list = []\n",
    "\n",
    "#we want to reduce the input dimension below 126 (we found 126 from brute force)\n",
    "for n in xrange(1, 127):\n",
    "\n",
    "    myPCA = PCA(n_components = n).fit(pf)\n",
    "    X_transform = myPCA.transform(pf)\n",
    "    \n",
    "    #use the value of alpha from brute force, although we might want to re-evaluate this if we choose a lower\n",
    "    #input dimension\n",
    "    clfR = Ridge(alpha = 7.74263682681)\n",
    "    clfR.fit(X_transform, y_train)\n",
    "\n",
    "    #prepare the test set for use in the model\n",
    "    pf_X_test = pf_model.transform(X_test)\n",
    "    X_test_transform = myPCA.transform(pf_X_test)\n",
    "\n",
    "    #predict \n",
    "    yhat = clfR.predict(X_test_transform)\n",
    "    \n",
    "    #evaluate the mse\n",
    "    mse = mean_squared_error(yhat, y_test)\n",
    "    mse_list.append(mse)"
   ]
  },
  {
   "cell_type": "code",
   "execution_count": 6,
   "metadata": {
    "collapsed": false
   },
   "outputs": [
    {
     "data": {
      "text/plain": [
       "<matplotlib.text.Text at 0x10e3bdd10>"
      ]
     },
     "execution_count": 6,
     "metadata": {},
     "output_type": "execute_result"
    },
    {
     "data": {
      "image/png": "[encoded data removed]",
      "text/plain": [
       "<matplotlib.figure.Figure at 0x10421a7d0>"
      ]
     },
     "metadata": {},
     "output_type": "display_data"
    }
   ],
   "source": [
    "#Now plot the mse against the number of principal components\n",
    "\n",
    "x_plot = xrange(1, 127)\n",
    "fig = plt.figure(figsize = (15, 7))\n",
    "ax = plt.subplot(111)\n",
    "ax.plot(x_plot, mse_list, marker = 'o', color = 'b')\n",
    "ax.set_title(\"Plot of MSE vs Number of Principal Components\")\n",
    "ax.set_xlabel(\"Number of Principal Components\")\n",
    "ax.set_ylabel(\"MSE\")"
   ]
  },
  {
   "cell_type": "code",
   "execution_count": 7,
   "metadata": {
    "collapsed": false
   },
   "outputs": [
    {
     "name": "stdout",
     "output_type": "stream",
     "text": [
      "Minimum is  0.36403\n",
      "Index is 58\n"
     ]
    }
   ],
   "source": [
    "#somewhere between 55 and 65 looks a good choice\n",
    "\n",
    "ma = np.array(mse_list[55:65])\n",
    "print \"Minimum is {:8.5f}\".format(ma.min())\n",
    "print \"Index is {:d}\".format(55 + ma.argmin())"
   ]
  },
  {
   "cell_type": "code",
   "execution_count": 8,
   "metadata": {
    "collapsed": false
   },
   "outputs": [
    {
     "name": "stdout",
     "output_type": "stream",
     "text": [
      "Final mse is 0.36403\n"
     ]
    }
   ],
   "source": [
    "#reconfirm the model using all the now-known values\n",
    "\n",
    "X_train, X_test, y_train, y_test = train_test_split(df_scaled[best_predictors], \\\n",
    "                        df_scaled['Salary'], test_size=0.5, random_state=42)\n",
    "\n",
    "#degree 4 polynomial\n",
    "pf_model = PolynomialFeatures(4).fit(X_train)\n",
    "pf = pf_model.transform(X_train)\n",
    "\n",
    "#a 58 input dimension - still pretty big!!\n",
    "#NB: you have to add 1 because the mse_list indexed from 0!\n",
    "myPCA = PCA(n_components = 59).fit(pf)\n",
    "X_transform = myPCA.transform(pf)\n",
    "\n",
    "#use Ridge\n",
    "clfR = Ridge(alpha = 7.74263682681)\n",
    "clfR.fit(X_transform, y_train)\n",
    "\n",
    "#test\n",
    "pf_X_test = pf_model.transform(X_test)\n",
    "X_test_transform = myPCA.transform(pf_X_test)\n",
    "yhat = clfR.predict(X_test_transform)\n",
    "\n",
    "#print the mse - NB: this is the mse on the validation set really\n",
    "mse = mean_squared_error(yhat, y_test)\n",
    "print \"Final mse is {:7.5f}\".format(mse)"
   ]
  },
  {
   "cell_type": "markdown",
   "metadata": {},
   "source": [
    "---\n",
    "#Lasso\n",
    "---"
   ]
  },
  {
   "cell_type": "markdown",
   "metadata": {},
   "source": [
    "---\n",
    "##From the brute force solution take the best predictors that were found\n",
    "---"
   ]
  },
  {
   "cell_type": "code",
   "execution_count": 9,
   "metadata": {
    "collapsed": true
   },
   "outputs": [],
   "source": [
    "best_lasso_predictors = ['AtBat', 'Walks', 'Years', 'CHits', 'CRBI']"
   ]
  },
  {
   "cell_type": "code",
   "execution_count": 10,
   "metadata": {
    "collapsed": false
   },
   "outputs": [],
   "source": [
    "#a 50/50 split of the training and test data\n",
    "X_train, X_test, y_train, y_test = train_test_split(df_scaled[best_lasso_predictors], \\\n",
    "                        df_scaled['Salary'], test_size=0.5, random_state=42)\n",
    "\n",
    "#we know the optimal polynomial degree\n",
    "pf_model = PolynomialFeatures(4).fit(X_train)\n",
    "pf = pf_model.transform(X_train)\n",
    "\n",
    "#accumulate the mse's in this list\n",
    "mse_list = []\n",
    "\n",
    "#we want to reduce the input dimension below 126 (we found 126 from brute force)\n",
    "for n in xrange(1, 127):\n",
    "\n",
    "    myPCA = PCA(n_components = n).fit(pf)\n",
    "    X_transform = myPCA.transform(pf)\n",
    "    \n",
    "    #use the value of alpha from brute force, although we might want to re-evaluate this if we choose a lower\n",
    "    #input dimension\n",
    "    clfR = Lasso(alpha = 0.00599484250319)\n",
    "    clfR.fit(X_transform, y_train)\n",
    "\n",
    "    #prepare the test set for use in the model\n",
    "    pf_X_test = pf_model.transform(X_test)\n",
    "    X_test_transform = myPCA.transform(pf_X_test)\n",
    "\n",
    "    #predict \n",
    "    yhat = clfR.predict(X_test_transform)\n",
    "    \n",
    "    #evaluate the mse\n",
    "    mse = mean_squared_error(yhat, y_test)\n",
    "    mse_list.append(mse)"
   ]
  },
  {
   "cell_type": "code",
   "execution_count": 11,
   "metadata": {
    "collapsed": false
   },
   "outputs": [
    {
     "data": {
      "text/plain": [
       "<matplotlib.text.Text at 0x10e3cbb50>"
      ]
     },
     "execution_count": 11,
     "metadata": {},
     "output_type": "execute_result"
    },
    {
     "data": {
      "image/png": "[encoded data removed]",
      "text/plain": [
       "<matplotlib.figure.Figure at 0x10e34bd50>"
      ]
     },
     "metadata": {},
     "output_type": "display_data"
    }
   ],
   "source": [
    "#Now plot the mse against the number of principal components\n",
    "\n",
    "x_plot = xrange(1, 127)\n",
    "fig = plt.figure(figsize = (15, 7))\n",
    "ax = plt.subplot(111)\n",
    "ax.plot(x_plot, mse_list, marker = 'o', color = 'b')\n",
    "ax.set_title(\"Plot of MSE vs Number of Principal Components\")\n",
    "ax.set_xlabel(\"Number of Principal Components\")\n",
    "ax.set_ylabel(\"MSE\")"
   ]
  },
  {
   "cell_type": "code",
   "execution_count": 12,
   "metadata": {
    "collapsed": false
   },
   "outputs": [
    {
     "name": "stdout",
     "output_type": "stream",
     "text": [
      "Minimum is  0.36305\n",
      "Index is 30\n"
     ]
    }
   ],
   "source": [
    "#somewhere between 25 and 35 looks a good choice\n",
    "\n",
    "ma = np.array(mse_list[25:35])\n",
    "print \"Minimum is {:8.5f}\".format(ma.min())\n",
    "print \"Index is {:d}\".format(25 + ma.argmin())"
   ]
  },
  {
   "cell_type": "code",
   "execution_count": 13,
   "metadata": {
    "collapsed": false
   },
   "outputs": [
    {
     "name": "stdout",
     "output_type": "stream",
     "text": [
      "Final mse is 0.36305\n"
     ]
    }
   ],
   "source": [
    "#reconfirm the model using all the now-known values\n",
    "\n",
    "X_train, X_test, y_train, y_test = train_test_split(df_scaled[best_lasso_predictors], \\\n",
    "                        df_scaled['Salary'], test_size=0.5, random_state=42)\n",
    "\n",
    "#degree 4 polynomial\n",
    "pf_model = PolynomialFeatures(4).fit(X_train)\n",
    "pf = pf_model.transform(X_train)\n",
    "\n",
    "#a 58 input dimension - still pretty big!!\n",
    "#NB: you have to add 1 because the mse_list indexed from 0!\n",
    "myPCA = PCA(n_components = 31).fit(pf)\n",
    "X_transform = myPCA.transform(pf)\n",
    "\n",
    "#use Ridge\n",
    "clfR = Lasso(alpha = 0.00599484250319)\n",
    "clfR.fit(X_transform, y_train)\n",
    "\n",
    "#test\n",
    "pf_X_test = pf_model.transform(X_test)\n",
    "X_test_transform = myPCA.transform(pf_X_test)\n",
    "yhat = clfR.predict(X_test_transform)\n",
    "\n",
    "#print the mse - NB: this is the mse on the validation set really\n",
    "mse = mean_squared_error(yhat, y_test)\n",
    "print \"Final mse is {:7.5f}\".format(mse)"
   ]
  }
 ],
 "metadata": {
  "kernelspec": {
   "display_name": "Python 2",
   "language": "python",
   "name": "python2"
  },
  "language_info": {
   "codemirror_mode": {
    "name": "ipython",
    "version": 2
   },
   "file_extension": ".py",
   "mimetype": "text/x-python",
   "name": "python",
   "nbconvert_exporter": "python",
   "pygments_lexer": "ipython2",
   "version": "2.7.9"
  }
 },
 "nbformat": 4,
 "nbformat_minor": 0
}
