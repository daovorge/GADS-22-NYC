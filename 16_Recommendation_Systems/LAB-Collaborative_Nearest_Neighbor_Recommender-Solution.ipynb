{
 "cells": [
  {
   "cell_type": "code",
   "execution_count": 2,
   "metadata": {
    "collapsed": false
   },
   "outputs": [],
   "source": [
    "import numpy as np\n",
    "import pandas as pd\n",
    "from sklearn.metrics.pairwise import cosine_similarity\n",
    "import time\n",
    "from scipy.stats import pearsonr\n",
    "from sklearn.metrics.pairwise import cosine_similarity"
   ]
  },
  {
   "cell_type": "markdown",
   "metadata": {},
   "source": [
    "---\n",
    "Nearest Neighbor Recommedation System\n",
    "=====\n",
    "***"
   ]
  },
  {
   "cell_type": "markdown",
   "metadata": {},
   "source": [
    "http://www2.informatik.uni-freiburg.de/~cziegler/BX/"
   ]
  },
  {
   "cell_type": "markdown",
   "metadata": {},
   "source": [
    "<img src=\"./Assets/bookcrossing.png\" />"
   ]
  },
  {
   "cell_type": "markdown",
   "metadata": {},
   "source": [
    "#####Load the 3 files"
   ]
  },
  {
   "cell_type": "code",
   "execution_count": 3,
   "metadata": {
    "collapsed": false
   },
   "outputs": [],
   "source": [
    "df_users = pd.read_csv(\"/Users/mrgholt/GADS-22-NYC/Datasets/BX-CSV-Dump/BX-Users.csv\", delimiter=';')"
   ]
  },
  {
   "cell_type": "code",
   "execution_count": 4,
   "metadata": {
    "collapsed": true
   },
   "outputs": [],
   "source": [
    "df_book_ratings = pd.read_csv(\"/Users/mrgholt/GADS-22-NYC/Datasets/BX-CSV-Dump/BX-Book-Ratings.csv\", delimiter=';')"
   ]
  },
  {
   "cell_type": "code",
   "execution_count": 5,
   "metadata": {
    "collapsed": false
   },
   "outputs": [],
   "source": [
    "df_books = pd.read_csv(\"/Users/mrgholt/GADS-22-NYC/Datasets/BX-CSV-Dump/BX-Books.csv\", delimiter=';')"
   ]
  },
  {
   "cell_type": "markdown",
   "metadata": {},
   "source": [
    "#####Have a look at each of the file attributes"
   ]
  },
  {
   "cell_type": "code",
   "execution_count": 6,
   "metadata": {
    "collapsed": false
   },
   "outputs": [
    {
     "name": "stdout",
     "output_type": "stream",
     "text": [
      "<class 'pandas.core.frame.DataFrame'>\n",
      "Int64Index: 278858 entries, 0 to 278857\n",
      "Data columns (total 3 columns):\n",
      "User-ID     278858 non-null int64\n",
      "Location    278858 non-null object\n",
      "Age         168096 non-null float64\n",
      "dtypes: float64(1), int64(1), object(1)\n",
      "memory usage: 8.5+ MB\n"
     ]
    }
   ],
   "source": [
    "df_users.info()"
   ]
  },
  {
   "cell_type": "code",
   "execution_count": 7,
   "metadata": {
    "collapsed": false
   },
   "outputs": [
    {
     "name": "stdout",
     "output_type": "stream",
     "text": [
      "<class 'pandas.core.frame.DataFrame'>\n",
      "Int64Index: 1149780 entries, 0 to 1149779\n",
      "Data columns (total 3 columns):\n",
      "User-ID        1149780 non-null int64\n",
      "ISBN           1149780 non-null object\n",
      "Book-Rating    1149780 non-null int64\n",
      "dtypes: int64(2), object(1)\n",
      "memory usage: 35.1+ MB\n"
     ]
    }
   ],
   "source": [
    "df_book_ratings.info()"
   ]
  },
  {
   "cell_type": "code",
   "execution_count": 8,
   "metadata": {
    "collapsed": false
   },
   "outputs": [
    {
     "name": "stdout",
     "output_type": "stream",
     "text": [
      "<class 'pandas.core.frame.DataFrame'>\n",
      "Int64Index: 271379 entries, 0 to 271378\n",
      "Data columns (total 8 columns):\n",
      "ISBN                   271379 non-null object\n",
      "Book-Title             271379 non-null object\n",
      "Book-Author            271379 non-null object\n",
      "Year-Of-Publication    271379 non-null int64\n",
      "Publisher              271377 non-null object\n",
      "Image-URL-S            271379 non-null object\n",
      "Image-URL-M            271379 non-null object\n",
      "Image-URL-L            271379 non-null object\n",
      "dtypes: int64(1), object(7)\n",
      "memory usage: 18.6+ MB\n"
     ]
    }
   ],
   "source": [
    "df_books.info()"
   ]
  },
  {
   "cell_type": "code",
   "execution_count": 9,
   "metadata": {
    "collapsed": false
   },
   "outputs": [
    {
     "data": {
      "text/html": [
       "<div>\n",
       "<table border=\"1\" class=\"dataframe\">\n",
       "  <thead>\n",
       "    <tr style=\"text-align: right;\">\n",
       "      <th></th>\n",
       "      <th>User-ID</th>\n",
       "      <th>ISBN</th>\n",
       "      <th>Book-Rating</th>\n",
       "    </tr>\n",
       "  </thead>\n",
       "  <tbody>\n",
       "    <tr>\n",
       "      <th>0</th>\n",
       "      <td>276725</td>\n",
       "      <td>034545104X</td>\n",
       "      <td>0</td>\n",
       "    </tr>\n",
       "    <tr>\n",
       "      <th>1</th>\n",
       "      <td>276726</td>\n",
       "      <td>0155061224</td>\n",
       "      <td>5</td>\n",
       "    </tr>\n",
       "  </tbody>\n",
       "</table>\n",
       "</div>"
      ],
      "text/plain": [
       "   User-ID        ISBN  Book-Rating\n",
       "0   276725  034545104X            0\n",
       "1   276726  0155061224            5"
      ]
     },
     "execution_count": 9,
     "metadata": {},
     "output_type": "execute_result"
    }
   ],
   "source": [
    "df_book_ratings.head(2)"
   ]
  },
  {
   "cell_type": "code",
   "execution_count": 10,
   "metadata": {
    "collapsed": false
   },
   "outputs": [
    {
     "data": {
      "text/html": [
       "<div>\n",
       "<table border=\"1\" class=\"dataframe\">\n",
       "  <thead>\n",
       "    <tr style=\"text-align: right;\">\n",
       "      <th></th>\n",
       "      <th>User-ID</th>\n",
       "      <th>Location</th>\n",
       "      <th>Age</th>\n",
       "    </tr>\n",
       "  </thead>\n",
       "  <tbody>\n",
       "    <tr>\n",
       "      <th>0</th>\n",
       "      <td>1</td>\n",
       "      <td>nyc, new york, usa</td>\n",
       "      <td>NaN</td>\n",
       "    </tr>\n",
       "    <tr>\n",
       "      <th>1</th>\n",
       "      <td>2</td>\n",
       "      <td>stockton, california, usa</td>\n",
       "      <td>18</td>\n",
       "    </tr>\n",
       "  </tbody>\n",
       "</table>\n",
       "</div>"
      ],
      "text/plain": [
       "   User-ID                   Location  Age\n",
       "0        1         nyc, new york, usa  NaN\n",
       "1        2  stockton, california, usa   18"
      ]
     },
     "execution_count": 10,
     "metadata": {},
     "output_type": "execute_result"
    }
   ],
   "source": [
    "df_users.head(2)"
   ]
  },
  {
   "cell_type": "code",
   "execution_count": 11,
   "metadata": {
    "collapsed": false
   },
   "outputs": [
    {
     "data": {
      "text/html": [
       "<div>\n",
       "<table border=\"1\" class=\"dataframe\">\n",
       "  <thead>\n",
       "    <tr style=\"text-align: right;\">\n",
       "      <th></th>\n",
       "      <th>ISBN</th>\n",
       "      <th>Book-Title</th>\n",
       "      <th>Book-Author</th>\n",
       "      <th>Year-Of-Publication</th>\n",
       "      <th>Publisher</th>\n",
       "      <th>Image-URL-S</th>\n",
       "      <th>Image-URL-M</th>\n",
       "      <th>Image-URL-L</th>\n",
       "    </tr>\n",
       "  </thead>\n",
       "  <tbody>\n",
       "    <tr>\n",
       "      <th>0</th>\n",
       "      <td>0195153448</td>\n",
       "      <td>Classical Mythology</td>\n",
       "      <td>Mark P. O. Morford</td>\n",
       "      <td>2002</td>\n",
       "      <td>Oxford University Press</td>\n",
       "      <td>http://images.amazon.com/images/P/0195153448.0...</td>\n",
       "      <td>http://images.amazon.com/images/P/0195153448.0...</td>\n",
       "      <td>http://images.amazon.com/images/P/0195153448.0...</td>\n",
       "    </tr>\n",
       "    <tr>\n",
       "      <th>1</th>\n",
       "      <td>0002005018</td>\n",
       "      <td>Clara Callan</td>\n",
       "      <td>Richard Bruce Wright</td>\n",
       "      <td>2001</td>\n",
       "      <td>HarperFlamingo Canada</td>\n",
       "      <td>http://images.amazon.com/images/P/0002005018.0...</td>\n",
       "      <td>http://images.amazon.com/images/P/0002005018.0...</td>\n",
       "      <td>http://images.amazon.com/images/P/0002005018.0...</td>\n",
       "    </tr>\n",
       "  </tbody>\n",
       "</table>\n",
       "</div>"
      ],
      "text/plain": [
       "         ISBN           Book-Title           Book-Author  Year-Of-Publication  \\\n",
       "0  0195153448  Classical Mythology    Mark P. O. Morford                 2002   \n",
       "1  0002005018         Clara Callan  Richard Bruce Wright                 2001   \n",
       "\n",
       "                 Publisher                                        Image-URL-S  \\\n",
       "0  Oxford University Press  http://images.amazon.com/images/P/0195153448.0...   \n",
       "1    HarperFlamingo Canada  http://images.amazon.com/images/P/0002005018.0...   \n",
       "\n",
       "                                         Image-URL-M  \\\n",
       "0  http://images.amazon.com/images/P/0195153448.0...   \n",
       "1  http://images.amazon.com/images/P/0002005018.0...   \n",
       "\n",
       "                                         Image-URL-L  \n",
       "0  http://images.amazon.com/images/P/0195153448.0...  \n",
       "1  http://images.amazon.com/images/P/0002005018.0...  "
      ]
     },
     "execution_count": 11,
     "metadata": {},
     "output_type": "execute_result"
    }
   ],
   "source": [
    "df_books.head(2)"
   ]
  },
  {
   "cell_type": "markdown",
   "metadata": {},
   "source": [
    "#####To manage this amount of data in Python requires some consideration\n",
    "#####While Pandas can be convenient they can also be slow\n",
    "#####Let's make a new data frame consisting of just the ISBN number and book title"
   ]
  },
  {
   "cell_type": "code",
   "execution_count": 12,
   "metadata": {
    "collapsed": true
   },
   "outputs": [],
   "source": [
    "df_bk = df_books[[\"ISBN\", \"Book-Title\"]]"
   ]
  },
  {
   "cell_type": "code",
   "execution_count": 13,
   "metadata": {
    "collapsed": false
   },
   "outputs": [
    {
     "data": {
      "text/html": [
       "<div>\n",
       "<table border=\"1\" class=\"dataframe\">\n",
       "  <thead>\n",
       "    <tr style=\"text-align: right;\">\n",
       "      <th></th>\n",
       "      <th>ISBN</th>\n",
       "      <th>Book-Title</th>\n",
       "    </tr>\n",
       "  </thead>\n",
       "  <tbody>\n",
       "    <tr>\n",
       "      <th>0</th>\n",
       "      <td>0195153448</td>\n",
       "      <td>Classical Mythology</td>\n",
       "    </tr>\n",
       "    <tr>\n",
       "      <th>1</th>\n",
       "      <td>0002005018</td>\n",
       "      <td>Clara Callan</td>\n",
       "    </tr>\n",
       "  </tbody>\n",
       "</table>\n",
       "</div>"
      ],
      "text/plain": [
       "         ISBN           Book-Title\n",
       "0  0195153448  Classical Mythology\n",
       "1  0002005018         Clara Callan"
      ]
     },
     "execution_count": 13,
     "metadata": {},
     "output_type": "execute_result"
    }
   ],
   "source": [
    "df_bk.head(2)"
   ]
  },
  {
   "cell_type": "markdown",
   "metadata": {},
   "source": [
    "#####We are going to be looking up book titles using ISBN numbers\n",
    "#####Pandas indexing is fast, so make the ISBN number the index"
   ]
  },
  {
   "cell_type": "code",
   "execution_count": 14,
   "metadata": {
    "collapsed": true
   },
   "outputs": [],
   "source": [
    "isb = df_bk['ISBN']\n",
    "df_bk.index = isb\n",
    "del(df_bk[\"ISBN\"])"
   ]
  },
  {
   "cell_type": "code",
   "execution_count": 15,
   "metadata": {
    "collapsed": false
   },
   "outputs": [
    {
     "data": {
      "text/html": [
       "<div>\n",
       "<table border=\"1\" class=\"dataframe\">\n",
       "  <thead>\n",
       "    <tr style=\"text-align: right;\">\n",
       "      <th></th>\n",
       "      <th>Book-Title</th>\n",
       "    </tr>\n",
       "    <tr>\n",
       "      <th>ISBN</th>\n",
       "      <th></th>\n",
       "    </tr>\n",
       "  </thead>\n",
       "  <tbody>\n",
       "    <tr>\n",
       "      <th>0195153448</th>\n",
       "      <td>Classical Mythology</td>\n",
       "    </tr>\n",
       "    <tr>\n",
       "      <th>0002005018</th>\n",
       "      <td>Clara Callan</td>\n",
       "    </tr>\n",
       "    <tr>\n",
       "      <th>0060973129</th>\n",
       "      <td>Decision in Normandy</td>\n",
       "    </tr>\n",
       "    <tr>\n",
       "      <th>0374157065</th>\n",
       "      <td>Flu: The Story of the Great Influenza Pandemic...</td>\n",
       "    </tr>\n",
       "    <tr>\n",
       "      <th>0393045218</th>\n",
       "      <td>The Mummies of Urumchi</td>\n",
       "    </tr>\n",
       "  </tbody>\n",
       "</table>\n",
       "</div>"
      ],
      "text/plain": [
       "                                                   Book-Title\n",
       "ISBN                                                         \n",
       "0195153448                                Classical Mythology\n",
       "0002005018                                       Clara Callan\n",
       "0060973129                               Decision in Normandy\n",
       "0374157065  Flu: The Story of the Great Influenza Pandemic...\n",
       "0393045218                             The Mummies of Urumchi"
      ]
     },
     "execution_count": 15,
     "metadata": {},
     "output_type": "execute_result"
    }
   ],
   "source": [
    "df_bk.head()"
   ]
  },
  {
   "cell_type": "markdown",
   "metadata": {},
   "source": [
    "#####Create a empy title list"
   ]
  },
  {
   "cell_type": "code",
   "execution_count": 16,
   "metadata": {
    "collapsed": false
   },
   "outputs": [],
   "source": [
    "title_list = list(np.zeros(len(df_book_ratings[\"ISBN\"])))"
   ]
  },
  {
   "cell_type": "markdown",
   "metadata": {},
   "source": [
    "#####Now create a fast routine for processing the book ratings data frame"
   ]
  },
  {
   "cell_type": "code",
   "execution_count": 17,
   "metadata": {
    "collapsed": false
   },
   "outputs": [
    {
     "name": "stdout",
     "output_type": "stream",
     "text": [
      ". . . . . . . . . . .\n"
     ]
    }
   ],
   "source": [
    "count = 0\n",
    "#run through the books in the ratings data frame\n",
    "for isbn in df_book_ratings[\"ISBN\"]:\n",
    "    \n",
    "    try:\n",
    "        #see if there is a title in the books data frame, use the isbn to index into the table efficiently\n",
    "        title =  df_bk.ix[isbn][\"Book-Title\"]\n",
    "    \n",
    "    except KeyError:\n",
    "        #if a key error is generated then there is no title to match the isbn number, make up a title!!\n",
    "        title = \"missing title, isbn = \" + str(isbn)\n",
    "    \n",
    "    #Now fill up the empty title list, the memory for which has been created 2 cells up\n",
    "    title_list[count] = title\n",
    "    count += 1\n",
    "    if count % 100000 == 0:\n",
    "        #give encouragement to the user that something is happening\n",
    "        print '.',\n",
    "        time.sleep(1)"
   ]
  },
  {
   "cell_type": "markdown",
   "metadata": {},
   "source": [
    "#####Check out the title list"
   ]
  },
  {
   "cell_type": "code",
   "execution_count": 18,
   "metadata": {
    "collapsed": false
   },
   "outputs": [
    {
     "name": "stdout",
     "output_type": "stream",
     "text": [
      "1149780\n"
     ]
    }
   ],
   "source": [
    "print len(title_list)"
   ]
  },
  {
   "cell_type": "code",
   "execution_count": 19,
   "metadata": {
    "collapsed": false
   },
   "outputs": [
    {
     "data": {
      "text/plain": [
       "['Flesh Tones: A Novel',\n",
       " 'Rites of Passage',\n",
       " 'The Notebook',\n",
       " 'Help!: Level 1',\n",
       " 'The Amsterdam Connection : Level 4 (Cambridge English Readers)']"
      ]
     },
     "execution_count": 19,
     "metadata": {},
     "output_type": "execute_result"
    }
   ],
   "source": [
    "title_list[0:5]"
   ]
  },
  {
   "cell_type": "markdown",
   "metadata": {},
   "source": [
    "#####Initialize all the internal dictionaries, i.e. we are making a dictionary of dictionaries"
   ]
  },
  {
   "cell_type": "code",
   "execution_count": 20,
   "metadata": {
    "collapsed": false
   },
   "outputs": [],
   "source": [
    "users = {}\n",
    "for user in df_users['User-ID']:\n",
    "    users[str(user)] = {}"
   ]
  },
  {
   "cell_type": "markdown",
   "metadata": {},
   "source": [
    "#####Produce a ratings list"
   ]
  },
  {
   "cell_type": "code",
   "execution_count": 21,
   "metadata": {
    "collapsed": false
   },
   "outputs": [
    {
     "name": "stdout",
     "output_type": "stream",
     "text": [
      "1149780\n"
     ]
    }
   ],
   "source": [
    "ratings_list = df_book_ratings[\"Book-Rating\"].values\n",
    "print len(ratings_list)"
   ]
  },
  {
   "cell_type": "markdown",
   "metadata": {},
   "source": [
    "#####Produce and ISBN list"
   ]
  },
  {
   "cell_type": "code",
   "execution_count": 22,
   "metadata": {
    "collapsed": false
   },
   "outputs": [
    {
     "name": "stdout",
     "output_type": "stream",
     "text": [
      "1149780\n"
     ]
    }
   ],
   "source": [
    "isbn_list = df_book_ratings[\"ISBN\"]\n",
    "print len(isbn_list)"
   ]
  },
  {
   "cell_type": "markdown",
   "metadata": {},
   "source": [
    "#####Now tranverse through the ratings and populate the users dictionary"
   ]
  },
  {
   "cell_type": "markdown",
   "metadata": {},
   "source": [
    "---"
   ]
  },
  {
   "cell_type": "code",
   "execution_count": 23,
   "metadata": {
    "collapsed": false
   },
   "outputs": [
    {
     "name": "stdout",
     "output_type": "stream",
     "text": [
      "CPU times: user 316 µs, sys: 58 µs, total: 374 µs\n",
      "Wall time: 342 µs\n",
      "CPU times: user 202 µs, sys: 68 µs, total: 270 µs\n",
      "Wall time: 235 µs\n",
      "CPU times: user 27.3 ms, sys: 1.77 ms, total: 29.1 ms\n",
      "Wall time: 28.8 ms\n",
      "CPU times: user 4 µs, sys: 0 ns, total: 4 µs\n",
      "Wall time: 7.15 µs\n",
      "CPU times: user 2.72 ms, sys: 84 µs, total: 2.8 ms\n",
      "Wall time: 3.29 ms\n",
      "CPU times: user 2 µs, sys: 1 µs, total: 3 µs\n",
      "Wall time: 5.96 µs\n"
     ]
    }
   ],
   "source": [
    "def get_book_title(df_books, isbn):\n",
    "    b = df_books[df_books.ISBN == isbn]\n",
    "    if len(b.index.values) > 0:\n",
    "        return b['Book-Title'].values[0]\n",
    "    else:\n",
    "        return \"missing book title, isbn = {:s}\".format(isbn)\n",
    "\n",
    "i = 0;\n",
    "userid = df_book_ratings['User-ID']\n",
    "    \n",
    "%time ratingA = df_book_ratings.iloc[i]['Book-Rating']\n",
    "    \n",
    "%time isbn = df_book_ratings.iloc[i]['ISBN']\n",
    "        \n",
    "%time book_title = get_book_title(df_books, isbn)\n",
    "\n",
    "\n",
    "%time rating = ratings_list[i]\n",
    "\n",
    "%time isbn = isbn_list[i]\n",
    "    \n",
    "%time book_title = title_list[i]"
   ]
  },
  {
   "cell_type": "code",
   "execution_count": 24,
   "metadata": {
    "collapsed": false
   },
   "outputs": [
    {
     "name": "stdout",
     "output_type": "stream",
     "text": [
      ". . . . . .\n"
     ]
    }
   ],
   "source": [
    "def get_book_title(df_books, isbn):\n",
    "    b = df_books[df_books.ISBN == isbn]\n",
    "    if len(b.index.values) > 0:\n",
    "        return b['Book-Title'].values[0]\n",
    "    else:\n",
    "        return \"missing book title, isbn = {:s}\".format(isbn)\n",
    "\n",
    "count = 0\n",
    "\n",
    "#traverse the ratings data frame\n",
    "for i, userid in enumerate(df_book_ratings['User-ID']):\n",
    "    \n",
    "    #report progress to the user\n",
    "    if (i > 0) & (i % 100 == 0):\n",
    "        print '.',\n",
    "        count += 100\n",
    "        time.sleep(1)\n",
    "    \n",
    "    #The alternative to using a ratings list is to use the data frame directly\n",
    "    ratingA = df_book_ratings.iloc[i]['Book-Rating']\n",
    "    \n",
    "    #The alternative to using an isbn list is to use the data frame directly\n",
    "    isbn = df_book_ratings.iloc[i]['ISBN']\n",
    "        \n",
    "    #The alternative to using the book title list is to use a routine to look up the book title\n",
    "    book_title = get_book_title(df_books, isbn)\n",
    "        \n",
    "    #Add to the users dictionary and update the user's dictionary with book titles they have read and their ratings\n",
    "    # for those books\n",
    "    index = str(userid)\n",
    "    users[index].update({book_title: rating})\n",
    "    \n",
    "    if count > 500:\n",
    "        break"
   ]
  },
  {
   "cell_type": "markdown",
   "metadata": {},
   "source": [
    "---"
   ]
  },
  {
   "cell_type": "code",
   "execution_count": 25,
   "metadata": {
    "collapsed": false
   },
   "outputs": [
    {
     "name": "stdout",
     "output_type": "stream",
     "text": [
      ". . . . . . . . . . .\n"
     ]
    }
   ],
   "source": [
    "#traverse the ratings data frame\n",
    "for i, userid in enumerate(df_book_ratings['User-ID']):\n",
    "    \n",
    "    #report progress to the user\n",
    "    if (i > 0) & (i % 100000 == 0):\n",
    "        print '.',\n",
    "        time.sleep(1)\n",
    "    \n",
    "    #The alternative to using a ratings list is to use the data frame directly\n",
    "    #ratingA = df_book_ratings.iloc[i]['Book-Rating']\n",
    "    rating = ratings_list[i]\n",
    "    \n",
    "    #The alternative to using an isbn list is to use the data frame directly\n",
    "    #isbn = df_book_ratings.iloc[i]['ISBN']\n",
    "    isbn = isbn_list[i]\n",
    "    \n",
    "    #The alternative to using the book title list is to use a routine to look up the book title\n",
    "    #book_title = get_book_title(df_books, isbn)\n",
    "    book_title = title_list[i]\n",
    "    \n",
    "    #Add to the users dictionary and update the user's dictionary with book titles they have read and their ratings\n",
    "    # for those books\n",
    "    index = str(userid)\n",
    "    users[index].update({book_title: rating})"
   ]
  },
  {
   "cell_type": "code",
   "execution_count": 26,
   "metadata": {
    "collapsed": false
   },
   "outputs": [
    {
     "data": {
      "text/plain": [
       "{\"A Second Chicken Soup for the Woman's Soul (Chicken Soup for the Soul Series)\": 0,\n",
       " 'Clara Callan': 5,\n",
       " 'Decision in Normandy': 0,\n",
       " 'Flu: The Story of the Great Influenza Pandemic of 1918 and the Search for the Virus That Caused It': 0,\n",
       " 'Goodbye to the Buttermilk Sky': 7,\n",
       " \"Hitler's Secret Bankers: The Myth of Swiss Neutrality During the Holocaust\": 0,\n",
       " 'Jane Doe': 5,\n",
       " 'More Cunning Than Man: A Social History of Rats and Man': 6,\n",
       " 'Nights Below Station Street': 0,\n",
       " 'PLEADING GUILTY': 0,\n",
       " \"The Kitchen God's Wife\": 0,\n",
       " 'The Middle Stories': 5,\n",
       " 'The Mummies of Urumchi': 0,\n",
       " 'The Witchfinder (Amos Walker Mystery Series)': 6,\n",
       " 'Under the Black Flag: The Romance and the Reality of Life Among the Pirates': 0,\n",
       " \"What If?: The World's Foremost Military Historians Imagine What Might Have Been\": 0,\n",
       " \"Where You'll Find Me: And Other Stories\": 5,\n",
       " 'missing title, isbn = 0771025661': 0}"
      ]
     },
     "execution_count": 26,
     "metadata": {},
     "output_type": "execute_result"
    }
   ],
   "source": [
    "users['8']"
   ]
  },
  {
   "cell_type": "markdown",
   "metadata": {},
   "source": [
    "###These are unused functions for calculating similarity"
   ]
  },
  {
   "cell_type": "code",
   "execution_count": 47,
   "metadata": {
    "collapsed": true
   },
   "outputs": [],
   "source": [
    "def calc_minkowski_dist(rating1, rating2, r, in_common):\n",
    "    '''This routine generalizes the Minkowski distances, where if r = 1 the function returns the Manhattan\n",
    "    distance, and if r = 2 the function returns the euclidean distance'''\n",
    "    \n",
    "    mdist = 0\n",
    "    common_ratings = False\n",
    "    count = 0\n",
    "\n",
    "    #for every key in the first users list, check to see if the book is in the second user's list \n",
    "    for key in rating1:\n",
    "        if key in rating2:\n",
    "            \n",
    "            if r == 1:\n",
    "                #manhattan distance\n",
    "                count += 1\n",
    "                mdist += abs(rating1[key] - rating2[key])\n",
    "            else:\n",
    "                #euclidean distance\n",
    "                count += 1\n",
    "                mdist += np.power(abs(rating1[key] - rating2[key]), r)\n",
    "                \n",
    "            common_ratings = True\n",
    "    \n",
    "    #This time we insist that the 2 users must have a least in_common number of books in common\n",
    "    #if the other routines are used then this should also be included\n",
    "    if count < in_common:\n",
    "        common_ratings = False\n",
    "    \n",
    "    #Only if there were common ratings should we bother to complete the calculation\n",
    "    if common_ratings:\n",
    "        return(np.power(mdist, 1.0/r)/float(count))\n",
    "    else:\n",
    "        return 0"
   ]
  },
  {
   "cell_type": "code",
   "execution_count": 28,
   "metadata": {
    "collapsed": false
   },
   "outputs": [],
   "source": [
    "def calc_cc(rating1, rating2, in_common):\n",
    "    '''This routine calculates a Pearsons correlation coefficient between the 2 lists of books from the 2 users'''\n",
    "    \n",
    "    common_ratings = False\n",
    "    \n",
    "    a_list = []\n",
    "    b_list = []\n",
    "    \n",
    "    #for every key in the first users list, check to see if the book is in the second user's list\n",
    "    for key in rating1:\n",
    "        if key in rating2:\n",
    "            \n",
    "            #create the vectors of ratings\n",
    "            a_list.append(rating1[key])\n",
    "            b_list.append(rating2[key])\n",
    "            common_ratings = True\n",
    "    \n",
    "    #This time we insist that the 2 users must have a least in_common number of books in common\n",
    "    #if the other routines are used then this should also be included\n",
    "    if len(a_list) < in_common:\n",
    "        common_ratings = False\n",
    "            \n",
    "    #Only if there were common ratings should we bother to complete the calculation        \n",
    "    if common_ratings:\n",
    "        \n",
    "        #r is the correlation coefficient, and p is the p-value (which we ignore)\n",
    "        r, p = pearsonr(a_list, b_list)\n",
    "        return(r)\n",
    "    else:\n",
    "        return 0"
   ]
  },
  {
   "cell_type": "code",
   "execution_count": 29,
   "metadata": {
    "collapsed": false
   },
   "outputs": [],
   "source": [
    "def user_ratings(userid, users, N):\n",
    "    '''This function will return the ratings from the database in order, with the highest rating first'''\n",
    "    \n",
    "    #get the ratings\n",
    "    ratings = users[userid]\n",
    "    \n",
    "    #convert to a list\n",
    "    ratings = list(ratings.items())\n",
    "    \n",
    "    #sort\n",
    "    ratings.sort(key = lambda x: x[1], reverse = True)\n",
    "    \n",
    "    #return the top N ratings\n",
    "    ratings = ratings[:N]\n",
    "    \n",
    "    #print\n",
    "    for r in ratings:\n",
    "        print \"{:100s}\\t{:d}\".format(r[0][0:99], int(r[1]))"
   ]
  },
  {
   "cell_type": "code",
   "execution_count": 30,
   "metadata": {
    "collapsed": true
   },
   "outputs": [],
   "source": [
    "def calc_cs(rating1, rating2, in_common):\n",
    "    '''This function implements cosine similarity, between the 2 lists of rated books from the 2 users'''\n",
    "    \n",
    "    common_ratings = False\n",
    "    \n",
    "    a_list = []\n",
    "    b_list = []\n",
    "    \n",
    "    #for every key in the first users list, check to see if the book is in the second user's list\n",
    "    for key in rating1:\n",
    "        if key in rating2:\n",
    "            \n",
    "            #create the vectors of ratings\n",
    "            a_list.append(rating1[key])\n",
    "            b_list.append(rating2[key])\n",
    "            \n",
    "            common_ratings = True\n",
    "\n",
    "\n",
    "    #This time we insist that the 2 users must have a least in_common number of books in common\n",
    "    #if the other routines are used then this should also be included\n",
    "    if len(a_list) < in_common:\n",
    "        common_ratings = False\n",
    "        \n",
    "    if common_ratings:\n",
    "        \n",
    "        #if there are enough books in common then calculate the cosine similarity and return it\n",
    "        cs = cosine_similarity(a_list, b_list)\n",
    "        return(cs)\n",
    "    else:\n",
    "        return 0"
   ]
  },
  {
   "cell_type": "markdown",
   "metadata": {},
   "source": [
    "#####Compare cosine similarity with Pearson's correlation coefficient\n",
    "#####Which do you like better and why?"
   ]
  },
  {
   "cell_type": "code",
   "execution_count": 66,
   "metadata": {
    "collapsed": false
   },
   "outputs": [],
   "source": [
    "def compute_closest_person(userid, users, in_common = 1):\n",
    "    '''This routine takes in a user ID and returns users who are close, in terms of the books they have rated'''\n",
    "    \n",
    "    #this list holds the distance measures from other users\n",
    "    mdist_list = []\n",
    "    found = False\n",
    "    \n",
    "    #traverse the main dictionary of users\n",
    "    for user in users:\n",
    "        \n",
    "        #obviously don't look at the userid and compare it with itself\n",
    "        if user != userid:\n",
    "            \n",
    "            #Choose a measure of similarity and use the in_common argument to specify\n",
    "            #the minimum number of books they must have rated\n",
    "            #mdist = calc_minkowski_dist(users[user], users[userid], 1, in_common)\n",
    "            mdist = calc_cc(users[user], users[userid], in_common)\n",
    "            #mdist = calc_cs(users[user], users[userid], in_common)\n",
    "            \n",
    "            #record the distance and the user as long as the distance is greater than 0\n",
    "            if np.abs(mdist) > 0:\n",
    "                mdist_list.append((mdist, user))\n",
    "                found = True\n",
    "                \n",
    "    #sort by distance, closest first\n",
    "    if found:\n",
    "        mdist_list.sort(reverse = True)\n",
    "    else:\n",
    "        print \"no matches found with those search criteria\"\n",
    "    \n",
    "    return mdist_list"
   ]
  },
  {
   "cell_type": "code",
   "execution_count": 106,
   "metadata": {
    "collapsed": true
   },
   "outputs": [],
   "source": [
    "def recommend(user_id, users, in_common = 2, number_of_recommendations = 10):\n",
    "    \n",
    "    #get the ID of the nearest person with in_common ratings\n",
    "    nearest_list = compute_closest_person(user_id, users, in_common)\n",
    "    \n",
    "    if len(nearest_list) == 0:\n",
    "        return []\n",
    "    \n",
    "    nearest_id = nearest_list[0][1]\n",
    "    \n",
    "    print nearest_id\n",
    "    \n",
    "    #initialize the recommendations list\n",
    "    recommendations = []\n",
    "    \n",
    "    #Now get the list of books for each - the requested user-ID and their nearest neighbor\n",
    "    neighbor_ratings = users[nearest_id]\n",
    "    user_ratings = users[user_id]\n",
    "    \n",
    "    #Look through the book titles from the neighbor\n",
    "    for book_title in neighbor_ratings:\n",
    "        \n",
    "        #Check that the book from the neighbor hasn't already been reviewed\n",
    "        if not book_title in user_ratings:\n",
    "            \n",
    "            #append the book to the recommendations list\n",
    "            recommendations.append((book_title, neighbor_ratings[book_title]))\n",
    "    \n",
    "    \n",
    "    if len(recommendations) == 0:\n",
    "        print \"No recommedations found\"\n",
    "        return []\n",
    "    \n",
    "    #sort the list based on the rating, returning the highest rated book first\n",
    "    #reverse direction needs to be in line with similarity measure\n",
    "    if number_of_recommendations > len(recommendations):\n",
    "        number_of_recommendations = len(recommendations)\n",
    "        \n",
    "    if number_of_recommendations < 0:\n",
    "        number_of_recommendations = 1\n",
    "        \n",
    "    if number_of_recommendations == 0:\n",
    "        number_of_recommendations = len(recommendations)\n",
    "    \n",
    "    sr = sorted(recommendations, key = lambda x: x[1], reverse = True)[:number_of_recommendations]\n",
    "        \n",
    "    return (nearest_list, sr)"
   ]
  },
  {
   "cell_type": "code",
   "execution_count": 105,
   "metadata": {
    "collapsed": false
   },
   "outputs": [],
   "source": [
    "def recommend_for_specific_match(useridA, useridB, users, number_of_recommendations = 10):\n",
    "    '''This function takes 2 user-IDs and makes recommendations for the first based on books from the second'''\n",
    "    \n",
    "    recommendations = []\n",
    "    \n",
    "    neighbor_ratings = users[useridB]\n",
    "    if len(neighbor_ratings) == 0:\n",
    "        return []\n",
    "    \n",
    "    user_ratings = users[useridA]\n",
    "    if len(user_ratings) == 0:\n",
    "        return []\n",
    "    \n",
    "    for book_title in neighbor_ratings:\n",
    "        if not book_title in user_ratings:\n",
    "            recommendations.append((book_title, neighbor_ratings[book_title]))\n",
    "            \n",
    "    if len(recommendations) == 0:\n",
    "        print \"No recommedations found\"\n",
    "        return []\n",
    "    \n",
    "    if number_of_recommendations > len(recommendations):\n",
    "        number_of_recommendations = len(recommendations)\n",
    "        \n",
    "    if number_of_recommendations < 0:\n",
    "        number_of_recommendations = 1\n",
    "        \n",
    "    if number_of_recommendations == 0:\n",
    "        number_of_recommendations = len(recommendations)\n",
    "        \n",
    "    sr = sorted(recommendations, key = lambda x: x[1], reverse = True)[:number_of_recommendations]\n",
    "        \n",
    "    return sr"
   ]
  },
  {
   "cell_type": "code",
   "execution_count": 34,
   "metadata": {
    "collapsed": true
   },
   "outputs": [],
   "source": [
    "def evaluate_comparison(user_id1, user_id2, users, N = 0):\n",
    "    '''This function compares the book ratings for 2 users'''\n",
    "    \n",
    "    ul1 = users[user_id1]\n",
    "    ul2 = users[user_id2]\n",
    "    \n",
    "    count = 0\n",
    "    \n",
    "    for b in ul1:\n",
    "        if b in ul2:\n",
    "            print \"{:100s}\".format(b)\n",
    "            print \"Users {:s} & {:s} ratings = {:5d} {:5d}\".format(user_id1, user_id2, users[user_id1][b],\\\n",
    "                                                                                   users[user_id2][b])\n",
    "            print \"\\n\"\n",
    "            count += 1\n",
    "            if (count >= N) & (N != 0):\n",
    "                return"
   ]
  },
  {
   "cell_type": "code",
   "execution_count": 85,
   "metadata": {
    "collapsed": false
   },
   "outputs": [
    {
     "name": "stdout",
     "output_type": "stream",
     "text": [
      "User ID: 11676      Similarity = 0.21068\n"
     ]
    }
   ],
   "source": [
    "closest_list = compute_closest_person('8', users, in_common = 5)\n",
    "\n",
    "show_top = len(closest_list)\n",
    "if show_top > 10:\n",
    "    show_top = 10\n",
    "    \n",
    "for i in xrange(show_top):\n",
    "    print \"User ID: {:10s} Similarity = {:5.5f}\".format(closest_list[i][1], float(closest_list[i][0]))"
   ]
  },
  {
   "cell_type": "code",
   "execution_count": 86,
   "metadata": {
    "collapsed": false
   },
   "outputs": [
    {
     "name": "stdout",
     "output_type": "stream",
     "text": [
      "A Second Chicken Soup for the Woman's Soul (Chicken Soup for the Soul Series)                       \n",
      "Users 8 & 11676 ratings =     0     9\n",
      "\n",
      "\n",
      "The Kitchen God's Wife                                                                              \n",
      "Users 8 & 11676 ratings =     0     8\n",
      "\n",
      "\n",
      "PLEADING GUILTY                                                                                     \n",
      "Users 8 & 11676 ratings =     0     8\n",
      "\n",
      "\n",
      "Nights Below Station Street                                                                         \n",
      "Users 8 & 11676 ratings =     0     0\n",
      "\n",
      "\n",
      "Clara Callan                                                                                        \n",
      "Users 8 & 11676 ratings =     5     8\n",
      "\n",
      "\n"
     ]
    }
   ],
   "source": [
    "evaluate_comparison('8', '11676', users)"
   ]
  },
  {
   "cell_type": "code",
   "execution_count": 87,
   "metadata": {
    "collapsed": false
   },
   "outputs": [
    {
     "name": "stdout",
     "output_type": "stream",
     "text": [
      "0.484182026135\n",
      "0.2106752429\n"
     ]
    }
   ],
   "source": [
    "a = [0,0,0,0,5]\n",
    "b = [9,8,8,0,8]\n",
    "print cosine_similarity(a, b).ravel()[0]\n",
    "print pearsonr(a, b)[0]"
   ]
  },
  {
   "cell_type": "code",
   "execution_count": 88,
   "metadata": {
    "collapsed": false
   },
   "outputs": [
    {
     "name": "stdout",
     "output_type": "stream",
     "text": [
      "11676\n"
     ]
    },
    {
     "data": {
      "text/plain": [
       "([(0.21067524290009609, '11676')],\n",
       " [('Onkel Wolfram. Erinnerungen', 10),\n",
       "  (\"Precious and Few: Volume I in the 'Polly's Heartsongs' Trilogy\", 10),\n",
       "  ('Journey', 10),\n",
       "  ('Bruno and Boots: The War with Mr. Wizzle', 10),\n",
       "  ('The Little Zen Companion', 10)])"
      ]
     },
     "execution_count": 88,
     "metadata": {},
     "output_type": "execute_result"
    }
   ],
   "source": [
    "recommend('8', users, in_common = 5, number_of_recommendations = 5)"
   ]
  },
  {
   "cell_type": "code",
   "execution_count": 68,
   "metadata": {
    "collapsed": false
   },
   "outputs": [
    {
     "name": "stdout",
     "output_type": "stream",
     "text": [
      "Pride and Prejudice (World's Classics)                                                              \t10\n",
      "Pilgrim at Tinker Creek                                                                             \t10\n",
      "Twelfth Night (Folger Shakespeare Library)                                                          \t10\n",
      "Just So Stories (Penguin Twentieth-Century Classics)                                                \t10\n",
      "The Careful Writer                                                                                  \t10\n",
      "missing title, isbn = 0099430967                                                                    \t10\n",
      "The Griffin &amp; Sabine Trilogy Boxed Set: Griffin &amp; Sabine/Sabine's Notebook/The Golden Mean  \t10\n",
      "Robert Bateman an Artist In Nature                                                                  \t10\n",
      "The Summer Tree (The Fionavar Tapestry, Book 1)                                                     \t10\n",
      "The Visual Display of Quantitative Information                                                      \t10\n"
     ]
    }
   ],
   "source": [
    "user_ratings('171118', users, 10)"
   ]
  },
  {
   "cell_type": "code",
   "execution_count": 89,
   "metadata": {
    "collapsed": false
   },
   "outputs": [
    {
     "name": "stdout",
     "output_type": "stream",
     "text": [
      "21659\n"
     ]
    }
   ],
   "source": [
    "neighbor_list, recommendation_list = recommend('171118', users, in_common = 10, number_of_recommendations = 5)"
   ]
  },
  {
   "cell_type": "code",
   "execution_count": 90,
   "metadata": {
    "collapsed": false
   },
   "outputs": [
    {
     "name": "stdout",
     "output_type": "stream",
     "text": [
      "21659                1.0000\n",
      "62881                1.0000\n",
      "196148               0.9662\n",
      "167349               0.8173\n",
      "135831               0.8058\n"
     ]
    }
   ],
   "source": [
    "for i in xrange(5):\n",
    "    print \"{:20s} {:5.4f}\".format(neighbor_list[i][1], float(neighbor_list[i][0]))"
   ]
  },
  {
   "cell_type": "code",
   "execution_count": 91,
   "metadata": {
    "collapsed": false
   },
   "outputs": [
    {
     "name": "stdout",
     "output_type": "stream",
     "text": [
      "The Deep End of the Ocean                                                                           \n",
      "Users 171118 & 21659 ratings =     0     0\n",
      "\n",
      "\n",
      "missing title, isbn = 0452277205                                                                    \n",
      "Users 171118 & 21659 ratings =     0     0\n",
      "\n",
      "\n",
      "Snow Falling on Cedars                                                                              \n",
      "Users 171118 & 21659 ratings =     0     0\n",
      "\n",
      "\n",
      "The Pelican Brief                                                                                   \n",
      "Users 171118 & 21659 ratings =     4    10\n",
      "\n",
      "\n",
      "The Outsiders                                                                                       \n",
      "Users 171118 & 21659 ratings =     0     0\n",
      "\n",
      "\n",
      "A Painted House                                                                                     \n",
      "Users 171118 & 21659 ratings =     0     0\n",
      "\n",
      "\n",
      "The Most Wanted                                                                                     \n",
      "Users 171118 & 21659 ratings =     0     0\n",
      "\n",
      "\n",
      "The Lovely Bones: A Novel                                                                           \n",
      "Users 171118 & 21659 ratings =     0     0\n",
      "\n",
      "\n",
      "Isle of Dogs                                                                                        \n",
      "Users 171118 & 21659 ratings =     0     0\n",
      "\n",
      "\n",
      "While I Was Gone                                                                                    \n",
      "Users 171118 & 21659 ratings =     0     0\n",
      "\n",
      "\n",
      "Wild Animus                                                                                         \n",
      "Users 171118 & 21659 ratings =     0     0\n",
      "\n",
      "\n"
     ]
    }
   ],
   "source": [
    "evaluate_comparison('171118', '21659', users, 0)"
   ]
  },
  {
   "cell_type": "code",
   "execution_count": 92,
   "metadata": {
    "collapsed": false
   },
   "outputs": [
    {
     "name": "stdout",
     "output_type": "stream",
     "text": [
      "Franny and Zooey                                                                                    \n",
      "Users 171118 & 62881 ratings =     0     0\n",
      "\n",
      "\n",
      "Jurassic Park                                                                                       \n",
      "Users 171118 & 62881 ratings =     0     0\n",
      "\n",
      "\n",
      "Couplehood                                                                                          \n",
      "Users 171118 & 62881 ratings =     0     0\n",
      "\n",
      "\n",
      "Swim With the Sharks: Without Being Eaten Alive : Outsell, Outmanage, Outmotivate, and Outnegotiate Your Competition\n",
      "Users 171118 & 62881 ratings =     0     0\n",
      "\n",
      "\n",
      "The Pelican Brief                                                                                   \n",
      "Users 171118 & 62881 ratings =     4     5\n",
      "\n",
      "\n",
      "Airframe                                                                                            \n",
      "Users 171118 & 62881 ratings =     0     0\n",
      "\n",
      "\n",
      "Lord of the Flies                                                                                   \n",
      "Users 171118 & 62881 ratings =     0     0\n",
      "\n",
      "\n",
      "In Her Defense                                                                                      \n",
      "Users 171118 & 62881 ratings =     0     0\n",
      "\n",
      "\n",
      "Postmortem                                                                                          \n",
      "Users 171118 & 62881 ratings =     0     0\n",
      "\n",
      "\n",
      "Love                                                                                                \n",
      "Users 171118 & 62881 ratings =     0     0\n",
      "\n",
      "\n"
     ]
    }
   ],
   "source": [
    "evaluate_comparison('171118', '62881', users, 0)"
   ]
  },
  {
   "cell_type": "code",
   "execution_count": 93,
   "metadata": {
    "collapsed": false
   },
   "outputs": [
    {
     "name": "stdout",
     "output_type": "stream",
     "text": [
      "1.0\n",
      "1.0\n"
     ]
    }
   ],
   "source": [
    "a = [0,0,0,1,0,0,0,0,0,0,0]\n",
    "b = [0,0,0,10,0,0,0,0,0,0,0]\n",
    "print cosine_similarity(a, b).ravel()[0]\n",
    "print pearsonr(a, b)[0]"
   ]
  },
  {
   "cell_type": "code",
   "execution_count": 94,
   "metadata": {
    "collapsed": false
   },
   "outputs": [
    {
     "name": "stdout",
     "output_type": "stream",
     "text": [
      "Scientific Progress Goes 'Boink':  A Calvin and Hobbes Collection                                   \n",
      "Users 171118 & 196148 ratings =     8    10\n",
      "\n",
      "\n",
      "Calvin and Hobbes                                                                                   \n",
      "Users 171118 & 196148 ratings =     9    10\n",
      "\n",
      "\n",
      "Yukon Ho!                                                                                           \n",
      "Users 171118 & 196148 ratings =     7    10\n",
      "\n",
      "\n",
      "There's Treasure Everywhere--A Calvin and Hobbes Collection                                         \n",
      "Users 171118 & 196148 ratings =     7    10\n",
      "\n",
      "\n",
      "Something Under the Bed Is Drooling                                                                 \n",
      "Users 171118 & 196148 ratings =     8    10\n",
      "\n",
      "\n",
      "Homicidal Psycho Jungle Cat: A Calvin and Hobbes Collection                                         \n",
      "Users 171118 & 196148 ratings =     8    10\n",
      "\n",
      "\n",
      "The Revenge Of The Baby-Sat                                                                         \n",
      "Users 171118 & 196148 ratings =     8     9\n",
      "\n",
      "\n",
      "It's A Magical World: A Calvin and Hobbes Collection                                                \n",
      "Users 171118 & 196148 ratings =     8    10\n",
      "\n",
      "\n",
      "Weirdos From Another Planet!                                                                        \n",
      "Users 171118 & 196148 ratings =     8    10\n",
      "\n",
      "\n",
      "Attack Of The Deranged Mutant Killer Snow Goons                                                     \n",
      "Users 171118 & 196148 ratings =     8    10\n",
      "\n",
      "\n",
      "Pay the Piper: A Pennyfoot Hotel Mystery (A Pennyfoot Hotel Mystery)                                \n",
      "Users 171118 & 196148 ratings =     0     0\n",
      "\n",
      "\n",
      "The Burning House                                                                                   \n",
      "Users 171118 & 196148 ratings =     7     8\n",
      "\n",
      "\n"
     ]
    }
   ],
   "source": [
    "evaluate_comparison('171118', '196148', users, 0)"
   ]
  },
  {
   "cell_type": "code",
   "execution_count": 95,
   "metadata": {
    "collapsed": false
   },
   "outputs": [
    {
     "name": "stdout",
     "output_type": "stream",
     "text": [
      "0.997039870111\n",
      "0.966248837092\n"
     ]
    }
   ],
   "source": [
    "a = [8,9,7,7,8,8,8,8,8,8,0,7]\n",
    "b = [10,10,10,10,10,10,9,10,10,10,0,8]\n",
    "print cosine_similarity(a,b).ravel()[0]\n",
    "print pearsonr(a,b)[0]"
   ]
  },
  {
   "cell_type": "code",
   "execution_count": 108,
   "metadata": {
    "collapsed": false
   },
   "outputs": [
    {
     "data": {
      "text/plain": [
       "[('The Indispensable Calvin And Hobbes', 10),\n",
       " ('The Complete Little Nemo in Slumberland, 1907-1908 (Complete Little Nemo)',\n",
       "  10),\n",
       " ('The Dog Is Not a Toy: House Rule #4', 10),\n",
       " (\"Krazy &amp; Ignatz 1929-1930: 'A Mice, A Brick, A Lovely Night' (Krazy Kat)\",\n",
       "  10),\n",
       " ('Peepshow', 10)]"
      ]
     },
     "execution_count": 108,
     "metadata": {},
     "output_type": "execute_result"
    }
   ],
   "source": [
    "recommend_for_specific_match('171118', '196148', users, number_of_recommendations = 5)"
   ]
  },
  {
   "cell_type": "code",
   "execution_count": 151,
   "metadata": {
    "collapsed": false
   },
   "outputs": [
    {
     "name": "stdout",
     "output_type": "stream",
     "text": [
      "229741\n",
      "[(\"The Princess Bride: S. Morgenstern's Classic Tale of True Love and High Adventure (The 'Good Parts' Version)\", 10)]\n"
     ]
    }
   ],
   "source": [
    "neighbor_list, recommendation_list = recommend('171118', users, in_common = 20, number_of_recommendations = 1)\n",
    "print recommendation_list"
   ]
  },
  {
   "cell_type": "markdown",
   "metadata": {},
   "source": [
    "---"
   ]
  }
 ],
 "metadata": {
  "kernelspec": {
   "display_name": "Python 2",
   "language": "python",
   "name": "python2"
  },
  "language_info": {
   "codemirror_mode": {
    "name": "ipython",
    "version": 2
   },
   "file_extension": ".py",
   "mimetype": "text/x-python",
   "name": "python",
   "nbconvert_exporter": "python",
   "pygments_lexer": "ipython2",
   "version": "2.7.10"
  }
 },
 "nbformat": 4,
 "nbformat_minor": 0
}
