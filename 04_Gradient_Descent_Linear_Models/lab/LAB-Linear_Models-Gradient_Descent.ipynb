{
 "cells": [
  {
   "cell_type": "markdown",
   "metadata": {},
   "source": [
    "####[sklearn gradient descent](http://scikit-learn.org/0.7/modules/generated/scikits.learn.linear_model.SGDRegressor.html#scikits.learn.linear_model.SGDRegressor)\n",
    "\n",
    "####[sklearn preprocessing](http://scikit-learn.org/stable/modules/preprocessing.html)\n",
    "\n",
    "####[sklearn mean squared errror](http://scikit-learn.org/dev/modules/model_evaluation.html#mean-squared-error)"
   ]
  },
  {
   "cell_type": "markdown",
   "metadata": {},
   "source": [
    "---\n",
    "#Gradient Descent - Exercise\n",
    "---"
   ]
  },
  {
   "cell_type": "markdown",
   "metadata": {},
   "source": [
    "---\n",
    "##Create some artificial data\n",
    "###Create m random-ish points x\n",
    "###Create a function that will probide m points y\n",
    "---"
   ]
  },
  {
   "cell_type": "markdown",
   "metadata": {},
   "source": [
    "---\n",
    "##Perform the feature scaling\n",
    "###Use a scaler so that you can scale new points for prediction later-on\n",
    "---"
   ]
  },
  {
   "cell_type": "markdown",
   "metadata": {},
   "source": [
    "---\n",
    "##Plot the data\n",
    "###Plot the unscaled data on one plot and the scaled data on another"
   ]
  },
  {
   "cell_type": "markdown",
   "metadata": {},
   "source": [
    "---\n",
    "#Now use scikit-learn SGD - stochastic gradient descent\n",
    "##Set the learning rate to $0.01$ initially\n",
    "##Use 'squared_loss'\n",
    "##Explicitely fit and intercept\n",
    "##Shuffle the data and set the number of iterations to $10$ initially\n",
    "##Using sklearn's mse print the mean squared error\n",
    "---"
   ]
  },
  {
   "cell_type": "markdown",
   "metadata": {},
   "source": [
    "---\n",
    "##Now set up a loop to record the mse produced from different number-of-iterations\n",
    "##Maybe try anything from 1 to 10000\n",
    "##Plot the mse vs number-of-iterations on a graph\n",
    "---"
   ]
  },
  {
   "cell_type": "markdown",
   "metadata": {},
   "source": [
    "---\n",
    "##Plot the training set and the predicted line\n",
    "---"
   ]
  },
  {
   "cell_type": "markdown",
   "metadata": {},
   "source": [
    "---\n",
    "##Make some predictions\n",
    "###How much should be paid for a house that is 2495 square feet?\n",
    "---"
   ]
  },
  {
   "cell_type": "markdown",
   "metadata": {},
   "source": [
    "---\n",
    "##Finally, replot the training data, the predicted line, and the house price prediction\n",
    "##Make sure your graph uses unscaled data\n",
    "---"
   ]
  },
  {
   "cell_type": "markdown",
   "metadata": {},
   "source": [
    "---\n",
    "##Have a look what happens when you start to crank up the number of points...depending on your laptop memory try 1000000 points.\n",
    "##Play around with the learning rate\n",
    "##Play around with the number of iterations\n",
    "---"
   ]
  }
 ],
 "metadata": {
  "kernelspec": {
   "display_name": "Python 2",
   "language": "python",
   "name": "python2"
  },
  "language_info": {
   "codemirror_mode": {
    "name": "ipython",
    "version": 2
   },
   "file_extension": ".py",
   "mimetype": "text/x-python",
   "name": "python",
   "nbconvert_exporter": "python",
   "pygments_lexer": "ipython2",
   "version": "2.7.9"
  }
 },
 "nbformat": 4,
 "nbformat_minor": 0
}
