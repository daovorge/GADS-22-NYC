{
 "cells": [
  {
   "cell_type": "code",
   "execution_count": 1,
   "metadata": {
    "collapsed": false
   },
   "outputs": [],
   "source": [
    "import numpy as np\n",
    "import pandas as pd\n",
    "from sklearn.feature_extraction.text import CountVectorizer\n",
    "import re\n",
    "from sklearn.feature_extraction.text import TfidfVectorizer\n",
    "from sklearn.cross_validation import train_test_split\n",
    "from sklearn.naive_bayes import MultinomialNB\n",
    "from sklearn.naive_bayes import BernoulliNB"
   ]
  },
  {
   "cell_type": "markdown",
   "metadata": {},
   "source": [
    "---\n",
    "Tweet Sentiment Analysis\n",
    "=====\n",
    "***\n",
    "\n",
    "###Create a twitter classifier with Naive Bayes and check the sentiment with a keyword of your choice\n",
    "###Use tweet_training.csv as your training set\n",
    "###Sentiment is described as 'polarity', where\n",
    "### - '0' = negative\n",
    "### - '4' = positive"
   ]
  },
  {
   "cell_type": "code",
   "execution_count": 2,
   "metadata": {
    "collapsed": false
   },
   "outputs": [],
   "source": [
    "df = pd.read_csv('/Users/mrgholt/GADS-22-NYC/Datasets/tweet_training.csv', delimiter=';')"
   ]
  },
  {
   "cell_type": "code",
   "execution_count": 3,
   "metadata": {
    "collapsed": false
   },
   "outputs": [
    {
     "data": {
      "text/plain": [
       "(632, 3)"
      ]
     },
     "execution_count": 3,
     "metadata": {},
     "output_type": "execute_result"
    }
   ],
   "source": [
    "df[df['polarity']==4].shape"
   ]
  },
  {
   "cell_type": "code",
   "execution_count": 4,
   "metadata": {
    "collapsed": false
   },
   "outputs": [
    {
     "data": {
      "text/plain": [
       "(1402, 3)"
      ]
     },
     "execution_count": 4,
     "metadata": {},
     "output_type": "execute_result"
    }
   ],
   "source": [
    "df[df['polarity']==0].shape"
   ]
  },
  {
   "cell_type": "markdown",
   "metadata": {},
   "source": [
    "####The data is \"unbalanced\" in the sense that the number of 0 polarity tweets outnumbers the 4 polarity tweets. \n",
    "\n",
    "- This represents different priors. \n",
    "\n",
    "- Sklean's Naive Bayes modeling takes into account the different class representations, i.e. piors for you\n",
    "\n",
    "- BUT you can alter the model by inputting your own priors ('fit_prior')\n",
    "\n",
    "- NB: LaPlacian Correction. In addition these algorithms use a very slightly modified formula so as to account for zero probabilities. This is referred to as 'smoothing priors' - ('alpha')"
   ]
  },
  {
   "cell_type": "code",
   "execution_count": 5,
   "metadata": {
    "collapsed": false
   },
   "outputs": [
    {
     "data": {
      "text/html": [
       "<div>\n",
       "<table border=\"1\" class=\"dataframe\">\n",
       "  <thead>\n",
       "    <tr style=\"text-align: right;\">\n",
       "      <th></th>\n",
       "      <th>id</th>\n",
       "      <th>polarity</th>\n",
       "      <th>tweet</th>\n",
       "    </tr>\n",
       "  </thead>\n",
       "  <tbody>\n",
       "    <tr>\n",
       "      <th>0</th>\n",
       "      <td>1467933112</td>\n",
       "      <td>0</td>\n",
       "      <td>the angel is going to miss the athlete this we...</td>\n",
       "    </tr>\n",
       "    <tr>\n",
       "      <th>1</th>\n",
       "      <td>2323395086</td>\n",
       "      <td>0</td>\n",
       "      <td>It looks as though Shaq is getting traded to C...</td>\n",
       "    </tr>\n",
       "    <tr>\n",
       "      <th>2</th>\n",
       "      <td>1467968979</td>\n",
       "      <td>0</td>\n",
       "      <td>@clarianne APRIL 9TH ISN'T COMING SOON ENOUGH</td>\n",
       "    </tr>\n",
       "    <tr>\n",
       "      <th>3</th>\n",
       "      <td>1990283756</td>\n",
       "      <td>0</td>\n",
       "      <td>drinking a McDonalds coffee and not understand...</td>\n",
       "    </tr>\n",
       "    <tr>\n",
       "      <th>4</th>\n",
       "      <td>1988884918</td>\n",
       "      <td>0</td>\n",
       "      <td>So dissapointed Taylor Swift doesnt have a Twi...</td>\n",
       "    </tr>\n",
       "  </tbody>\n",
       "</table>\n",
       "</div>"
      ],
      "text/plain": [
       "           id  polarity                                              tweet\n",
       "0  1467933112         0  the angel is going to miss the athlete this we...\n",
       "1  2323395086         0  It looks as though Shaq is getting traded to C...\n",
       "2  1467968979         0     @clarianne APRIL 9TH ISN'T COMING SOON ENOUGH \n",
       "3  1990283756         0  drinking a McDonalds coffee and not understand...\n",
       "4  1988884918         0  So dissapointed Taylor Swift doesnt have a Twi..."
      ]
     },
     "execution_count": 5,
     "metadata": {},
     "output_type": "execute_result"
    }
   ],
   "source": [
    "df.head()"
   ]
  },
  {
   "cell_type": "code",
   "execution_count": 6,
   "metadata": {
    "collapsed": false
   },
   "outputs": [
    {
     "data": {
      "text/html": [
       "<div>\n",
       "<table border=\"1\" class=\"dataframe\">\n",
       "  <thead>\n",
       "    <tr style=\"text-align: right;\">\n",
       "      <th></th>\n",
       "      <th>id</th>\n",
       "      <th>polarity</th>\n",
       "      <th>tweet</th>\n",
       "    </tr>\n",
       "  </thead>\n",
       "  <tbody>\n",
       "    <tr>\n",
       "      <th>77</th>\n",
       "      <td>1680347120</td>\n",
       "      <td>4</td>\n",
       "      <td>@ mcdonalds with my litto sis aka cuzin lol cr...</td>\n",
       "    </tr>\n",
       "    <tr>\n",
       "      <th>78</th>\n",
       "      <td>1835259469</td>\n",
       "      <td>4</td>\n",
       "      <td>@AnnaSaccone Love your new cards!   I would de...</td>\n",
       "    </tr>\n",
       "    <tr>\n",
       "      <th>79</th>\n",
       "      <td>1983068285</td>\n",
       "      <td>4</td>\n",
       "      <td>@supricky06 that was one of the most enjoyable...</td>\n",
       "    </tr>\n",
       "    <tr>\n",
       "      <th>80</th>\n",
       "      <td>1559842363</td>\n",
       "      <td>4</td>\n",
       "      <td>Dallas vegas goodness  http://twitpic.com/3lzt...</td>\n",
       "    </tr>\n",
       "    <tr>\n",
       "      <th>81</th>\n",
       "      <td>1999078293</td>\n",
       "      <td>4</td>\n",
       "      <td>@JBsFanArgentina Hey I luv this pic!!! was ama...</td>\n",
       "    </tr>\n",
       "  </tbody>\n",
       "</table>\n",
       "</div>"
      ],
      "text/plain": [
       "            id  polarity                                              tweet\n",
       "77  1680347120         4  @ mcdonalds with my litto sis aka cuzin lol cr...\n",
       "78  1835259469         4  @AnnaSaccone Love your new cards!   I would de...\n",
       "79  1983068285         4  @supricky06 that was one of the most enjoyable...\n",
       "80  1559842363         4  Dallas vegas goodness  http://twitpic.com/3lzt...\n",
       "81  1999078293         4  @JBsFanArgentina Hey I luv this pic!!! was ama..."
      ]
     },
     "execution_count": 6,
     "metadata": {},
     "output_type": "execute_result"
    }
   ],
   "source": [
    "df[df['polarity']==4].head()"
   ]
  },
  {
   "cell_type": "markdown",
   "metadata": {},
   "source": [
    "Consider also the benefit (or otherwise) of removing the Twitter \"at\" symbol and name. Use a regular expression to achieve this."
   ]
  },
  {
   "cell_type": "code",
   "execution_count": 7,
   "metadata": {
    "collapsed": false
   },
   "outputs": [
    {
     "data": {
      "text/plain": [
       "'@spicebugsmom A few more for you to follow: @aims7 @alirushton @dillyh @Oprah @timescolonist @JohnCleese ...Welcome to Twitter mums '"
      ]
     },
     "execution_count": 7,
     "metadata": {},
     "output_type": "execute_result"
    }
   ],
   "source": [
    "df['tweet'][294]"
   ]
  },
  {
   "cell_type": "code",
   "execution_count": 8,
   "metadata": {
    "collapsed": false
   },
   "outputs": [
    {
     "name": "stdout",
     "output_type": "stream",
     "text": [
      "290 []\n",
      "291 []\n",
      "292 []\n",
      "293 []\n",
      "294 ['@spicebugsmom', '@aims7', '@alirushton', '@dillyh', '@Oprah', '@timescolonist', '@JohnCleese']\n",
      "295 []\n",
      "296 []\n",
      "297 ['@mishacollins', '@oprah']\n",
      "298 ['@DaRealSunisaKim']\n",
      "299 []\n"
     ]
    }
   ],
   "source": [
    "pattern = r'@[A-Za-z0-9]*'\n",
    "regex = re.compile(pattern, flags=re.IGNORECASE)\n",
    "for i in range(290,300):\n",
    "    print i, regex.findall(df['tweet'][i])"
   ]
  },
  {
   "cell_type": "code",
   "execution_count": 9,
   "metadata": {
    "collapsed": false
   },
   "outputs": [
    {
     "name": "stdout",
     "output_type": "stream",
     "text": [
      " A few more for you to follow: \n",
      " ...Welcome to Twitter mums \n"
     ]
    }
   ],
   "source": [
    "print regex.split(df['tweet'][294])[1]\n",
    "print regex.split(df['tweet'][294])[7]"
   ]
  },
  {
   "cell_type": "code",
   "execution_count": 10,
   "metadata": {
    "collapsed": false
   },
   "outputs": [],
   "source": [
    "df['tweetrhtag'] = df.tweet.apply(lambda x: regex.sub('',x))"
   ]
  },
  {
   "cell_type": "code",
   "execution_count": 11,
   "metadata": {
    "collapsed": false
   },
   "outputs": [
    {
     "data": {
      "text/plain": [
       "' A few more for you to follow:       ...Welcome to Twitter mums '"
      ]
     },
     "execution_count": 11,
     "metadata": {},
     "output_type": "execute_result"
    }
   ],
   "source": [
    "df['tweetrhtag'][294]"
   ]
  },
  {
   "cell_type": "code",
   "execution_count": 12,
   "metadata": {
    "collapsed": false
   },
   "outputs": [
    {
     "data": {
      "text/html": [
       "<div>\n",
       "<table border=\"1\" class=\"dataframe\">\n",
       "  <thead>\n",
       "    <tr style=\"text-align: right;\">\n",
       "      <th></th>\n",
       "      <th>id</th>\n",
       "      <th>polarity</th>\n",
       "      <th>tweet</th>\n",
       "      <th>tweetrhtag</th>\n",
       "    </tr>\n",
       "  </thead>\n",
       "  <tbody>\n",
       "    <tr>\n",
       "      <th>0</th>\n",
       "      <td>1467933112</td>\n",
       "      <td>0</td>\n",
       "      <td>the angel is going to miss the athlete this we...</td>\n",
       "      <td>the angel is going to miss the athlete this we...</td>\n",
       "    </tr>\n",
       "    <tr>\n",
       "      <th>1</th>\n",
       "      <td>2323395086</td>\n",
       "      <td>0</td>\n",
       "      <td>It looks as though Shaq is getting traded to C...</td>\n",
       "      <td>It looks as though Shaq is getting traded to C...</td>\n",
       "    </tr>\n",
       "    <tr>\n",
       "      <th>2</th>\n",
       "      <td>1467968979</td>\n",
       "      <td>0</td>\n",
       "      <td>@clarianne APRIL 9TH ISN'T COMING SOON ENOUGH</td>\n",
       "      <td>APRIL 9TH ISN'T COMING SOON ENOUGH</td>\n",
       "    </tr>\n",
       "    <tr>\n",
       "      <th>3</th>\n",
       "      <td>1990283756</td>\n",
       "      <td>0</td>\n",
       "      <td>drinking a McDonalds coffee and not understand...</td>\n",
       "      <td>drinking a McDonalds coffee and not understand...</td>\n",
       "    </tr>\n",
       "    <tr>\n",
       "      <th>4</th>\n",
       "      <td>1988884918</td>\n",
       "      <td>0</td>\n",
       "      <td>So dissapointed Taylor Swift doesnt have a Twi...</td>\n",
       "      <td>So dissapointed Taylor Swift doesnt have a Twi...</td>\n",
       "    </tr>\n",
       "  </tbody>\n",
       "</table>\n",
       "</div>"
      ],
      "text/plain": [
       "           id  polarity                                              tweet  \\\n",
       "0  1467933112         0  the angel is going to miss the athlete this we...   \n",
       "1  2323395086         0  It looks as though Shaq is getting traded to C...   \n",
       "2  1467968979         0     @clarianne APRIL 9TH ISN'T COMING SOON ENOUGH    \n",
       "3  1990283756         0  drinking a McDonalds coffee and not understand...   \n",
       "4  1988884918         0  So dissapointed Taylor Swift doesnt have a Twi...   \n",
       "\n",
       "                                          tweetrhtag  \n",
       "0  the angel is going to miss the athlete this we...  \n",
       "1  It looks as though Shaq is getting traded to C...  \n",
       "2                APRIL 9TH ISN'T COMING SOON ENOUGH   \n",
       "3  drinking a McDonalds coffee and not understand...  \n",
       "4  So dissapointed Taylor Swift doesnt have a Twi...  "
      ]
     },
     "execution_count": 12,
     "metadata": {},
     "output_type": "execute_result"
    }
   ],
   "source": [
    "df.head()"
   ]
  },
  {
   "cell_type": "code",
   "execution_count": 13,
   "metadata": {
    "collapsed": false
   },
   "outputs": [
    {
     "data": {
      "text/html": [
       "<div>\n",
       "<table border=\"1\" class=\"dataframe\">\n",
       "  <thead>\n",
       "    <tr style=\"text-align: right;\">\n",
       "      <th></th>\n",
       "      <th>id</th>\n",
       "      <th>polarity</th>\n",
       "      <th>tweet</th>\n",
       "      <th>tweetrhtag</th>\n",
       "    </tr>\n",
       "  </thead>\n",
       "  <tbody>\n",
       "    <tr>\n",
       "      <th>77</th>\n",
       "      <td>1680347120</td>\n",
       "      <td>4</td>\n",
       "      <td>@ mcdonalds with my litto sis aka cuzin lol cr...</td>\n",
       "      <td>mcdonalds with my litto sis aka cuzin lol cri...</td>\n",
       "    </tr>\n",
       "    <tr>\n",
       "      <th>78</th>\n",
       "      <td>1835259469</td>\n",
       "      <td>4</td>\n",
       "      <td>@AnnaSaccone Love your new cards!   I would de...</td>\n",
       "      <td>Love your new cards!   I would definitely hir...</td>\n",
       "    </tr>\n",
       "    <tr>\n",
       "      <th>79</th>\n",
       "      <td>1983068285</td>\n",
       "      <td>4</td>\n",
       "      <td>@supricky06 that was one of the most enjoyable...</td>\n",
       "      <td>that was one of the most enjoyable experience...</td>\n",
       "    </tr>\n",
       "    <tr>\n",
       "      <th>80</th>\n",
       "      <td>1559842363</td>\n",
       "      <td>4</td>\n",
       "      <td>Dallas vegas goodness  http://twitpic.com/3lzt...</td>\n",
       "      <td>Dallas vegas goodness  http://twitpic.com/3lzt...</td>\n",
       "    </tr>\n",
       "    <tr>\n",
       "      <th>81</th>\n",
       "      <td>1999078293</td>\n",
       "      <td>4</td>\n",
       "      <td>@JBsFanArgentina Hey I luv this pic!!! was ama...</td>\n",
       "      <td>Hey I luv this pic!!! was amazing of the last...</td>\n",
       "    </tr>\n",
       "  </tbody>\n",
       "</table>\n",
       "</div>"
      ],
      "text/plain": [
       "            id  polarity                                              tweet  \\\n",
       "77  1680347120         4  @ mcdonalds with my litto sis aka cuzin lol cr...   \n",
       "78  1835259469         4  @AnnaSaccone Love your new cards!   I would de...   \n",
       "79  1983068285         4  @supricky06 that was one of the most enjoyable...   \n",
       "80  1559842363         4  Dallas vegas goodness  http://twitpic.com/3lzt...   \n",
       "81  1999078293         4  @JBsFanArgentina Hey I luv this pic!!! was ama...   \n",
       "\n",
       "                                           tweetrhtag  \n",
       "77   mcdonalds with my litto sis aka cuzin lol cri...  \n",
       "78   Love your new cards!   I would definitely hir...  \n",
       "79   that was one of the most enjoyable experience...  \n",
       "80  Dallas vegas goodness  http://twitpic.com/3lzt...  \n",
       "81   Hey I luv this pic!!! was amazing of the last...  "
      ]
     },
     "execution_count": 13,
     "metadata": {},
     "output_type": "execute_result"
    }
   ],
   "source": [
    "df[df['polarity']==4].head()"
   ]
  },
  {
   "cell_type": "markdown",
   "metadata": {},
   "source": [
    "####Start with a Naive Bayes model using the Count Vectorizer "
   ]
  },
  {
   "cell_type": "code",
   "execution_count": 14,
   "metadata": {
    "collapsed": false
   },
   "outputs": [],
   "source": [
    "vectorizer = CountVectorizer()"
   ]
  },
  {
   "cell_type": "code",
   "execution_count": 15,
   "metadata": {
    "collapsed": false
   },
   "outputs": [
    {
     "data": {
      "text/plain": [
       "CountVectorizer(analyzer=u'word', binary=False, decode_error=u'strict',\n",
       "        dtype=<type 'numpy.int64'>, encoding=u'utf-8', input=u'content',\n",
       "        lowercase=True, max_df=1.0, max_features=None, min_df=1,\n",
       "        ngram_range=(1, 1), preprocessor=None, stop_words=None,\n",
       "        strip_accents=None, token_pattern=u'(?u)\\\\b\\\\w\\\\w+\\\\b',\n",
       "        tokenizer=None, vocabulary=None)"
      ]
     },
     "execution_count": 15,
     "metadata": {},
     "output_type": "execute_result"
    }
   ],
   "source": [
    "vectorizer.fit(df['tweet'])"
   ]
  },
  {
   "cell_type": "code",
   "execution_count": 16,
   "metadata": {
    "collapsed": false
   },
   "outputs": [
    {
     "name": "stdout",
     "output_type": "stream",
     "text": [
      "00                        back                                              \n",
      "000                       backed                                            \n",
      "000gbp                    backstage                                         \n",
      "00am                      backup                                            \n",
      "06                        bad                                               \n",
      "06h8t                     badass                                            \n",
      "08tv6                     badboyofopera                                     \n",
      "09                        badly                                             \n",
      "0gb                       bag                                               \n",
      "10                        bah                                               \n"
     ]
    },
    {
     "data": {
      "text/plain": [
       "5457"
      ]
     },
     "execution_count": 16,
     "metadata": {},
     "output_type": "execute_result"
    }
   ],
   "source": [
    "ll=vectorizer.get_feature_names()\n",
    "for i in range(0,10):\n",
    "    print \"{:25s} {:50s}\".format(ll[i], ll[i+500])\n",
    "len(ll)"
   ]
  },
  {
   "cell_type": "code",
   "execution_count": 17,
   "metadata": {
    "collapsed": false
   },
   "outputs": [],
   "source": [
    "X = vectorizer.transform(df['tweetrhtag'])"
   ]
  },
  {
   "cell_type": "code",
   "execution_count": 18,
   "metadata": {
    "collapsed": false
   },
   "outputs": [],
   "source": [
    "y = (df['polarity'] == 0).values.astype(np.int)"
   ]
  },
  {
   "cell_type": "code",
   "execution_count": 19,
   "metadata": {
    "collapsed": false
   },
   "outputs": [
    {
     "name": "stdout",
     "output_type": "stream",
     "text": [
      "(2034, 5457)\n",
      "(2034,)\n"
     ]
    }
   ],
   "source": [
    "print X.shape\n",
    "print y.shape"
   ]
  },
  {
   "cell_type": "code",
   "execution_count": 20,
   "metadata": {
    "collapsed": false
   },
   "outputs": [],
   "source": [
    "xtrain, xtest, ytrain, ytest = train_test_split(X, y, test_size=0.5, random_state=15)"
   ]
  },
  {
   "cell_type": "code",
   "execution_count": 21,
   "metadata": {
    "collapsed": false
   },
   "outputs": [],
   "source": [
    "def accuracy_report(clf, xtrain, ytrain, xtest, ytest):\n",
    "    print \"Accuracy (model reported score): {:0.2f}\".format(100.0 * clf.score(xtest, ytest))\n",
    "\n",
    "    #Print the accuracy on the test and training dataset\n",
    "    training_accuracy = clf.score(xtrain, ytrain)\n",
    "    test_accuracy = clf.score(xtest, ytest)\n",
    "\n",
    "    print \"Accuracy on training data: {:0.2f}\".format(100.0 *training_accuracy)\n",
    "    print \"Accuracy on test data: {:0.2f}\".format(100.0 *test_accuracy)"
   ]
  },
  {
   "cell_type": "markdown",
   "metadata": {},
   "source": [
    "####Try a Naive Bayes Multinomial model"
   ]
  },
  {
   "cell_type": "code",
   "execution_count": 22,
   "metadata": {
    "collapsed": false
   },
   "outputs": [
    {
     "name": "stdout",
     "output_type": "stream",
     "text": [
      "Multinomial\n",
      "Accuracy (model reported score): 81.12\n",
      "Accuracy on training data: 94.59\n",
      "Accuracy on test data: 81.12\n"
     ]
    }
   ],
   "source": [
    "print \"Multinomial\"\n",
    "clf_mn = MultinomialNB().fit(xtrain, ytrain)\n",
    "accuracy_report(clf_mn, xtrain, ytrain, xtest, ytest)"
   ]
  },
  {
   "cell_type": "code",
   "execution_count": 23,
   "metadata": {
    "collapsed": false
   },
   "outputs": [
    {
     "data": {
      "text/html": [
       "<div>\n",
       "<table border=\"1\" class=\"dataframe\">\n",
       "  <thead>\n",
       "    <tr style=\"text-align: right;\">\n",
       "      <th>Predicted</th>\n",
       "      <th>0</th>\n",
       "      <th>1</th>\n",
       "    </tr>\n",
       "    <tr>\n",
       "      <th>Actual</th>\n",
       "      <th></th>\n",
       "      <th></th>\n",
       "    </tr>\n",
       "  </thead>\n",
       "  <tbody>\n",
       "    <tr>\n",
       "      <th>0</th>\n",
       "      <td>155</td>\n",
       "      <td>161</td>\n",
       "    </tr>\n",
       "    <tr>\n",
       "      <th>1</th>\n",
       "      <td>31</td>\n",
       "      <td>670</td>\n",
       "    </tr>\n",
       "  </tbody>\n",
       "</table>\n",
       "</div>"
      ],
      "text/plain": [
       "Predicted    0    1\n",
       "Actual             \n",
       "0          155  161\n",
       "1           31  670"
      ]
     },
     "execution_count": 23,
     "metadata": {},
     "output_type": "execute_result"
    }
   ],
   "source": [
    "pd.crosstab(ytest, clf_mn.predict(xtest), rownames=[\"Actual\"], colnames=[\"Predicted\"])"
   ]
  },
  {
   "cell_type": "markdown",
   "metadata": {},
   "source": [
    "####Try a Naive Bayes Bernoulli model"
   ]
  },
  {
   "cell_type": "code",
   "execution_count": 24,
   "metadata": {
    "collapsed": false
   },
   "outputs": [
    {
     "name": "stdout",
     "output_type": "stream",
     "text": [
      "bernoulli\n",
      "Accuracy (model reported score): 71.39\n",
      "Accuracy on training data: 79.94\n",
      "Accuracy on test data: 71.39\n"
     ]
    }
   ],
   "source": [
    "print \"bernoulli\"\n",
    "clf_bn = BernoulliNB(binarize = 0.0).fit(xtrain, ytrain)\n",
    "accuracy_report(clf_bn, xtrain, ytrain, xtest, ytest)"
   ]
  },
  {
   "cell_type": "code",
   "execution_count": 25,
   "metadata": {
    "collapsed": false
   },
   "outputs": [
    {
     "name": "stdout",
     "output_type": "stream",
     "text": [
      "1017\n",
      "988\n"
     ]
    },
    {
     "data": {
      "text/plain": [
       "0.71386430678466073"
      ]
     },
     "execution_count": 25,
     "metadata": {},
     "output_type": "execute_result"
    }
   ],
   "source": [
    "print len(clf_bn.predict(xtest))\n",
    "print clf_bn.predict(xtest).sum()\n",
    "clf_bn.score(xtest, ytest)"
   ]
  },
  {
   "cell_type": "code",
   "execution_count": 26,
   "metadata": {
    "collapsed": false
   },
   "outputs": [
    {
     "data": {
      "text/html": [
       "<div>\n",
       "<table border=\"1\" class=\"dataframe\">\n",
       "  <thead>\n",
       "    <tr style=\"text-align: right;\">\n",
       "      <th>Predicted</th>\n",
       "      <th>0</th>\n",
       "      <th>1</th>\n",
       "    </tr>\n",
       "    <tr>\n",
       "      <th>Actual</th>\n",
       "      <th></th>\n",
       "      <th></th>\n",
       "    </tr>\n",
       "  </thead>\n",
       "  <tbody>\n",
       "    <tr>\n",
       "      <th>0</th>\n",
       "      <td>27</td>\n",
       "      <td>289</td>\n",
       "    </tr>\n",
       "    <tr>\n",
       "      <th>1</th>\n",
       "      <td>2</td>\n",
       "      <td>699</td>\n",
       "    </tr>\n",
       "  </tbody>\n",
       "</table>\n",
       "</div>"
      ],
      "text/plain": [
       "Predicted   0    1\n",
       "Actual            \n",
       "0          27  289\n",
       "1           2  699"
      ]
     },
     "execution_count": 26,
     "metadata": {},
     "output_type": "execute_result"
    }
   ],
   "source": [
    "pd.crosstab(ytest, clf_bn.predict(xtest), rownames=[\"Actual\"], colnames=[\"Predicted\"])"
   ]
  },
  {
   "cell_type": "code",
   "execution_count": 27,
   "metadata": {
    "collapsed": false
   },
   "outputs": [],
   "source": [
    "def AnalyzeTweet(test_tweet, vectorizer, clf):\n",
    "    print \"\\\"\"  + test_tweet + \"\\\" is judged by clasifier to be...\"\n",
    "    test_tweet = vectorizer.transform([test_tweet])\n",
    "\n",
    "    if (clf.predict(test_tweet)[0] == 0):\n",
    "        print \"... Positive Tweet.\"\n",
    "    else:\n",
    "        print \"... Negative Tweet.\"\n",
    "    return(clf.predict(test_tweet)[0])"
   ]
  },
  {
   "cell_type": "markdown",
   "metadata": {},
   "source": [
    "####Here are some good sentiment phrases correctly classified"
   ]
  },
  {
   "cell_type": "code",
   "execution_count": 28,
   "metadata": {
    "collapsed": false
   },
   "outputs": [
    {
     "name": "stdout",
     "output_type": "stream",
     "text": [
      "\"a good day\" is judged by clasifier to be...\n",
      "... Positive Tweet.\n",
      "0\n",
      "\"this is fantastic\" is judged by clasifier to be...\n",
      "... Positive Tweet.\n",
      "0\n",
      "\"congrats on the new job\" is judged by clasifier to be...\n",
      "... Positive Tweet.\n",
      "0\n"
     ]
    }
   ],
   "source": [
    "#compare 'have a good day' with 'a good day'\n",
    "print AnalyzeTweet(\"a good day\", vectorizer, clf_mn)\n",
    "print AnalyzeTweet(\"this is fantastic\", vectorizer, clf_mn)\n",
    "print AnalyzeTweet(\"congrats on the new job\", vectorizer, clf_mn)"
   ]
  },
  {
   "cell_type": "markdown",
   "metadata": {},
   "source": [
    "####Here are some negative sentiment phrases correctly classified"
   ]
  },
  {
   "cell_type": "code",
   "execution_count": 29,
   "metadata": {
    "collapsed": false
   },
   "outputs": [
    {
     "name": "stdout",
     "output_type": "stream",
     "text": [
      "\"what a pain that was\" is judged by clasifier to be...\n",
      "... Negative Tweet.\n",
      "1\n",
      "\"back luck about the interveiw\" is judged by clasifier to be...\n",
      "... Negative Tweet.\n",
      "1\n",
      "\"hopefully time\" is judged by clasifier to be...\n",
      "... Negative Tweet.\n",
      "1\n"
     ]
    }
   ],
   "source": [
    "print AnalyzeTweet(\"what a pain that was\", vectorizer, clf_mn)\n",
    "print AnalyzeTweet(\"back luck about the interveiw\", vectorizer, clf_mn)\n",
    "#compare 'hopefully time' with 'hopefully next time'\n",
    "print AnalyzeTweet(\"hopefully time\", vectorizer, clf_mn)"
   ]
  },
  {
   "cell_type": "markdown",
   "metadata": {},
   "source": [
    "---\n",
    "Question\n",
    "=====\n",
    "***\n",
    "1. Re-run the models using the hashtage removed tweets. Which is the more accurate classifer?\n",
    "2. Come up with a phrase where the classifier gets it completely wrong!"
   ]
  }
 ],
 "metadata": {
  "kernelspec": {
   "display_name": "Python 2",
   "language": "python",
   "name": "python2"
  },
  "language_info": {
   "codemirror_mode": {
    "name": "ipython",
    "version": 2
   },
   "file_extension": ".py",
   "mimetype": "text/x-python",
   "name": "python",
   "nbconvert_exporter": "python",
   "pygments_lexer": "ipython2",
   "version": "2.7.10"
  }
 },
 "nbformat": 4,
 "nbformat_minor": 0
}
