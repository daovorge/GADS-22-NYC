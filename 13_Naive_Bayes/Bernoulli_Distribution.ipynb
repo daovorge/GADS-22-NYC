{
 "cells": [
  {
   "cell_type": "markdown",
   "metadata": {},
   "source": [
    "---\n",
    "Bernoulli Distribution\n",
    "=====\n",
    "***"
   ]
  },
  {
   "cell_type": "markdown",
   "metadata": {},
   "source": [
    "####A discrete distribution of a single binary (i.e. takes on only 1 of 2 values) random variable \n",
    "\n",
    "$x \\in \\{0,1\\}$\n",
    "\n",
    "$\\text{The probability that }x=1\\text{ is given by the parameter }\\mu$\n",
    "\n",
    "$p(x=1) = \\mu$\n",
    "\n",
    "$p(x=0) = 1.0 - \\mu$\n",
    "\n",
    "$p(x=0) = 0.0 \\text{ if }x\\neq0 \\text{ and } x\\neq1$\n",
    "\n",
    "$0<=\\mu<=1.$\n",
    "\n",
    "#####or\n",
    "\n",
    "$p(x) = \\mu^x (1-u)^{1-x} \\text{, if }x=0 \\text{ or } x=1$\n",
    "\n",
    "$p(x)=0 \\text{ otherwise}$\n",
    "\n",
    "$mean = \\mu$\n",
    "\n",
    "$var = \\mu(1-\\mu)$"
   ]
  },
  {
   "cell_type": "code",
   "execution_count": 3,
   "metadata": {
    "collapsed": false
   },
   "outputs": [],
   "source": [
    "import numpy as np\n",
    "import matplotlib.pyplot as plt\n",
    "%matplotlib inline\n",
    "from scipy.stats import bernoulli"
   ]
  },
  {
   "cell_type": "code",
   "execution_count": 35,
   "metadata": {
    "collapsed": false
   },
   "outputs": [
    {
     "name": "stdout",
     "output_type": "stream",
     "text": [
      "The mean is  0.60\n",
      "The variance is  0.24\n",
      "[1 1 0 1 0 0 1 0 1 1]\n"
     ]
    }
   ],
   "source": [
    "#draw 10 samples with probability of success = 0.6\n",
    "mu=0.6\n",
    "N=10\n",
    "\n",
    "print \"The mean is {:5.2f}\".format(float(bernoulli.stats(mu, moments='m')))\n",
    "print \"The variance is {:5.2f}\".format(float(bernoulli.stats(mu, moments='v')))\n",
    "\n",
    "D = bernoulli.rvs(mu, size=N)\n",
    "print D"
   ]
  },
  {
   "cell_type": "markdown",
   "metadata": {},
   "source": [
    "- D contains a set of observed values of the random variable x"
   ]
  },
  {
   "cell_type": "code",
   "execution_count": 36,
   "metadata": {
    "collapsed": false
   },
   "outputs": [
    {
     "data": {
      "text/plain": [
       "(0, 0.99)"
      ]
     },
     "execution_count": 36,
     "metadata": {},
     "output_type": "execute_result"
    },
    {
     "data": {
      "image/png": "[encoded data removed]",
      "text/plain": [
       "<matplotlib.figure.Figure at 0x10c520cd0>"
      ]
     },
     "metadata": {},
     "output_type": "display_data"
    }
   ],
   "source": [
    "x=np.arange(0,2)\n",
    "mu = 0.9\n",
    "fig, ax = plt.subplots(1, 1)\n",
    "ax.plot(x, bernoulli.pmf(x, mu), 'bo', ms=8, label='bernoulli pmf')\n",
    "ax.vlines(x, 0, bernoulli.pmf(x, mu), colors='b', lw=8, alpha=1.0)\n",
    "ax.set_title(\"The Bernoulli Probability Mass Function, mu = {:5.2f}\".format(mu))\n",
    "ax.set_xlim(-0.5, 1.5)\n",
    "ax.set_ylim(0, mu+0.1*mu)"
   ]
  }
 ],
 "metadata": {
  "kernelspec": {
   "display_name": "Python 2",
   "language": "python",
   "name": "python2"
  },
  "language_info": {
   "codemirror_mode": {
    "name": "ipython",
    "version": 2
   },
   "file_extension": ".py",
   "mimetype": "text/x-python",
   "name": "python",
   "nbconvert_exporter": "python",
   "pygments_lexer": "ipython2",
   "version": "2.7.10"
  }
 },
 "nbformat": 4,
 "nbformat_minor": 0
}
