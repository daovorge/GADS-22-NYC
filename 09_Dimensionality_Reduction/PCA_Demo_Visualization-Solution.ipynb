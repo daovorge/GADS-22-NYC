{
 "cells": [
  {
   "cell_type": "code",
   "execution_count": 1,
   "metadata": {
    "collapsed": false
   },
   "outputs": [],
   "source": [
    "import numpy as np\n",
    "import pandas as pd\n",
    "import six\n",
    "from sklearn.decomposition import PCA\n",
    "import matplotlib as mpl\n",
    "import matplotlib.pyplot as plt\n",
    "from matplotlib import colors\n",
    "from matplotlib.font_manager import FontProperties\n",
    "from matplotlib.lines import Line2D\n",
    "%matplotlib inline"
   ]
  },
  {
   "cell_type": "markdown",
   "metadata": {},
   "source": [
    "---\n",
    "##PCA Demo - Visualization\n",
    "---"
   ]
  },
  {
   "cell_type": "markdown",
   "metadata": {},
   "source": [
    "---\n",
    "##Demographic data from around the world\n",
    "---"
   ]
  },
  {
   "cell_type": "code",
   "execution_count": 2,
   "metadata": {
    "collapsed": true
   },
   "outputs": [],
   "source": [
    "#get the dataset directly\n",
    "df = pd.read_csv(\"https://raw.githubusercontent.com/TeachingDataScience/\\\n",
    "data-science-course/forstudentviewing/15_kmeans/un.csv\")"
   ]
  },
  {
   "cell_type": "code",
   "execution_count": 3,
   "metadata": {
    "collapsed": false
   },
   "outputs": [
    {
     "data": {
      "text/html": [
       "<div style=\"max-height:1000px;max-width:1500px;overflow:auto;\">\n",
       "<table border=\"1\" class=\"dataframe\">\n",
       "  <thead>\n",
       "    <tr style=\"text-align: right;\">\n",
       "      <th></th>\n",
       "      <th>country</th>\n",
       "      <th>region</th>\n",
       "      <th>tfr</th>\n",
       "      <th>contraception</th>\n",
       "      <th>educationMale</th>\n",
       "      <th>educationFemale</th>\n",
       "      <th>lifeMale</th>\n",
       "      <th>lifeFemale</th>\n",
       "      <th>infantMortality</th>\n",
       "      <th>GDPperCapita</th>\n",
       "      <th>economicActivityMale</th>\n",
       "      <th>economicActivityFemale</th>\n",
       "      <th>illiteracyMale</th>\n",
       "      <th>illiteracyFemale</th>\n",
       "    </tr>\n",
       "  </thead>\n",
       "  <tbody>\n",
       "    <tr>\n",
       "      <th>0</th>\n",
       "      <td>    Afghanistan</td>\n",
       "      <td>   Asia</td>\n",
       "      <td> 6.90</td>\n",
       "      <td>NaN</td>\n",
       "      <td>  NaN</td>\n",
       "      <td> NaN</td>\n",
       "      <td> 45.0</td>\n",
       "      <td> 46.0</td>\n",
       "      <td> 154</td>\n",
       "      <td> 2848</td>\n",
       "      <td> 87.5</td>\n",
       "      <td>  7.2</td>\n",
       "      <td> 52.800</td>\n",
       "      <td> 85.00</td>\n",
       "    </tr>\n",
       "    <tr>\n",
       "      <th>1</th>\n",
       "      <td>        Albania</td>\n",
       "      <td> Europe</td>\n",
       "      <td> 2.60</td>\n",
       "      <td>NaN</td>\n",
       "      <td>  NaN</td>\n",
       "      <td> NaN</td>\n",
       "      <td> 68.0</td>\n",
       "      <td> 74.0</td>\n",
       "      <td>  32</td>\n",
       "      <td>  863</td>\n",
       "      <td>  NaN</td>\n",
       "      <td>  NaN</td>\n",
       "      <td>    NaN</td>\n",
       "      <td>   NaN</td>\n",
       "    </tr>\n",
       "    <tr>\n",
       "      <th>2</th>\n",
       "      <td>        Algeria</td>\n",
       "      <td> Africa</td>\n",
       "      <td> 3.81</td>\n",
       "      <td> 52</td>\n",
       "      <td> 11.1</td>\n",
       "      <td> 9.9</td>\n",
       "      <td> 67.5</td>\n",
       "      <td> 70.3</td>\n",
       "      <td>  44</td>\n",
       "      <td> 1531</td>\n",
       "      <td> 76.4</td>\n",
       "      <td>  7.8</td>\n",
       "      <td> 26.100</td>\n",
       "      <td> 51.00</td>\n",
       "    </tr>\n",
       "    <tr>\n",
       "      <th>3</th>\n",
       "      <td> American.Samoa</td>\n",
       "      <td>   Asia</td>\n",
       "      <td>  NaN</td>\n",
       "      <td>NaN</td>\n",
       "      <td>  NaN</td>\n",
       "      <td> NaN</td>\n",
       "      <td> 68.0</td>\n",
       "      <td> 73.0</td>\n",
       "      <td>  11</td>\n",
       "      <td>  NaN</td>\n",
       "      <td> 58.8</td>\n",
       "      <td> 42.4</td>\n",
       "      <td>  0.264</td>\n",
       "      <td>  0.36</td>\n",
       "    </tr>\n",
       "    <tr>\n",
       "      <th>4</th>\n",
       "      <td>        Andorra</td>\n",
       "      <td> Europe</td>\n",
       "      <td>  NaN</td>\n",
       "      <td>NaN</td>\n",
       "      <td>  NaN</td>\n",
       "      <td> NaN</td>\n",
       "      <td>  NaN</td>\n",
       "      <td>  NaN</td>\n",
       "      <td> NaN</td>\n",
       "      <td>  NaN</td>\n",
       "      <td>  NaN</td>\n",
       "      <td>  NaN</td>\n",
       "      <td>    NaN</td>\n",
       "      <td>   NaN</td>\n",
       "    </tr>\n",
       "  </tbody>\n",
       "</table>\n",
       "</div>"
      ],
      "text/plain": [
       "          country  region   tfr  contraception  educationMale  \\\n",
       "0     Afghanistan    Asia  6.90            NaN            NaN   \n",
       "1         Albania  Europe  2.60            NaN            NaN   \n",
       "2         Algeria  Africa  3.81             52           11.1   \n",
       "3  American.Samoa    Asia   NaN            NaN            NaN   \n",
       "4         Andorra  Europe   NaN            NaN            NaN   \n",
       "\n",
       "   educationFemale  lifeMale  lifeFemale  infantMortality  GDPperCapita  \\\n",
       "0              NaN      45.0        46.0              154          2848   \n",
       "1              NaN      68.0        74.0               32           863   \n",
       "2              9.9      67.5        70.3               44          1531   \n",
       "3              NaN      68.0        73.0               11           NaN   \n",
       "4              NaN       NaN         NaN              NaN           NaN   \n",
       "\n",
       "   economicActivityMale  economicActivityFemale  illiteracyMale  \\\n",
       "0                  87.5                     7.2          52.800   \n",
       "1                   NaN                     NaN             NaN   \n",
       "2                  76.4                     7.8          26.100   \n",
       "3                  58.8                    42.4           0.264   \n",
       "4                   NaN                     NaN             NaN   \n",
       "\n",
       "   illiteracyFemale  \n",
       "0             85.00  \n",
       "1               NaN  \n",
       "2             51.00  \n",
       "3              0.36  \n",
       "4               NaN  "
      ]
     },
     "execution_count": 3,
     "metadata": {},
     "output_type": "execute_result"
    }
   ],
   "source": [
    "df.head()"
   ]
  },
  {
   "cell_type": "code",
   "execution_count": 4,
   "metadata": {
    "collapsed": false
   },
   "outputs": [
    {
     "name": "stdout",
     "output_type": "stream",
     "text": [
      "14\n"
     ]
    },
    {
     "data": {
      "text/plain": [
       "Index([u'country', u'region', u'tfr', u'contraception', u'educationMale', u'educationFemale', u'lifeMale', u'lifeFemale', u'infantMortality', u'GDPperCapita', u'economicActivityMale', u'economicActivityFemale', u'illiteracyMale', u'illiteracyFemale'], dtype='object')"
      ]
     },
     "execution_count": 4,
     "metadata": {},
     "output_type": "execute_result"
    }
   ],
   "source": [
    "print len(df.columns)\n",
    "df.columns"
   ]
  },
  {
   "cell_type": "code",
   "execution_count": 5,
   "metadata": {
    "collapsed": false
   },
   "outputs": [],
   "source": [
    "#Let's pick 4 features - male lifespan, female lifespan, infant mortality and GDP per capita\n",
    "focus = ['country', 'lifeMale', 'lifeFemale', 'infantMortality', 'GDPperCapita']\n",
    "rfocus = ['lifeMale', 'lifeFemale', 'infantMortality', 'GDPperCapita']"
   ]
  },
  {
   "cell_type": "code",
   "execution_count": 6,
   "metadata": {
    "collapsed": false
   },
   "outputs": [],
   "source": [
    "#Having 2 dataframes, just for ease of use, one with a country column, one without\n",
    "#For this exercise drop the Nans\n",
    "df_focus = df[focus].dropna()\n",
    "df_rfocus = df_focus[rfocus]"
   ]
  },
  {
   "cell_type": "code",
   "execution_count": 7,
   "metadata": {
    "collapsed": false
   },
   "outputs": [
    {
     "data": {
      "text/html": [
       "<div style=\"max-height:1000px;max-width:1500px;overflow:auto;\">\n",
       "<table border=\"1\" class=\"dataframe\">\n",
       "  <thead>\n",
       "    <tr style=\"text-align: right;\">\n",
       "      <th></th>\n",
       "      <th>lifeMale</th>\n",
       "      <th>lifeFemale</th>\n",
       "      <th>infantMortality</th>\n",
       "      <th>GDPperCapita</th>\n",
       "    </tr>\n",
       "  </thead>\n",
       "  <tbody>\n",
       "    <tr>\n",
       "      <th>count</th>\n",
       "      <td> 188.000000</td>\n",
       "      <td> 188.000000</td>\n",
       "      <td> 188.000000</td>\n",
       "      <td>   188.000000</td>\n",
       "    </tr>\n",
       "    <tr>\n",
       "      <th>mean</th>\n",
       "      <td>  63.526064</td>\n",
       "      <td>  68.309043</td>\n",
       "      <td>  44.308511</td>\n",
       "      <td>  5890.595745</td>\n",
       "    </tr>\n",
       "    <tr>\n",
       "      <th>std</th>\n",
       "      <td>   9.820235</td>\n",
       "      <td>  11.085095</td>\n",
       "      <td>  38.896964</td>\n",
       "      <td>  8917.273130</td>\n",
       "    </tr>\n",
       "    <tr>\n",
       "      <th>min</th>\n",
       "      <td>  36.000000</td>\n",
       "      <td>  39.100000</td>\n",
       "      <td>   3.000000</td>\n",
       "      <td>    36.000000</td>\n",
       "    </tr>\n",
       "    <tr>\n",
       "      <th>25%</th>\n",
       "      <td>  57.275000</td>\n",
       "      <td>  58.625000</td>\n",
       "      <td>  12.000000</td>\n",
       "      <td>   426.500000</td>\n",
       "    </tr>\n",
       "    <tr>\n",
       "      <th>50%</th>\n",
       "      <td>  66.500000</td>\n",
       "      <td>  71.950000</td>\n",
       "      <td>  30.500000</td>\n",
       "      <td>  1654.500000</td>\n",
       "    </tr>\n",
       "    <tr>\n",
       "      <th>75%</th>\n",
       "      <td>  70.675000</td>\n",
       "      <td>  76.250000</td>\n",
       "      <td>  71.250000</td>\n",
       "      <td>  6730.500000</td>\n",
       "    </tr>\n",
       "    <tr>\n",
       "      <th>max</th>\n",
       "      <td>  77.400000</td>\n",
       "      <td>  82.900000</td>\n",
       "      <td> 169.000000</td>\n",
       "      <td> 42416.000000</td>\n",
       "    </tr>\n",
       "  </tbody>\n",
       "</table>\n",
       "</div>"
      ],
      "text/plain": [
       "         lifeMale  lifeFemale  infantMortality  GDPperCapita\n",
       "count  188.000000  188.000000       188.000000    188.000000\n",
       "mean    63.526064   68.309043        44.308511   5890.595745\n",
       "std      9.820235   11.085095        38.896964   8917.273130\n",
       "min     36.000000   39.100000         3.000000     36.000000\n",
       "25%     57.275000   58.625000        12.000000    426.500000\n",
       "50%     66.500000   71.950000        30.500000   1654.500000\n",
       "75%     70.675000   76.250000        71.250000   6730.500000\n",
       "max     77.400000   82.900000       169.000000  42416.000000"
      ]
     },
     "execution_count": 7,
     "metadata": {},
     "output_type": "execute_result"
    }
   ],
   "source": [
    "df_focus.describe()"
   ]
  },
  {
   "cell_type": "code",
   "execution_count": 8,
   "metadata": {
    "collapsed": false
   },
   "outputs": [
    {
     "data": {
      "text/html": [
       "<div style=\"max-height:1000px;max-width:1500px;overflow:auto;\">\n",
       "<table border=\"1\" class=\"dataframe\">\n",
       "  <thead>\n",
       "    <tr style=\"text-align: right;\">\n",
       "      <th></th>\n",
       "      <th>country</th>\n",
       "      <th>lifeMale</th>\n",
       "      <th>lifeFemale</th>\n",
       "      <th>infantMortality</th>\n",
       "      <th>GDPperCapita</th>\n",
       "    </tr>\n",
       "  </thead>\n",
       "  <tbody>\n",
       "    <tr>\n",
       "      <th>0</th>\n",
       "      <td> Afghanistan</td>\n",
       "      <td> 45.0</td>\n",
       "      <td> 46.0</td>\n",
       "      <td> 154</td>\n",
       "      <td> 2848</td>\n",
       "    </tr>\n",
       "    <tr>\n",
       "      <th>1</th>\n",
       "      <td>     Albania</td>\n",
       "      <td> 68.0</td>\n",
       "      <td> 74.0</td>\n",
       "      <td>  32</td>\n",
       "      <td>  863</td>\n",
       "    </tr>\n",
       "    <tr>\n",
       "      <th>2</th>\n",
       "      <td>     Algeria</td>\n",
       "      <td> 67.5</td>\n",
       "      <td> 70.3</td>\n",
       "      <td>  44</td>\n",
       "      <td> 1531</td>\n",
       "    </tr>\n",
       "    <tr>\n",
       "      <th>5</th>\n",
       "      <td>      Angola</td>\n",
       "      <td> 44.9</td>\n",
       "      <td> 48.1</td>\n",
       "      <td> 124</td>\n",
       "      <td>  355</td>\n",
       "    </tr>\n",
       "    <tr>\n",
       "      <th>7</th>\n",
       "      <td>   Argentina</td>\n",
       "      <td> 69.6</td>\n",
       "      <td> 76.8</td>\n",
       "      <td>  22</td>\n",
       "      <td> 8055</td>\n",
       "    </tr>\n",
       "  </tbody>\n",
       "</table>\n",
       "</div>"
      ],
      "text/plain": [
       "       country  lifeMale  lifeFemale  infantMortality  GDPperCapita\n",
       "0  Afghanistan      45.0        46.0              154          2848\n",
       "1      Albania      68.0        74.0               32           863\n",
       "2      Algeria      67.5        70.3               44          1531\n",
       "5       Angola      44.9        48.1              124           355\n",
       "7    Argentina      69.6        76.8               22          8055"
      ]
     },
     "execution_count": 8,
     "metadata": {},
     "output_type": "execute_result"
    }
   ],
   "source": [
    "df_focus.head()"
   ]
  },
  {
   "cell_type": "markdown",
   "metadata": {},
   "source": [
    "---\n",
    "##The aim is to plot the 4-dimensional data!!\n",
    "###which we, obviously, cannot do\n",
    "###So reduce the data to 2-D, and plot that\n",
    "---"
   ]
  },
  {
   "cell_type": "code",
   "execution_count": 19,
   "metadata": {
    "collapsed": false
   },
   "outputs": [
    {
     "name": "stdout",
     "output_type": "stream",
     "text": [
      "(188, 2)\n"
     ]
    }
   ],
   "source": [
    "#fit a PCA model and transform the dataset\n",
    "#NB PCA does not require any data labels\n",
    "myPCA = PCA(n_components = 2).fit(df_rfocus)\n",
    "\n",
    "#The transformed data has only 2 dimensions\n",
    "new_data = myPCA.transform(df_rfocus)\n",
    "print new_data.shape"
   ]
  },
  {
   "cell_type": "code",
   "execution_count": 11,
   "metadata": {
    "collapsed": false
   },
   "outputs": [
    {
     "name": "stdout",
     "output_type": "stream",
     "text": [
      "Afghanistan Albania Algeria American.Samoa Andorra Angola Antigua Argentina Armenia Australia Austria Azerbaijan Bahamas Bahrain Bangladesh Barbados Belarus Belgium Belize Benin Bhutan Bolivia Bosnia Botswana Brazil Brunei Bulgaria Burkina.Faso Burundi Cambodia Cameroon Canada Cape.Verde Central.African.Rep Chad Chile China Colombia Comoros Congo Cook.Islands Costa.Rica Croatia Cuba Cyprus Czech.Republic Dem.Rep.of.the.Congo Denmark Djibouti Dominica Dominican.Republic East.Timor Ecuador Egypt El.Salvador Equatorial.Guinea Eritrea Estonia Ethiopia Fiji Finland France French.Guiana French.Polynesia Gabon Gambia Gaza.Strip Georgia Germany Ghana Greece Grenada Guadeloupe Guam Guatemala Guinea Guinea.Bissau Guyana Haiti Honduras Hong.Kong Hungary Iceland India Indonesia Iran Iraq Ireland Israel Italy Ivory.Coast Jamaica Japan Jordan Kazakhstan Kenya Kiribati Korea.Dem.Peoples.Rep Korea.Republic.of Kuwait Kyrgyzstan Laos Latvia Lebanon Lesotho Liberia Libya Liechtenstein Lithuania Luxembourg Macau Macedonia Madagascar Malawi Malaysia Maldives Mali Malta Marshall.Islands Martinique Mauritania Mauritius Mexico Micronesia Moldova Monaco Mongolia Morocco Mozambique Myanmar Namibia Nepal Netherlands Netherlands.Antilles New.Caledonia New.Zealand Nicaragua Niger Nigeria Northern.Mariana.Islands Norway Oman Pakistan Palau Panama Papua.New.Guinea Paraguay Peru Philippines Poland Portugal Puerto.Rico Qatar Reunion Romania Russia Rwanda Saint.Kitts Saint.Lucia Samoa San.Marino Sao.Tome Saudi.Arabia Senegal Seychelles Sierra.Leone Singapore Slovakia Slovenia Solomon.Islands Somalia South.Africa Spain Sri.Lanka St.Vincent Sudan Suriname Swaziland Sweden Switzerland Syria Tajikistan Tanzania Thailand Togo Tonga Trinidad.and.Tobago Tunisia\n"
     ]
    }
   ],
   "source": [
    "#What countries do we have data for (the 4 features in question)\n",
    "\n",
    "for i in xrange(len(df_focus)):\n",
    "    print df.loc[i].country,"
   ]
  },
  {
   "cell_type": "code",
   "execution_count": 15,
   "metadata": {
    "collapsed": false
   },
   "outputs": [
    {
     "name": "stdout",
     "output_type": "stream",
     "text": [
      "150\n"
     ]
    }
   ],
   "source": [
    "#Let's make sure we can have a wide array of colors for matplotlib\n",
    "#Six is a Python 2 and 3 compatibility library. It provides utility \n",
    "#functions for smoothing over the differences between the Python \n",
    "#versions with the goal of writing Python code that is compatible \n",
    "#on both Python versions.\n",
    "my_colors_list = list(six.iteritems(colors.cnames))\n",
    "print len(my_colors_list)"
   ]
  },
  {
   "cell_type": "code",
   "execution_count": 18,
   "metadata": {
    "collapsed": false
   },
   "outputs": [
    {
     "name": "stdout",
     "output_type": "stream",
     "text": [
      "['Slovenia', 'Barbados', 'Guadeloupe', 'Bosnia', 'Cuba', 'Guinea', 'Lesotho', 'Argentina', 'Saudi.Arabia', 'Swaziland', 'Kenya', 'Guinea', 'Denmark', 'French.Polynesia', 'Canada', 'Philippines', 'Moldova', 'Mali', 'Colombia', 'Slovakia', 'Latvia', 'Andorra', 'Somalia', 'Liechtenstein', 'East.Timor', 'Lebanon', 'Comoros', 'Central.African.Rep', 'Ethiopia', 'Moldova']\n"
     ]
    }
   ],
   "source": [
    "#Now choose 30 countries at random\n",
    "np.random.seed(2)\n",
    "r = np.random.randint(0, len(df_focus), 30)\n",
    "the_country_list = []\n",
    "for i in xrange(30):\n",
    "    the_country_list.append(df.loc[r[i]].country)\n",
    "print the_country_list"
   ]
  },
  {
   "cell_type": "code",
   "execution_count": 20,
   "metadata": {
    "collapsed": false
   },
   "outputs": [
    {
     "data": {
      "text/plain": [
       "<matplotlib.legend.Legend at 0x112e6fa90>"
      ]
     },
     "execution_count": 20,
     "metadata": {},
     "output_type": "execute_result"
    },
    {
     "data": {
      "image/png": "[encoded data removed]",
      "text/plain": [
       "<matplotlib.figure.Figure at 0x1126781d0>"
      ]
     },
     "metadata": {},
     "output_type": "display_data"
    }
   ],
   "source": [
    "#Now let's plot the 2-D data\n",
    "\n",
    "fig = plt.figure(figsize = (15,15))\n",
    "ax = plt.subplot(111)\n",
    "\n",
    "#plot the entire transformed dataset\n",
    "ax.scatter(new_data[:,0], new_data[:,1])\n",
    "\n",
    "#Some matplotlib stuff we haven't yet seen\n",
    "#To do this you have to import FontProperties (see the first cell)\n",
    "fontP = FontProperties()\n",
    "fontP.set_size('large')\n",
    "\n",
    "#if you prefer you can make up a dedicated country list - remember not all countries are present because\n",
    "#some got excluded when we did dropna()\n",
    "#the_country_list = ['Afghanistan', 'Australia', 'Burkina.Faso', 'Germany','Hong.Kong']\n",
    "\n",
    "#Loop over the country list and plot the point for that country in a unique color and a somewhat unique marker\n",
    "#Line2D must be imported - see the first cell. It contains all the filled markers available for matplotlib\n",
    "for i, the_country in enumerate(the_country_list):\n",
    "    ax.scatter(myPCA.transform(df_focus[df_focus.country == the_country][rfocus])[:,0], \n",
    "            myPCA.transform(df_focus[df_focus.country == the_country][rfocus])[:,1], \n",
    "            color=my_colors_list[i % 150][0], \n",
    "            marker = Line2D.filled_markers[i % 13],\n",
    "            s=150,\n",
    "            label = the_country)\n",
    "    \n",
    "#Since the x and y axes don't mean anything, switch them off\n",
    "ax.set_axis_off()\n",
    "\n",
    "#Move the legend out of the plot\n",
    "ax.legend(bbox_to_anchor=(0.5, -0.1), prop = fontP)"
   ]
  },
  {
   "cell_type": "markdown",
   "metadata": {},
   "source": [
    "---\n",
    "##Remember this is converted 4-D data, measuring a number of things\n",
    "##Hopefully you might see clusters of similar countries on the plot, all of whom have similar metrics as measured by the original features\n",
    "---"
   ]
  }
 ],
 "metadata": {
  "kernelspec": {
   "display_name": "Python 2",
   "language": "python",
   "name": "python2"
  },
  "language_info": {
   "codemirror_mode": {
    "name": "ipython",
    "version": 2
   },
   "file_extension": ".py",
   "mimetype": "text/x-python",
   "name": "python",
   "nbconvert_exporter": "python",
   "pygments_lexer": "ipython2",
   "version": "2.7.9"
  }
 },
 "nbformat": 4,
 "nbformat_minor": 0
}
