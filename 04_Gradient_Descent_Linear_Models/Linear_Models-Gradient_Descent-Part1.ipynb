{
 "cells": [
  {
   "cell_type": "code",
   "execution_count": 1,
   "metadata": {
    "collapsed": false
   },
   "outputs": [],
   "source": [
    "import numpy as np\n",
    "import pandas as pd\n",
    "from IPython import display\n",
    "import matplotlib.pyplot as plt\n",
    "%matplotlib inline\n",
    "import matplotlib as mpl"
   ]
  },
  {
   "cell_type": "markdown",
   "metadata": {},
   "source": [
    "-----------\n",
    "#What do we mean by the term “Linear Model”\n",
    "\n",
    "##A model generally consists of:\n",
    "## * inputs or features - $x$\n",
    "## * outputs or targets - $y$\n",
    "## * model parameters - $\\theta$\n",
    "\n",
    "##Once you have determined the model parameters then you have operational model\n",
    "\n",
    "##A Linear Model is:\n",
    "\n",
    "##any model where the output is defined by a linear combination of inputs and model parameters\n",
    "-----------"
   ]
  },
  {
   "cell_type": "markdown",
   "metadata": {},
   "source": [
    "-----------\n",
    "#A simple example \n",
    "\n",
    "##Univariate linear regression\n",
    "\n",
    "##$$y = \\theta_{1} x + \\theta_{0}$$\n",
    "\n",
    "##This is univariate because there is only a single feature - x\n",
    "## * This equation defines a straight line\n",
    "## * The parameters of the model are defined by θ\n",
    "## * $\\theta_{1}$ is called the slope of the line\n",
    "## * $\\theta_{0}$ is called the intercept\n",
    "-----------"
   ]
  },
  {
   "cell_type": "markdown",
   "metadata": {},
   "source": [
    "-----------\n",
    "#A Simple Worked Example\n",
    "##A straight line consisting of 3 points that go through the origin\n",
    "##Formula: $y = \\theta_{1} x + \\theta_{0}$\n",
    "##$\\theta_{1} = 1$,  i.e. slope = 1\n",
    "##$\\theta_{0} = 0$,  i.e. no y intercept, so passes through the origin\n",
    "-----------"
   ]
  },
  {
   "cell_type": "markdown",
   "metadata": {},
   "source": [
    "#Dataset - Fully Cleaned = Training set"
   ]
  },
  {
   "cell_type": "code",
   "execution_count": 2,
   "metadata": {
    "collapsed": false
   },
   "outputs": [
    {
     "name": "stdout",
     "output_type": "stream",
     "text": [
      "Feature 0: (1, 1)\n",
      "Feature 1: (2, 2)\n",
      "Feature 2: (3, 3)\n"
     ]
    }
   ],
   "source": [
    "#m denotes the number of training examples\n",
    "m = 3\n",
    "x=np.array([1, 2, 3])\n",
    "y=np.array([1, 2, 3])\n",
    "theta1 = 1\n",
    "\n",
    "for i in xrange(m):\n",
    "    print \"Feature %d: (%d, %d)\" % (i, y[i], x[i])"
   ]
  },
  {
   "cell_type": "markdown",
   "metadata": {},
   "source": [
    "#Use matplotlib to plot the data"
   ]
  },
  {
   "cell_type": "code",
   "execution_count": 3,
   "metadata": {
    "collapsed": false
   },
   "outputs": [
    {
     "data": {
      "text/plain": [
       "[<matplotlib.lines.Line2D at 0x10bf92310>]"
      ]
     },
     "execution_count": 3,
     "metadata": {},
     "output_type": "execute_result"
    },
    {
     "data": {
      "image/png": "[encoded data removed]",
      "text/plain": [
       "<matplotlib.figure.Figure at 0x10beeaa90>"
      ]
     },
     "metadata": {},
     "output_type": "display_data"
    }
   ],
   "source": [
    "mpl.style.use('ggplot')\n",
    "ax = plt.figure(figsize=(5,5))\n",
    "ax = plt.subplot(111)\n",
    "ax.set_xlim(0,4)\n",
    "ax.set_ylim(0,4)\n",
    "ax.set_xlabel(\"x\")\n",
    "ax.set_ylabel(\"y\")\n",
    "ax.set_title(\"Straight Line Points\")\n",
    "ax.plot(x,y, 'ro')"
   ]
  },
  {
   "cell_type": "markdown",
   "metadata": {},
   "source": [
    "#Define the Hypothesis function, $h(x)$"
   ]
  },
  {
   "cell_type": "code",
   "execution_count": 4,
   "metadata": {
    "collapsed": true
   },
   "outputs": [],
   "source": [
    "def h(x, theta1):\n",
    "    return x * theta1"
   ]
  },
  {
   "cell_type": "markdown",
   "metadata": {},
   "source": [
    "#Define a cost function, $J(\\theta)$"
   ]
  },
  {
   "cell_type": "markdown",
   "metadata": {},
   "source": [
    "##Measures the sum of squares between the predicted value ($\\hat{y}$) and the known value ($y$). $\\hat{y} \\equiv h(x)$\n",
    "##$m$ is the number of records = 3\n",
    "##Single feature, $x$\n",
    "##We can therefore calculate the sum of squared errors \n",
    "##$$(\\hat{y}_{0}-y_{0})^{2} + (\\hat{y}_{1}-y_{1})^{2} + (\\hat{y}_{2}-y_{2})^{2}$$\n",
    "##Then we calculate the average sum of squared errors\n",
    "##$$\\frac{(\\hat{y}_{0}-y_{0})^{2} + (\\hat{y}_{1}-y_{1})^{2} + (\\hat{y}_{2}-y_{2})^{2}}{m}$$\n",
    "##$$J(\\theta)=\\frac{1}{2m}\\sum_{i=1}^{m}(y_{i}-\\hat{y}_{i})^2$$"
   ]
  },
  {
   "cell_type": "code",
   "execution_count": 5,
   "metadata": {
    "collapsed": true
   },
   "outputs": [],
   "source": [
    "def J(theta1, h, x, y):\n",
    "    yhat = h(x, theta1)\n",
    "    sum_diff = (y - yhat)*(y - yhat)\n",
    "    return (1.0/(2.0*len(x))) * sum_diff.sum()"
   ]
  },
  {
   "cell_type": "markdown",
   "metadata": {},
   "source": [
    "##How does the cost function vary with the choice of $\\theta_{1}$?\n",
    "##What is the shape of the cost function?"
   ]
  },
  {
   "cell_type": "code",
   "execution_count": null,
   "metadata": {
    "collapsed": false
   },
   "outputs": [
    {
     "data": {
      "image/png": "[encoded data removed]",
      "text/plain": [
       "<matplotlib.figure.Figure at 0x10c033dd0>"
      ]
     },
     "metadata": {},
     "output_type": "display_data"
    },
    {
     "name": "stdout",
     "output_type": "stream",
     "text": [
      "Slope = -0.50, Cost =  5.25\n"
     ]
    }
   ],
   "source": [
    "fig = plt.figure(figsize=(10,5))\n",
    "ax1 = fig.add_subplot(121)\n",
    "ax1.set_title('h(x)')\n",
    "ax1.set_xlabel(\"y hat or h(x)\")\n",
    "ax1.set_xlabel(\"x\")\n",
    "ax1.plot(x, y, 'rx')\n",
    "\n",
    "plt.xlim(-1,5)\n",
    "plt.ylim(-1,5)\n",
    "\n",
    "ax2 = fig.add_subplot(122)\n",
    "ax2.set_title('J(theta)')\n",
    "ax2.set_ylabel(\"Cost\")\n",
    "ax2.set_xlabel(\"theta\")\n",
    "\n",
    "for theta1 in np.arange(-0.5,3.0,0.5):\n",
    "    ax2.set_xlim(-1,4)\n",
    "    ax2.set_ylim(-1,7)\n",
    "    ax2.plot(theta1, J(theta1, h, x, y), linestyle='--', color='r', marker='o')\n",
    "\n",
    "    ax1.set_xlim(-1,4)\n",
    "    ax1.set_ylim(-2,8)\n",
    "    ax1.set_ylabel(\"y hat or h(x)\")\n",
    "    ax1.set_xlabel(\"x\")\n",
    "    ax1.plot(x, h(x, theta1))\n",
    "    \n",
    "    for i in xrange(m):\n",
    "        xc=[x[i],y[i]]\n",
    "        yc=[x[i],h(x[i], theta1)]\n",
    "        ax1.plot(xc, yc, '--')\n",
    "    \n",
    "    display.clear_output(wait=True)\n",
    "    display.display(plt.gcf())\n",
    "    print \"Slope = {:5.2f}, Cost = {:5.2f}\".format(theta1, J(theta1, h, x, y))\n",
    "    \n",
    "    raw_input('>>>')"
   ]
  },
  {
   "cell_type": "markdown",
   "metadata": {},
   "source": [
    "#So to find the 'best' value of $\\theta$ *all* we need to do is find the value of $\\theta$ at the minimum of the cost function $J$"
   ]
  },
  {
   "cell_type": "markdown",
   "metadata": {},
   "source": [
    "#One method to find the mininum is called Gradient Descent"
   ]
  }
 ],
 "metadata": {
  "kernelspec": {
   "display_name": "Python 2",
   "language": "python",
   "name": "python2"
  },
  "language_info": {
   "codemirror_mode": {
    "name": "ipython",
    "version": 2
   },
   "file_extension": ".py",
   "mimetype": "text/x-python",
   "name": "python",
   "nbconvert_exporter": "python",
   "pygments_lexer": "ipython2",
   "version": "2.7.9"
  }
 },
 "nbformat": 4,
 "nbformat_minor": 0
}
