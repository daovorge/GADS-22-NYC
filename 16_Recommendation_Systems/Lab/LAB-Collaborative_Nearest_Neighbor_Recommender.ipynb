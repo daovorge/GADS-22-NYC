{
 "cells": [
  {
   "cell_type": "code",
   "execution_count": 1,
   "metadata": {
    "collapsed": false
   },
   "outputs": [],
   "source": [
    "import numpy as np\n",
    "import pandas as pd\n",
    "from sklearn.metrics.pairwise import cosine_similarity\n",
    "import time\n",
    "from scipy.stats import pearsonr\n",
    "from sklearn.metrics.pairwise import cosine_similarity"
   ]
  },
  {
   "cell_type": "markdown",
   "metadata": {},
   "source": [
    "---\n",
    "Nearest Neighbor Recommedation System\n",
    "=====\n",
    "***"
   ]
  },
  {
   "cell_type": "markdown",
   "metadata": {},
   "source": [
    "http://www2.informatik.uni-freiburg.de/~cziegler/BX/"
   ]
  },
  {
   "cell_type": "markdown",
   "metadata": {},
   "source": [
    "<img src=\"./Assets/bookcrossing.png\" />"
   ]
  },
  {
   "cell_type": "markdown",
   "metadata": {},
   "source": [
    "#####Load the 3 files"
   ]
  },
  {
   "cell_type": "code",
   "execution_count": 2,
   "metadata": {
    "collapsed": false
   },
   "outputs": [],
   "source": [
    "#df_users = pd.read_csv(\"/Users/mrgholt/GADS-22-NYC/Datasets/BX-CSV-Dump/BX-Users.csv\", delimiter=';')"
   ]
  },
  {
   "cell_type": "code",
   "execution_count": 3,
   "metadata": {
    "collapsed": true
   },
   "outputs": [],
   "source": [
    "#df_book_ratings = pd.read_csv(\"/Users/mrgholt/GADS-22-NYC/Datasets/BX-CSV-Dump/BX-Book-Ratings.csv\", delimiter=';')"
   ]
  },
  {
   "cell_type": "code",
   "execution_count": 4,
   "metadata": {
    "collapsed": false
   },
   "outputs": [],
   "source": [
    "#df_books = pd.read_csv(\"/Users/mrgholt/GADS-22-NYC/Datasets/BX-CSV-Dump/BX-Books.csv\", delimiter=';')"
   ]
  },
  {
   "cell_type": "markdown",
   "metadata": {},
   "source": [
    "#####Have a look at each of the file attributes"
   ]
  },
  {
   "cell_type": "code",
   "execution_count": 1,
   "metadata": {
    "collapsed": false
   },
   "outputs": [],
   "source": [
    "#df_users.info()"
   ]
  },
  {
   "cell_type": "code",
   "execution_count": 2,
   "metadata": {
    "collapsed": false
   },
   "outputs": [],
   "source": [
    "#df_book_ratings.info()"
   ]
  },
  {
   "cell_type": "code",
   "execution_count": 3,
   "metadata": {
    "collapsed": false
   },
   "outputs": [],
   "source": [
    "#df_books.info()"
   ]
  },
  {
   "cell_type": "code",
   "execution_count": 4,
   "metadata": {
    "collapsed": false
   },
   "outputs": [],
   "source": [
    "#df_book_ratings.head(2)"
   ]
  },
  {
   "cell_type": "code",
   "execution_count": 5,
   "metadata": {
    "collapsed": false
   },
   "outputs": [],
   "source": [
    "#df_users.head(2)"
   ]
  },
  {
   "cell_type": "code",
   "execution_count": 6,
   "metadata": {
    "collapsed": false
   },
   "outputs": [],
   "source": [
    "#df_books.head(2)"
   ]
  },
  {
   "cell_type": "markdown",
   "metadata": {},
   "source": [
    "#####To manage this amount of data in Python requires some consideration\n",
    "#####While Pandas can be convenient they can also be slow\n",
    "#####Let's make a new data frame consisting of just the ISBN number and book title"
   ]
  },
  {
   "cell_type": "code",
   "execution_count": 7,
   "metadata": {
    "collapsed": true
   },
   "outputs": [],
   "source": [
    "#df_bk = df_books[[\"ISBN\", \"Book-Title\"]]"
   ]
  },
  {
   "cell_type": "code",
   "execution_count": 8,
   "metadata": {
    "collapsed": false
   },
   "outputs": [],
   "source": [
    "#df_bk.head(2)"
   ]
  },
  {
   "cell_type": "markdown",
   "metadata": {},
   "source": [
    "#####We are going to be looking up book titles using ISBN numbers\n",
    "#####Pandas indexing is fast, so make the ISBN number the index"
   ]
  },
  {
   "cell_type": "code",
   "execution_count": 9,
   "metadata": {
    "collapsed": true
   },
   "outputs": [],
   "source": [
    "#isb = df_bk['ISBN']\n",
    "#df_bk.index = isb\n",
    "#del(df_bk[\"ISBN\"])"
   ]
  },
  {
   "cell_type": "code",
   "execution_count": 10,
   "metadata": {
    "collapsed": false
   },
   "outputs": [],
   "source": [
    "#df_bk.head()"
   ]
  },
  {
   "cell_type": "markdown",
   "metadata": {},
   "source": [
    "#####Create a empy title list"
   ]
  },
  {
   "cell_type": "code",
   "execution_count": 11,
   "metadata": {
    "collapsed": false
   },
   "outputs": [],
   "source": [
    "#title_list = list(np.zeros(len(df_book_ratings[\"ISBN\"])))"
   ]
  },
  {
   "cell_type": "markdown",
   "metadata": {},
   "source": [
    "#####Now create a fast routine for creating a list of titles - we'll see why this is a good idea in a few cells time!!"
   ]
  },
  {
   "cell_type": "code",
   "execution_count": 16,
   "metadata": {
    "collapsed": false
   },
   "outputs": [
    {
     "name": "stdout",
     "output_type": "stream",
     "text": [
      ". . . . . . . . . . .\n"
     ]
    }
   ],
   "source": [
    "count = 0\n",
    "#run through the books in the ratings data frame\n",
    "for isbn in df_book_ratings[\"ISBN\"]:\n",
    "    \n",
    "    try:\n",
    "        #see if there is a title in the books data frame, use the isbn to index into the table efficiently\n",
    "        title =  df_bk.ix[isbn][\"Book-Title\"]\n",
    "    \n",
    "    except KeyError:\n",
    "        #if a key error is generated then there is no title to match the isbn number, make up a title!!\n",
    "        title = \"missing title, isbn = \" + str(isbn)\n",
    "    \n",
    "    #Now fill up the empty title list, the memory for which has been created 2 cells up\n",
    "    title_list[count] = title\n",
    "    count += 1\n",
    "    if count % 100000 == 0:\n",
    "        #give encouragement to the user that something is happening\n",
    "        print '.',\n",
    "        time.sleep(1)"
   ]
  },
  {
   "cell_type": "markdown",
   "metadata": {},
   "source": [
    "#####Check out the title list"
   ]
  },
  {
   "cell_type": "code",
   "execution_count": 12,
   "metadata": {
    "collapsed": false
   },
   "outputs": [],
   "source": [
    "#print len(title_list)"
   ]
  },
  {
   "cell_type": "code",
   "execution_count": 13,
   "metadata": {
    "collapsed": false
   },
   "outputs": [],
   "source": [
    "#title_list[0:5]"
   ]
  },
  {
   "cell_type": "markdown",
   "metadata": {},
   "source": [
    "#####Initialize all the internal dictionaries, i.e. we are making a dictionary of dictionaries"
   ]
  },
  {
   "cell_type": "code",
   "execution_count": 14,
   "metadata": {
    "collapsed": false
   },
   "outputs": [],
   "source": [
    "#users = {}\n",
    "#for user in df_users['User-ID']:\n",
    "#    users[str(user)] = {}"
   ]
  },
  {
   "cell_type": "markdown",
   "metadata": {},
   "source": [
    "#####Produce a ratings list"
   ]
  },
  {
   "cell_type": "code",
   "execution_count": 15,
   "metadata": {
    "collapsed": false
   },
   "outputs": [],
   "source": [
    "#ratings_list = df_book_ratings[\"Book-Rating\"].values\n",
    "#print len(ratings_list)"
   ]
  },
  {
   "cell_type": "markdown",
   "metadata": {},
   "source": [
    "#####Produce and ISBN list"
   ]
  },
  {
   "cell_type": "code",
   "execution_count": 16,
   "metadata": {
    "collapsed": false
   },
   "outputs": [],
   "source": [
    "#isbn_list = df_book_ratings[\"ISBN\"]\n",
    "#print len(isbn_list)"
   ]
  },
  {
   "cell_type": "markdown",
   "metadata": {},
   "source": [
    "#####Now tranverse through the ratings and populate the users dictionary"
   ]
  },
  {
   "cell_type": "markdown",
   "metadata": {},
   "source": [
    "---"
   ]
  },
  {
   "cell_type": "code",
   "execution_count": 18,
   "metadata": {
    "collapsed": false
   },
   "outputs": [],
   "source": [
    "#def get_book_title(df_books, isbn):\n",
    "#    b = df_books[df_books.ISBN == isbn]\n",
    "#    if len(b.index.values) > 0:\n",
    "#        return b['Book-Title'].values[0]\n",
    "#    else:\n",
    "#        return \"missing book title, isbn = {:s}\".format(isbn)\n",
    "\n",
    "#i = 0;\n",
    "#userid = df_book_ratings['User-ID']\n",
    "    \n",
    "#%time ratingA = df_book_ratings.iloc[i]['Book-Rating']\n",
    "    \n",
    "#%time isbn = df_book_ratings.iloc[i]['ISBN']\n",
    "        \n",
    "#%time book_title = get_book_title(df_books, isbn)\n",
    "\n",
    "#print \"\\n\"\n",
    "\n",
    "#%time rating = ratings_list[i]\n",
    "\n",
    "#%time isbn = isbn_list[i]\n",
    "    \n",
    "#%time book_title = title_list[i]"
   ]
  },
  {
   "cell_type": "markdown",
   "metadata": {},
   "source": [
    "#####Let's compare in detail the next two cells\n",
    "#####These 2 cells do the same thing!!"
   ]
  },
  {
   "cell_type": "code",
   "execution_count": 24,
   "metadata": {
    "collapsed": false
   },
   "outputs": [
    {
     "name": "stdout",
     "output_type": "stream",
     "text": [
      ". . . . . .\n"
     ]
    }
   ],
   "source": [
    "def get_book_title(df_books, isbn):\n",
    "    b = df_books[df_books.ISBN == isbn]\n",
    "    if len(b.index.values) > 0:\n",
    "        return b['Book-Title'].values[0]\n",
    "    else:\n",
    "        return \"missing book title, isbn = {:s}\".format(isbn)\n",
    "\n",
    "count = 0\n",
    "\n",
    "#traverse the ratings data frame\n",
    "for i, userid in enumerate(df_book_ratings['User-ID']):\n",
    "    \n",
    "    #report progress to the user\n",
    "    if (i > 0) & (i % 100 == 0):\n",
    "        print '.',\n",
    "        count += 100\n",
    "        time.sleep(1)\n",
    "    \n",
    "    #The alternative to using a ratings list is to use the data frame directly\n",
    "    ratingA = df_book_ratings.iloc[i]['Book-Rating']\n",
    "    \n",
    "    #The alternative to using an isbn list is to use the data frame directly\n",
    "    isbn = df_book_ratings.iloc[i]['ISBN']\n",
    "        \n",
    "    #The alternative to using the book title list is to use a routine to look up the book title\n",
    "    book_title = get_book_title(df_books, isbn)\n",
    "        \n",
    "    #Add to the users dictionary and update the user's dictionary with book titles they have read and their ratings\n",
    "    # for those books\n",
    "    index = str(userid)\n",
    "    users[index].update({book_title: rating})\n",
    "    \n",
    "    if count > 500:\n",
    "        break"
   ]
  },
  {
   "cell_type": "markdown",
   "metadata": {},
   "source": [
    "---"
   ]
  },
  {
   "cell_type": "code",
   "execution_count": 25,
   "metadata": {
    "collapsed": false
   },
   "outputs": [
    {
     "name": "stdout",
     "output_type": "stream",
     "text": [
      ". . . . . . . . . . .\n"
     ]
    }
   ],
   "source": [
    "#traverse the ratings data frame\n",
    "for i, userid in enumerate(df_book_ratings['User-ID']):\n",
    "    \n",
    "    #report progress to the user\n",
    "    if (i > 0) & (i % 100000 == 0):\n",
    "        print '.',\n",
    "        time.sleep(1)\n",
    "    \n",
    "    #The alternative to using a ratings list is to use the data frame directly\n",
    "    #ratingA = df_book_ratings.iloc[i]['Book-Rating']\n",
    "    rating = ratings_list[i]\n",
    "    \n",
    "    #The alternative to using an isbn list is to use the data frame directly\n",
    "    #isbn = df_book_ratings.iloc[i]['ISBN']\n",
    "    isbn = isbn_list[i]\n",
    "    \n",
    "    #The alternative to using the book title list is to use a routine to look up the book title\n",
    "    #book_title = get_book_title(df_books, isbn)\n",
    "    book_title = title_list[i]\n",
    "    \n",
    "    #Add to the users dictionary and update the user's dictionary with book titles they have read and their ratings\n",
    "    # for those books\n",
    "    index = str(userid)\n",
    "    users[index].update({book_title: rating})"
   ]
  },
  {
   "cell_type": "code",
   "execution_count": 19,
   "metadata": {
    "collapsed": false
   },
   "outputs": [],
   "source": [
    "#users['8']"
   ]
  },
  {
   "cell_type": "markdown",
   "metadata": {},
   "source": [
    "###These are unused functions for calculating similarity"
   ]
  },
  {
   "cell_type": "code",
   "execution_count": 27,
   "metadata": {
    "collapsed": true
   },
   "outputs": [],
   "source": [
    "def calc_minkowski_dist(rating1, rating2, r):\n",
    "    '''This routine generalizes the Minkowski distances, where if r = 1 the function returns the Manhattan\n",
    "    distance, and if r = 2 the function returns the euclidean distance'''\n",
    "    \n",
    "    mdist = 0\n",
    "    common_ratings = False\n",
    "\n",
    "    #for every key in the first users list, check to see if the book is in the second user's list \n",
    "    for key in rating1:\n",
    "        if key in rating2:\n",
    "            \n",
    "            if r == 1:\n",
    "                #manhattan distance\n",
    "                mdist += abs(rating1[key] - rating2[key])\n",
    "            else:\n",
    "                #euclidean distance\n",
    "                mdist += np.power(abs(rating1[key] - rating2[key]), r)\n",
    "                \n",
    "            common_ratings = True\n",
    "            \n",
    "    #Only if there were common ratings should we bother to complete the calculation\n",
    "    if common_ratings:\n",
    "        return(np.power(mdist, 1.0/r))\n",
    "    else:\n",
    "        return 0"
   ]
  },
  {
   "cell_type": "code",
   "execution_count": 56,
   "metadata": {
    "collapsed": false
   },
   "outputs": [],
   "source": [
    "def calc_cc(rating1, rating2, in_common):\n",
    "    '''This routine calculates a Pearsons correlation coefficient between the 2 lists of books from the 2 users'''\n",
    "    \n",
    "    common_ratings = False\n",
    "    \n",
    "    a_list = []\n",
    "    b_list = []\n",
    "    \n",
    "    #for every key in the first users list, check to see if the book is in the second user's list\n",
    "    for key in rating1:\n",
    "        if key in rating2:\n",
    "            \n",
    "            #create the vectors of ratings\n",
    "            a_list.append(rating1[key])\n",
    "            b_list.append(rating2[key])\n",
    "            common_ratings = True\n",
    "    \n",
    "    #This time we insist that the 2 users must have a least in_common number of books in common\n",
    "    #if the other routines are used then this should also be included\n",
    "    if len(a_list) < in_common:\n",
    "        common_ratings = False\n",
    "            \n",
    "    #Only if there were common ratings should we bother to complete the calculation        \n",
    "    if common_ratings:\n",
    "        \n",
    "        #r is the correlation coefficient, and p is the p-value (which we ignore)\n",
    "        r, p = pearsonr(a_list, b_list)\n",
    "        return(r)\n",
    "    else:\n",
    "        return 0"
   ]
  },
  {
   "cell_type": "code",
   "execution_count": 29,
   "metadata": {
    "collapsed": false
   },
   "outputs": [],
   "source": [
    "def user_ratings(userid, users, N):\n",
    "    '''This function will return the ratings from the database in order, with the highest rating first'''\n",
    "    \n",
    "    #get the ratings\n",
    "    ratings = users[userid]\n",
    "    \n",
    "    #convert to a list\n",
    "    ratings = list(ratings.items())\n",
    "    \n",
    "    #sort\n",
    "    ratings.sort(key = lambda x: x[1], reverse = True)\n",
    "    \n",
    "    #return the top N ratings\n",
    "    ratings = ratings[:N]\n",
    "    \n",
    "    #print\n",
    "    for r in ratings:\n",
    "        print \"{:100s}\\t{:d}\".format(r[0][0:99], int(r[1]))"
   ]
  },
  {
   "cell_type": "code",
   "execution_count": 30,
   "metadata": {
    "collapsed": true
   },
   "outputs": [],
   "source": [
    "def calc_cs(rating1, rating2, in_common):\n",
    "    '''This function implements cosine similarity, between the 2 lists of rated books from the 2 users'''\n",
    "    \n",
    "    common_ratings = False\n",
    "    \n",
    "    a_list = []\n",
    "    b_list = []\n",
    "    \n",
    "    #for every key in the first users list, check to see if the book is in the second user's list\n",
    "    for key in rating1:\n",
    "        if key in rating2:\n",
    "            \n",
    "            #create the vectors of ratings\n",
    "            a_list.append(rating1[key])\n",
    "            b_list.append(rating2[key])\n",
    "            \n",
    "            common_ratings = True\n",
    "\n",
    "\n",
    "    #This time we insist that the 2 users must have a least in_common number of books in common\n",
    "    #if the other routines are used then this should also be included\n",
    "    if len(a_list) < in_common:\n",
    "        common_ratings = False\n",
    "        \n",
    "    if common_ratings:\n",
    "        \n",
    "        #if there are enough books in common then calculate the cosine similarity and return it\n",
    "        cs = cosine_similarity(a_list, b_list)\n",
    "        return(cs)\n",
    "    else:\n",
    "        return 0"
   ]
  },
  {
   "cell_type": "markdown",
   "metadata": {},
   "source": [
    "#####Compare cosine similarity with Pearson's correlation coefficient\n",
    "#####Which do you like better and why?"
   ]
  },
  {
   "cell_type": "code",
   "execution_count": 54,
   "metadata": {
    "collapsed": false
   },
   "outputs": [],
   "source": [
    "def compute_closest_person(userid, users, in_common = 1):\n",
    "    '''This routine takes in a user ID and returns users who are close, in terms of the books they have rated'''\n",
    "    \n",
    "    #this list holds the distance measures from other users\n",
    "    mdist_list = []\n",
    "    found = False\n",
    "    \n",
    "    #traverse the main dictionary of users\n",
    "    for user in users:\n",
    "        \n",
    "        #obviously don't look at the userid and compare it with itself\n",
    "        if user != userid:\n",
    "            \n",
    "            #Choose to use the cosine similarity as our measure of closeness\n",
    "            #mdist = calc_minkowski_dist(users[user], users[userid], 2)\n",
    "            mdist = calc_cc(users[user], users[userid], in_common)\n",
    "            \n",
    "            #We specifiy how many books they must have in common\n",
    "            #mdist = calc_cs(users[user], users[userid], in_common)\n",
    "            \n",
    "            #record the distance and the user as long as the distance is greater than 0\n",
    "            if np.abs(mdist) > 0:\n",
    "                mdist_list.append((mdist, user))\n",
    "                found = True\n",
    "                \n",
    "    #sort by distance, closest first\n",
    "    if found:\n",
    "        mdist_list.sort(reverse = True)\n",
    "    else:\n",
    "        print \"no matches found with those search criteria\"\n",
    "    \n",
    "    return mdist_list"
   ]
  },
  {
   "cell_type": "code",
   "execution_count": 95,
   "metadata": {
    "collapsed": true
   },
   "outputs": [],
   "source": [
    "def recommend(user_id, users, in_common = 2, number_of_recommendations = 10):\n",
    "    \n",
    "    #get the ID of the nearest person with in_common ratings\n",
    "    nearest_list = compute_closest_person(user_id, users, in_common)\n",
    "    \n",
    "    if len(nearest_list) == 0:\n",
    "        return []\n",
    "    \n",
    "    nearest_id = nearest_list[0][1]\n",
    "    \n",
    "    print nearest_id\n",
    "    \n",
    "    #initialize the recommendations list\n",
    "    recommendations = []\n",
    "    \n",
    "    #Now get the list of books for each - the requested user-ID and their nearest neighbor\n",
    "    neighbor_ratings = users[nearest_id]\n",
    "    user_ratings = users[user_id]\n",
    "    \n",
    "    #Look through the book titles from the neighbor\n",
    "    for book_title in neighbor_ratings:\n",
    "        \n",
    "        #Check that the book from the neighbor hasn't already been reviewed\n",
    "        if not book_title in user_ratings:\n",
    "            \n",
    "            #append the book to the recommendations list\n",
    "            recommendations.append((book_title, neighbor_ratings[book_title]))\n",
    "    \n",
    "    #sort the list based on the rating, returning the highest rated book first\n",
    "    sr = sorted(recommendations, key = lambda x: x[1], reverse = True)[:number_of_recommendations]\n",
    "        \n",
    "    return (nearest_list, sr)"
   ]
  },
  {
   "cell_type": "code",
   "execution_count": 97,
   "metadata": {
    "collapsed": false
   },
   "outputs": [],
   "source": [
    "def recommend_for_specific_match(useridA, useridB, users, number_of_recommendations = 10):\n",
    "    '''This function takes 2 user-IDs and makes recommendations for the first based on books from the second'''\n",
    "    \n",
    "    recommendations = []\n",
    "    \n",
    "    neighbor_ratings = users[useridB]\n",
    "    if len(neighbor_ratings) == 0:\n",
    "        return []\n",
    "    \n",
    "    user_ratings = users[useridA]\n",
    "    if len(user_ratings) == 0:\n",
    "        return []\n",
    "    \n",
    "    for book_title in neighbor_ratings:\n",
    "        if not book_title in user_ratings:\n",
    "            recommendations.append((book_title, neighbor_ratings[book_title]))\n",
    "            \n",
    "    if len(recommendations) == 0:\n",
    "        return []\n",
    "    sr = sorted(recommendations, key = lambda x: x[1], reverse = True)[:number_of_recommendations]\n",
    "        \n",
    "    return sr"
   ]
  },
  {
   "cell_type": "code",
   "execution_count": 84,
   "metadata": {
    "collapsed": true
   },
   "outputs": [],
   "source": [
    "def evaluate_comparison(user_id1, user_id2, users, N = 0):\n",
    "    '''This function compares the book ratings for 2 users'''\n",
    "    \n",
    "    ul1 = users[user_id1]\n",
    "    ul2 = users[user_id2]\n",
    "    \n",
    "    count = 0\n",
    "    \n",
    "    for b in ul1:\n",
    "        if b in ul2:\n",
    "            print \"{:100s}\".format(b)\n",
    "            print \"Users {:s} & {:s} ratings = {:5d} {:5d}\".format(user_id1, user_id2, users[user_id1][b],\\\n",
    "                                                                                   users[user_id2][b])\n",
    "            print \"\\n\"\n",
    "            count += 1\n",
    "            if (count >= N) & (N != 0):\n",
    "                return"
   ]
  },
  {
   "cell_type": "code",
   "execution_count": 20,
   "metadata": {
    "collapsed": false
   },
   "outputs": [],
   "source": [
    "#closest_list = compute_closest_person('8', users, in_common = 5)\n",
    "\n",
    "#show_top = len(closest_list)\n",
    "#if show_top > 10:\n",
    "#    show_top = 10\n",
    "    \n",
    "#for i in xrange(show_top):\n",
    "#    print \"User ID: {:10s} Similarity = {:5.5f}\".format(closest_list[i][1], float(closest_list[i][0]))"
   ]
  },
  {
   "cell_type": "code",
   "execution_count": 21,
   "metadata": {
    "collapsed": false
   },
   "outputs": [],
   "source": [
    "#evaluate_comparison('8', '11676', users)"
   ]
  },
  {
   "cell_type": "code",
   "execution_count": 22,
   "metadata": {
    "collapsed": false
   },
   "outputs": [],
   "source": [
    "#a = [0,0,0,0,5]\n",
    "#b = [9,8,8,0,8]\n",
    "#print cosine_similarity(a, b).ravel()[0]\n",
    "#print pearsonr(a, b)[0]"
   ]
  },
  {
   "cell_type": "code",
   "execution_count": 23,
   "metadata": {
    "collapsed": false
   },
   "outputs": [],
   "source": [
    "#recommend('8', users, in_common = 5, number_of_recommendations = 5)"
   ]
  },
  {
   "cell_type": "code",
   "execution_count": 24,
   "metadata": {
    "collapsed": false
   },
   "outputs": [],
   "source": [
    "#user_ratings('171118', users, 10)"
   ]
  },
  {
   "cell_type": "code",
   "execution_count": 25,
   "metadata": {
    "collapsed": false
   },
   "outputs": [],
   "source": [
    "#neighbor_list, recommendation_list = recommend('171118', users, in_common = 10, number_of_recommendations = 5)"
   ]
  },
  {
   "cell_type": "code",
   "execution_count": 26,
   "metadata": {
    "collapsed": false
   },
   "outputs": [],
   "source": [
    "#for i in xrange(5):\n",
    "#    print \"{:20s} {:5.4f}\".format(neighbor_list[i][1], float(neighbor_list[i][0]))"
   ]
  },
  {
   "cell_type": "code",
   "execution_count": 27,
   "metadata": {
    "collapsed": false
   },
   "outputs": [],
   "source": [
    "#evaluate_comparison('171118', '21659', users, 0)"
   ]
  },
  {
   "cell_type": "code",
   "execution_count": 28,
   "metadata": {
    "collapsed": false
   },
   "outputs": [],
   "source": [
    "#evaluate_comparison('171118', '62881', users, 0)"
   ]
  },
  {
   "cell_type": "code",
   "execution_count": 29,
   "metadata": {
    "collapsed": false
   },
   "outputs": [],
   "source": [
    "#a = [0,0,0,1,0,0,0,0,0,0,0]\n",
    "#b = [0,0,0,10,0,0,0,0,0,0,0]\n",
    "#print cosine_similarity(a, b).ravel()[0]\n",
    "#print pearsonr(a, b)[0]"
   ]
  },
  {
   "cell_type": "code",
   "execution_count": 30,
   "metadata": {
    "collapsed": false
   },
   "outputs": [],
   "source": [
    "#evaluate_comparison('171118', '196148', users, 0)"
   ]
  },
  {
   "cell_type": "code",
   "execution_count": 31,
   "metadata": {
    "collapsed": false
   },
   "outputs": [],
   "source": [
    "#a = [8,9,7,7,8,8,8,8,8,8,0,7]\n",
    "#b = [10,10,10,10,10,10,9,10,10,10,0,8]\n",
    "#print cosine_similarity(a,b).ravel()[0]\n",
    "#print pearsonr(a,b)[0]"
   ]
  },
  {
   "cell_type": "code",
   "execution_count": 32,
   "metadata": {
    "collapsed": false
   },
   "outputs": [],
   "source": [
    "#recommend_for_specific_match('171118', '196148', users, number_of_recommendations = 5)"
   ]
  },
  {
   "cell_type": "code",
   "execution_count": 33,
   "metadata": {
    "collapsed": false
   },
   "outputs": [],
   "source": [
    "#neighbor_list, recommendation_list = recommend('171118', users, in_common = 10, number_of_recommendations = 5)\n",
    "#print recommendations_list"
   ]
  }
 ],
 "metadata": {
  "kernelspec": {
   "display_name": "Python 2",
   "language": "python",
   "name": "python2"
  },
  "language_info": {
   "codemirror_mode": {
    "name": "ipython",
    "version": 2
   },
   "file_extension": ".py",
   "mimetype": "text/x-python",
   "name": "python",
   "nbconvert_exporter": "python",
   "pygments_lexer": "ipython2",
   "version": "2.7.10"
  }
 },
 "nbformat": 4,
 "nbformat_minor": 0
}
