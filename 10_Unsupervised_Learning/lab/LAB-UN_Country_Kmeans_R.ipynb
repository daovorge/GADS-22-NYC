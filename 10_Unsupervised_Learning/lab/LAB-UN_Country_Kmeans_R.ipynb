{
 "cells": [
  {
   "cell_type": "markdown",
   "metadata": {
    "collapsed": true
   },
   "source": [
    "---\n",
    "##Make sure you import all the libraries you need!!\n",
    "---"
   ]
  },
  {
   "cell_type": "code",
   "execution_count": null,
   "metadata": {
    "collapsed": true
   },
   "outputs": [],
   "source": []
  },
  {
   "cell_type": "markdown",
   "metadata": {},
   "source": [
    "---\n",
    "#UN Country Dataset Revisited\n",
    "---"
   ]
  },
  {
   "cell_type": "code",
   "execution_count": 2,
   "metadata": {
    "collapsed": false
   },
   "outputs": [],
   "source": [
    "#This sets up the exercise by creating 2 scaled dataframes - 1. df_fc_scaled, and 2. df_cfc_scaled\n",
    "df = pd.read_csv(\"https://raw.githubusercontent.com/TeachingDataScience\\\n",
    "                /data-science-course/forstudentviewing/15_kmeans/un.csv\")\n",
    "focus = ['lifeMale', 'lifeFemale','infantMortality','GDPperCapita']\n",
    "cfocus = ['country', 'lifeMale', 'lifeFemale','infantMortality','GDPperCapita']\n",
    "df_focus = df[focus]\n",
    "df_cfocus = df[cfocus]\n",
    "df_cfocus_clean = df_cfocus.dropna()\n",
    "df_cfocus_clean = df_cfocus_clean.reset_index()\n",
    "df_cfocus_clean = df_cfocus_clean.drop('index', 1)\n",
    "scaler = preprocessing.StandardScaler(copy=True, with_mean=True, with_std=True).fit(df_cfocus_clean[focus])\n",
    "df_fc_scaled = pd.DataFrame(scaler.transform(df_cfocus_clean[focus]), columns=focus)\n",
    "df_cfc_scaled = df_fc_scaled.copy()\n",
    "df_cfc_scaled['country'] = df_cfocus_clean.country"
   ]
  },
  {
   "cell_type": "code",
   "execution_count": 3,
   "metadata": {
    "collapsed": false
   },
   "outputs": [],
   "source": [
    "#df_cfocus_clean.head(5)"
   ]
  },
  {
   "cell_type": "code",
   "execution_count": 4,
   "metadata": {
    "collapsed": false
   },
   "outputs": [],
   "source": [
    "#df_fc_scaled.head(5)"
   ]
  },
  {
   "cell_type": "code",
   "execution_count": 5,
   "metadata": {
    "collapsed": false
   },
   "outputs": [],
   "source": [
    "#df_cfc_scaled.head(5)"
   ]
  },
  {
   "cell_type": "code",
   "execution_count": 6,
   "metadata": {
    "collapsed": false
   },
   "outputs": [],
   "source": [
    "#X = df_fc_scaled.values"
   ]
  },
  {
   "cell_type": "markdown",
   "metadata": {},
   "source": [
    "---\n",
    "##Is there an knee-of-the-curve value for K?\n",
    "---"
   ]
  },
  {
   "cell_type": "markdown",
   "metadata": {},
   "source": [
    "---\n",
    "##1. Write some code to fit Kmeans to X for all values of n_clusters from 1 to 20 inclusive\n",
    "##1. a Plot a graph of the number of clusters vs inertia\n",
    "---"
   ]
  },
  {
   "cell_type": "code",
   "execution_count": null,
   "metadata": {
    "collapsed": true
   },
   "outputs": [],
   "source": []
  },
  {
   "cell_type": "markdown",
   "metadata": {},
   "source": [
    "---\n",
    "##Fit the number of clusters you think is ideal - for convenience keep it to 6 or less!\n",
    "---"
   ]
  },
  {
   "cell_type": "markdown",
   "metadata": {},
   "source": [
    "---\n",
    "##2. Refit kmeans using what you think is a good value for k\n",
    "##2. a Store the predictions from Kmeans (using X as the input data) in a variable called 'c'\n",
    "---"
   ]
  },
  {
   "cell_type": "code",
   "execution_count": 8,
   "metadata": {
    "collapsed": true
   },
   "outputs": [],
   "source": []
  },
  {
   "cell_type": "markdown",
   "metadata": {},
   "source": [
    "---\n",
    "##3. Using X as input fit a principal components model with 2 principal components\n",
    "##3. a Transform X using the PCA model and store the result in a variable called X_2d\n",
    "##3. b Uncomment the following cell and consider the plot\n",
    "---"
   ]
  },
  {
   "cell_type": "code",
   "execution_count": null,
   "metadata": {
    "collapsed": true
   },
   "outputs": [],
   "source": []
  },
  {
   "cell_type": "code",
   "execution_count": 7,
   "metadata": {
    "collapsed": false
   },
   "outputs": [],
   "source": [
    "#color_list = ['red', 'green', 'blue', 'magenta', 'yellow', 'orange']\n",
    "#fig = plt.figure(figsize = (7,7))\n",
    "#ax = plt.subplot(111)\n",
    "#for cc in xrange(k):\n",
    "#    label_str = 'Cluster' + str(cc)\n",
    "#    ax.scatter(X_2d[c==cc,0], X_2d[c==cc,1], color=color_list[cc%len(color_list)], label=label_str)\n",
    "\n",
    "#ax.set_axis_off()\n",
    "#ax.set_title('2D Plot of 4D Features - M/F Life Expectancy, Infant Mortality, and, Per-capita GDP')\n",
    "#ax.legend(loc='lower left')"
   ]
  },
  {
   "cell_type": "markdown",
   "metadata": {},
   "source": [
    "---\n",
    "##Let's see if we can determine what the clusters mean\n",
    "---"
   ]
  },
  {
   "cell_type": "code",
   "execution_count": 14,
   "metadata": {
    "collapsed": false
   },
   "outputs": [],
   "source": [
    "#Initialize a separate dictionary for each cluster k. Each dictionary will end up holding a list of countries\n",
    "cdict = {}\n",
    "for cc in xrange(k):\n",
    "    cdict[cc] = []\n",
    "\n",
    "#Assign X and y to new variables, Xc, and yc    \n",
    "Xc = df_cfc_scaled[focus].values\n",
    "yc = km.predict(Xc)\n",
    "\n",
    "#Looping over every row find the cluster closest and append the country name to the cluster dictionary\n",
    "#To make printing easier, pad the country lists for the other cluster dictionaries.\n",
    "#Each list of countries, for every country, will be the same length\n",
    "for i in xrange(len(yc)):\n",
    "    for cc in xrange(k):\n",
    "        if yc[i] == cc:\n",
    "            cdict[cc].append(df_cfc_scaled.loc[i].country)\n",
    "        else: \n",
    "            #Zkm because it will be the last entry in the list when sorted\n",
    "            cdict[cc].append('Zkm')\n",
    "\n",
    "#For each cluster dictionary sort the country list\n",
    "for cc in xrange(k):\n",
    "    cdict[cc] = sorted(cdict[cc])"
   ]
  },
  {
   "cell_type": "markdown",
   "metadata": {},
   "source": [
    "---\n",
    "##Let's look at how the countries were clustered\n",
    "---"
   ]
  },
  {
   "cell_type": "markdown",
   "metadata": {},
   "source": [
    "---\n",
    "##Uncomment the following code\n",
    "##Explore what is happening by varying k and re-running the cells above and below\n",
    "---"
   ]
  },
  {
   "cell_type": "code",
   "execution_count": 20,
   "metadata": {
    "collapsed": false
   },
   "outputs": [],
   "source": [
    "#Print the results\n",
    "\n",
    "#This prints the headings\n",
    "#for cc in xrange(k):\n",
    "#    label_str = 'Cluster {:d}'.format(cc)\n",
    "#    print \"{:18s}\".format(label_str),\n",
    "\n",
    "#print \"\\n\"\n",
    "\n",
    "#This prints each of the rows\n",
    "#It checks to see if there is any legitimate data on a row, if there is then 'do_print' = True\n",
    "#Once we have decided to print a row, print a blank everywhere there is a 'Zkm'\n",
    "#for i in xrange(len(cdict[0])):\n",
    "#    do_print = False\n",
    "#    for j in xrange(k):\n",
    "#        if cdict[j][i] != 'Zkm':\n",
    "#            do_print = True\n",
    "#    if do_print:\n",
    "#        for j in xrange(k):\n",
    "#            if cdict[j][i] != 'Zkm':\n",
    "#                print \"{:18s}\".format(cdict[j][i][0:15]),\n",
    "#            else:\n",
    "#                print \"{:18s}\".format(' '),\n",
    "#        print \"\\n\""
   ]
  },
  {
   "cell_type": "markdown",
   "metadata": {},
   "source": [
    "---\n",
    "##Not sure about doing this, however\n",
    "---"
   ]
  },
  {
   "cell_type": "markdown",
   "metadata": {},
   "source": [
    "---\n",
    "##Uncomment the following code and inspect the graph\n",
    "##Can you interpret the information?\n",
    "---"
   ]
  },
  {
   "cell_type": "code",
   "execution_count": 8,
   "metadata": {
    "collapsed": false
   },
   "outputs": [],
   "source": [
    "#k=3\n",
    "#km = KMeans(n_clusters = k, max_iter = 1000, n_init = 100, tol = 1e-6, n_jobs = -1, \\\n",
    "#                 random_state=8, verbose=False)\n",
    "#km.fit(X)\n",
    "#c = km.predict(X)\n",
    "\n",
    "#fig = plt.figure(figsize = (7,7))\n",
    "#ax = plt.subplot(111)\n",
    "#ax.scatter(df_cfc_scaled['GDPperCapita'][c==0], df_cfc_scaled['lifeFemale'][c==0], color = 'red')\n",
    "#ax.scatter(df_cfc_scaled['GDPperCapita'][c==1], df_cfc_scaled['lifeFemale'][c==1], color = 'green')\n",
    "#ax.scatter(df_cfc_scaled['GDPperCapita'][c==2], df_cfc_scaled['lifeFemale'][c==2], color = 'blue')\n",
    "\n",
    "#ax.set_title('Female Life Expectancy vs Per-capita GDP')\n",
    "#ax.set_xlabel('Per-capita GDP, ($ per person)')\n",
    "#ax.set_ylabel('Female Life Expenctancy, (years)')"
   ]
  },
  {
   "cell_type": "markdown",
   "metadata": {},
   "source": [
    "---\n",
    "##Who does the outlier belong too?\n",
    "##Has a good-ish GDP but very low female life expectancy\n",
    "---"
   ]
  },
  {
   "cell_type": "markdown",
   "metadata": {},
   "source": [
    "---\n",
    "##4. Can you identify the country that the outlier belongs to. Has a per capita GDP between 0 and 1 and a female life expectancy below 0\n",
    "---"
   ]
  },
  {
   "cell_type": "code",
   "execution_count": null,
   "metadata": {
    "collapsed": true
   },
   "outputs": [],
   "source": []
  }
 ],
 "metadata": {
  "kernelspec": {
   "display_name": "Python 2",
   "language": "python",
   "name": "python2"
  },
  "language_info": {
   "codemirror_mode": {
    "name": "ipython",
    "version": 2
   },
   "file_extension": ".py",
   "mimetype": "text/x-python",
   "name": "python",
   "nbconvert_exporter": "python",
   "pygments_lexer": "ipython2",
   "version": "2.7.9"
  }
 },
 "nbformat": 4,
 "nbformat_minor": 0
}
