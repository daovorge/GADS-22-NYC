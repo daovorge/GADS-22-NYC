{
 "cells": [
  {
   "cell_type": "code",
   "execution_count": 3,
   "metadata": {
    "collapsed": false
   },
   "outputs": [],
   "source": [
    "import pandas as pd\n",
    "import numpy as np\n",
    "import matplotlib.pyplot as plt\n",
    "import matplotlib as mpl\n",
    "mpl.style.use('ggplot')\n",
    "%matplotlib inline\n",
    "from sklearn.pipeline import make_pipeline\n",
    "from sklearn.preprocessing import PolynomialFeatures\n",
    "from sklearn.linear_model import LinearRegression\n",
    "from sklearn.pipeline import Pipeline\n",
    "from sklearn.metrics import mean_squared_error\n",
    "from sklearn.cross_validation import train_test_split\n",
    "from itertools import combinations\n",
    "from sklearn.linear_model import Ridge\n",
    "from sklearn.linear_model import Lasso\n",
    "from sklearn.linear_model import ElasticNet"
   ]
  },
  {
   "cell_type": "markdown",
   "metadata": {},
   "source": [
    "#Africa Soil Prediction"
   ]
  },
  {
   "cell_type": "markdown",
   "metadata": {},
   "source": [
    "##pH is the target variable for predictions. \n",
    "\n",
    "####The data have been monotonously transformed from the original measurements and thus include negative values. \n",
    "\n",
    "   * PIDN: unique soil sample identifier\n",
    "   * pH: pH values\n",
    "   * ELEV: Shuttle Radar Topography Mission elevation data\n",
    "   * Ref: average long-term Reflectance measurements from MODIS satellite images (Ref2 = red)\n",
    "   * BSA: average long-term Black Sky Albedo measurements from MODIS satellite images (BSAN = near-infrared)\n",
    "   * LST: average long-term Land Surface Temperatures from MODIS satellite images (LSTN = night time temperature)\n",
    "   * Infrared01 - Infrared05: These are 5 bands of infrared absorbance measurements."
   ]
  },
  {
   "cell_type": "code",
   "execution_count": 4,
   "metadata": {
    "collapsed": false
   },
   "outputs": [],
   "source": [
    "data = pd.read_csv(\"/Users/mrgholt/GADS-22-NYC/Datasets/africa_ph.csv\")\n",
    "\n",
    "#Remove the \"Unnamed: 0\" column and the \"PIDN\" column for convenience\n",
    "del data['Unnamed: 0']\n",
    "del data[\"PIDN\"]"
   ]
  },
  {
   "cell_type": "markdown",
   "metadata": {},
   "source": [
    "#A brute force approach"
   ]
  },
  {
   "cell_type": "code",
   "execution_count": 5,
   "metadata": {
    "collapsed": false
   },
   "outputs": [
    {
     "name": "stdout",
     "output_type": "stream",
     "text": [
      "['ELEV', 'REF2', 'BSAN', 'LSTN', 'Infrared01', 'Infrared02', 'Infrared03', 'Infrared04', 'Infrared05']\n"
     ]
    }
   ],
   "source": [
    "#Obtain a list of the all of the columns\n",
    "predictors = list(data.columns.values)\n",
    "\n",
    "#Remove 'pH' from the list\n",
    "predictors.remove('pH')\n",
    "\n",
    "print predictors"
   ]
  },
  {
   "cell_type": "markdown",
   "metadata": {},
   "source": [
    "---\n",
    "#Essential Functions\n",
    "---"
   ]
  },
  {
   "cell_type": "code",
   "execution_count": 60,
   "metadata": {
    "collapsed": true
   },
   "outputs": [],
   "source": [
    "def brute_force(data, target_variable, predictors, model, alpha_list = [1.0], degree_list = [3]):\n",
    "    ''' brute_force is a simple function designed to:\n",
    "    test every combination of predictors submitted in the predictors argument\n",
    "    test all degrees of polynomial as submitted in the degree_list argument\n",
    "    test a number of regularization parameters as submitted in the alpha_list argument\n",
    "    \n",
    "    model is the algorithm to be tested\n",
    "     '''\n",
    "    min_mse = 1e99\n",
    "    test_size_split = 0.5\n",
    "\n",
    "    #search over every combination of the predictors - using the itertools functionality\n",
    "    for i in xrange(1, len(predictors)):\n",
    "        \n",
    "        #build and test a model for each combination of predictors\n",
    "        for j in combinations(predictors, i):\n",
    "            \n",
    "            test_predictors = list(j)\n",
    "            \n",
    "            #use train test split to get the training and test datasets, according to the parameter test_size_split\n",
    "            X_train, X_test, y_train, y_test = train_test_split(data[test_predictors], \\\n",
    "                                                    data[target_variable], test_size=test_size_split, random_state=42)\n",
    "            \n",
    "            #Now search over all the polynomial degrees in the degree_list\n",
    "            for degree in degree_list:\n",
    "                \n",
    "                #Make sure each model is regularized, and search over all alphas in the regularization list\n",
    "                for a in alpha_list:\n",
    "                    \n",
    "                    #build the model\n",
    "                    clf = make_pipeline(PolynomialFeatures(degree), model(alpha = a))\n",
    "                    \n",
    "                    #fit the model\n",
    "                    clf.fit(X_train, y_train)\n",
    "                    \n",
    "                    #Get the test set predictions\n",
    "                    y_hat = clf.predict(X_test)\n",
    "                    \n",
    "                    #measure the mean squared error of the test set\n",
    "                    mse = mean_squared_error(y_hat, y_test)\n",
    "                    \n",
    "                    #remember ALL information for the minimum\n",
    "                    if mse < min_mse:\n",
    "                        min_mse = mse\n",
    "                        min_clf = clf\n",
    "                        min_predictors = test_predictors\n",
    "                        min_degree = degree\n",
    "                        min_alpha = a\n",
    "                        #unless you cannot afford to do this, it is always a good idea to remember the train, test\n",
    "                        #datasets actually used to build your model\n",
    "                        min_X_train = X_train\n",
    "                        min_y_train = y_train\n",
    "                        min_X_test = X_test\n",
    "                        min_y_test = y_test\n",
    "                    \n",
    "    #return a tuple for the minimum model and parameters\n",
    "    return (min_mse, min_clf, min_predictors, min_degree, min_alpha, min_X_train, min_y_train, min_X_test, min_y_test)"
   ]
  },
  {
   "cell_type": "code",
   "execution_count": 80,
   "metadata": {
    "collapsed": false
   },
   "outputs": [],
   "source": [
    "def print_essential_results(results):\n",
    "    print \"MSE = {:5.3f}\".format(results[0])\n",
    "    print \"Best predictors = \", results[2]\n",
    "    print \"Optimal degree polynomial = \", results[3]\n",
    "    print \"Optimal regularization value = \", results[4]"
   ]
  },
  {
   "cell_type": "code",
   "execution_count": 65,
   "metadata": {
    "collapsed": true
   },
   "outputs": [],
   "source": [
    "def get_degree_v_mse(results, model, degree_list=[3], ylog=1.0, ylim_high=1.0):\n",
    "    '''get_degree_v_mse uses the results list to produce a plot of degree vs mse for the training\n",
    "    and test sets'''\n",
    "    \n",
    "    #use the regularization parameter you found in the brute force routine\n",
    "    model_alpha = results[4]\n",
    "\n",
    "    #set up the lists to accumulate the MSE's\n",
    "    training_error = []\n",
    "    testing_error = []\n",
    "    \n",
    "    #Search through each degree in the supplied degree_list\n",
    "    for degree in degree_list:\n",
    "        \n",
    "        #Build the model\n",
    "        clf = make_pipeline(PolynomialFeatures(degree), model(alpha=model_alpha))\n",
    "        \n",
    "        #Fit the model using the training data from the brute force routine\n",
    "        clf.fit(results[5], results[6])\n",
    "        \n",
    "        #Accumulate the mse results for the training and test sets\n",
    "        training_error.append(mean_squared_error(results[6], clf.predict(results[5])))\n",
    "        testing_error.append(mean_squared_error(results[8], clf.predict(results[7])))\n",
    "    \n",
    "    #Plot the results\n",
    "    fig = plt.figure(figsize=(5,5))\n",
    "    ax = plt.subplot(111)\n",
    "    ax.plot(np.array(degree_list), np.array(training_error), color = 'green', marker = 'o', label='Training Error')\n",
    "    ax.plot(np.array(degree_list), np.array(testing_error), color = 'red', marker = 'o', label='Validation Error')\n",
    "    ax.set_title(\"PLot of MSE vs Poylnomial Degree\")\n",
    "    if ylog:\n",
    "        ax.set_yscale('Log')\n",
    "        ax.set_ylabel('Log(MSE)')\n",
    "    else:\n",
    "        ax.set_ylabel('MSE')\n",
    "\n",
    "    ax.set_ylim(0.01, ylim_high)\n",
    "    ax.set_xlabel('Degree')\n",
    "    ax.legend(loc='upper left')"
   ]
  },
  {
   "cell_type": "code",
   "execution_count": 67,
   "metadata": {
    "collapsed": true
   },
   "outputs": [],
   "source": [
    "def get_alpha_v_mse(results, model, alpha_list=[0.1], ylog=1.0, ylim_high=1.0):\n",
    "    '''get_alpha_v_mse uses the results list to produce a plot of regularization vs mse for the training\n",
    "    and test sets'''\n",
    "    \n",
    "    #use the polynomial degree you found in the brute force routine\n",
    "    max_degree = results[3]\n",
    "\n",
    "    #set up the lists to accumulate the MSE's\n",
    "    training_error = []\n",
    "    testing_error = []\n",
    "    \n",
    "    #Search through each regularization parameter in the supplied alpha_list\n",
    "    for a in alpha_list:\n",
    "        \n",
    "        #build the model\n",
    "        clf = make_pipeline(PolynomialFeatures(max_degree), model(alpha=a))\n",
    "        \n",
    "        #fit the model using the training set used in the brute force routine\n",
    "        clf.fit(results[5], results[6])\n",
    "        \n",
    "        #accumulate the mse for the training and test sets\n",
    "        training_error.append(mean_squared_error(results[6], clf.predict(results[5])))\n",
    "        testing_error.append(mean_squared_error(results[8], clf.predict(results[7])))\n",
    "    \n",
    "    \n",
    "    #plot the results\n",
    "    fig = plt.figure(figsize=(5,5))\n",
    "    ax = plt.subplot(111)\n",
    "    ax.plot(np.array(alpha_list), np.array(training_error), color = 'green', marker = 'o', label='Training Error')\n",
    "    ax.plot(np.array(alpha_list), np.array(testing_error), color = 'red', marker = 'o', label='Validation Error')\n",
    "    ax.set_title(\"PLot of Regularization vs Poylnomial Degree\")\n",
    "    if ylog:\n",
    "        ax.set_yscale('Log')\n",
    "        ax.set_ylabel('Log(MSE)')\n",
    "    else:\n",
    "        ax.set_ylabel('MSE')\n",
    "\n",
    "    ax.set_ylim(0.01, ylim_high)\n",
    "    ax.set_xscale('Log')\n",
    "    ax.set_xlabel('Log Alpha')\n",
    "    ax.legend(loc='upper right')"
   ]
  },
  {
   "cell_type": "code",
   "execution_count": 89,
   "metadata": {
    "collapsed": false
   },
   "outputs": [],
   "source": [
    "def plot_results(results):\n",
    "    '''plots out the the y_test predictions (y_hat) vs the actual, known results'''\n",
    "    \n",
    "    mpl.style.use('ggplot')\n",
    "    half_points = len(results[8])/2\n",
    "\n",
    "    fig = plt.figure(figsize=(20, 5))\n",
    "    ax = plt.subplot(311)\n",
    "    ax.plot(results[8][:half_points], color = 'blue', marker='o')\n",
    "    ax.plot(results[1].predict(results[7])[:half_points], color=\"red\", marker='o')\n",
    "    \n",
    "    ax = plt.subplot(312)\n",
    "    ax.plot(results[8][half_points:], color = 'blue', marker='o')\n",
    "    ax.plot(results[1].predict(results[7])[half_points:], color=\"red\", marker='o')\n",
    "    \n",
    "    max_points_to_display = 100\n",
    "    yy = np.ones(len(results[8]))\n",
    "    thigh = results[1].predict(results[7]) + (yy * np.sqrt(results[0]))\n",
    "    tlow = results[1].predict(results[7]) - (yy * np.sqrt(results[0]))\n",
    "    x_plot = np.arange(0, len(results[8]))\n",
    "\n",
    "    ax = plt.subplot(313)\n",
    "    ax.plot(results[8][:max_points_to_display], color = 'blue', marker='.')\n",
    "    ax.plot(results[1].predict(results[7])[:max_points_to_display], color=\"red\", marker='.', alpha=0.35)\n",
    "    ax.fill_between(x_plot[:max_points_to_display], thigh[:max_points_to_display],\\\n",
    "                tlow[:max_points_to_display], color='k', alpha=.25)"
   ]
  },
  {
   "cell_type": "markdown",
   "metadata": {},
   "source": [
    "---\n",
    "#Utilizing the Functions\n",
    "---"
   ]
  },
  {
   "cell_type": "markdown",
   "metadata": {},
   "source": [
    "---\n",
    "#Investigate Ridge Regression\n",
    "---"
   ]
  },
  {
   "cell_type": "markdown",
   "metadata": {},
   "source": [
    "---\n",
    "#Investigate Lasso Regression\n",
    "---"
   ]
  }
 ],
 "metadata": {
  "kernelspec": {
   "display_name": "Python 2",
   "language": "python",
   "name": "python2"
  },
  "language_info": {
   "codemirror_mode": {
    "name": "ipython",
    "version": 2
   },
   "file_extension": ".py",
   "mimetype": "text/x-python",
   "name": "python",
   "nbconvert_exporter": "python",
   "pygments_lexer": "ipython2",
   "version": "2.7.9"
  }
 },
 "nbformat": 4,
 "nbformat_minor": 0
}
