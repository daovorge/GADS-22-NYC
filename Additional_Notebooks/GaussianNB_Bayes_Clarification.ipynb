{
 "cells": [
  {
   "cell_type": "code",
   "execution_count": 2,
   "metadata": {
    "collapsed": true
   },
   "outputs": [],
   "source": [
    "import numpy as np\n",
    "from scipy.stats import norm\n",
    "import matplotlib.pyplot as plt\n",
    "%matplotlib inline"
   ]
  },
  {
   "cell_type": "markdown",
   "metadata": {},
   "source": [
    "####Reimplement the normal distribution"
   ]
  },
  {
   "cell_type": "code",
   "execution_count": 4,
   "metadata": {
    "collapsed": true
   },
   "outputs": [],
   "source": [
    "def my_normal(x, the_mean, the_standard_deviation):\n",
    "    temp = (x - the_mean) * (x - the_mean)\n",
    "    temp1 = -temp/(2.0 * the_standard_deviation * the_standard_deviation)\n",
    "    temp2 = np.exp(temp1)\n",
    "    return (1.0/(the_standard_deviation * np.sqrt(2.0 * np.pi)))*temp2"
   ]
  },
  {
   "cell_type": "markdown",
   "metadata": {},
   "source": [
    "####and compare it to the built in function"
   ]
  },
  {
   "cell_type": "code",
   "execution_count": 10,
   "metadata": {
    "collapsed": false
   },
   "outputs": [
    {
     "data": {
      "text/plain": [
       "[<matplotlib.lines.Line2D at 0x10c074750>]"
      ]
     },
     "execution_count": 10,
     "metadata": {},
     "output_type": "execute_result"
    },
    {
     "data": {
      "image/png": "[encoded data removed]",
      "text/plain": [
       "<matplotlib.figure.Figure at 0x10bc9a5d0>"
      ]
     },
     "metadata": {},
     "output_type": "display_data"
    }
   ],
   "source": [
    "the_mean = 0.0\n",
    "the_sd = 2.5\n",
    "\n",
    "x = np.linspace(-10, 10, 100)\n",
    "y = my_normal(x, the_mean, the_sd)\n",
    "\n",
    "y1 = norm.pdf(x, loc=the_mean, scale=the_sd)\n",
    "\n",
    "fig = plt.figure(figsize = (10, 5))\n",
    "ax = plt.subplot(121)\n",
    "ax.plot(x, y)\n",
    "\n",
    "ax = plt.subplot(122)\n",
    "ax.plot(x, y1)"
   ]
  },
  {
   "cell_type": "markdown",
   "metadata": {},
   "source": [
    "####The function my_normal() or norm.pdf() represent a normal distribution over the random variable x\n",
    "####However, they DO NOT return probabilities\n",
    "####Probability is defined by the area under the curve and we estimate a probability by defining any integral over a slice"
   ]
  },
  {
   "cell_type": "markdown",
   "metadata": {},
   "source": [
    "#####$P(x<0)$ is evaluated by taking the area under the curve to the left of 0"
   ]
  },
  {
   "cell_type": "code",
   "execution_count": 17,
   "metadata": {
    "collapsed": false
   },
   "outputs": [
    {
     "name": "stdout",
     "output_type": "stream",
     "text": [
      "P(x<0.0) =  0.50\n"
     ]
    }
   ],
   "source": [
    "#So using the scipy stats function, we call the CUMULATIVE DISTRIBUTION FUNCTION to get the area to the left of 0.0\n",
    "#We know in advance that the probability is 0.5\n",
    "#With a mean of 0.0 half the area is to the left of the mean\n",
    "p = norm.cdf(0.0, loc = 0.0, scale = 2.5)\n",
    "print \"P(x<0.0) = {:5.2f}\".format(p)"
   ]
  },
  {
   "cell_type": "markdown",
   "metadata": {},
   "source": [
    "####So the formula at the top of the Naive_Bayes_GaussainNB_Example notebook should be:"
   ]
  },
  {
   "cell_type": "markdown",
   "metadata": {},
   "source": [
    "##$$f(x_{i}\\text{ }|\\text{ }y) = \\frac{1}{\\sqrt{2\\pi\\sigma^{2}_{y}}}\\text{exp}\\left(-\\frac{\\left(x_{i}-\\mu_{y}\\right)^{2}}{2\\sigma^{2}_{y}} \\right)$$"
   ]
  },
  {
   "cell_type": "markdown",
   "metadata": {},
   "source": [
    "#####By using $p(x_{i}|y)$ implied it was estimating a probability (which it isn't)\n",
    "#####Hence having values returned that exceed 1.0 is absolutely fine"
   ]
  },
  {
   "cell_type": "markdown",
   "metadata": {},
   "source": [
    "####In the Bayes equation: $P(X|Y) = \\frac{P(Y|X)P(X)}{P(Y)}$ or $\\text{Posterior } = \\frac{Likelihood * Prior}{\\text{Normalization}}$ the Likelihood function is a probability distribution over a random variable, but the function itself does NOT return a probability\n",
    "\n",
    "####So $f(x_{i}|y)$ describes a (gaussian) probability distribution over $x$, but does not return probabilities.\n",
    "\n",
    "####So the code in the notebook was correct and the values exceeding 1.0 do not represent probabilities and are also correct"
   ]
  }
 ],
 "metadata": {
  "kernelspec": {
   "display_name": "Python 2",
   "language": "python",
   "name": "python2"
  },
  "language_info": {
   "codemirror_mode": {
    "name": "ipython",
    "version": 2
   },
   "file_extension": ".py",
   "mimetype": "text/x-python",
   "name": "python",
   "nbconvert_exporter": "python",
   "pygments_lexer": "ipython2",
   "version": "2.7.10"
  }
 },
 "nbformat": 4,
 "nbformat_minor": 0
}
