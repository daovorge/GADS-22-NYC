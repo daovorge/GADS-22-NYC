{
 "cells": [
  {
   "cell_type": "code",
   "execution_count": 1,
   "metadata": {
    "collapsed": false
   },
   "outputs": [],
   "source": [
    "import numpy as np\n",
    "import pandas as pd\n",
    "from sklearn.feature_extraction.text import CountVectorizer\n",
    "import re\n",
    "from sklearn.feature_extraction.text import TfidfVectorizer\n",
    "from sklearn.cross_validation import train_test_split\n",
    "from sklearn.naive_bayes import MultinomialNB\n",
    "from sklearn.naive_bayes import BernoulliNB"
   ]
  },
  {
   "cell_type": "markdown",
   "metadata": {},
   "source": [
    "---\n",
    "Tweet Sentiment Analysis\n",
    "=====\n",
    "***\n",
    "\n",
    "###Create a twitter classifier with Naive Bayes and check the sentiment with a keyword of your choice\n",
    "###Use tweet_training.csv as your training set\n",
    "###Sentiment is described as 'polarity', where\n",
    "### - '0' = negative\n",
    "### - '4' = positive"
   ]
  },
  {
   "cell_type": "code",
   "execution_count": 2,
   "metadata": {
    "collapsed": false
   },
   "outputs": [],
   "source": [
    "df = pd.read_csv('/Users/mrgholt/GADS-22-NYC/Datasets/tweet_training.csv', delimiter=';')"
   ]
  },
  {
   "cell_type": "code",
   "execution_count": 3,
   "metadata": {
    "collapsed": false
   },
   "outputs": [],
   "source": [
    "df[df['polarity']==4].shape"
   ]
  },
  {
   "cell_type": "code",
   "execution_count": 4,
   "metadata": {
    "collapsed": false
   },
   "outputs": [],
   "source": [
    "df[df['polarity']==0].shape"
   ]
  },
  {
   "cell_type": "markdown",
   "metadata": {},
   "source": [
    "####The data is \"unbalanced\" in the sense that the number of 0 polarity tweets outnumbers the 4 polarity tweets. \n",
    "\n",
    "- This represents different priors. \n",
    "\n",
    "- Sklean's Naive Bayes modeling takes into account the different class representations, i.e. piors for you\n",
    "\n",
    "- BUT you can alter the model by inputting your own priors ('fit_prior')\n",
    "\n",
    "- NB: LaPlacian Correction. In addition these algorithms use a very slightly modified formula so as to account for zero probabilities. This is referred to as 'smoothing priors' - ('alpha')"
   ]
  },
  {
   "cell_type": "code",
   "execution_count": 5,
   "metadata": {
    "collapsed": false
   },
   "outputs": [],
   "source": [
    "df.head()"
   ]
  },
  {
   "cell_type": "code",
   "execution_count": 6,
   "metadata": {
    "collapsed": false
   },
   "outputs": [],
   "source": [
    "df[df['polarity']==4].head()"
   ]
  },
  {
   "cell_type": "markdown",
   "metadata": {},
   "source": [
    "Consider also the benefit (or otherwise) of removing the Twitter \"at\" symbol and name. Use a regular expression to achieve this."
   ]
  },
  {
   "cell_type": "code",
   "execution_count": 7,
   "metadata": {
    "collapsed": false
   },
   "outputs": [],
   "source": [
    "df['tweet'][294]"
   ]
  },
  {
   "cell_type": "code",
   "execution_count": 8,
   "metadata": {
    "collapsed": false
   },
   "outputs": [],
   "source": [
    "pattern = r'@[A-Za-z0-9]*'\n",
    "regex = re.compile(pattern, flags=re.IGNORECASE)\n",
    "for i in range(290,300):\n",
    "    print i, regex.findall(df['tweet'][i])"
   ]
  },
  {
   "cell_type": "code",
   "execution_count": 9,
   "metadata": {
    "collapsed": false
   },
   "outputs": [],
   "source": [
    "print regex.split(df['tweet'][294])[1]\n",
    "print regex.split(df['tweet'][294])[7]"
   ]
  },
  {
   "cell_type": "code",
   "execution_count": 10,
   "metadata": {
    "collapsed": false
   },
   "outputs": [],
   "source": [
    "df['tweetrhtag'] = df.tweet.apply(lambda x: regex.sub('',x))"
   ]
  },
  {
   "cell_type": "code",
   "execution_count": 11,
   "metadata": {
    "collapsed": false
   },
   "outputs": [],
   "source": [
    "df['tweetrhtag'][294]"
   ]
  },
  {
   "cell_type": "code",
   "execution_count": 12,
   "metadata": {
    "collapsed": false
   },
   "outputs": [],
   "source": [
    "df.head()"
   ]
  },
  {
   "cell_type": "code",
   "execution_count": 13,
   "metadata": {
    "collapsed": false
   },
   "outputs": [],
   "source": [
    "df[df['polarity']==4].head()"
   ]
  },
  {
   "cell_type": "markdown",
   "metadata": {},
   "source": [
    "####Start with a Naive Bayes model using the Count Vectorizer "
   ]
  },
  {
   "cell_type": "code",
   "execution_count": 14,
   "metadata": {
    "collapsed": false
   },
   "outputs": [],
   "source": [
    "vectorizer = CountVectorizer()"
   ]
  },
  {
   "cell_type": "code",
   "execution_count": 15,
   "metadata": {
    "collapsed": false
   },
   "outputs": [],
   "source": [
    "vectorizer.fit(df['tweet'])"
   ]
  },
  {
   "cell_type": "code",
   "execution_count": 16,
   "metadata": {
    "collapsed": false
   },
   "outputs": [],
   "source": [
    "ll=vectorizer.get_feature_names()\n",
    "for i in range(0,10):\n",
    "    print \"{:25s} {:50s}\".format(ll[i], ll[i+500])\n",
    "len(ll)"
   ]
  },
  {
   "cell_type": "code",
   "execution_count": 17,
   "metadata": {
    "collapsed": false
   },
   "outputs": [],
   "source": [
    "X = vectorizer.transform(df['tweetrhtag'])"
   ]
  },
  {
   "cell_type": "code",
   "execution_count": 18,
   "metadata": {
    "collapsed": false
   },
   "outputs": [],
   "source": [
    "y = (df['polarity'] == 0).values.astype(np.int)"
   ]
  },
  {
   "cell_type": "code",
   "execution_count": 19,
   "metadata": {
    "collapsed": false
   },
   "outputs": [],
   "source": [
    "print X.shape\n",
    "print y.shape"
   ]
  },
  {
   "cell_type": "code",
   "execution_count": 20,
   "metadata": {
    "collapsed": false
   },
   "outputs": [],
   "source": [
    "xtrain, xtest, ytrain, ytest = train_test_split(X, y, test_size=0.5, random_state=15)"
   ]
  },
  {
   "cell_type": "code",
   "execution_count": 21,
   "metadata": {
    "collapsed": false
   },
   "outputs": [],
   "source": [
    "def accuracy_report(clf, xtrain, ytrain, xtest, ytest):\n",
    "    print \"Accuracy (model reported score): {:0.2f}\".format(100.0 * clf.score(xtest, ytest))\n",
    "\n",
    "    #Print the accuracy on the test and training dataset\n",
    "    training_accuracy = clf.score(xtrain, ytrain)\n",
    "    test_accuracy = clf.score(xtest, ytest)\n",
    "\n",
    "    print \"Accuracy on training data: {:0.2f}\".format(100.0 *training_accuracy)\n",
    "    print \"Accuracy on test data: {:0.2f}\".format(100.0 *test_accuracy)"
   ]
  },
  {
   "cell_type": "markdown",
   "metadata": {},
   "source": [
    "####Try a Naive Bayes Multinomial model"
   ]
  },
  {
   "cell_type": "code",
   "execution_count": 22,
   "metadata": {
    "collapsed": false
   },
   "outputs": [],
   "source": [
    "print \"Multinomial\"\n",
    "clf_mn = MultinomialNB().fit(xtrain, ytrain)\n",
    "accuracy_report(clf_mn, xtrain, ytrain, xtest, ytest)"
   ]
  },
  {
   "cell_type": "code",
   "execution_count": 23,
   "metadata": {
    "collapsed": false
   },
   "outputs": [],
   "source": [
    "pd.crosstab(ytest, clf_mn.predict(xtest), rownames=[\"Actual\"], colnames=[\"Predicted\"])"
   ]
  },
  {
   "cell_type": "markdown",
   "metadata": {},
   "source": [
    "####Try a Naive Bayes Bernoulli model"
   ]
  },
  {
   "cell_type": "code",
   "execution_count": 24,
   "metadata": {
    "collapsed": false
   },
   "outputs": [],
   "source": [
    "print \"bernoulli\"\n",
    "clf_bn = BernoulliNB(binarize = 0.0).fit(xtrain, ytrain)\n",
    "accuracy_report(clf_bn, xtrain, ytrain, xtest, ytest)"
   ]
  },
  {
   "cell_type": "code",
   "execution_count": 25,
   "metadata": {
    "collapsed": false
   },
   "outputs": [],
   "source": [
    "print len(clf_bn.predict(xtest))\n",
    "print clf_bn.predict(xtest).sum()\n",
    "clf_bn.score(xtest, ytest)"
   ]
  },
  {
   "cell_type": "code",
   "execution_count": 26,
   "metadata": {
    "collapsed": false
   },
   "outputs": [],
   "source": [
    "pd.crosstab(ytest, clf_bn.predict(xtest), rownames=[\"Actual\"], colnames=[\"Predicted\"])"
   ]
  },
  {
   "cell_type": "code",
   "execution_count": 27,
   "metadata": {
    "collapsed": false
   },
   "outputs": [],
   "source": [
    "def AnalyzeTweet(test_tweet, vectorizer, clf):\n",
    "    print \"\\\"\"  + test_tweet + \"\\\" is judged by clasifier to be...\"\n",
    "    test_tweet = vectorizer.transform([test_tweet])\n",
    "\n",
    "    if (clf.predict(test_tweet)[0] == 0):\n",
    "        print \"... Positive Tweet.\"\n",
    "    else:\n",
    "        print \"... Negative Tweet.\"\n",
    "    return(clf.predict(test_tweet)[0])"
   ]
  },
  {
   "cell_type": "markdown",
   "metadata": {},
   "source": [
    "####Here are some good sentiment phrases correctly classified"
   ]
  },
  {
   "cell_type": "code",
   "execution_count": 28,
   "metadata": {
    "collapsed": false
   },
   "outputs": [],
   "source": [
    "#compare 'have a good day' with 'a good day'\n",
    "print AnalyzeTweet(\"a good day\", vectorizer, clf_mn)\n",
    "print AnalyzeTweet(\"this is fantastic\", vectorizer, clf_mn)\n",
    "print AnalyzeTweet(\"congrats on the new job\", vectorizer, clf_mn)"
   ]
  },
  {
   "cell_type": "markdown",
   "metadata": {},
   "source": [
    "####Here are some negative sentiment phrases correctly classified"
   ]
  },
  {
   "cell_type": "code",
   "execution_count": 29,
   "metadata": {
    "collapsed": false
   },
   "outputs": [],
   "source": [
    "print AnalyzeTweet(\"what a pain that was\", vectorizer, clf_mn)\n",
    "print AnalyzeTweet(\"back luck about the interveiw\", vectorizer, clf_mn)\n",
    "#compare 'hopefully time' with 'hopefully next time'\n",
    "print AnalyzeTweet(\"hopefully time\", vectorizer, clf_mn)"
   ]
  },
  {
   "cell_type": "markdown",
   "metadata": {},
   "source": [
    "---\n",
    "Question\n",
    "=====\n",
    "***\n",
    "1. Re-run the models using the hashtage removed tweets. Which is the more accurate classifer?\n",
    "2. Come up with a phrase where the classifier gets it completely wrong!"
   ]
  }
 ],
 "metadata": {
  "kernelspec": {
   "display_name": "Python 2",
   "language": "python",
   "name": "python2"
  },
  "language_info": {
   "codemirror_mode": {
    "name": "ipython",
    "version": 2
   },
   "file_extension": ".py",
   "mimetype": "text/x-python",
   "name": "python",
   "nbconvert_exporter": "python",
   "pygments_lexer": "ipython2",
   "version": "2.7.10"
  }
 },
 "nbformat": 4,
 "nbformat_minor": 0
}
