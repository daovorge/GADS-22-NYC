{
 "cells": [
  {
   "cell_type": "code",
   "execution_count": 18,
   "metadata": {
    "collapsed": true
   },
   "outputs": [],
   "source": [
    "import numpy as np\n",
    "import matplotlib.pyplot as plt\n",
    "%matplotlib inline"
   ]
  },
  {
   "cell_type": "markdown",
   "metadata": {},
   "source": [
    "---\n",
    "#Estimating the Model Parameters\n",
    "---"
   ]
  },
  {
   "cell_type": "markdown",
   "metadata": {},
   "source": [
    "---\n",
    "##If we use the same cost function as was used in Linear Regression we find we no longer have a convex function\n",
    "##The shape of the cost function is bowl shaped but because we have introduced a non-linearity into the cost function the bowl has many local minima, not just a single global minimum\n",
    "##GD will end up in a non-optimal local minimum\n",
    "---"
   ]
  },
  {
   "cell_type": "markdown",
   "metadata": {},
   "source": [
    "---\n",
    "##We need a better cost function\n",
    "##$Cost(h^{'}(x), y) = \\bigg\\{ \\begin{array}{rr}\n",
    "-log(h^{'}(x)) & if y=1\\\\\n",
    "-log(1-h^{'}(x)) & if y=0\\\\\n",
    "\\end{array} $\n",
    "##Remember $h^{'}(x)$ returns a value between 0 and 1\n",
    "---"
   ]
  },
  {
   "cell_type": "code",
   "execution_count": 19,
   "metadata": {
    "collapsed": false
   },
   "outputs": [
    {
     "data": {
      "text/plain": [
       "[<matplotlib.lines.Line2D at 0x10be05dd0>]"
      ]
     },
     "execution_count": 19,
     "metadata": {},
     "output_type": "execute_result"
    },
    {
     "data": {
      "image/png": "[encoded data removed]",
      "text/plain": [
       "<matplotlib.figure.Figure at 0x10bc59890>"
      ]
     },
     "metadata": {},
     "output_type": "display_data"
    }
   ],
   "source": [
    "#this is a plot of the new cost function\n",
    "\n",
    "fig = plt.figure(figsize=(10,5))\n",
    "ax=plt.subplot(121)\n",
    "ax.set_xlim(0,1)\n",
    "ax.set_xlabel(\"$h'(x)$\")\n",
    "ax.set_ylabel('J(theta)')\n",
    "ax.set_title(\"y=1\")\n",
    "x=np.linspace(0.001,0.999,100)\n",
    "ax.plot(x,-np.log10(x))\n",
    "\n",
    "ax1=plt.subplot(122)\n",
    "ax1.set_title(\"y=0\")\n",
    "ax1.set_xlabel(\"$h'(x)$\")\n",
    "ax1.set_ylabel('J(theta)')\n",
    "ax1.plot(x, -np.log10(1-x))"
   ]
  },
  {
   "cell_type": "markdown",
   "metadata": {},
   "source": [
    "---\n",
    "#Consider the following cases:\n",
    "## * hypothesis returns 1, and that feature belongs to class 1 (y=1). Cost = 0\n",
    "## * hypothesis returns 0, and the feature belongs to class 1 (y=1). Cost = $\\infty$\n",
    "## * hypothesis returns 1, and the feature belongs to class 0 (y=0). Cost = $\\infty$\n",
    "## * hypothesis returns 0, and the feature belongs to class 0 (y=0). Cost = 0\n",
    "##This is what we want!\n",
    "##Now have a cost function which can be minmized to a global minimum\n",
    "---"
   ]
  },
  {
   "cell_type": "markdown",
   "metadata": {},
   "source": [
    "---\n",
    "##$Cost(h^{'}(x), y) = -y\\log(h^{'}(x)) - (1-y)\\log(1-h^{'}(x))$\n",
    "---"
   ]
  },
  {
   "cell_type": "markdown",
   "metadata": {},
   "source": [
    "---\n",
    "##Reality check:\n",
    "\n",
    "##Let $y = 1$\n",
    "\n",
    "##$Cost(h^{'}(x), y) = -\\log(h^{'}(x))$\n",
    "\n",
    "##Let $y = 0$\n",
    "\n",
    "##$Cost(h^{'}(x), y) = -\\log(1-h^{'}(x))$\n",
    "\n",
    "##The same as above\n",
    "---"
   ]
  },
  {
   "cell_type": "markdown",
   "metadata": {},
   "source": [
    "---\n",
    "#Final Cost Function\n",
    "##$$J(\\theta)=\\frac{1}{m}\\sum_{i=1}^{m}Cost(h^{'}(x), y)$$\n",
    "\n",
    "##$$=-\\frac{1}{m}\\big[\\sum_{i=1}^{m}y\\log(h^{'}(x)) + (1-y)\\log(1-h^{'}(x))\\big]$$\n",
    "---"
   ]
  },
  {
   "cell_type": "markdown",
   "metadata": {},
   "source": [
    "---\n",
    "##As before minimize $J(\\theta)$ to find a set of $\\theta s$\n",
    "##Use the gradient descent algorithm\n",
    "##The derivative is exactly the same as for linear regression!!!\n",
    "##and hence the gradient descent update rule is identical\n",
    "##BUT THEY ARE NOT THE SAME. $h_{\\theta}(x)$ is fundamentally different\n",
    "---"
   ]
  },
  {
   "cell_type": "markdown",
   "metadata": {},
   "source": [
    "---\n",
    "##Remember to scale your features when using GD for Logistic Regression\n",
    "---"
   ]
  },
  {
   "cell_type": "markdown",
   "metadata": {},
   "source": [
    "---\n",
    "##Advanced Optimization Algorithms:\n",
    "###Conjugate gradients\n",
    "###BFGS - Broydon-Fletcher-Goldfarb-Shanno\n",
    "###L-BFGS - Low Memory Broydon-Fletcher-Goldfarb-Shanno\n",
    "---"
   ]
  },
  {
   "cell_type": "markdown",
   "metadata": {},
   "source": [
    "---\n",
    "#Worked example - not using sklearn\n",
    "---"
   ]
  },
  {
   "cell_type": "code",
   "execution_count": 20,
   "metadata": {
    "collapsed": false
   },
   "outputs": [
    {
     "name": "stdout",
     "output_type": "stream",
     "text": [
      "[(0, 3), (1, 2), (2, 1), (3, 0)]\n"
     ]
    },
    {
     "data": {
      "text/plain": [
       "[<matplotlib.lines.Line2D at 0x10c013550>]"
      ]
     },
     "execution_count": 20,
     "metadata": {},
     "output_type": "execute_result"
    },
    {
     "data": {
      "image/png": "[encoded data removed]",
      "text/plain": [
       "<matplotlib.figure.Figure at 0x10bc5d690>"
      ]
     },
     "metadata": {},
     "output_type": "display_data"
    }
   ],
   "source": [
    "#As before generate 2-classes of artificial data\n",
    "\n",
    "m=100\n",
    "x=np.zeros((m,2), dtype=np.float)\n",
    "count=0\n",
    "count1=m/2\n",
    "for i in xrange(10000):\n",
    "    j=np.random.sample()*3.0\n",
    "    k=np.random.sample()*3.0\n",
    "    if (j+k<2.9) & (count<m/2):\n",
    "        x[count][0]=j\n",
    "        x[count][1]=k\n",
    "        count += 1\n",
    "    elif (j+k>3.1) & (count1<m):\n",
    "        x[count1][0]=j\n",
    "        x[count1][1]=k\n",
    "        count1 += 1\n",
    "\n",
    "#plot the data\n",
    "fig=plt.figure(figsize=(10,5))\n",
    "ax=plt.subplot(121)\n",
    "ax.plot(x[:m/2,0],x[:m/2,1], 'go')\n",
    "ax.plot(x[m/2:m,0], x[m/2:m,1], 'bx')\n",
    "ax.set_title(\"2 Classes of Data\")\n",
    "ax.set_xlabel(\"x1\")\n",
    "ax.set_ylabel('x2')\n",
    "\n",
    "#plot the data and the know decision boundary (we know the value of the parameters theta)\n",
    "ax1=plt.subplot(122)\n",
    "ax1.plot(x[:m/2,0],x[:m/2,1], 'go')\n",
    "ax1.plot(x[m/2:m,0], x[m/2:m,1], 'bx')\n",
    "ax1.set_title(\"Decision Boundary and Data\")\n",
    "ax1.set_xlabel(\"x1\")\n",
    "ax1.set_ylabel(\"x2\")\n",
    "x1=np.linspace(0.0,3.0,m)\n",
    "x2=np.linspace(0.0,3.0,m)\n",
    "y=[]\n",
    "for x1 in xrange(m):\n",
    "    for x2 in xrange(m):\n",
    "        if x1+x2==3:\n",
    "            y.append((x1,x2))\n",
    "print y\n",
    "y=np.array(y)\n",
    "ax1.plot(y[:,0], y[:,1], 'r-')"
   ]
  },
  {
   "cell_type": "markdown",
   "metadata": {},
   "source": [
    "---\n",
    "##Normalize the data\n",
    "---"
   ]
  },
  {
   "cell_type": "code",
   "execution_count": 21,
   "metadata": {
    "collapsed": false
   },
   "outputs": [],
   "source": [
    "xs = (x-x.mean())/x.std()"
   ]
  },
  {
   "cell_type": "markdown",
   "metadata": {},
   "source": [
    "---\n",
    "##Set up the class labels and split the 2 dimensional input data into 2 separate arrays\n",
    "---"
   ]
  },
  {
   "cell_type": "code",
   "execution_count": 22,
   "metadata": {
    "collapsed": true
   },
   "outputs": [],
   "source": [
    "y1 = np.zeros(len(x))\n",
    "y1[0:m/2]=0\n",
    "y1[m/2:len(xs)]=1\n",
    "x1 = xs[:,0]\n",
    "x2 = xs[:,1]"
   ]
  },
  {
   "cell_type": "markdown",
   "metadata": {},
   "source": [
    "---\n",
    "##Define h using the logistic function\n",
    "##Define J the new cost function\n",
    "##Import the parameter update equations from linear regression\n",
    "---"
   ]
  },
  {
   "cell_type": "code",
   "execution_count": 23,
   "metadata": {
    "collapsed": true
   },
   "outputs": [],
   "source": [
    "def h(x1, x2, theta0, theta1, theta2):\n",
    "    return 1.0/(1.0+np.exp(-1.0*(theta0 + x1*theta1 + x2*theta2)))\n",
    "\n",
    "def J(theta0, theta1, theta2, h, x1, x2, y):\n",
    "    ht = h(x1, x2, theta0, theta1, theta2).reshape(1, len(x))\n",
    "    yy = y.reshape(1, len(x1))\n",
    "    sum_diff = (yy * np.log10(ht)) + ((1.0-yy)*np.log10(1.0-ht))\n",
    "    return (-1.0/len(x1)) * sum_diff.sum()\n",
    "\n",
    "def theta0_update(alpha, theta0, theta1, theta2, h, x1, x2, y):\n",
    "    h1 = h(x1, x2, theta0, theta1, theta2).reshape(1,len(x1))\n",
    "    yy = y.reshape(1,len(x1))\n",
    "    diff = h1 - yy\n",
    "    return (alpha/len(x1))*diff.sum()\n",
    "\n",
    "def theta1_update(alpha, theta0, theta1, theta2, h, x1, x2, y):\n",
    "    h1 = h(x1, x2, theta0, theta1, theta2).reshape(1,len(x1))\n",
    "    yy = y.reshape(1,len(x1))\n",
    "    x1 = x1.reshape(1,len(x1))\n",
    "    diff = (h1 - yy)*x1\n",
    "    return (alpha/len(x1))*diff.sum()\n",
    "\n",
    "def theta2_update(alpha, theta0, theta1, theta2, h, x1, x2, y):\n",
    "    h1 = h(x1, x2, theta0, theta1, theta2).reshape(1,len(x1))\n",
    "    yy = y.reshape(1,len(x1))\n",
    "    x2 = x2.reshape(1,len(x2))\n",
    "    diff = (h1 - yy)*x2\n",
    "    return (alpha/len(x2))*diff.sum()"
   ]
  },
  {
   "cell_type": "markdown",
   "metadata": {
    "collapsed": false
   },
   "source": [
    "---\n",
    "##Build a series of models using a different number of iterations of greadient descent for each\n",
    "##Plot the data and the decision boundary found by the 100 iterations of gradient descent\n",
    "##Plot J for each model\n",
    "---"
   ]
  },
  {
   "cell_type": "code",
   "execution_count": 26,
   "metadata": {
    "collapsed": false
   },
   "outputs": [
    {
     "data": {
      "text/plain": [
       "<matplotlib.text.Text at 0x10ca2d990>"
      ]
     },
     "execution_count": 26,
     "metadata": {},
     "output_type": "execute_result"
    },
    {
     "data": {
      "image/png": "[encoded data removed]",
      "text/plain": [
       "<matplotlib.figure.Figure at 0x10c766f50>"
      ]
     },
     "metadata": {},
     "output_type": "display_data"
    }
   ],
   "source": [
    "fig=plt.figure(figsize=(10,5))\n",
    "ax=plt.subplot(121)\n",
    "ax1=plt.subplot(122)\n",
    "\n",
    "ax.plot(x1[:m/2],x2[:m/2], 'go')\n",
    "ax.plot(x1[m/2:m], x2[m/2:m], 'bx')\n",
    "ax.set_title(\"2 Classes of Data\")\n",
    "ax.set_xlabel(\"x1\")\n",
    "ax.set_ylabel('x2')\n",
    "\n",
    "theta_list = []\n",
    "J_list = []\n",
    "for no_of_iterations in (0, 1, 5, 10, 25, 50, 75, 100):\n",
    "    theta0 = 1.54\n",
    "    theta1 = -1.5\n",
    "    theta2 = 2.7\n",
    "    alpha = 0.1\n",
    "    \n",
    "    for i in xrange(no_of_iterations): \n",
    "        temp0 = theta0 - theta0_update(alpha, theta0, theta1, theta2, h, x1, x2, y1)\n",
    "        temp1 = theta1 - theta1_update(alpha, theta0, theta1, theta2, h, x1, x2, y1)\n",
    "        temp2 = theta2 - theta2_update(alpha, theta0, theta1, theta2, h, x1, x2, y1)\n",
    "        theta0 = temp0\n",
    "        theta1 = temp1\n",
    "        theta2 = temp2\n",
    "    J_list.append((no_of_iterations, J(theta0, theta1, theta2, h, x1, x2, y1)))\n",
    "    theta_list.append((theta0,theta1,theta2))\n",
    "\n",
    "\n",
    "xx1=np.linspace(-3.0,3.0,500)\n",
    "xx2=np.linspace(-3.0,3.0,500)\n",
    "yy=[]\n",
    "for xxx1 in xx1:\n",
    "    for xxx2 in xx2:\n",
    "        if ((theta1*xxx1+theta2*xxx2)>-1.0*(theta0+0.05)) & ((theta1*xxx1+theta2*xxx2)<-1.0*(theta0-0.05)):\n",
    "            yy.append((xxx1, xxx2))\n",
    "\n",
    "yy=np.array(yy)\n",
    "jj=np.array(J_list)\n",
    "#here is the decision boundary\n",
    "ax.plot(yy[:,0], yy[:,1], 'r.')\n",
    "\n",
    "#this is J\n",
    "ax1.plot(jj[:,0], jj[:,1], color='blue', marker='o')\n",
    "ax1.set_title(\"J (Cost Function)\")\n",
    "ax1.set_xlabel(\"Iterations of Gradient Descent\")\n",
    "ax1.set_ylabel(\"Cost or Error\")"
   ]
  }
 ],
 "metadata": {
  "kernelspec": {
   "display_name": "Python 2",
   "language": "python",
   "name": "python2"
  },
  "language_info": {
   "codemirror_mode": {
    "name": "ipython",
    "version": 2
   },
   "file_extension": ".py",
   "mimetype": "text/x-python",
   "name": "python",
   "nbconvert_exporter": "python",
   "pygments_lexer": "ipython2",
   "version": "2.7.9"
  }
 },
 "nbformat": 4,
 "nbformat_minor": 0
}
