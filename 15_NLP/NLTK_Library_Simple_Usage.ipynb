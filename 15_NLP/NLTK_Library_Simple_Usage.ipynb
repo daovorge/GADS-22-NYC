{
 "cells": [
  {
   "cell_type": "code",
   "execution_count": 2,
   "metadata": {
    "collapsed": false
   },
   "outputs": [],
   "source": [
    "import numpy as np\n",
    "from sklearn.feature_extraction.text import CountVectorizer\n",
    "from sklearn.feature_extraction import text"
   ]
  },
  {
   "cell_type": "markdown",
   "metadata": {},
   "source": [
    "---\n",
    "Word Tokenization\n",
    "=====\n",
    "***"
   ]
  },
  {
   "cell_type": "code",
   "execution_count": 19,
   "metadata": {
    "collapsed": true
   },
   "outputs": [],
   "source": [
    "my_text = \"I'm going to quote from a book: \\\n",
    "'Throughout his career the visual arts were to exert a strong influence on Herge. \\\n",
    "Although he did not rise to his parents' suggestion of formal training - he dropped out of drawing \\\n",
    "lessons for which they had enrolled him - he was always thoroughly well versed in the latest \\\n",
    "as well as past developments in art.' From Tintin The Complete Companion by Michael Farr, 2001 \""
   ]
  },
  {
   "cell_type": "code",
   "execution_count": 20,
   "metadata": {
    "collapsed": false
   },
   "outputs": [
    {
     "data": {
      "text/plain": [
       "401"
      ]
     },
     "execution_count": 20,
     "metadata": {},
     "output_type": "execute_result"
    }
   ],
   "source": [
    "len(my_text)"
   ]
  },
  {
   "cell_type": "markdown",
   "metadata": {},
   "source": [
    "####Python as a simple tokenizer"
   ]
  },
  {
   "cell_type": "code",
   "execution_count": 21,
   "metadata": {
    "collapsed": false
   },
   "outputs": [],
   "source": [
    "simple_tokens = my_text.split(\" \")"
   ]
  },
  {
   "cell_type": "code",
   "execution_count": 22,
   "metadata": {
    "collapsed": false
   },
   "outputs": [
    {
     "name": "stdout",
     "output_type": "stream",
     "text": [
      "[\"I'm\", 'going', 'to', 'quote', 'from', 'a', 'book:', \"'Throughout\", 'his', 'career', 'the', 'visual', 'arts', 'were', 'to', 'exert', 'a', 'strong', 'influence', 'on', 'Herge.', 'Although', 'he', 'did', 'not', 'rise', 'to', 'his', \"parents'\", 'suggestion', 'of', 'formal', 'training', '-', 'he', 'dropped', 'out', 'of', 'drawing', 'lessons', 'for', 'which', 'they', 'had', 'enrolled', 'him', '-', 'he', 'was', 'always', 'thoroughly', 'well', 'versed', 'in', 'the', 'latest', 'as', 'well', 'as', 'past', 'developments', 'in', \"art.'\", 'From', 'Tintin', 'The', 'Complete', 'Companion', 'by', 'Michael', 'Farr,', '2001', '']\n"
     ]
    }
   ],
   "source": [
    "print simple_tokens"
   ]
  },
  {
   "cell_type": "code",
   "execution_count": 65,
   "metadata": {
    "collapsed": false
   },
   "outputs": [
    {
     "name": "stdout",
     "output_type": "stream",
     "text": [
      "stop words:  None\n",
      "2001   although   always   art   arts   as   book   by   career   companion   complete   developments   did   drawing   dropped   enrolled   exert   farr   for   formal   from   going   had   he   herge   him   his   in   influence   latest   lessons   michael   not   of   on   out   parents   past   quote   rise   strong   suggestion   the   they   thoroughly   throughout   tintin   to   training   versed   visual   was   well   were   which  \n"
     ]
    }
   ],
   "source": [
    "myV = CountVectorizer()\n",
    "print \"stop words: \", myV.stop_words\n",
    "myV.fit_transform([my_text])\n",
    "#print myV.get_feature_names()\n",
    "for i in xrange(len(myV.get_feature_names())):\n",
    "    print myV.get_feature_names()[i],\" \","
   ]
  },
  {
   "cell_type": "markdown",
   "metadata": {},
   "source": [
    "---\n",
    "The NLTK Library\n",
    "=====\n",
    "***"
   ]
  },
  {
   "cell_type": "code",
   "execution_count": 24,
   "metadata": {
    "collapsed": false
   },
   "outputs": [],
   "source": [
    "import nltk\n",
    "#nltk.download()"
   ]
  },
  {
   "cell_type": "markdown",
   "metadata": {},
   "source": [
    "---\n",
    "Tokenizer\n",
    "=====\n",
    "***"
   ]
  },
  {
   "cell_type": "code",
   "execution_count": 66,
   "metadata": {
    "collapsed": false
   },
   "outputs": [
    {
     "name": "stdout",
     "output_type": "stream",
     "text": [
      "79\n",
      "I   'm   going   to   quote   from   a   book   :   'Throughout   his   career   the   visual   arts   were   to   exert   a   strong   influence   on   Herge   .   Although   he   did   not   rise   to   his   parents   '   suggestion   of   formal   training   -   he   dropped   out   of   drawing   lessons   for   which   they   had   enrolled   him   -   he   was   always   thoroughly   well   versed   in   the   latest   as   well   as   past   developments   in   art   .   '   From   Tintin   The   Complete   Companion   by   Michael   Farr   ,   2001  \n"
     ]
    }
   ],
   "source": [
    "nltk_tokens = nltk.word_tokenize(my_text)\n",
    "print len(nltk_tokens)\n",
    "#print nltk_tokens\n",
    "for i in xrange(len(nltk_tokens)):\n",
    "    print nltk_tokens[i],\" \","
   ]
  },
  {
   "cell_type": "markdown",
   "metadata": {},
   "source": [
    "---\n",
    "Stemmer\n",
    "=====\n",
    "***"
   ]
  },
  {
   "cell_type": "code",
   "execution_count": 26,
   "metadata": {
    "collapsed": false
   },
   "outputs": [
    {
     "name": "stdout",
     "output_type": "stream",
     "text": [
      "['i', \"'m\", 'going', 'to', 'quot', 'from', 'a', 'book', ':', \"'throughout\", 'his', 'car', 'the', 'vis', 'art', 'wer', 'to', 'exert', 'a', 'strong', u'influ', 'on', 'herg', '.', 'although', 'he', 'did', 'not', 'ris', 'to', 'his', 'par', \"'\", 'suggest', 'of', 'form', 'train', '-', 'he', 'drop', 'out', 'of', 'draw', 'lesson', 'for', 'which', 'they', 'had', 'enrol', 'him', '-', 'he', 'was', 'alway', 'thorough', 'wel', 'vers', 'in', 'the', 'latest', 'as', 'wel', 'as', 'past', 'develop', 'in', 'art', '.', \"'\", 'from', 'tintin', 'the', 'complet', 'comp', 'by', 'michael', 'far', ',', '2001']\n"
     ]
    }
   ],
   "source": [
    "Lcster_stem = nltk.stem.LancasterStemmer()\n",
    "stemmed_list = [Lcster_stem.stem(word) for word in nltk_tokens]\n",
    "print stemmed_list"
   ]
  },
  {
   "cell_type": "code",
   "execution_count": 27,
   "metadata": {
    "collapsed": false
   },
   "outputs": [
    {
     "name": "stdout",
     "output_type": "stream",
     "text": [
      "[u'I', u\"'m\", u'go', u'to', u'quot', u'from', u'a', u'book', u':', u\"'Throughout\", u'hi', u'career', u'the', u'visual', u'art', u'were', u'to', u'exert', u'a', u'strong', u'influenc', u'on', u'Herg', u'.', u'Although', u'he', u'did', u'not', u'rise', u'to', u'hi', u'parent', u\"'\", u'suggest', u'of', u'formal', u'train', u'-', u'he', u'drop', u'out', u'of', u'draw', u'lesson', u'for', u'which', u'they', u'had', u'enrol', u'him', u'-', u'he', u'wa', u'alway', u'thoroughli', u'well', u'vers', u'in', u'the', u'latest', u'as', u'well', u'as', u'past', u'develop', u'in', u'art', u'.', u\"'\", u'From', u'Tintin', u'The', u'Complet', u'Companion', u'by', u'Michael', u'Farr', u',', u'2001']\n"
     ]
    }
   ],
   "source": [
    "Prter_stem = nltk.stem.PorterStemmer()\n",
    "stemmed_list = [Prter_stem.stem(word) for word in nltk_tokens]\n",
    "print stemmed_list"
   ]
  },
  {
   "cell_type": "markdown",
   "metadata": {},
   "source": [
    "---\n",
    "Lemmatizer\n",
    "=====\n",
    "***"
   ]
  },
  {
   "cell_type": "markdown",
   "metadata": {},
   "source": [
    "####From the WordNet Site:\n",
    "\n",
    "- WordNet® is a large lexical database of English. \n",
    "\n",
    "- Nouns, verbs, adjectives and adverbs are grouped into sets of cognitive synonyms (synsets), each expressing a distinct concept. \n",
    "\n",
    "- Synsets are interlinked by means of conceptual-semantic and lexical relations. \n",
    "\n",
    "- The resulting network of meaningfully related words and concepts can be navigated with the browser. \n",
    "\n",
    "- WordNet is also freely and publicly available for download. \n",
    "\n",
    "- WordNet’s structure makes it a useful tool for computational linguistics and natural language processing.\n",
    "\n",
    "- WordNet superficially resembles a thesaurus, in that it groups words together based on their meanings. \n",
    " \n",
    "- However, there are some important distinctions. \n",
    "\n",
    "- First, WordNet interlinks not just word forms—strings of letters—but specific senses of words. \n",
    "\n",
    "- As a result, words that are found in close proximity to one another in the network are semantically disambiguated.\n",
    "\n",
    "- Second, WordNet labels the semantic relations among words, whereas the groupings of words in a thesaurus does not follow any explicit pattern other than meaning similarity"
   ]
  },
  {
   "cell_type": "code",
   "execution_count": 28,
   "metadata": {
    "collapsed": false
   },
   "outputs": [
    {
     "name": "stdout",
     "output_type": "stream",
     "text": [
      "['I', \"'m\", u'go', 'to', 'quote', 'from', 'a', 'book', ':', \"'Throughout\", 'his', 'career', 'the', 'visual', 'arts', u'be', 'to', 'exert', 'a', 'strong', 'influence', 'on', 'Herge', '.', 'Although', 'he', u'do', 'not', 'rise', 'to', 'his', u'parent', \"'\", 'suggestion', 'of', 'formal', u'train', '-', 'he', u'drop', 'out', 'of', u'draw', 'lessons', 'for', 'which', 'they', u'have', u'enrol', 'him', '-', 'he', u'be', 'always', 'thoroughly', 'well', u'verse', 'in', 'the', 'latest', 'as', 'well', 'as', 'past', 'developments', 'in', 'art', '.', \"'\", 'From', 'Tintin', 'The', 'Complete', 'Companion', 'by', 'Michael', 'Farr', ',', '2001']\n"
     ]
    }
   ],
   "source": [
    "lemm = nltk.stem.WordNetLemmatizer()\n",
    "lemmed_list = [lemm.lemmatize(word, pos='v') for word in nltk_tokens]\n",
    "print lemmed_list"
   ]
  },
  {
   "cell_type": "code",
   "execution_count": 42,
   "metadata": {
    "collapsed": true
   },
   "outputs": [],
   "source": [
    "my_text2 = \"swim swims swimmer swimmers swimming swimmingly science scientist scienfitic scientifically \""
   ]
  },
  {
   "cell_type": "code",
   "execution_count": 43,
   "metadata": {
    "collapsed": false
   },
   "outputs": [
    {
     "name": "stdout",
     "output_type": "stream",
     "text": [
      "['swim', 'swim', 'swim', 'swim', 'swim', 'swim', u'sci', 'sci', 'scienfit', 'sci']\n"
     ]
    }
   ],
   "source": [
    "nltk_tokens = nltk.word_tokenize(my_text2)\n",
    "stem = nltk.stem.LancasterStemmer()\n",
    "stemmed_list = [stem.stem(word) for word in nltk_tokens]\n",
    "print stemmed_list"
   ]
  },
  {
   "cell_type": "code",
   "execution_count": 44,
   "metadata": {
    "collapsed": false
   },
   "outputs": [
    {
     "name": "stdout",
     "output_type": "stream",
     "text": [
      "['swim', u'swim', 'swimmer', 'swimmers', u'swim', 'swimmingly', 'science', 'scientist', 'scienfitic', 'scientifically']\n"
     ]
    }
   ],
   "source": [
    "nltk_tokens = nltk.word_tokenize(my_text2)\n",
    "lemm = nltk.stem.WordNetLemmatizer()\n",
    "lemmed_list = [lemm.lemmatize(word, pos='v') for word in nltk_tokens]\n",
    "print lemmed_list"
   ]
  },
  {
   "cell_type": "code",
   "execution_count": 41,
   "metadata": {
    "collapsed": false
   },
   "outputs": [
    {
     "name": "stdout",
     "output_type": "stream",
     "text": [
      "Help on module nltk.stem.wordnet in nltk.stem:\n",
      "\n",
      "NAME\n",
      "    nltk.stem.wordnet\n",
      "\n",
      "FILE\n",
      "    /Users/mrgholt/anaconda/lib/python2.7/site-packages/nltk/stem/wordnet.py\n",
      "\n",
      "DESCRIPTION\n",
      "    # Natural Language Toolkit: WordNet stemmer interface\n",
      "    #\n",
      "    # Copyright (C) 2001-2015 NLTK Project\n",
      "    # Author: Steven Bird <stevenbird1@gmail.com>\n",
      "    #         Edward Loper <edloper@gmail.com>\n",
      "    # URL: <http://nltk.org/>\n",
      "    # For license information, see LICENSE.TXT\n",
      "\n",
      "CLASSES\n",
      "    __builtin__.object\n",
      "        WordNetLemmatizer\n",
      "    \n",
      "    class WordNetLemmatizer(__builtin__.object)\n",
      "     |  WordNet Lemmatizer\n",
      "     |  \n",
      "     |  Lemmatize using WordNet's built-in morphy function.\n",
      "     |  Returns the input word unchanged if it cannot be found in WordNet.\n",
      "     |  \n",
      "     |      >>> from nltk.stem import WordNetLemmatizer\n",
      "     |      >>> wnl = WordNetLemmatizer()\n",
      "     |      >>> print(wnl.lemmatize('dogs'))\n",
      "     |      dog\n",
      "     |      >>> print(wnl.lemmatize('churches'))\n",
      "     |      church\n",
      "     |      >>> print(wnl.lemmatize('aardwolves'))\n",
      "     |      aardwolf\n",
      "     |      >>> print(wnl.lemmatize('abaci'))\n",
      "     |      abacus\n",
      "     |      >>> print(wnl.lemmatize('hardrock'))\n",
      "     |      hardrock\n",
      "     |  \n",
      "     |  Methods defined here:\n",
      "     |  \n",
      "     |  __init__(self)\n",
      "     |  \n",
      "     |  __repr__(self)\n",
      "     |  \n",
      "     |  __str__(self)\n",
      "     |      x.__str__() <==> str(x)\n",
      "     |  \n",
      "     |  __unicode__ = __str__(...)\n",
      "     |      x.__str__() <==> str(x)\n",
      "     |  \n",
      "     |  lemmatize(self, word, pos=u'n')\n",
      "     |  \n",
      "     |  unicode_repr = __repr__(self)\n",
      "     |  \n",
      "     |  ----------------------------------------------------------------------\n",
      "     |  Data descriptors defined here:\n",
      "     |  \n",
      "     |  __dict__\n",
      "     |      dictionary for instance variables (if defined)\n",
      "     |  \n",
      "     |  __weakref__\n",
      "     |      list of weak references to the object (if defined)\n",
      "\n",
      "FUNCTIONS\n",
      "    teardown_module(module=None)\n",
      "        # unload wordnet\n",
      "\n",
      "DATA\n",
      "    NOUN = u'n'\n",
      "    unicode_literals = _Feature((2, 6, 0, 'alpha', 2), (3, 0, 0, 'alpha', ...\n",
      "    wordnet = <WordNetCorpusReader in u'/Users/mrgholt/nltk_data/corpora/w...\n",
      "\n",
      "\n"
     ]
    }
   ],
   "source": [
    "help (nltk.stem.wordnet)"
   ]
  },
  {
   "cell_type": "markdown",
   "metadata": {},
   "source": [
    "---\n",
    "Part Of Speech (POS)\n",
    "=====\n",
    "***"
   ]
  },
  {
   "cell_type": "code",
   "execution_count": 60,
   "metadata": {
    "collapsed": false
   },
   "outputs": [
    {
     "name": "stdout",
     "output_type": "stream",
     "text": [
      "79\n",
      "[('I', 'PRP'), (\"'m\", 'VBP'), ('going', 'VBG'), ('to', 'TO'), ('quote', 'VB'), ('from', 'IN'), ('a', 'DT'), ('book', 'NN'), (':', ':'), (\"'Throughout\", 'IN'), ('his', 'PRP$'), ('career', 'NN'), ('the', 'DT'), ('visual', 'JJ'), ('arts', 'NNS'), ('were', 'VBD'), ('to', 'TO'), ('exert', 'VB'), ('a', 'DT'), ('strong', 'JJ'), ('influence', 'NN'), ('on', 'IN'), ('Herge', 'NNP'), ('.', '.'), ('Although', 'NNP'), ('he', 'PRP'), ('did', 'VBD'), ('not', 'RB'), ('rise', 'VB'), ('to', 'TO'), ('his', 'PRP$'), ('parents', 'NNS'), (\"'\", 'POS'), ('suggestion', 'NN'), ('of', 'IN'), ('formal', 'JJ'), ('training', 'NN'), ('-', ':'), ('he', 'PRP'), ('dropped', 'VBD'), ('out', 'RP'), ('of', 'IN'), ('drawing', 'NN'), ('lessons', 'NNS'), ('for', 'IN'), ('which', 'WDT'), ('they', 'PRP'), ('had', 'VBD'), ('enrolled', 'VBN'), ('him', 'PRP'), ('-', ':'), ('he', 'PRP'), ('was', 'VBD'), ('always', 'RB'), ('thoroughly', 'RB'), ('well', 'RB'), ('versed', 'VBN'), ('in', 'IN'), ('the', 'DT'), ('latest', 'JJS'), ('as', 'IN'), ('well', 'RB'), ('as', 'IN'), ('past', 'JJ'), ('developments', 'NNS'), ('in', 'IN'), ('art', 'NN'), ('.', '.'), (\"'\", \"''\"), ('From', 'NNP'), ('Tintin', 'NNP'), ('The', 'NNP'), ('Complete', 'NNP'), ('Companion', 'NNP'), ('by', 'IN'), ('Michael', 'NNP'), ('Farr', 'NNP'), (',', ','), ('2001', 'CD')]\n"
     ]
    }
   ],
   "source": [
    "nltk_tokens = nltk.word_tokenize(my_text)\n",
    "tag_list = nltk.pos_tag(nltk_tokens)\n",
    "print len(tag_list)\n",
    "print tag_list"
   ]
  },
  {
   "cell_type": "code",
   "execution_count": 57,
   "metadata": {
    "collapsed": false
   },
   "outputs": [
    {
     "name": "stdout",
     "output_type": "stream",
     "text": [
      "PRP: pronoun, personal\n",
      "    hers herself him himself hisself it itself me myself one oneself ours\n",
      "    ourselves ownself self she thee theirs them themselves they thou thy us\n",
      "VBP: verb, present tense, not 3rd person singular\n",
      "    predominate wrap resort sue twist spill cure lengthen brush terminate\n",
      "    appear tend stray glisten obtain comprise detest tease attract\n",
      "    emphasize mold postpone sever return wag ...\n",
      "VBG: verb, present participle or gerund\n",
      "    telegraphing stirring focusing angering judging stalling lactating\n",
      "    hankerin' alleging veering capping approaching traveling besieging\n",
      "    encrypting interrupting erasing wincing ...\n",
      "TO: \"to\" as preposition or infinitive marker\n",
      "    to\n",
      "VB: verb, base form\n",
      "    ask assemble assess assign assume atone attention avoid bake balkanize\n",
      "    bank begin behold believe bend benefit bevel beware bless boil bomb\n",
      "    boost brace break bring broil brush build ...\n",
      "IN: preposition or conjunction, subordinating\n",
      "    astride among uppon whether out inside pro despite on by throughout\n",
      "    below within for towards near behind atop around if like until below\n",
      "    next into if beside ...\n",
      "DT: determiner\n",
      "    all an another any both del each either every half la many much nary\n",
      "    neither no some such that the them these this those\n",
      "NN: noun, common, singular or mass\n",
      "    common-carrier cabbage knuckle-duster Casino afghan shed thermostat\n",
      "    investment slide humour falloff slick wind hyena override subhumanity\n",
      "    machinist ...\n",
      ":: colon or ellipsis\n",
      "    : ; ...\n",
      "IN: preposition or conjunction, subordinating\n",
      "    astride among uppon whether out inside pro despite on by throughout\n",
      "    below within for towards near behind atop around if like until below\n",
      "    next into if beside ...\n",
      "PRP$: pronoun, possessive\n",
      "    her his mine my our ours their thy your\n",
      "NN: noun, common, singular or mass\n",
      "    common-carrier cabbage knuckle-duster Casino afghan shed thermostat\n",
      "    investment slide humour falloff slick wind hyena override subhumanity\n",
      "    machinist ...\n",
      "DT: determiner\n",
      "    all an another any both del each either every half la many much nary\n",
      "    neither no some such that the them these this those\n",
      "JJ: adjective or numeral, ordinal\n",
      "    third ill-mannered pre-war regrettable oiled calamitous first separable\n",
      "    ectoplasmic battery-powered participatory fourth still-to-be-named\n",
      "    multilingual multi-disciplinary ...\n",
      "NNS: noun, common, plural\n",
      "    undergraduates scotches bric-a-brac products bodyguards facets coasts\n",
      "    divestitures storehouses designs clubs fragrances averages\n",
      "    subjectivists apprehensions muses factory-jobs ...\n",
      "VBD: verb, past tense\n",
      "    dipped pleaded swiped regummed soaked tidied convened halted registered\n",
      "    cushioned exacted snubbed strode aimed adopted belied figgered\n",
      "    speculated wore appreciated contemplated ...\n",
      "TO: \"to\" as preposition or infinitive marker\n",
      "    to\n",
      "VB: verb, base form\n",
      "    ask assemble assess assign assume atone attention avoid bake balkanize\n",
      "    bank begin behold believe bend benefit bevel beware bless boil bomb\n",
      "    boost brace break bring broil brush build ...\n",
      "DT: determiner\n",
      "    all an another any both del each either every half la many much nary\n",
      "    neither no some such that the them these this those\n",
      "JJ: adjective or numeral, ordinal\n",
      "    third ill-mannered pre-war regrettable oiled calamitous first separable\n",
      "    ectoplasmic battery-powered participatory fourth still-to-be-named\n",
      "    multilingual multi-disciplinary ...\n",
      "NN: noun, common, singular or mass\n",
      "    common-carrier cabbage knuckle-duster Casino afghan shed thermostat\n",
      "    investment slide humour falloff slick wind hyena override subhumanity\n",
      "    machinist ...\n",
      "IN: preposition or conjunction, subordinating\n",
      "    astride among uppon whether out inside pro despite on by throughout\n",
      "    below within for towards near behind atop around if like until below\n",
      "    next into if beside ...\n",
      "NNP: noun, proper, singular\n",
      "    Motown Venneboerger Czestochwa Ranzer Conchita Trumplane Christos\n",
      "    Oceanside Escobar Kreisler Sawyer Cougar Yvette Ervin ODI Darryl CTCA\n",
      "    Shannon A.K.C. Meltex Liverpool ...\n",
      ".: sentence terminator\n",
      "    . ! ?\n",
      "NNP: noun, proper, singular\n",
      "    Motown Venneboerger Czestochwa Ranzer Conchita Trumplane Christos\n",
      "    Oceanside Escobar Kreisler Sawyer Cougar Yvette Ervin ODI Darryl CTCA\n",
      "    Shannon A.K.C. Meltex Liverpool ...\n",
      "PRP: pronoun, personal\n",
      "    hers herself him himself hisself it itself me myself one oneself ours\n",
      "    ourselves ownself self she thee theirs them themselves they thou thy us\n",
      "VBD: verb, past tense\n",
      "    dipped pleaded swiped regummed soaked tidied convened halted registered\n",
      "    cushioned exacted snubbed strode aimed adopted belied figgered\n",
      "    speculated wore appreciated contemplated ...\n",
      "RB: adverb\n",
      "    occasionally unabatingly maddeningly adventurously professedly\n",
      "    stirringly prominently technologically magisterially predominately\n",
      "    swiftly fiscally pitilessly ...\n",
      "VB: verb, base form\n",
      "    ask assemble assess assign assume atone attention avoid bake balkanize\n",
      "    bank begin behold believe bend benefit bevel beware bless boil bomb\n",
      "    boost brace break bring broil brush build ...\n",
      "TO: \"to\" as preposition or infinitive marker\n",
      "    to\n",
      "PRP$: pronoun, possessive\n",
      "    her his mine my our ours their thy your\n",
      "NNS: noun, common, plural\n",
      "    undergraduates scotches bric-a-brac products bodyguards facets coasts\n",
      "    divestitures storehouses designs clubs fragrances averages\n",
      "    subjectivists apprehensions muses factory-jobs ...\n",
      "POS: genitive marker\n",
      "    ' 's\n",
      "NN: noun, common, singular or mass\n",
      "    common-carrier cabbage knuckle-duster Casino afghan shed thermostat\n",
      "    investment slide humour falloff slick wind hyena override subhumanity\n",
      "    machinist ...\n",
      "IN: preposition or conjunction, subordinating\n",
      "    astride among uppon whether out inside pro despite on by throughout\n",
      "    below within for towards near behind atop around if like until below\n",
      "    next into if beside ...\n",
      "JJ: adjective or numeral, ordinal\n",
      "    third ill-mannered pre-war regrettable oiled calamitous first separable\n",
      "    ectoplasmic battery-powered participatory fourth still-to-be-named\n",
      "    multilingual multi-disciplinary ...\n",
      "NN: noun, common, singular or mass\n",
      "    common-carrier cabbage knuckle-duster Casino afghan shed thermostat\n",
      "    investment slide humour falloff slick wind hyena override subhumanity\n",
      "    machinist ...\n",
      ":: colon or ellipsis\n",
      "    : ; ...\n",
      "PRP: pronoun, personal\n",
      "    hers herself him himself hisself it itself me myself one oneself ours\n",
      "    ourselves ownself self she thee theirs them themselves they thou thy us\n",
      "VBD: verb, past tense\n",
      "    dipped pleaded swiped regummed soaked tidied convened halted registered\n",
      "    cushioned exacted snubbed strode aimed adopted belied figgered\n",
      "    speculated wore appreciated contemplated ...\n",
      "RP: particle\n",
      "    aboard about across along apart around aside at away back before behind\n",
      "    by crop down ever fast for forth from go high i.e. in into just later\n",
      "    low more off on open out over per pie raising start teeth that through\n",
      "    under unto up up-pp upon whole with you\n",
      "IN: preposition or conjunction, subordinating\n",
      "    astride among uppon whether out inside pro despite on by throughout\n",
      "    below within for towards near behind atop around if like until below\n",
      "    next into if beside ...\n",
      "NN: noun, common, singular or mass\n",
      "    common-carrier cabbage knuckle-duster Casino afghan shed thermostat\n",
      "    investment slide humour falloff slick wind hyena override subhumanity\n",
      "    machinist ...\n",
      "NNS: noun, common, plural\n",
      "    undergraduates scotches bric-a-brac products bodyguards facets coasts\n",
      "    divestitures storehouses designs clubs fragrances averages\n",
      "    subjectivists apprehensions muses factory-jobs ...\n",
      "IN: preposition or conjunction, subordinating\n",
      "    astride among uppon whether out inside pro despite on by throughout\n",
      "    below within for towards near behind atop around if like until below\n",
      "    next into if beside ...\n",
      "WDT: WH-determiner\n",
      "    that what whatever which whichever\n",
      "PRP: pronoun, personal\n",
      "    hers herself him himself hisself it itself me myself one oneself ours\n",
      "    ourselves ownself self she thee theirs them themselves they thou thy us\n",
      "VBD: verb, past tense\n",
      "    dipped pleaded swiped regummed soaked tidied convened halted registered\n",
      "    cushioned exacted snubbed strode aimed adopted belied figgered\n",
      "    speculated wore appreciated contemplated ...\n",
      "VBN: verb, past participle\n",
      "    multihulled dilapidated aerosolized chaired languished panelized used\n",
      "    experimented flourished imitated reunifed factored condensed sheared\n",
      "    unsettled primed dubbed desired ...\n",
      "PRP: pronoun, personal\n",
      "    hers herself him himself hisself it itself me myself one oneself ours\n",
      "    ourselves ownself self she thee theirs them themselves they thou thy us\n",
      ":: colon or ellipsis\n",
      "    : ; ...\n",
      "PRP: pronoun, personal\n",
      "    hers herself him himself hisself it itself me myself one oneself ours\n",
      "    ourselves ownself self she thee theirs them themselves they thou thy us\n",
      "VBD: verb, past tense\n",
      "    dipped pleaded swiped regummed soaked tidied convened halted registered\n",
      "    cushioned exacted snubbed strode aimed adopted belied figgered\n",
      "    speculated wore appreciated contemplated ...\n",
      "RB: adverb\n",
      "    occasionally unabatingly maddeningly adventurously professedly\n",
      "    stirringly prominently technologically magisterially predominately\n",
      "    swiftly fiscally pitilessly ...\n",
      "RB: adverb\n",
      "    occasionally unabatingly maddeningly adventurously professedly\n",
      "    stirringly prominently technologically magisterially predominately\n",
      "    swiftly fiscally pitilessly ...\n",
      "RB: adverb\n",
      "    occasionally unabatingly maddeningly adventurously professedly\n",
      "    stirringly prominently technologically magisterially predominately\n",
      "    swiftly fiscally pitilessly ...\n",
      "VBN: verb, past participle\n",
      "    multihulled dilapidated aerosolized chaired languished panelized used\n",
      "    experimented flourished imitated reunifed factored condensed sheared\n",
      "    unsettled primed dubbed desired ...\n",
      "IN: preposition or conjunction, subordinating\n",
      "    astride among uppon whether out inside pro despite on by throughout\n",
      "    below within for towards near behind atop around if like until below\n",
      "    next into if beside ...\n",
      "DT: determiner\n",
      "    all an another any both del each either every half la many much nary\n",
      "    neither no some such that the them these this those\n",
      "JJS: adjective, superlative\n",
      "    calmest cheapest choicest classiest cleanest clearest closest commonest\n",
      "    corniest costliest crassest creepiest crudest cutest darkest deadliest\n",
      "    dearest deepest densest dinkiest ...\n",
      "IN: preposition or conjunction, subordinating\n",
      "    astride among uppon whether out inside pro despite on by throughout\n",
      "    below within for towards near behind atop around if like until below\n",
      "    next into if beside ...\n",
      "RB: adverb\n",
      "    occasionally unabatingly maddeningly adventurously professedly\n",
      "    stirringly prominently technologically magisterially predominately\n",
      "    swiftly fiscally pitilessly ...\n",
      "IN: preposition or conjunction, subordinating\n",
      "    astride among uppon whether out inside pro despite on by throughout\n",
      "    below within for towards near behind atop around if like until below\n",
      "    next into if beside ...\n",
      "JJ: adjective or numeral, ordinal\n",
      "    third ill-mannered pre-war regrettable oiled calamitous first separable\n",
      "    ectoplasmic battery-powered participatory fourth still-to-be-named\n",
      "    multilingual multi-disciplinary ...\n",
      "NNS: noun, common, plural\n",
      "    undergraduates scotches bric-a-brac products bodyguards facets coasts\n",
      "    divestitures storehouses designs clubs fragrances averages\n",
      "    subjectivists apprehensions muses factory-jobs ...\n",
      "IN: preposition or conjunction, subordinating\n",
      "    astride among uppon whether out inside pro despite on by throughout\n",
      "    below within for towards near behind atop around if like until below\n",
      "    next into if beside ...\n",
      "NN: noun, common, singular or mass\n",
      "    common-carrier cabbage knuckle-duster Casino afghan shed thermostat\n",
      "    investment slide humour falloff slick wind hyena override subhumanity\n",
      "    machinist ...\n",
      ".: sentence terminator\n",
      "    . ! ?\n",
      "'': closing quotation mark\n",
      "    ' ''\n",
      "NNP: noun, proper, singular\n",
      "    Motown Venneboerger Czestochwa Ranzer Conchita Trumplane Christos\n",
      "    Oceanside Escobar Kreisler Sawyer Cougar Yvette Ervin ODI Darryl CTCA\n",
      "    Shannon A.K.C. Meltex Liverpool ...\n",
      "NNP: noun, proper, singular\n",
      "    Motown Venneboerger Czestochwa Ranzer Conchita Trumplane Christos\n",
      "    Oceanside Escobar Kreisler Sawyer Cougar Yvette Ervin ODI Darryl CTCA\n",
      "    Shannon A.K.C. Meltex Liverpool ...\n",
      "NNP: noun, proper, singular\n",
      "    Motown Venneboerger Czestochwa Ranzer Conchita Trumplane Christos\n",
      "    Oceanside Escobar Kreisler Sawyer Cougar Yvette Ervin ODI Darryl CTCA\n",
      "    Shannon A.K.C. Meltex Liverpool ...\n",
      "NNP: noun, proper, singular\n",
      "    Motown Venneboerger Czestochwa Ranzer Conchita Trumplane Christos\n",
      "    Oceanside Escobar Kreisler Sawyer Cougar Yvette Ervin ODI Darryl CTCA\n",
      "    Shannon A.K.C. Meltex Liverpool ...\n",
      "NNP: noun, proper, singular\n",
      "    Motown Venneboerger Czestochwa Ranzer Conchita Trumplane Christos\n",
      "    Oceanside Escobar Kreisler Sawyer Cougar Yvette Ervin ODI Darryl CTCA\n",
      "    Shannon A.K.C. Meltex Liverpool ...\n",
      "IN: preposition or conjunction, subordinating\n",
      "    astride among uppon whether out inside pro despite on by throughout\n",
      "    below within for towards near behind atop around if like until below\n",
      "    next into if beside ...\n",
      "NNP: noun, proper, singular\n",
      "    Motown Venneboerger Czestochwa Ranzer Conchita Trumplane Christos\n",
      "    Oceanside Escobar Kreisler Sawyer Cougar Yvette Ervin ODI Darryl CTCA\n",
      "    Shannon A.K.C. Meltex Liverpool ...\n",
      "NNP: noun, proper, singular\n",
      "    Motown Venneboerger Czestochwa Ranzer Conchita Trumplane Christos\n",
      "    Oceanside Escobar Kreisler Sawyer Cougar Yvette Ervin ODI Darryl CTCA\n",
      "    Shannon A.K.C. Meltex Liverpool ...\n",
      ",: comma\n",
      "    ,\n",
      "CD: numeral, cardinal\n",
      "    mid-1890 nine-thirty forty-two one-tenth ten million 0.5 one forty-\n",
      "    seven 1987 twenty '79 zero two 78-degrees eighty-four IX '60s .025\n",
      "    fifteen 271,124 dozen quintillion DM2,000 ...\n"
     ]
    }
   ],
   "source": [
    "for p in tag_list:\n",
    "    nltk.help.upenn_tagset(p[1])"
   ]
  },
  {
   "cell_type": "markdown",
   "metadata": {},
   "source": [
    "---\n",
    "Chunking\n",
    "=====\n",
    "***"
   ]
  },
  {
   "cell_type": "code",
   "execution_count": 58,
   "metadata": {
    "collapsed": false
   },
   "outputs": [
    {
     "name": "stdout",
     "output_type": "stream",
     "text": [
      "Help on function ne_chunk in module nltk.chunk:\n",
      "\n",
      "ne_chunk(tagged_tokens, binary=False)\n",
      "    Use NLTK's currently recommended named entity chunker to\n",
      "    chunk the given list of tagged tokens.\n",
      "\n"
     ]
    }
   ],
   "source": [
    "help(nltk.ne_chunk)"
   ]
  },
  {
   "cell_type": "code",
   "execution_count": 59,
   "metadata": {
    "collapsed": false
   },
   "outputs": [
    {
     "name": "stdout",
     "output_type": "stream",
     "text": [
      "78\n",
      "('I', 'PRP') (\"'m\", 'VBP') ('going', 'VBG') ('to', 'TO') ('quote', 'VB') ('from', 'IN') ('a', 'DT') ('book', 'NN') (':', ':') (\"'Throughout\", 'IN') ('his', 'PRP$') ('career', 'NN') ('the', 'DT') ('visual', 'JJ') ('arts', 'NNS') ('were', 'VBD') ('to', 'TO') ('exert', 'VB') ('a', 'DT') ('strong', 'JJ') ('influence', 'NN') ('on', 'IN') (PERSON Herge/NNP) ('.', '.') ('Although', 'NNP') ('he', 'PRP') ('did', 'VBD') ('not', 'RB') ('rise', 'VB') ('to', 'TO') ('his', 'PRP$') ('parents', 'NNS') (\"'\", 'POS') ('suggestion', 'NN') ('of', 'IN') ('formal', 'JJ') ('training', 'NN') ('-', ':') ('he', 'PRP') ('dropped', 'VBD') ('out', 'RP') ('of', 'IN') ('drawing', 'NN') ('lessons', 'NNS') ('for', 'IN') ('which', 'WDT') ('they', 'PRP') ('had', 'VBD') ('enrolled', 'VBN') ('him', 'PRP') ('-', ':') ('he', 'PRP') ('was', 'VBD') ('always', 'RB') ('thoroughly', 'RB') ('well', 'RB') ('versed', 'VBN') ('in', 'IN') ('the', 'DT') ('latest', 'JJS') ('as', 'IN') ('well', 'RB') ('as', 'IN') ('past', 'JJ') ('developments', 'NNS') ('in', 'IN') ('art', 'NN') ('.', '.') (\"'\", \"''\") ('From', 'NNP') ('Tintin', 'NNP') ('The', 'NNP') (ORGANIZATION Complete/NNP) ('Companion', 'NNP') ('by', 'IN') (PERSON Michael/NNP Farr/NNP) (',', ',') ('2001', 'CD')\n"
     ]
    }
   ],
   "source": [
    "ner_list = nltk.ne_chunk(tag_list)\n",
    "print len(ner_list)\n",
    "for i in xrange(len(ner_list)):\n",
    "    print ner_list[i],"
   ]
  },
  {
   "cell_type": "markdown",
   "metadata": {},
   "source": [
    "---\n",
    "Stop Words\n",
    "=====\n",
    "***"
   ]
  },
  {
   "cell_type": "code",
   "execution_count": 45,
   "metadata": {
    "collapsed": false
   },
   "outputs": [
    {
     "name": "stdout",
     "output_type": "stream",
     "text": [
      "frozenset(['all', 'six', 'less', 'being', 'indeed', 'over', 'move', 'anyway', 'four', 'not', 'own', 'through', 'yourselves', 'fify', 'where', 'mill', 'only', 'find', 'before', 'one', 'whose', 'system', 'how', 'somewhere', 'with', 'thick', 'show', 'had', 'enough', 'should', 'to', 'must', 'whom', 'seeming', 'under', 'ours', 'has', 'might', 'thereafter', 'latterly', 'do', 'them', 'his', 'around', 'than', 'get', 'very', 'de', 'none', 'cannot', 'every', 'whether', 'they', 'front', 'during', 'thus', 'now', 'him', 'nor', 'name', 'several', 'hereafter', 'always', 'who', 'cry', 'whither', 'this', 'someone', 'either', 'each', 'become', 'thereupon', 'sometime', 'side', 'two', 'therein', 'twelve', 'because', 'often', 'ten', 'our', 'eg', 'some', 'back', 'up', 'go', 'namely', 'towards', 'are', 'further', 'beyond', 'ourselves', 'yet', 'out', 'even', 'will', 'what', 'still', 'for', 'bottom', 'mine', 'since', 'please', 'forty', 'per', 'its', 'everything', 'behind', 'un', 'above', 'between', 'it', 'neither', 'seemed', 'ever', 'across', 'she', 'somehow', 'be', 'we', 'full', 'never', 'sixty', 'however', 'here', 'otherwise', 'were', 'whereupon', 'nowhere', 'although', 'found', 'alone', 're', 'along', 'fifteen', 'by', 'both', 'about', 'last', 'would', 'anything', 'via', 'many', 'could', 'thence', 'put', 'against', 'keep', 'etc', 'amount', 'became', 'ltd', 'hence', 'onto', 'or', 'con', 'among', 'already', 'co', 'afterwards', 'formerly', 'within', 'seems', 'into', 'others', 'while', 'whatever', 'except', 'down', 'hers', 'everyone', 'done', 'least', 'another', 'whoever', 'moreover', 'couldnt', 'throughout', 'anyhow', 'yourself', 'three', 'from', 'her', 'few', 'together', 'top', 'there', 'due', 'been', 'next', 'anyone', 'eleven', 'much', 'call', 'therefore', 'interest', 'then', 'thru', 'themselves', 'hundred', 'was', 'sincere', 'empty', 'more', 'himself', 'elsewhere', 'mostly', 'on', 'fire', 'am', 'becoming', 'hereby', 'amongst', 'else', 'part', 'everywhere', 'too', 'herself', 'former', 'those', 'he', 'me', 'myself', 'made', 'twenty', 'these', 'bill', 'cant', 'us', 'until', 'besides', 'nevertheless', 'below', 'anywhere', 'nine', 'can', 'of', 'your', 'toward', 'my', 'something', 'and', 'whereafter', 'whenever', 'give', 'almost', 'wherever', 'is', 'describe', 'beforehand', 'herein', 'an', 'as', 'itself', 'at', 'have', 'in', 'seem', 'whence', 'ie', 'any', 'fill', 'again', 'hasnt', 'inc', 'thereby', 'thin', 'no', 'perhaps', 'latter', 'meanwhile', 'when', 'detail', 'same', 'wherein', 'beside', 'also', 'that', 'other', 'take', 'which', 'becomes', 'you', 'if', 'nobody', 'see', 'though', 'may', 'after', 'upon', 'most', 'hereupon', 'eight', 'but', 'serious', 'nothing', 'such', 'why', 'a', 'off', 'whereby', 'third', 'i', 'whole', 'noone', 'sometimes', 'well', 'amoungst', 'yours', 'their', 'rather', 'without', 'so', 'five', 'the', 'first', 'whereas', 'once'])\n"
     ]
    }
   ],
   "source": [
    "print text.ENGLISH_STOP_WORDS"
   ]
  },
  {
   "cell_type": "code",
   "execution_count": 61,
   "metadata": {
    "collapsed": false
   },
   "outputs": [
    {
     "name": "stdout",
     "output_type": "stream",
     "text": [
      "{ 2001 }   { art }   { arts }   { book }   { career }   { companion }   { complete }   { developments }   { did }   { drawing }   { dropped }   { enrolled }   { exert }   { farr }   { formal }   { going }   { herge }   { influence }   { latest }   { lessons }   { michael }   { parents }   { past }   { quote }   { rise }   { strong }   { suggestion }   { thoroughly }   { tintin }   { training }   { versed }   { visual }  \n"
     ]
    }
   ],
   "source": [
    "myV = CountVectorizer(stop_words = text.ENGLISH_STOP_WORDS)\n",
    "myV.fit_transform([my_text])\n",
    "for fname in xrange(len(myV.get_feature_names())):\n",
    "    print \"{\",myV.get_feature_names()[fname],\"}\",\" \","
   ]
  }
 ],
 "metadata": {
  "kernelspec": {
   "display_name": "Python 2",
   "language": "python",
   "name": "python2"
  },
  "language_info": {
   "codemirror_mode": {
    "name": "ipython",
    "version": 2
   },
   "file_extension": ".py",
   "mimetype": "text/x-python",
   "name": "python",
   "nbconvert_exporter": "python",
   "pygments_lexer": "ipython2",
   "version": "2.7.10"
  }
 },
 "nbformat": 4,
 "nbformat_minor": 0
}
