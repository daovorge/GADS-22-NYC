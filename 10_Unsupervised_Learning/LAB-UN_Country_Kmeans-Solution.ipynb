{
 "cells": [
  {
   "cell_type": "code",
   "execution_count": 1,
   "metadata": {
    "collapsed": true
   },
   "outputs": [],
   "source": [
    "import numpy as np\n",
    "import pandas as pd\n",
    "import matplotlib.pyplot as plt\n",
    "%matplotlib inline\n",
    "import matplotlib as mpl\n",
    "mpl.style.use('ggplot')\n",
    "from sklearn.datasets import make_blobs\n",
    "from sklearn.cluster import KMeans\n",
    "from sklearn.decomposition import PCA\n",
    "from sklearn import preprocessing"
   ]
  },
  {
   "cell_type": "markdown",
   "metadata": {},
   "source": [
    "---\n",
    "#UN Country Dataset Revisited\n",
    "---"
   ]
  },
  {
   "cell_type": "code",
   "execution_count": 2,
   "metadata": {
    "collapsed": true
   },
   "outputs": [],
   "source": [
    "df = pd.read_csv(\"https://raw.githubusercontent.com/TeachingDataScience\\\n",
    "/data-science-course/forstudentviewing/15_kmeans/un.csv\")"
   ]
  },
  {
   "cell_type": "code",
   "execution_count": 3,
   "metadata": {
    "collapsed": false
   },
   "outputs": [
    {
     "name": "stdout",
     "output_type": "stream",
     "text": [
      "<class 'pandas.core.frame.DataFrame'>\n",
      "Int64Index: 207 entries, 0 to 206\n",
      "Data columns (total 14 columns):\n",
      "country                   207 non-null object\n",
      "region                    207 non-null object\n",
      "tfr                       197 non-null float64\n",
      "contraception             144 non-null float64\n",
      "educationMale             76 non-null float64\n",
      "educationFemale           76 non-null float64\n",
      "lifeMale                  196 non-null float64\n",
      "lifeFemale                196 non-null float64\n",
      "infantMortality           201 non-null float64\n",
      "GDPperCapita              197 non-null float64\n",
      "economicActivityMale      165 non-null float64\n",
      "economicActivityFemale    165 non-null float64\n",
      "illiteracyMale            160 non-null float64\n",
      "illiteracyFemale          160 non-null float64\n",
      "dtypes: float64(12), object(2)\n",
      "memory usage: 24.3+ KB\n"
     ]
    }
   ],
   "source": [
    "df.info()"
   ]
  },
  {
   "cell_type": "code",
   "execution_count": 4,
   "metadata": {
    "collapsed": false
   },
   "outputs": [],
   "source": [
    "#df.info"
   ]
  },
  {
   "cell_type": "code",
   "execution_count": 5,
   "metadata": {
    "collapsed": false
   },
   "outputs": [],
   "source": [
    "focus = ['lifeMale', 'lifeFemale','infantMortality','GDPperCapita']\n",
    "cfocus = ['country', 'lifeMale', 'lifeFemale','infantMortality','GDPperCapita']\n",
    "df_focus = df[focus]\n",
    "df_cfocus = df[cfocus]"
   ]
  },
  {
   "cell_type": "code",
   "execution_count": 6,
   "metadata": {
    "collapsed": false
   },
   "outputs": [
    {
     "name": "stdout",
     "output_type": "stream",
     "text": [
      "<class 'pandas.core.frame.DataFrame'>\n",
      "Int64Index: 207 entries, 0 to 206\n",
      "Data columns (total 5 columns):\n",
      "country            207 non-null object\n",
      "lifeMale           196 non-null float64\n",
      "lifeFemale         196 non-null float64\n",
      "infantMortality    201 non-null float64\n",
      "GDPperCapita       197 non-null float64\n",
      "dtypes: float64(4), object(1)\n",
      "memory usage: 9.7+ KB\n"
     ]
    }
   ],
   "source": [
    "df_cfocus.info()"
   ]
  },
  {
   "cell_type": "code",
   "execution_count": 7,
   "metadata": {
    "collapsed": true
   },
   "outputs": [],
   "source": [
    "df_cfocus_clean = df_cfocus.dropna()"
   ]
  },
  {
   "cell_type": "code",
   "execution_count": 8,
   "metadata": {
    "collapsed": false
   },
   "outputs": [],
   "source": [
    "df_cfocus_clean = df_cfocus_clean.reset_index()"
   ]
  },
  {
   "cell_type": "code",
   "execution_count": 9,
   "metadata": {
    "collapsed": false
   },
   "outputs": [],
   "source": [
    "df_cfocus_clean = df_cfocus_clean.drop('index', 1)"
   ]
  },
  {
   "cell_type": "code",
   "execution_count": 10,
   "metadata": {
    "collapsed": false
   },
   "outputs": [
    {
     "data": {
      "text/html": [
       "<div style=\"max-height:1000px;max-width:1500px;overflow:auto;\">\n",
       "<table border=\"1\" class=\"dataframe\">\n",
       "  <thead>\n",
       "    <tr style=\"text-align: right;\">\n",
       "      <th></th>\n",
       "      <th>country</th>\n",
       "      <th>lifeMale</th>\n",
       "      <th>lifeFemale</th>\n",
       "      <th>infantMortality</th>\n",
       "      <th>GDPperCapita</th>\n",
       "    </tr>\n",
       "  </thead>\n",
       "  <tbody>\n",
       "    <tr>\n",
       "      <th>0</th>\n",
       "      <td> Afghanistan</td>\n",
       "      <td> 45.0</td>\n",
       "      <td> 46.0</td>\n",
       "      <td> 154</td>\n",
       "      <td> 2848</td>\n",
       "    </tr>\n",
       "    <tr>\n",
       "      <th>1</th>\n",
       "      <td>     Albania</td>\n",
       "      <td> 68.0</td>\n",
       "      <td> 74.0</td>\n",
       "      <td>  32</td>\n",
       "      <td>  863</td>\n",
       "    </tr>\n",
       "    <tr>\n",
       "      <th>2</th>\n",
       "      <td>     Algeria</td>\n",
       "      <td> 67.5</td>\n",
       "      <td> 70.3</td>\n",
       "      <td>  44</td>\n",
       "      <td> 1531</td>\n",
       "    </tr>\n",
       "    <tr>\n",
       "      <th>3</th>\n",
       "      <td>      Angola</td>\n",
       "      <td> 44.9</td>\n",
       "      <td> 48.1</td>\n",
       "      <td> 124</td>\n",
       "      <td>  355</td>\n",
       "    </tr>\n",
       "    <tr>\n",
       "      <th>4</th>\n",
       "      <td>   Argentina</td>\n",
       "      <td> 69.6</td>\n",
       "      <td> 76.8</td>\n",
       "      <td>  22</td>\n",
       "      <td> 8055</td>\n",
       "    </tr>\n",
       "  </tbody>\n",
       "</table>\n",
       "</div>"
      ],
      "text/plain": [
       "       country  lifeMale  lifeFemale  infantMortality  GDPperCapita\n",
       "0  Afghanistan      45.0        46.0              154          2848\n",
       "1      Albania      68.0        74.0               32           863\n",
       "2      Algeria      67.5        70.3               44          1531\n",
       "3       Angola      44.9        48.1              124           355\n",
       "4    Argentina      69.6        76.8               22          8055"
      ]
     },
     "execution_count": 10,
     "metadata": {},
     "output_type": "execute_result"
    }
   ],
   "source": [
    "df_cfocus_clean.head(5)"
   ]
  },
  {
   "cell_type": "code",
   "execution_count": 11,
   "metadata": {
    "collapsed": false
   },
   "outputs": [],
   "source": [
    "scaler = preprocessing.StandardScaler(copy=True, with_mean=True, with_std=True).fit(df_cfocus_clean[focus])\n",
    "df_fc_scaled = pd.DataFrame(scaler.transform(df_cfocus_clean[focus]), columns=focus)"
   ]
  },
  {
   "cell_type": "code",
   "execution_count": 12,
   "metadata": {
    "collapsed": false
   },
   "outputs": [],
   "source": [
    "df_cfc_scaled = df_fc_scaled.copy()\n",
    "df_cfc_scaled['country'] = df_cfocus_clean.country"
   ]
  },
  {
   "cell_type": "code",
   "execution_count": 13,
   "metadata": {
    "collapsed": false
   },
   "outputs": [
    {
     "data": {
      "text/html": [
       "<div style=\"max-height:1000px;max-width:1500px;overflow:auto;\">\n",
       "<table border=\"1\" class=\"dataframe\">\n",
       "  <thead>\n",
       "    <tr style=\"text-align: right;\">\n",
       "      <th></th>\n",
       "      <th>lifeMale</th>\n",
       "      <th>lifeFemale</th>\n",
       "      <th>infantMortality</th>\n",
       "      <th>GDPperCapita</th>\n",
       "    </tr>\n",
       "  </thead>\n",
       "  <tbody>\n",
       "    <tr>\n",
       "      <th>0</th>\n",
       "      <td>-1.891557</td>\n",
       "      <td>-2.017900</td>\n",
       "      <td> 2.827583</td>\n",
       "      <td>-0.342114</td>\n",
       "    </tr>\n",
       "    <tr>\n",
       "      <th>1</th>\n",
       "      <td> 0.456800</td>\n",
       "      <td> 0.514759</td>\n",
       "      <td>-0.317284</td>\n",
       "      <td>-0.565310</td>\n",
       "    </tr>\n",
       "    <tr>\n",
       "      <th>2</th>\n",
       "      <td> 0.405749</td>\n",
       "      <td> 0.180086</td>\n",
       "      <td>-0.007953</td>\n",
       "      <td>-0.490199</td>\n",
       "    </tr>\n",
       "    <tr>\n",
       "      <th>3</th>\n",
       "      <td>-1.901767</td>\n",
       "      <td>-1.827951</td>\n",
       "      <td> 2.054255</td>\n",
       "      <td>-0.622430</td>\n",
       "    </tr>\n",
       "    <tr>\n",
       "      <th>4</th>\n",
       "      <td> 0.620164</td>\n",
       "      <td> 0.768025</td>\n",
       "      <td>-0.575060</td>\n",
       "      <td> 0.243369</td>\n",
       "    </tr>\n",
       "  </tbody>\n",
       "</table>\n",
       "</div>"
      ],
      "text/plain": [
       "   lifeMale  lifeFemale  infantMortality  GDPperCapita\n",
       "0 -1.891557   -2.017900         2.827583     -0.342114\n",
       "1  0.456800    0.514759        -0.317284     -0.565310\n",
       "2  0.405749    0.180086        -0.007953     -0.490199\n",
       "3 -1.901767   -1.827951         2.054255     -0.622430\n",
       "4  0.620164    0.768025        -0.575060      0.243369"
      ]
     },
     "execution_count": 13,
     "metadata": {},
     "output_type": "execute_result"
    }
   ],
   "source": [
    "df_fc_scaled.head(5)"
   ]
  },
  {
   "cell_type": "code",
   "execution_count": 14,
   "metadata": {
    "collapsed": false
   },
   "outputs": [
    {
     "data": {
      "text/html": [
       "<div style=\"max-height:1000px;max-width:1500px;overflow:auto;\">\n",
       "<table border=\"1\" class=\"dataframe\">\n",
       "  <thead>\n",
       "    <tr style=\"text-align: right;\">\n",
       "      <th></th>\n",
       "      <th>lifeMale</th>\n",
       "      <th>lifeFemale</th>\n",
       "      <th>infantMortality</th>\n",
       "      <th>GDPperCapita</th>\n",
       "      <th>country</th>\n",
       "    </tr>\n",
       "  </thead>\n",
       "  <tbody>\n",
       "    <tr>\n",
       "      <th>0</th>\n",
       "      <td>-1.891557</td>\n",
       "      <td>-2.017900</td>\n",
       "      <td> 2.827583</td>\n",
       "      <td>-0.342114</td>\n",
       "      <td> Afghanistan</td>\n",
       "    </tr>\n",
       "    <tr>\n",
       "      <th>1</th>\n",
       "      <td> 0.456800</td>\n",
       "      <td> 0.514759</td>\n",
       "      <td>-0.317284</td>\n",
       "      <td>-0.565310</td>\n",
       "      <td>     Albania</td>\n",
       "    </tr>\n",
       "    <tr>\n",
       "      <th>2</th>\n",
       "      <td> 0.405749</td>\n",
       "      <td> 0.180086</td>\n",
       "      <td>-0.007953</td>\n",
       "      <td>-0.490199</td>\n",
       "      <td>     Algeria</td>\n",
       "    </tr>\n",
       "    <tr>\n",
       "      <th>3</th>\n",
       "      <td>-1.901767</td>\n",
       "      <td>-1.827951</td>\n",
       "      <td> 2.054255</td>\n",
       "      <td>-0.622430</td>\n",
       "      <td>      Angola</td>\n",
       "    </tr>\n",
       "    <tr>\n",
       "      <th>4</th>\n",
       "      <td> 0.620164</td>\n",
       "      <td> 0.768025</td>\n",
       "      <td>-0.575060</td>\n",
       "      <td> 0.243369</td>\n",
       "      <td>   Argentina</td>\n",
       "    </tr>\n",
       "  </tbody>\n",
       "</table>\n",
       "</div>"
      ],
      "text/plain": [
       "   lifeMale  lifeFemale  infantMortality  GDPperCapita      country\n",
       "0 -1.891557   -2.017900         2.827583     -0.342114  Afghanistan\n",
       "1  0.456800    0.514759        -0.317284     -0.565310      Albania\n",
       "2  0.405749    0.180086        -0.007953     -0.490199      Algeria\n",
       "3 -1.901767   -1.827951         2.054255     -0.622430       Angola\n",
       "4  0.620164    0.768025        -0.575060      0.243369    Argentina"
      ]
     },
     "execution_count": 14,
     "metadata": {},
     "output_type": "execute_result"
    }
   ],
   "source": [
    "df_cfc_scaled.head(5)"
   ]
  },
  {
   "cell_type": "code",
   "execution_count": 15,
   "metadata": {
    "collapsed": false
   },
   "outputs": [
    {
     "name": "stdout",
     "output_type": "stream",
     "text": [
      "(188, 4)\n"
     ]
    }
   ],
   "source": [
    "X = df_fc_scaled.values\n",
    "print X.shape"
   ]
  },
  {
   "cell_type": "markdown",
   "metadata": {},
   "source": [
    "---\n",
    "##Is there an knee-of-the-curve value for K?\n",
    "---"
   ]
  },
  {
   "cell_type": "code",
   "execution_count": 16,
   "metadata": {
    "collapsed": false
   },
   "outputs": [
    {
     "name": "stdout",
     "output_type": "stream",
     "text": [
      "k is 1, inertia is  752.00\n",
      "k is 2, inertia is  289.78\n",
      "k is 3, inertia is  140.43\n",
      "k is 4, inertia is  100.73\n",
      "k is 5, inertia is  72.73\n",
      "k is 6, inertia is  57.77\n",
      "k is 7, inertia is  49.40\n",
      "k is 8, inertia is  43.64\n",
      "k is 9, inertia is  38.95\n",
      "k is 10, inertia is  34.79\n",
      "k is 11, inertia is  31.64\n",
      "k is 12, inertia is  29.20\n",
      "k is 13, inertia is  27.06\n",
      "k is 14, inertia is  25.61\n",
      "k is 15, inertia is  23.90\n",
      "k is 16, inertia is  22.64\n",
      "k is 17, inertia is  21.38\n",
      "k is 18, inertia is  20.12\n",
      "k is 19, inertia is  18.65\n",
      "k is 20, inertia is  17.96\n"
     ]
    },
    {
     "data": {
      "text/plain": [
       "<matplotlib.text.Text at 0x10cefeb90>"
      ]
     },
     "execution_count": 16,
     "metadata": {},
     "output_type": "execute_result"
    },
    {
     "data": {
      "image/png": "[encoded data removed]",
      "text/plain": [
       "<matplotlib.figure.Figure at 0x108c44610>"
      ]
     },
     "metadata": {},
     "output_type": "display_data"
    }
   ],
   "source": [
    "inertia_list = []\n",
    "k_list = []\n",
    "\n",
    "for k in xrange(1, 21):\n",
    "    \n",
    "    # create a new KMeans object for each value of k\n",
    "    kmeans = KMeans(n_clusters = k, max_iter = 1000, n_init = 100, tol = 1e-6, n_jobs = -1, \\\n",
    "                 random_state=8, verbose=False)\n",
    "    kmeans.fit(X)\n",
    "    \n",
    "    print \"k is {:d}, inertia is  {:5.2f}\".format(k, kmeans.inertia_)\n",
    "    \n",
    "    # inertia: Sum of distances of samples to their closest cluster center\n",
    "    inertia_list.append(kmeans.inertia_) \n",
    "    k_list.append(k)\n",
    "    \n",
    "# plot elbow curve\n",
    "fig = plt.figure(figsize=(8,6))\n",
    "ax = fig.add_subplot(111)\n",
    "ax.plot(k_list, inertia_list, 'b*-')\n",
    "ax.set_xlabel('Number of clusters')\n",
    "ax.set_ylabel('J')\n",
    "ax.set_title('\"Elbow\" for K-Means clustering')  "
   ]
  },
  {
   "cell_type": "markdown",
   "metadata": {},
   "source": [
    "---\n",
    "##Fit the number of clusters you think is ideal - for convenience keep it to 6 or less!\n",
    "---"
   ]
  },
  {
   "cell_type": "code",
   "execution_count": 17,
   "metadata": {
    "collapsed": true
   },
   "outputs": [],
   "source": [
    "k=6\n",
    "km = KMeans(n_clusters = k, max_iter = 1000, n_init = 100, tol = 1e-6, n_jobs = -1, \\\n",
    "                 random_state=8, verbose=False)\n",
    "km.fit(X)\n",
    "c = km.predict(X)\n",
    "myPCA = PCA(n_components = 2).fit(X)\n",
    "X_2d = myPCA.transform(X)"
   ]
  },
  {
   "cell_type": "code",
   "execution_count": 18,
   "metadata": {
    "collapsed": false
   },
   "outputs": [
    {
     "data": {
      "text/plain": [
       "<matplotlib.legend.Legend at 0x111e86c90>"
      ]
     },
     "execution_count": 18,
     "metadata": {},
     "output_type": "execute_result"
    },
    {
     "data": {
      "image/png": "[encoded data removed]",
      "text/plain": [
       "<matplotlib.figure.Figure at 0x1118b6510>"
      ]
     },
     "metadata": {},
     "output_type": "display_data"
    }
   ],
   "source": [
    "color_list = ['red', 'green', 'blue', 'magenta', 'yellow', 'orange']\n",
    "fig = plt.figure(figsize = (7,7))\n",
    "ax = plt.subplot(111)\n",
    "for cc in xrange(k):\n",
    "    label_str = 'Cluster' + str(cc)\n",
    "    ax.scatter(X_2d[c==cc,0], X_2d[c==cc,1], color=color_list[cc%len(color_list)], label=label_str)\n",
    "\n",
    "ax.set_axis_off()\n",
    "ax.set_title('2D Plot of 4D Features - M/F Life Expectancy, Infant Mortality, and, Per-capita GDP')\n",
    "ax.legend(loc='lower left')"
   ]
  },
  {
   "cell_type": "markdown",
   "metadata": {},
   "source": [
    "---\n",
    "##Let's see if we can determine what the clusters mean\n",
    "---"
   ]
  },
  {
   "cell_type": "code",
   "execution_count": 19,
   "metadata": {
    "collapsed": false
   },
   "outputs": [],
   "source": [
    "cdict = {}\n",
    "for cc in xrange(k):\n",
    "    cdict[cc] = []\n",
    "a1 = []\n",
    "a2 = []\n",
    "a3 = []\n",
    "Xc = df_cfc_scaled[focus].values\n",
    "yc = km.predict(Xc)\n",
    "\n",
    "for i in xrange(len(yc)):\n",
    "    for cc in xrange(k):\n",
    "        if yc[i] == cc:\n",
    "            cdict[cc].append(df_cfc_scaled.loc[i].country)\n",
    "        else: \n",
    "            cdict[cc].append('Zkm')\n",
    "\n",
    "for cc in xrange(k):\n",
    "    cdict[cc] = sorted(cdict[cc])"
   ]
  },
  {
   "cell_type": "markdown",
   "metadata": {},
   "source": [
    "---\n",
    "##Let's look at how the countries were clustered\n",
    "---"
   ]
  },
  {
   "cell_type": "code",
   "execution_count": 20,
   "metadata": {
    "collapsed": false
   },
   "outputs": [
    {
     "name": "stdout",
     "output_type": "stream",
     "text": [
      "Cluster 0          Cluster 1          Cluster 2          Cluster 3          Cluster 4          Cluster 5          \n",
      "\n",
      "Algeria            Austria            Afghanistan        Albania            Bangladesh         Australia          \n",
      "\n",
      "Brazil             Belgium            Angola             Argentina          Benin              Bahamas            \n",
      "\n",
      "Cape.Verde         Denmark            Burkina.Faso       Armenia            Bhutan             Bahrain            \n",
      "\n",
      "China              Finland            Burundi            Azerbaijan         Bolivia            Barbados           \n",
      "\n",
      "Ecuador            France             Central.African    Belarus            Botswana           Brunei             \n",
      "\n",
      "Egypt              Germany            Chad               Belize             Cambodia           Canada             \n",
      "\n",
      "El.Salvador        Hong.Kong          Djibouti           Bosnia             Cameroon           Cyprus             \n",
      "\n",
      "Guatemala          Iceland            Equatorial.Guin    Bulgaria           Comoros            French.Polynesi    \n",
      "\n",
      "Guyana             Japan              Eritrea            Chile              Congo              Greece             \n",
      "\n",
      "Honduras           Luxembourg         Ethiopia           Colombia           Dem.Rep.of.the.    Guadeloupe         \n",
      "\n",
      "Indonesia          Netherlands        Gambia             Cook.Islands       Gabon              Ireland            \n",
      "\n",
      "Iran               Norway             Guinea             Costa.Rica         Ghana              Israel             \n",
      "\n",
      "Kazakhstan         Singapore          Guinea.Bissau      Croatia            Haiti              Italy              \n",
      "\n",
      "Kyrgyzstan         Sweden             Liberia            Cuba               India              Korea.Republic.    \n",
      "\n",
      "Libya              Switzerland        Malawi             Czech.Republic     Iraq               Kuwait             \n",
      "\n",
      "Maldives           United.States      Mali               Dominican.Repub    Ivory.Coast        Malta              \n",
      "\n",
      "Marshall.Island                       Mozambique         Estonia            Kenya              Martinique         \n",
      "\n",
      "Micronesia                            Niger              Fiji               Kiribati           Netherlands.Ant    \n",
      "\n",
      "Moldova                               Rwanda             Georgia            Laos               New.Caledonia      \n",
      "\n",
      "Mongolia                              Sierra.Leone       Hungary            Lesotho            New.Zealand        \n",
      "\n",
      "Morocco                               Somalia            Jamaica            Madagascar         Portugal           \n",
      "\n",
      "Nicaragua                             Uganda             Jordan             Mauritania         Puerto.Rico        \n",
      "\n",
      "Pakistan                              Zambia             Korea.Dem.Peopl    Myanmar            Qatar              \n",
      "\n",
      "Palau                                                    Latvia             Namibia            Reunion            \n",
      "\n",
      "Paraguay                                                 Lebanon            Nepal              Slovenia           \n",
      "\n",
      "Peru                                                     Lithuania          Nigeria            Spain              \n",
      "\n",
      "Philippines                                              Macedonia          Papua.New.Guine    United.Arab.Emi    \n",
      "\n",
      "Russia                                                   Malaysia           Senegal            United.Kingdom     \n",
      "\n",
      "Samoa                                                    Mauritius          Sudan                                 \n",
      "\n",
      "South.Africa                                             Mexico             Swaziland                             \n",
      "\n",
      "Syria                                                    Oman               Tanzania                              \n",
      "\n",
      "Tajikistan                                               Panama             Togo                                  \n",
      "\n",
      "Tunisia                                                  Poland             Yemen                                 \n",
      "\n",
      "Turkey                                                   Romania            Zimbabwe                              \n",
      "\n",
      "Turkmenistan                                             Saint.Kitts                                              \n",
      "\n",
      "Uzbekistan                                               Saint.Lucia                                              \n",
      "\n",
      "Vanuatu                                                  Saudi.Arabia                                             \n",
      "\n",
      "Viet.Nam                                                 Seychelles                                               \n",
      "\n",
      "                                                         Slovakia                                                 \n",
      "\n",
      "                                                         Solomon.Islands                                          \n",
      "\n",
      "                                                         Sri.Lanka                                                \n",
      "\n",
      "                                                         Suriname                                                 \n",
      "\n",
      "                                                         Thailand                                                 \n",
      "\n",
      "                                                         Tonga                                                    \n",
      "\n",
      "                                                         Trinidad.and.To                                          \n",
      "\n",
      "                                                         Ukraine                                                  \n",
      "\n",
      "                                                         Uruguay                                                  \n",
      "\n",
      "                                                         Venezuela                                                \n",
      "\n",
      "                                                         Yugoslavia                                               \n",
      "\n"
     ]
    }
   ],
   "source": [
    "for cc in xrange(k):\n",
    "    label_str = 'Cluster {:d}'.format(cc)\n",
    "    print \"{:18s}\".format(label_str),\n",
    "print \"\\n\"\n",
    "for i in xrange(len(cdict[0])):\n",
    "    do_print = False\n",
    "    for j in xrange(k):\n",
    "        if cdict[j][i] != 'Zkm':\n",
    "            do_print = True\n",
    "    if do_print:\n",
    "        for j in xrange(k):\n",
    "            if cdict[j][i] != 'Zkm':\n",
    "                print \"{:18s}\".format(cdict[j][i][0:15]),\n",
    "            else:\n",
    "                print \"{:18s}\".format(' '),\n",
    "        print \"\\n\""
   ]
  },
  {
   "cell_type": "markdown",
   "metadata": {},
   "source": [
    "---\n",
    "##Not sure about doing this, however\n",
    "---"
   ]
  },
  {
   "cell_type": "code",
   "execution_count": 21,
   "metadata": {
    "collapsed": false
   },
   "outputs": [
    {
     "data": {
      "text/plain": [
       "<matplotlib.text.Text at 0x10cf42610>"
      ]
     },
     "execution_count": 21,
     "metadata": {},
     "output_type": "execute_result"
    },
    {
     "data": {
      "image/png": "[encoded data removed]",
      "text/plain": [
       "<matplotlib.figure.Figure at 0x111e57f50>"
      ]
     },
     "metadata": {},
     "output_type": "display_data"
    }
   ],
   "source": [
    "k=3\n",
    "km = KMeans(n_clusters = k, max_iter = 1000, n_init = 100, tol = 1e-6, n_jobs = -1, \\\n",
    "                 random_state=8, verbose=False)\n",
    "km.fit(X)\n",
    "c = km.predict(X)\n",
    "\n",
    "fig = plt.figure(figsize = (7,7))\n",
    "ax = plt.subplot(111)\n",
    "ax.scatter(df_cfc_scaled['GDPperCapita'][c==0], df_cfc_scaled['lifeFemale'][c==0], color = 'red')\n",
    "ax.scatter(df_cfc_scaled['GDPperCapita'][c==1], df_cfc_scaled['lifeFemale'][c==1], color = 'green')\n",
    "ax.scatter(df_cfc_scaled['GDPperCapita'][c==2], df_cfc_scaled['lifeFemale'][c==2], color = 'blue')\n",
    "\n",
    "ax.set_title('Female Life Expectancy vs Per-capita GDP')\n",
    "ax.set_xlabel('Per-capita GDP, ($ per person)')\n",
    "ax.set_ylabel('Female Life Expenctancy, (years)')"
   ]
  },
  {
   "cell_type": "markdown",
   "metadata": {},
   "source": [
    "---\n",
    "##Who does the outlier belong too?\n",
    "##Has a good-ish GDP but very low female life expectancy\n",
    "---"
   ]
  },
  {
   "cell_type": "code",
   "execution_count": 22,
   "metadata": {
    "collapsed": false
   },
   "outputs": [
    {
     "data": {
      "text/html": [
       "<div style=\"max-height:1000px;max-width:1500px;overflow:auto;\">\n",
       "<table border=\"1\" class=\"dataframe\">\n",
       "  <thead>\n",
       "    <tr style=\"text-align: right;\">\n",
       "      <th></th>\n",
       "      <th>lifeMale</th>\n",
       "      <th>lifeFemale</th>\n",
       "      <th>infantMortality</th>\n",
       "      <th>GDPperCapita</th>\n",
       "      <th>country</th>\n",
       "    </tr>\n",
       "  </thead>\n",
       "  <tbody>\n",
       "    <tr>\n",
       "      <th>77</th>\n",
       "      <td>-0.268128</td>\n",
       "      <td>-0.398807</td>\n",
       "      <td> 1.306705</td>\n",
       "      <td> 0.60914</td>\n",
       "      <td> Iraq</td>\n",
       "    </tr>\n",
       "  </tbody>\n",
       "</table>\n",
       "</div>"
      ],
      "text/plain": [
       "    lifeMale  lifeFemale  infantMortality  GDPperCapita country\n",
       "77 -0.268128   -0.398807         1.306705       0.60914    Iraq"
      ]
     },
     "execution_count": 22,
     "metadata": {},
     "output_type": "execute_result"
    }
   ],
   "source": [
    "dfwho = df_cfc_scaled[(df_cfc_scaled['GDPperCapita']> 0.2) & (df_cfc_scaled['GDPperCapita']< 0.8)]\n",
    "dfwho[(dfwho['lifeFemale']>-1) & (dfwho['lifeFemale']<0)]"
   ]
  },
  {
   "cell_type": "markdown",
   "metadata": {},
   "source": [
    "---\n",
    "##So is that Iraq on the original 2D diagram?\n",
    "---"
   ]
  },
  {
   "cell_type": "code",
   "execution_count": 23,
   "metadata": {
    "collapsed": false
   },
   "outputs": [],
   "source": [
    "Xiraq = df_cfc_scaled[df_cfc_scaled.country=='Iraq']\n",
    "Xiraq = Xiraq[focus]\n",
    "X_iraq_2d = myPCA.transform(Xiraq)"
   ]
  },
  {
   "cell_type": "code",
   "execution_count": 24,
   "metadata": {
    "collapsed": false
   },
   "outputs": [
    {
     "data": {
      "text/plain": [
       "[<matplotlib.lines.Line2D at 0x1192edb50>]"
      ]
     },
     "execution_count": 24,
     "metadata": {},
     "output_type": "execute_result"
    },
    {
     "data": {
      "image/png": "[encoded data removed]",
      "text/plain": [
       "<matplotlib.figure.Figure at 0x10cfc0c90>"
      ]
     },
     "metadata": {},
     "output_type": "display_data"
    }
   ],
   "source": [
    "fig = plt.figure(figsize = (7,7))\n",
    "ax = plt.subplot(111)\n",
    "ax.scatter(X_2d[c==0,0], X_2d[c==0,1], color = 'green', label='Cluster 0')\n",
    "ax.scatter(X_2d[c==1,0], X_2d[c==1,1], color = 'red', label='Cluster 1')\n",
    "ax.scatter(X_2d[c==2,0], X_2d[c==2,1], color = 'blue', label='Cluster 2')\n",
    "ax.set_axis_off()\n",
    "ax.set_title('2D Plot of 4D Features - M/F Life Expectancy, Infant Mortality, and, Per-capita GDP')\n",
    "ax.legend(loc='upper right')\n",
    "ax.plot(X_iraq_2d[0][0], X_iraq_2d[0][1], marker='o', markersize=12, \n",
    "      markeredgewidth=2, markeredgecolor='r', markerfacecolor='None')"
   ]
  }
 ],
 "metadata": {
  "kernelspec": {
   "display_name": "Python 2",
   "language": "python",
   "name": "python2"
  },
  "language_info": {
   "codemirror_mode": {
    "name": "ipython",
    "version": 2
   },
   "file_extension": ".py",
   "mimetype": "text/x-python",
   "name": "python",
   "nbconvert_exporter": "python",
   "pygments_lexer": "ipython2",
   "version": "2.7.9"
  }
 },
 "nbformat": 4,
 "nbformat_minor": 0
}
