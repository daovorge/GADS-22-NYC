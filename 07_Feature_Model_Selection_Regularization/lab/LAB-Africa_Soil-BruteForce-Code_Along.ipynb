{
 "cells": [
  {
   "cell_type": "code",
   "execution_count": 55,
   "metadata": {
    "collapsed": false
   },
   "outputs": [],
   "source": [
    "import pandas as pd\n",
    "import numpy as np\n",
    "import matplotlib.pyplot as plt\n",
    "import matplotlib as mpl\n",
    "mpl.style.use('ggplot')\n",
    "%matplotlib inline\n",
    "from sklearn.pipeline import make_pipeline\n",
    "from sklearn.preprocessing import PolynomialFeatures\n",
    "from sklearn.linear_model import LinearRegression\n",
    "from sklearn.pipeline import Pipeline\n",
    "from sklearn.metrics import mean_squared_error\n",
    "from sklearn.cross_validation import train_test_split\n",
    "from itertools import combinations\n",
    "from sklearn.linear_model import Ridge\n",
    "from sklearn.linear_model import Lasso\n",
    "from sklearn.linear_model import ElasticNet"
   ]
  },
  {
   "cell_type": "markdown",
   "metadata": {},
   "source": [
    "#Africa Soil Prediction"
   ]
  },
  {
   "cell_type": "markdown",
   "metadata": {},
   "source": [
    "##pH is the target variable for predictions. \n",
    "\n",
    "####The data have been monotonously transformed from the original measurements and thus include negative values. \n",
    "\n",
    "   * PIDN: unique soil sample identifier\n",
    "   * pH: pH values\n",
    "   * ELEV: Shuttle Radar Topography Mission elevation data\n",
    "   * Ref: average long-term Reflectance measurements from MODIS satellite images (Ref2 = red)\n",
    "   * BSA: average long-term Black Sky Albedo measurements from MODIS satellite images (BSAN = near-infrared)\n",
    "   * LST: average long-term Land Surface Temperatures from MODIS satellite images (LSTN = night time temperature)\n",
    "   * Infrared01 - Infrared05: These are 5 bands of infrared absorbance measurements."
   ]
  },
  {
   "cell_type": "code",
   "execution_count": 6,
   "metadata": {
    "collapsed": false
   },
   "outputs": [],
   "source": [
    "data = pd.read_csv(\"/Users/mrgholt/GADS-22-NYC/Datasets/africa_ph.csv\")\n",
    "\n",
    "#Remove the \"Unnamed: 0\" column\n",
    "del data['Unnamed: 0']\n",
    "del data[\"PIDN\"]"
   ]
  },
  {
   "cell_type": "markdown",
   "metadata": {},
   "source": [
    "#A brute force approach"
   ]
  },
  {
   "cell_type": "code",
   "execution_count": 13,
   "metadata": {
    "collapsed": false
   },
   "outputs": [
    {
     "name": "stdout",
     "output_type": "stream",
     "text": [
      "['ELEV', 'REF2', 'BSAN', 'LSTN', 'Infrared01', 'Infrared02', 'Infrared03', 'Infrared04', 'Infrared05']\n",
      "<type 'list'>\n"
     ]
    }
   ],
   "source": [
    "predictors = list(data.columns.values)\n",
    "predictors.remove('pH')\n",
    "print predictors\n",
    "print type(predictors)"
   ]
  }
 ],
 "metadata": {
  "kernelspec": {
   "display_name": "Python 2",
   "language": "python",
   "name": "python2"
  },
  "language_info": {
   "codemirror_mode": {
    "name": "ipython",
    "version": 2
   },
   "file_extension": ".py",
   "mimetype": "text/x-python",
   "name": "python",
   "nbconvert_exporter": "python",
   "pygments_lexer": "ipython2",
   "version": "2.7.9"
  }
 },
 "nbformat": 4,
 "nbformat_minor": 0
}
