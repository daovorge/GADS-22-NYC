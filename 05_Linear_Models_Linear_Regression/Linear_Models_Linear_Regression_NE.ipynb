{
 "cells": [
  {
   "cell_type": "code",
   "execution_count": 1,
   "metadata": {
    "collapsed": false
   },
   "outputs": [],
   "source": [
    "import numpy as np\n",
    "import pandas as pd\n",
    "import matplotlib.pyplot as plt\n",
    "from sklearn import linear_model\n",
    "from sklearn import preprocessing\n",
    "from sklearn.metrics import mean_squared_error\n",
    "import matplotlib as mpl\n",
    "%matplotlib inline"
   ]
  },
  {
   "cell_type": "markdown",
   "metadata": {},
   "source": [
    "[sklearn ordinary least squares](http://scikit-learn.org/stable/modules/linear_model.html#ordinary-least-squares)"
   ]
  },
  {
   "cell_type": "markdown",
   "metadata": {},
   "source": [
    "---\n",
    "#The Normal Equations\n",
    "---"
   ]
  },
  {
   "cell_type": "markdown",
   "metadata": {},
   "source": [
    "---\n",
    "### * Solve for theta analytically\n",
    "### * Not an iterative algorithm (like gradient descent)\n",
    "### * Takes the cost function, find it's derivative and sets equal to zero\n",
    "### * Derivation is complicated and involved\n",
    "### * End up with a set of simultaneous equations\n",
    "### * The matrix containing the training data is known as the \"Design\" matrix\n",
    "### * No need to feature scale\n",
    "---"
   ]
  },
  {
   "cell_type": "code",
   "execution_count": 2,
   "metadata": {
    "collapsed": false
   },
   "outputs": [],
   "source": [
    "#This code creates an artificial dataset of 100 points\n",
    "m = 100\n",
    "\n",
    "#Generate m points between 1000 and 3000 as input features x\n",
    "x=np.array(np.linspace(1000,3000,m))\n",
    "\n",
    "#Generate a little noise to add to x\n",
    "z = np.random.rand(m)*100\n",
    "\n",
    "#Now generate y - a straight line with added noise. The slope is theta1 (0.6) and the y intercept is theta0 (50)\n",
    "theta0 = 50\n",
    "theta1 = 0.6\n",
    "y = [xx*theta1 + theta0 for xx in x] + z"
   ]
  },
  {
   "cell_type": "code",
   "execution_count": 3,
   "metadata": {
    "collapsed": false
   },
   "outputs": [
    {
     "name": "stdout",
     "output_type": "stream",
     "text": [
      "743.159430947\n"
     ]
    }
   ],
   "source": [
    "#set the hyper-parameters of the model\n",
    "clf = linear_model.LinearRegression(fit_intercept=True)\n",
    "\n",
    "#for using scikit learn you always need to get the input arrays into the correct 'shape'\n",
    "#x1 = x_scaled.reshape(m,1)\n",
    "x1 = x.reshape(m, 1)\n",
    "#fit the model\n",
    "clf.fit(x1, y)\n",
    "\n",
    "y_true = y\n",
    "y_pred = clf.predict(x1)\n",
    "print mean_squared_error(y_true, y_pred)"
   ]
  },
  {
   "cell_type": "code",
   "execution_count": 4,
   "metadata": {
    "collapsed": false
   },
   "outputs": [
    {
     "name": "stdout",
     "output_type": "stream",
     "text": [
      "[ 0.59584759]\n",
      "114.453716838\n"
     ]
    },
    {
     "data": {
      "image/png": "[encoded data removed]",
      "text/plain": [
       "<matplotlib.figure.Figure at 0x10d7990d0>"
      ]
     },
     "metadata": {},
     "output_type": "display_data"
    }
   ],
   "source": [
    "#plot the results\n",
    "fig = plt.figure(figsize=(5,5))\n",
    "ax = fig.add_subplot(1,1,1)\n",
    "ax.set_xlabel(\"House Square Footage (scaled)\")\n",
    "ax.set_ylabel(\"House Price ($x1000)\")\n",
    "ax.set_title(\"Scaled House Prices vs Square Footage\")\n",
    "ax.scatter(x1, y, marker='x', color='b')\n",
    "ax.plot(x1, clf.predict(x1), color='r')\n",
    "\n",
    "#print out theta1 and theta0\n",
    "print clf.coef_\n",
    "print clf.intercept_"
   ]
  },
  {
   "cell_type": "markdown",
   "metadata": {},
   "source": [
    "##Gradient Descent downsides:\n",
    "###Need to choose alpha\n",
    "###May be slow to converge (it's iterative)\n",
    "##Normal Equations downsides:\n",
    "###Computationally expensive, slow if N is very large (inverting and NxN matrix). O(n3)!! n<1000000\n",
    "##Consider them complementary - for the size of the dataset\n"
   ]
  },
  {
   "cell_type": "markdown",
   "metadata": {},
   "source": [
    "---\n",
    "\n",
    "---\n",
    "#This section is optional\n",
    "---\n",
    "\n",
    "---"
   ]
  },
  {
   "cell_type": "markdown",
   "metadata": {},
   "source": [
    "##You can solve for theta using the following equation"
   ]
  },
  {
   "cell_type": "markdown",
   "metadata": {},
   "source": [
    "##$$\\theta = (x^{T}x)^{-1}x^{T}y$$\n",
    "##$x$ is the training set augmented with a column of 1's, and known as the Design Matrix"
   ]
  },
  {
   "cell_type": "markdown",
   "metadata": {},
   "source": [
    "\n",
    "    \n"
   ]
  },
  {
   "cell_type": "markdown",
   "metadata": {},
   "source": [
    "##Below $x2$ is the Design Matrix. \n",
    "##It is a $m$ by $(n+1)$ matrix, where $m$ is the number of training examples, and $n$ is the number of features ($1$ in this example)"
   ]
  },
  {
   "cell_type": "code",
   "execution_count": 5,
   "metadata": {
    "collapsed": false
   },
   "outputs": [],
   "source": [
    "#create the desing matrix\n",
    "x2 = np.ndarray(shape=(m,2))\n",
    "\n",
    "#set the first column to 1.0\n",
    "x2[:,0] = 1.0\n",
    "\n",
    "#set the second column to the training set\n",
    "x2[:,1] = x"
   ]
  },
  {
   "cell_type": "markdown",
   "metadata": {},
   "source": [
    "---\n",
    "## Where numpy excels - doing Linear Algebra\n",
    "---"
   ]
  },
  {
   "cell_type": "code",
   "execution_count": 6,
   "metadata": {
    "collapsed": false
   },
   "outputs": [],
   "source": [
    "#solve for theta\n",
    "\n",
    "#this is x transpose T multiplied by x\n",
    "xtemp = np.dot(x2.T, x2)\n",
    "\n",
    "#this is the inverse of (x.T . x)\n",
    "xtemp_inverse = np.linalg.pinv(xtemp)\n",
    "\n",
    "#this is the inverse multiplied by x transpose\n",
    "xtemp1 = np.dot(xtemp_inverse,x2.T)\n",
    "\n",
    "#this is the final step, multiplying by y\n",
    "theta = np.dot(xtemp1, y)"
   ]
  },
  {
   "cell_type": "markdown",
   "metadata": {},
   "source": [
    "##Compare the slope and intercept below with the values from sklearn"
   ]
  },
  {
   "cell_type": "code",
   "execution_count": 7,
   "metadata": {
    "collapsed": false
   },
   "outputs": [
    {
     "name": "stdout",
     "output_type": "stream",
     "text": [
      "the slope and y intercept are:\n",
      "114.45\n",
      " 0.60\n"
     ]
    }
   ],
   "source": [
    "print \"the slope and y intercept are:\"\n",
    "for i in xrange(len(theta)):\n",
    "    print \"{:5.2f}\".format(np.float(theta[i]))"
   ]
  },
  {
   "cell_type": "code",
   "execution_count": 8,
   "metadata": {
    "collapsed": true
   },
   "outputs": [],
   "source": [
    "#The standard equation for a straight line\n",
    "def make_prediction(x, theta0, theta1):\n",
    "    return (theta1 * x) + theta0"
   ]
  },
  {
   "cell_type": "code",
   "execution_count": 9,
   "metadata": {
    "collapsed": false
   },
   "outputs": [
    {
     "data": {
      "text/plain": [
       "[<matplotlib.lines.Line2D at 0x10dc8d290>]"
      ]
     },
     "execution_count": 9,
     "metadata": {},
     "output_type": "execute_result"
    },
    {
     "data": {
      "image/png": "[encoded data removed]",
      "text/plain": [
       "<matplotlib.figure.Figure at 0x10da6c910>"
      ]
     },
     "metadata": {},
     "output_type": "display_data"
    }
   ],
   "source": [
    "fig = plt.figure(figsize=(5,5))\n",
    "ax = fig.add_subplot(1,1,1)\n",
    "ax.set_xlabel(\"House Square Footage (scaled)\")\n",
    "ax.set_ylabel(\"House Price ($x1000)\")\n",
    "ax.set_title(\"Scaled House Prices vs Square Footage\")\n",
    "ax.scatter(x1, y, marker='x', color='b')\n",
    "ax.plot(x1, make_prediction(x1, theta[0], theta[1]), color='r')"
   ]
  }
 ],
 "metadata": {
  "kernelspec": {
   "display_name": "Python 2",
   "language": "python",
   "name": "python2"
  },
  "language_info": {
   "codemirror_mode": {
    "name": "ipython",
    "version": 2
   },
   "file_extension": ".py",
   "mimetype": "text/x-python",
   "name": "python",
   "nbconvert_exporter": "python",
   "pygments_lexer": "ipython2",
   "version": "2.7.9"
  }
 },
 "nbformat": 4,
 "nbformat_minor": 0
}
