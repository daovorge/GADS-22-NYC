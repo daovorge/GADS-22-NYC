{
 "cells": [
  {
   "cell_type": "code",
   "execution_count": 1,
   "metadata": {
    "collapsed": true
   },
   "outputs": [],
   "source": [
    "import numpy as np\n",
    "import pandas as pd\n",
    "import matplotlib.pyplot as plt\n",
    "%matplotlib inline\n",
    "from sklearn.metrics.pairwise import cosine_similarity\n",
    "from pprint import pprint"
   ]
  },
  {
   "cell_type": "markdown",
   "metadata": {},
   "source": [
    "---\n",
    "Low Rank Matrix Factorization with Mean Normalization\n",
    "=====\n",
    "***"
   ]
  },
  {
   "cell_type": "markdown",
   "metadata": {},
   "source": [
    "---\n",
    "###Given: $x^{1}, x^{2}, ..., x^{nm}$, estimate $\\theta^{1}, \\theta^{2}, ..., \\theta^{nu}$ for all users \n",
    "\n",
    "###$$\\underset{\\theta^{1}, \\theta^{2}, ..., \\theta^{nu}}{\\operatorname{min}} \\frac{1}{2} \\sum_{j=1}^{nu}\\sum_{i:r(i, j)==1}(\\theta^{jT}x^{i} - y ^{i, j})^{2} + \\frac{\\lambda}{2}\\sum_{j=1}^{nu}\\sum_{k=1}^{N}(\\theta_{k}^{j})^{2}$$\n",
    "\n",
    "\n",
    "###Given: $\\theta^{1}, \\theta^{2}, ..., \\theta^{nu}$, estimate $x^{1}, x^{2}, ..., x^{nm}$ for all users \n",
    "\n",
    "###$$\\underset{\\text{ }x^{1}, x^{2}, ..., x^{nm}}{\\operatorname{min}} \\frac{1}{2} \\sum_{i=1}^{nm}\\sum_{j:r(i, j)==1}(\\theta^{jT}x^{i} - y ^{i, j})^{2} + \\frac{\\lambda}{2}\\sum_{i=1}^{nm}\\sum_{k=1}^{N}(x_{k}^{i})^{2}$$\n",
    "---"
   ]
  },
  {
   "cell_type": "markdown",
   "metadata": {},
   "source": [
    "---\n",
    "###Solve for $x$ and $\\theta$ simultaneously:\n",
    "\n",
    "\n",
    "###Define the cost function, $J$, as:\n",
    "\n",
    "$$J(x^{1}, x^{2}, ..., x^{nm}, \\theta^{1}, \\theta^{2}, ..., \\theta^{nu}) = \\frac{1}{2} \\sum_{(i, j):r(i, j)==1}(\\theta^{jT}x^{i} - y ^{i, j})^{2} + \\frac{\\lambda}{2}\\sum_{i=1}^{nm}\\sum_{k=1}^{N}(x_{k}^{i})^{2} + \\frac{\\lambda}{2}\\sum_{j=1}^{nu}\\sum_{k=1}^{N}(\\theta_{k}^{j})^{2}$$\n",
    "\n",
    "###and minimize:\n",
    "\n",
    "$$\\underset{\\text{ }x^{1}, x^{2}, ..., x^{nm}, \\theta^{1}, \\theta^{2}, ..., \\theta^{nu}}{\\operatorname{min}} J(x^{1}, x^{2}, ..., x^{nm}, \\theta^{1}, \\theta^{2}, ..., \\theta^{nu})$$\n",
    "---"
   ]
  },
  {
   "cell_type": "markdown",
   "metadata": {},
   "source": [
    "---\n",
    "###where:\n",
    "###- $j$ is the user\n",
    "###- $nu$ is the number of users\n",
    "###- $nm$ is the number of movies\n",
    "###- $i$ is the movie\n",
    "###- $r(i,j) == 1$ if user $j$ has rated movie $i$\n",
    "###- $\\theta^{j}$ is the parameter vector for user $j$\n",
    "###- $x^{i}$ is the feature vector for movie $i$\n",
    "###- $y^{i,j}$ is the rating by user $j$ for movie $i$, if user $j$ has rated that movie\n",
    "###$\\frac{\\lambda}{2}\\sum_{i=1}^{nm}\\sum_{k=1}^{N}(x_{k}^{i})^{2}$ and $\\frac{\\lambda}{2}\\sum_{j=1}^{nu}\\sum_{k=1}^{N}(\\theta_{k}^{j})^{2}$ are the regularization terms for the $x$ and $\\theta$ parameters.\n",
    "---"
   ]
  },
  {
   "cell_type": "markdown",
   "metadata": {},
   "source": [
    "---\n",
    "##Gradient Descent Update Equations\n",
    "---\n",
    "\n",
    "###$$x_{k}^{i} = x_{k}^{i} - \\alpha \\left[ \\sum_{j:r(i, j)==1}(\\theta^{jT}x^{i} - y ^{i, j})\\theta_{k}^{j} + \\lambda x_{k}^{i} \\right]$$\n",
    "\n",
    "###$$\\theta_{k}^{j} = \\theta_{k}^{j} - \\alpha \\left[ \\sum_{i:r(i, j)==1}(\\theta^{jT}x^{i} - y ^{i, j})x_{k}^{i} + \\lambda\\theta_{k}^{j} \\right]$$\n",
    "\n",
    "\n",
    "###$\\alpha$ is the learning rate\n",
    "---"
   ]
  },
  {
   "cell_type": "code",
   "execution_count": 2,
   "metadata": {
    "collapsed": false
   },
   "outputs": [],
   "source": [
    "data = pd.DataFrame({'Susan':[5,5,-1,0,0], \"Mary\":[5, -1, 4, 0, 0], \"Phil\":[0, -1, 0, 5, 5], \"Greg\":[0, 0, -1, 4, 0],\n",
    "                     'Jennifer':[-1, -1, -1, -1, -1], 'x1':[0.9, 1.0, 0.99, 0.1, 0.0], 'x2':[0, 0.01, 0, 1.0, 0.9]}\\\n",
    "                   , columns = ['Susan', 'Mary', 'Phil', 'Greg', 'Jennifer', 'x1', 'x2']\n",
    "                   , index=[\"Big\", \"The Notebook\", \"Barefoot in the Park\", \"The Bourne Legacy\", \"The International\"]\n",
    "                   )\n",
    "data.index.name = \"Movie\"\n",
    "data.columns.name = \"User\""
   ]
  },
  {
   "cell_type": "code",
   "execution_count": 3,
   "metadata": {
    "collapsed": true
   },
   "outputs": [],
   "source": [
    "data_orig = data.copy()"
   ]
  },
  {
   "cell_type": "code",
   "execution_count": 4,
   "metadata": {
    "collapsed": false
   },
   "outputs": [
    {
     "data": {
      "text/html": [
       "<div>\n",
       "<table border=\"1\" class=\"dataframe\">\n",
       "  <thead>\n",
       "    <tr style=\"text-align: right;\">\n",
       "      <th>User</th>\n",
       "      <th>Susan</th>\n",
       "      <th>Mary</th>\n",
       "      <th>Phil</th>\n",
       "      <th>Greg</th>\n",
       "      <th>Jennifer</th>\n",
       "    </tr>\n",
       "    <tr>\n",
       "      <th>Movie</th>\n",
       "      <th></th>\n",
       "      <th></th>\n",
       "      <th></th>\n",
       "      <th></th>\n",
       "      <th></th>\n",
       "    </tr>\n",
       "  </thead>\n",
       "  <tbody>\n",
       "    <tr>\n",
       "      <th>Big</th>\n",
       "      <td>5</td>\n",
       "      <td>5</td>\n",
       "      <td>0</td>\n",
       "      <td>0</td>\n",
       "      <td>-1</td>\n",
       "    </tr>\n",
       "    <tr>\n",
       "      <th>The Notebook</th>\n",
       "      <td>5</td>\n",
       "      <td>-1</td>\n",
       "      <td>-1</td>\n",
       "      <td>0</td>\n",
       "      <td>-1</td>\n",
       "    </tr>\n",
       "    <tr>\n",
       "      <th>Barefoot in the Park</th>\n",
       "      <td>-1</td>\n",
       "      <td>4</td>\n",
       "      <td>0</td>\n",
       "      <td>-1</td>\n",
       "      <td>-1</td>\n",
       "    </tr>\n",
       "    <tr>\n",
       "      <th>The Bourne Legacy</th>\n",
       "      <td>0</td>\n",
       "      <td>0</td>\n",
       "      <td>5</td>\n",
       "      <td>4</td>\n",
       "      <td>-1</td>\n",
       "    </tr>\n",
       "    <tr>\n",
       "      <th>The International</th>\n",
       "      <td>0</td>\n",
       "      <td>0</td>\n",
       "      <td>5</td>\n",
       "      <td>0</td>\n",
       "      <td>-1</td>\n",
       "    </tr>\n",
       "  </tbody>\n",
       "</table>\n",
       "</div>"
      ],
      "text/plain": [
       "User                  Susan  Mary  Phil  Greg  Jennifer\n",
       "Movie                                                  \n",
       "Big                       5     5     0     0        -1\n",
       "The Notebook              5    -1    -1     0        -1\n",
       "Barefoot in the Park     -1     4     0    -1        -1\n",
       "The Bourne Legacy         0     0     5     4        -1\n",
       "The International         0     0     5     0        -1"
      ]
     },
     "execution_count": 4,
     "metadata": {},
     "output_type": "execute_result"
    }
   ],
   "source": [
    "data[['Susan', 'Mary', 'Phil', 'Greg', 'Jennifer']]"
   ]
  },
  {
   "cell_type": "markdown",
   "metadata": {},
   "source": [
    "####The algorithm, as it stands, will produce all 0's for Jennifer, because she has NOT rated any movies yet\n",
    "####Not overly useful!\n",
    "####Mean normalization will fix this problem"
   ]
  },
  {
   "cell_type": "code",
   "execution_count": 5,
   "metadata": {
    "collapsed": true
   },
   "outputs": [],
   "source": [
    "#i indexes the movie, j the user\n",
    "def r(i, j, data):\n",
    "    '''This checks to see if the user has reviewed a movie (as indicated by the presence of a -1).\n",
    "    If they have reviewed the movie then this function returns a 1'''\n",
    "    \n",
    "    ulist = data.iloc[i]\n",
    "    if ulist[j] != -1:\n",
    "        return 1\n",
    "    else:\n",
    "        return 0"
   ]
  },
  {
   "cell_type": "code",
   "execution_count": 6,
   "metadata": {
    "collapsed": true
   },
   "outputs": [],
   "source": [
    "def y(i, j, data):\n",
    "    '''This function returns the rating provided by the user for the movie'''\n",
    "    \n",
    "    ulist = data.iloc[i]\n",
    "    return ulist[j]"
   ]
  },
  {
   "cell_type": "markdown",
   "metadata": {},
   "source": [
    "#####Compute the average rating each movie gets\n",
    "#####The average is the sum of all the ratings over the number of ratings - do not include the users who have not rated the movie yet"
   ]
  },
  {
   "cell_type": "code",
   "execution_count": 7,
   "metadata": {
    "collapsed": false
   },
   "outputs": [],
   "source": [
    "def get_mean_vector(nu, nm, data):\n",
    "    '''This function calculates the mean vector for each movie using all users who have rated that movie'''\n",
    "    \n",
    "    mean_vector = np.zeros(nm)\n",
    "    for i in xrange(nm):\n",
    "        mean_vector[i] = 0.0\n",
    "        count = 0\n",
    "        for j in xrange(nu):\n",
    "            if r(i, j, data):\n",
    "                count += 1\n",
    "                mean_vector[i] += y(i, j, data)\n",
    "        mean_vector[i] /= float(count)\n",
    "    return mean_vector"
   ]
  },
  {
   "cell_type": "code",
   "execution_count": 8,
   "metadata": {
    "collapsed": false
   },
   "outputs": [
    {
     "name": "stdout",
     "output_type": "stream",
     "text": [
      "[ 2.5   2.5   2.    2.25  1.25]\n"
     ]
    }
   ],
   "source": [
    "nu = 5\n",
    "nm = 5\n",
    "mean_vector = get_mean_vector(nu, nm, data)\n",
    "print mean_vector"
   ]
  },
  {
   "cell_type": "code",
   "execution_count": 9,
   "metadata": {
    "collapsed": false
   },
   "outputs": [],
   "source": [
    "def subtract_mv_from_dataframe(nu, nm, mean_vector, data):\n",
    "    '''This function subtracts the mean vector from each movie rating, leaving the movies that have not been\n",
    "    rated yet by any given users as they were'''\n",
    "    \n",
    "    for i in xrange(nm):\n",
    "        for j in xrange(nu):\n",
    "            if r(i, j, data):\n",
    "                data.iloc[i, j] -= mean_vector[i]\n",
    "    return(data)"
   ]
  },
  {
   "cell_type": "code",
   "execution_count": 10,
   "metadata": {
    "collapsed": false
   },
   "outputs": [],
   "source": [
    "data = subtract_mv_from_dataframe(nu, nm, mean_vector, data)"
   ]
  },
  {
   "cell_type": "code",
   "execution_count": 11,
   "metadata": {
    "collapsed": false
   },
   "outputs": [
    {
     "data": {
      "text/html": [
       "<div>\n",
       "<table border=\"1\" class=\"dataframe\">\n",
       "  <thead>\n",
       "    <tr style=\"text-align: right;\">\n",
       "      <th>User</th>\n",
       "      <th>Susan</th>\n",
       "      <th>Mary</th>\n",
       "      <th>Phil</th>\n",
       "      <th>Greg</th>\n",
       "      <th>Jennifer</th>\n",
       "      <th>x1</th>\n",
       "      <th>x2</th>\n",
       "    </tr>\n",
       "    <tr>\n",
       "      <th>Movie</th>\n",
       "      <th></th>\n",
       "      <th></th>\n",
       "      <th></th>\n",
       "      <th></th>\n",
       "      <th></th>\n",
       "      <th></th>\n",
       "      <th></th>\n",
       "    </tr>\n",
       "  </thead>\n",
       "  <tbody>\n",
       "    <tr>\n",
       "      <th>Big</th>\n",
       "      <td>2.50</td>\n",
       "      <td>2.50</td>\n",
       "      <td>-2.50</td>\n",
       "      <td>-2.50</td>\n",
       "      <td>-1</td>\n",
       "      <td>0.90</td>\n",
       "      <td>0.00</td>\n",
       "    </tr>\n",
       "    <tr>\n",
       "      <th>The Notebook</th>\n",
       "      <td>2.50</td>\n",
       "      <td>-1.00</td>\n",
       "      <td>-1.00</td>\n",
       "      <td>-2.50</td>\n",
       "      <td>-1</td>\n",
       "      <td>1.00</td>\n",
       "      <td>0.01</td>\n",
       "    </tr>\n",
       "    <tr>\n",
       "      <th>Barefoot in the Park</th>\n",
       "      <td>-1.00</td>\n",
       "      <td>2.00</td>\n",
       "      <td>-2.00</td>\n",
       "      <td>-1.00</td>\n",
       "      <td>-1</td>\n",
       "      <td>0.99</td>\n",
       "      <td>0.00</td>\n",
       "    </tr>\n",
       "    <tr>\n",
       "      <th>The Bourne Legacy</th>\n",
       "      <td>-2.25</td>\n",
       "      <td>-2.25</td>\n",
       "      <td>2.75</td>\n",
       "      <td>1.75</td>\n",
       "      <td>-1</td>\n",
       "      <td>0.10</td>\n",
       "      <td>1.00</td>\n",
       "    </tr>\n",
       "    <tr>\n",
       "      <th>The International</th>\n",
       "      <td>-1.25</td>\n",
       "      <td>-1.25</td>\n",
       "      <td>3.75</td>\n",
       "      <td>-1.25</td>\n",
       "      <td>-1</td>\n",
       "      <td>0.00</td>\n",
       "      <td>0.90</td>\n",
       "    </tr>\n",
       "  </tbody>\n",
       "</table>\n",
       "</div>"
      ],
      "text/plain": [
       "User                  Susan  Mary  Phil  Greg  Jennifer    x1    x2\n",
       "Movie                                                              \n",
       "Big                    2.50  2.50 -2.50 -2.50        -1  0.90  0.00\n",
       "The Notebook           2.50 -1.00 -1.00 -2.50        -1  1.00  0.01\n",
       "Barefoot in the Park  -1.00  2.00 -2.00 -1.00        -1  0.99  0.00\n",
       "The Bourne Legacy     -2.25 -2.25  2.75  1.75        -1  0.10  1.00\n",
       "The International     -1.25 -1.25  3.75 -1.25        -1  0.00  0.90"
      ]
     },
     "execution_count": 11,
     "metadata": {},
     "output_type": "execute_result"
    }
   ],
   "source": [
    "data"
   ]
  },
  {
   "cell_type": "code",
   "execution_count": 12,
   "metadata": {
    "collapsed": false
   },
   "outputs": [],
   "source": [
    "def x_update(alpha, x, t, nk, k, i, nu, nm, data, lam):\n",
    "    '''This is the partial derivative equation required to update the movie features'''\n",
    "    \n",
    "    tsum = 0.0\n",
    "    #loop over the number of users\n",
    "    for j in xrange(nu):\n",
    "        \n",
    "        #if the movie was reviewed\n",
    "        if r(i, j, data):\n",
    "            tt = t[j]\n",
    "            tt = tt.reshape(nk, 1)\n",
    "            \n",
    "            #theta transpze x - y\n",
    "            temp = np.dot(tt.T, x[i]) - y(i, j, data)\n",
    "            \n",
    "            temp1 = temp * t[j][k]\n",
    "            tsum += temp1\n",
    "            \n",
    "    #regularize\n",
    "    tsum += lam * x[i][k]\n",
    "    return x[i][k] - alpha * tsum"
   ]
  },
  {
   "cell_type": "code",
   "execution_count": 13,
   "metadata": {
    "collapsed": true
   },
   "outputs": [],
   "source": [
    "def t_update(alpha, x, t, nk, k, j, nu, nm, data, lam):\n",
    "    '''This is the partial derivative equation required to update the user parameters, theta'''\n",
    "    \n",
    "    tsum = 0.0\n",
    "    #loop over the movies\n",
    "    for i in xrange(nm):\n",
    "        \n",
    "        #if the movie was reviewed\n",
    "        if r(i, j, data):\n",
    "            tt = t[j]\n",
    "            tt = tt.reshape(nk, 1)\n",
    "            \n",
    "            #theta transpose x - y\n",
    "            temp = np.dot(tt.T, x[i]) - y(i, j, data)\n",
    "            \n",
    "            temp1 = temp * x[i][k]\n",
    "            tsum += temp1\n",
    "            \n",
    "    #regularize\n",
    "    tsum += lam * t[j][k]\n",
    "    return t[j][k] - alpha * tsum"
   ]
  },
  {
   "cell_type": "code",
   "execution_count": 14,
   "metadata": {
    "collapsed": true
   },
   "outputs": [],
   "source": [
    "def J_Cost(x, t, nk, nu, nm, data, lam):\n",
    "    '''This is the cost function that we are minimizing with gradient descent'''\n",
    "    \n",
    "    tsum = 0.0\n",
    "    txsum = 0.0\n",
    "    ttsum = 0.0\n",
    "    \n",
    "    #loop over all the movies and all the users\n",
    "    for i in xrange(nm):\n",
    "        for j in xrange(nu):\n",
    "            \n",
    "            #if a user has reviewed a movie then process\n",
    "            if r(i, j, data):\n",
    "                tt = t[j]\n",
    "                tt = tt.reshape(nk, 1)\n",
    "                \n",
    "                #this is the squared error\n",
    "                temp = (np.dot(tt.T, x[i]) - y(i, j, data)) * (np.dot(tt.T, x[i]) - y(i, j, data))\n",
    "                \n",
    "                #the sum of the squared errors is accumulated here\n",
    "                tsum += temp\n",
    "                \n",
    "    #this is the regularization for the movie features, x\n",
    "    for i in xrange(nm):\n",
    "        for k in xrange(nk):\n",
    "            txsum += x[i][k] * x[i][k]   \n",
    "\n",
    "    #this is the regularization for the user parameters, theta\n",
    "    for j in xrange(nu):\n",
    "        for k in xrange(nk):\n",
    "            ttsum += t[j][k] * t[j][k]\n",
    "        \n",
    "    #return the result\n",
    "    res = (0.5 * tsum) + (lam/2.0 * txsum) + (lam/2.0 * ttsum)\n",
    "    return res"
   ]
  },
  {
   "cell_type": "code",
   "execution_count": 15,
   "metadata": {
    "collapsed": false
   },
   "outputs": [],
   "source": [
    "def lrmf(nm = 5, nu = 4, nk = 5, n_iterations = 100, alpha = 0.01, lam = 0.1):\n",
    "    '''This is the routine that will return a feature set for the movies, x, and a parameter set for users, theta\n",
    "    number of movies is nm\n",
    "    number of users is nu\n",
    "    number of features is nk\n",
    "    the learning rate is alpha\n",
    "    the regularization parameter (L2) is lam'''\n",
    "    \n",
    "    #set up the array for the features, and a temporary array\n",
    "    x = np.zeros((nm, nk))\n",
    "    tempx = np.zeros((nm, nk))\n",
    "\n",
    "    #initialize to small random values\n",
    "    for a in xrange(nm):\n",
    "        for b in xrange(nk):\n",
    "            x[a][b] = (np.random.rand() - 0.5)/10.0\n",
    "\n",
    "        \n",
    "    #set up the array for the user parameters, theta, and a temporary array\n",
    "    t = np.zeros((nu, nk))\n",
    "    tempt = np.zeros((nu, nk))\n",
    "\n",
    "    #initialize to small random values\n",
    "    for a in xrange(nu):\n",
    "        for b in xrange(nk):\n",
    "            t[a][b] = (np.random.rand() - 0.5)/10.0\n",
    "\n",
    "    #A variable to accumulate the cost function\n",
    "    Jcost = []\n",
    "\n",
    "    for n in xrange(n_iterations):\n",
    "    \n",
    "        Jcos =  J_Cost(x, t, nk, nu, nm, data, lam)\n",
    "        Jcost.append(Jcos)\n",
    "    \n",
    "        #get all the new variables and store them in a temporary variable\n",
    "        for i in xrange(nm):\n",
    "            for k in xrange(nk):\n",
    "                tempx[i][k] = x_update(alpha, x, t, nk, k, i, nu, nm, data, lam)\n",
    "        \n",
    "        #get all the new variables and store them in a temporary variable\n",
    "        for j in xrange(nu):\n",
    "            for k in xrange(nk):\n",
    "                tempt[j][k] = t_update(alpha, x, t, nk, k, j, nu, nm, data, lam)\n",
    "        \n",
    "        \n",
    "        #now do the updates\n",
    "        for i in xrange(nm):\n",
    "            for k in xrange(nk):\n",
    "                x[i][k] = tempx[i][k]\n",
    "        \n",
    "        for j in xrange(nu):\n",
    "            for k in xrange(nk):\n",
    "                t[j][k] = tempt[j][k]\n",
    "    return(x, t, Jcost)"
   ]
  },
  {
   "cell_type": "markdown",
   "metadata": {},
   "source": [
    "#####Run the algorithm"
   ]
  },
  {
   "cell_type": "code",
   "execution_count": 16,
   "metadata": {
    "collapsed": false
   },
   "outputs": [],
   "source": [
    "#number of movies\n",
    "#nm = 5\n",
    "\n",
    "#number of users\n",
    "#nu = 5 \n",
    "\n",
    "#number of features to use\n",
    "nk = 7 \n",
    "\n",
    "#number of iterations for gradient descent\n",
    "n_iterations = 250\n",
    "\n",
    "#the learning rate\n",
    "alpha = 0.01\n",
    "\n",
    "#the regularization constant\n",
    "lam = 0.1\n",
    "\n",
    "x, t, Jcost = lrmf(nm = nm, nu = nu, nk = nk, n_iterations = n_iterations, alpha = alpha, lam = lam)"
   ]
  },
  {
   "cell_type": "markdown",
   "metadata": {},
   "source": [
    "#####Caluculating the predicted ratings, x . theta_transpose \n",
    "#####Add the mean vector back onto the results"
   ]
  },
  {
   "cell_type": "code",
   "execution_count": 17,
   "metadata": {
    "collapsed": false
   },
   "outputs": [
    {
     "name": "stdout",
     "output_type": "stream",
     "text": [
      " 4.99  5.02  0.06  0.06  2.56 \n",
      "\n",
      " 4.92  4.92  0.24  0.02  2.56 \n",
      "\n",
      " 3.75  3.81 -0.07  0.63  2.05 \n",
      "\n",
      " 0.01 -0.02  4.94  3.96  2.20 \n",
      "\n",
      " 0.02 -0.02  4.91  0.06  1.21 \n",
      "\n"
     ]
    }
   ],
   "source": [
    "#take the transpose of the theta matrix\n",
    "t_transpose = t.T\n",
    "\n",
    "#take the inner product of x by theta transpose\n",
    "res = np.dot(x, t_transpose)\n",
    "\n",
    "#print res\n",
    "for i in xrange(nm):\n",
    "    for j in xrange(nu):\n",
    "        res[i][j] = res[i][j] + mean_vector[i]\n",
    "        print \"{:5.2f}\".format(res[i][j]),\n",
    "    print \"\\n\""
   ]
  },
  {
   "cell_type": "markdown",
   "metadata": {},
   "source": [
    "#####Finding similar movies"
   ]
  },
  {
   "cell_type": "code",
   "execution_count": 18,
   "metadata": {
    "collapsed": false
   },
   "outputs": [
    {
     "name": "stdout",
     "output_type": "stream",
     "text": [
      "     1.000      1.000      0.994      0.121      0.089 \n",
      "\n",
      "     1.000      1.000      0.993      0.137      0.113 \n",
      "\n",
      "     0.994      0.993      1.000      0.171      0.074 \n",
      "\n",
      "     0.121      0.137      0.171      1.000      0.801 \n",
      "\n",
      "     0.089      0.113      0.074      0.801      1.000 \n",
      "\n"
     ]
    }
   ],
   "source": [
    "cs = cosine_similarity(res, res)\n",
    "for i in xrange(nm):\n",
    "    for j in xrange(nm):\n",
    "        print \"{:10.3f}\".format(cs[i][j]),\n",
    "    print \"\\n\""
   ]
  },
  {
   "cell_type": "markdown",
   "metadata": {},
   "source": [
    "#####plot the cost function against iterations of gradient descent"
   ]
  },
  {
   "cell_type": "code",
   "execution_count": 19,
   "metadata": {
    "collapsed": false
   },
   "outputs": [
    {
     "data": {
      "text/plain": [
       "[<matplotlib.lines.Line2D at 0x11203ea10>]"
      ]
     },
     "execution_count": 19,
     "metadata": {},
     "output_type": "execute_result"
    },
    {
     "data": {
      "image/png": "[encoded data removed]",
      "text/plain": [
       "<matplotlib.figure.Figure at 0x10ce49150>"
      ]
     },
     "metadata": {},
     "output_type": "display_data"
    }
   ],
   "source": [
    "#Plot the cost function over the number of iterations\n",
    "fig = plt.figure(figsize = (5, 5))\n",
    "ax = plt.subplot(111)\n",
    "x_plot = np.linspace(0, n_iterations, n_iterations)\n",
    "ax.plot(x_plot, Jcost)"
   ]
  },
  {
   "cell_type": "code",
   "execution_count": 20,
   "metadata": {
    "collapsed": false
   },
   "outputs": [],
   "source": [
    "#put the results into a data frame\n",
    "def produce_predicted_dataframe(nu, t, nm, x, k, user_name_list, movie_list, mean_vector):\n",
    "    '''This function produces a data frame which contains all the predictions from the model'''\n",
    "    \n",
    "    #assemble the data in a python dictionary\n",
    "    p = {}\n",
    "    \n",
    "    #take the transpose of the theta matrix\n",
    "    t_transpose = t.T\n",
    "\n",
    "    #take the inner product of x by theta transpose\n",
    "    res = np.dot(x, t_transpose)\n",
    "    for j in xrange(nm):\n",
    "        for i in xrange(nu):\n",
    "            res[j][i] += mean_vector[i]\n",
    "\n",
    "    for user in xrange(nu):\n",
    "        p[user] = res[:,user]\n",
    "    \n",
    "    for k in xrange(nk):\n",
    "        thestr = 'x'+str(int(k))\n",
    "        p[thestr] = {}\n",
    "        res = []\n",
    "        for i in xrange(nm):\n",
    "            res.append(x[i][k])\n",
    "        p[thestr] = res\n",
    "    \n",
    "    p = pd.DataFrame(p)\n",
    "    \n",
    "    p.index.name = \"Movie\"\n",
    "    p.columns.name = \"User\"\n",
    "    \n",
    "    for i in xrange(k + 1):\n",
    "        the_str = 'x' + str(int(i))\n",
    "        user_name_list.append(the_str)\n",
    "    p.columns = name_list\n",
    "    p.index = movie_list\n",
    "    return p"
   ]
  },
  {
   "cell_type": "markdown",
   "metadata": {},
   "source": [
    "#####Produce a data frame to compare with the original data frame"
   ]
  },
  {
   "cell_type": "code",
   "execution_count": 21,
   "metadata": {
    "collapsed": false
   },
   "outputs": [],
   "source": [
    "#using the original data frame get a list of the users\n",
    "name_list = []\n",
    "for j in xrange(nu):\n",
    "    name_list.append(data.columns.values[j])\n",
    "\n",
    "#using the original data frame get a list of the movies\n",
    "movie_list = []\n",
    "for i in xrange(nm):\n",
    "    movie_list.append(data.index.values[i])\n",
    "    \n",
    "#assemble the data into a data frame\n",
    "dataP = produce_predicted_dataframe(nu, t, nm, x, nk, name_list, movie_list, mean_vector)"
   ]
  },
  {
   "cell_type": "code",
   "execution_count": 22,
   "metadata": {
    "collapsed": true
   },
   "outputs": [],
   "source": [
    "format = lambda x: \"{:0.2f}\".format(x)"
   ]
  },
  {
   "cell_type": "code",
   "execution_count": 23,
   "metadata": {
    "collapsed": false
   },
   "outputs": [
    {
     "data": {
      "text/html": [
       "<div>\n",
       "<table border=\"1\" class=\"dataframe\">\n",
       "  <thead>\n",
       "    <tr style=\"text-align: right;\">\n",
       "      <th></th>\n",
       "      <th>Susan</th>\n",
       "      <th>Mary</th>\n",
       "      <th>Phil</th>\n",
       "      <th>Greg</th>\n",
       "      <th>Jennifer</th>\n",
       "      <th>x0</th>\n",
       "      <th>x1</th>\n",
       "      <th>x2</th>\n",
       "      <th>x3</th>\n",
       "      <th>x4</th>\n",
       "      <th>x5</th>\n",
       "      <th>x6</th>\n",
       "    </tr>\n",
       "  </thead>\n",
       "  <tbody>\n",
       "    <tr>\n",
       "      <th>Big</th>\n",
       "      <td>4.99</td>\n",
       "      <td>5.02</td>\n",
       "      <td>-0.44</td>\n",
       "      <td>-0.19</td>\n",
       "      <td>1.31</td>\n",
       "      <td>0.14</td>\n",
       "      <td>-1.21</td>\n",
       "      <td>-0.20</td>\n",
       "      <td>-0.47</td>\n",
       "      <td>0.37</td>\n",
       "      <td>-0.53</td>\n",
       "      <td>0.77</td>\n",
       "    </tr>\n",
       "    <tr>\n",
       "      <th>The Notebook</th>\n",
       "      <td>4.92</td>\n",
       "      <td>4.92</td>\n",
       "      <td>-0.26</td>\n",
       "      <td>-0.23</td>\n",
       "      <td>1.31</td>\n",
       "      <td>0.19</td>\n",
       "      <td>-1.21</td>\n",
       "      <td>-0.20</td>\n",
       "      <td>-0.37</td>\n",
       "      <td>0.45</td>\n",
       "      <td>-0.49</td>\n",
       "      <td>0.73</td>\n",
       "    </tr>\n",
       "    <tr>\n",
       "      <th>Barefoot in the Park</th>\n",
       "      <td>4.25</td>\n",
       "      <td>4.31</td>\n",
       "      <td>-0.07</td>\n",
       "      <td>0.88</td>\n",
       "      <td>1.30</td>\n",
       "      <td>0.07</td>\n",
       "      <td>-0.83</td>\n",
       "      <td>-0.11</td>\n",
       "      <td>-0.45</td>\n",
       "      <td>-0.03</td>\n",
       "      <td>-0.40</td>\n",
       "      <td>0.54</td>\n",
       "    </tr>\n",
       "    <tr>\n",
       "      <th>The Bourne Legacy</th>\n",
       "      <td>0.26</td>\n",
       "      <td>0.23</td>\n",
       "      <td>4.69</td>\n",
       "      <td>3.96</td>\n",
       "      <td>1.20</td>\n",
       "      <td>-0.12</td>\n",
       "      <td>1.12</td>\n",
       "      <td>0.06</td>\n",
       "      <td>0.56</td>\n",
       "      <td>-0.05</td>\n",
       "      <td>0.55</td>\n",
       "      <td>-0.53</td>\n",
       "    </tr>\n",
       "    <tr>\n",
       "      <th>The International</th>\n",
       "      <td>1.27</td>\n",
       "      <td>1.23</td>\n",
       "      <td>5.66</td>\n",
       "      <td>1.06</td>\n",
       "      <td>1.21</td>\n",
       "      <td>-0.16</td>\n",
       "      <td>0.77</td>\n",
       "      <td>-0.68</td>\n",
       "      <td>0.81</td>\n",
       "      <td>1.20</td>\n",
       "      <td>0.64</td>\n",
       "      <td>0.35</td>\n",
       "    </tr>\n",
       "  </tbody>\n",
       "</table>\n",
       "</div>"
      ],
      "text/plain": [
       "                     Susan  Mary   Phil   Greg Jennifer     x0     x1     x2  \\\n",
       "Big                   4.99  5.02  -0.44  -0.19     1.31   0.14  -1.21  -0.20   \n",
       "The Notebook          4.92  4.92  -0.26  -0.23     1.31   0.19  -1.21  -0.20   \n",
       "Barefoot in the Park  4.25  4.31  -0.07   0.88     1.30   0.07  -0.83  -0.11   \n",
       "The Bourne Legacy     0.26  0.23   4.69   3.96     1.20  -0.12   1.12   0.06   \n",
       "The International     1.27  1.23   5.66   1.06     1.21  -0.16   0.77  -0.68   \n",
       "\n",
       "                         x3     x4     x5     x6  \n",
       "Big                   -0.47   0.37  -0.53   0.77  \n",
       "The Notebook          -0.37   0.45  -0.49   0.73  \n",
       "Barefoot in the Park  -0.45  -0.03  -0.40   0.54  \n",
       "The Bourne Legacy      0.56  -0.05   0.55  -0.53  \n",
       "The International      0.81   1.20   0.64   0.35  "
      ]
     },
     "execution_count": 23,
     "metadata": {},
     "output_type": "execute_result"
    }
   ],
   "source": [
    "dataP.applymap(format)"
   ]
  },
  {
   "cell_type": "code",
   "execution_count": 24,
   "metadata": {
    "collapsed": false
   },
   "outputs": [
    {
     "data": {
      "text/html": [
       "<div>\n",
       "<table border=\"1\" class=\"dataframe\">\n",
       "  <thead>\n",
       "    <tr style=\"text-align: right;\">\n",
       "      <th>User</th>\n",
       "      <th>Susan</th>\n",
       "      <th>Mary</th>\n",
       "      <th>Phil</th>\n",
       "      <th>Greg</th>\n",
       "      <th>Jennifer</th>\n",
       "      <th>x1</th>\n",
       "      <th>x2</th>\n",
       "    </tr>\n",
       "    <tr>\n",
       "      <th>Movie</th>\n",
       "      <th></th>\n",
       "      <th></th>\n",
       "      <th></th>\n",
       "      <th></th>\n",
       "      <th></th>\n",
       "      <th></th>\n",
       "      <th></th>\n",
       "    </tr>\n",
       "  </thead>\n",
       "  <tbody>\n",
       "    <tr>\n",
       "      <th>Big</th>\n",
       "      <td>5</td>\n",
       "      <td>5</td>\n",
       "      <td>0</td>\n",
       "      <td>0</td>\n",
       "      <td>-1</td>\n",
       "      <td>0.90</td>\n",
       "      <td>0.00</td>\n",
       "    </tr>\n",
       "    <tr>\n",
       "      <th>The Notebook</th>\n",
       "      <td>5</td>\n",
       "      <td>-1</td>\n",
       "      <td>-1</td>\n",
       "      <td>0</td>\n",
       "      <td>-1</td>\n",
       "      <td>1.00</td>\n",
       "      <td>0.01</td>\n",
       "    </tr>\n",
       "    <tr>\n",
       "      <th>Barefoot in the Park</th>\n",
       "      <td>-1</td>\n",
       "      <td>4</td>\n",
       "      <td>0</td>\n",
       "      <td>-1</td>\n",
       "      <td>-1</td>\n",
       "      <td>0.99</td>\n",
       "      <td>0.00</td>\n",
       "    </tr>\n",
       "    <tr>\n",
       "      <th>The Bourne Legacy</th>\n",
       "      <td>0</td>\n",
       "      <td>0</td>\n",
       "      <td>5</td>\n",
       "      <td>4</td>\n",
       "      <td>-1</td>\n",
       "      <td>0.10</td>\n",
       "      <td>1.00</td>\n",
       "    </tr>\n",
       "    <tr>\n",
       "      <th>The International</th>\n",
       "      <td>0</td>\n",
       "      <td>0</td>\n",
       "      <td>5</td>\n",
       "      <td>0</td>\n",
       "      <td>-1</td>\n",
       "      <td>0.00</td>\n",
       "      <td>0.90</td>\n",
       "    </tr>\n",
       "  </tbody>\n",
       "</table>\n",
       "</div>"
      ],
      "text/plain": [
       "User                  Susan  Mary  Phil  Greg  Jennifer    x1    x2\n",
       "Movie                                                              \n",
       "Big                       5     5     0     0        -1  0.90  0.00\n",
       "The Notebook              5    -1    -1     0        -1  1.00  0.01\n",
       "Barefoot in the Park     -1     4     0    -1        -1  0.99  0.00\n",
       "The Bourne Legacy         0     0     5     4        -1  0.10  1.00\n",
       "The International         0     0     5     0        -1  0.00  0.90"
      ]
     },
     "execution_count": 24,
     "metadata": {},
     "output_type": "execute_result"
    }
   ],
   "source": [
    "data_orig"
   ]
  },
  {
   "cell_type": "markdown",
   "metadata": {},
   "source": [
    "#####Mean normalization takes care of the case where a user hasn't rated a movie yet\n",
    "#####As a general rule is a movie hasn't receieved any ratings yet you probably shouldn't be recommending it, so we don't generally use mean normalization to fix this case"
   ]
  }
 ],
 "metadata": {
  "kernelspec": {
   "display_name": "Python 2",
   "language": "python",
   "name": "python2"
  },
  "language_info": {
   "codemirror_mode": {
    "name": "ipython",
    "version": 2
   },
   "file_extension": ".py",
   "mimetype": "text/x-python",
   "name": "python",
   "nbconvert_exporter": "python",
   "pygments_lexer": "ipython2",
   "version": "2.7.10"
  }
 },
 "nbformat": 4,
 "nbformat_minor": 0
}
