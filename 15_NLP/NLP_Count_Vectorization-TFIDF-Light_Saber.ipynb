{
 "cells": [
  {
   "cell_type": "code",
   "execution_count": 1,
   "metadata": {
    "collapsed": false
   },
   "outputs": [],
   "source": [
    "import numpy as np\n",
    "import pandas as pd\n",
    "from sklearn.feature_extraction.text import CountVectorizer\n",
    "from sklearn.feature_extraction.text import TfidfTransformer\n",
    "from sklearn.feature_extraction.text import TfidfVectorizer\n",
    "from sklearn.metrics.pairwise import cosine_similarity\n",
    "import nltk\n",
    "from sklearn.feature_extraction.text import ENGLISH_STOP_WORDS"
   ]
  },
  {
   "cell_type": "markdown",
   "metadata": {},
   "source": [
    "---\n",
    "Example\n",
    "=====\n",
    "***"
   ]
  },
  {
   "cell_type": "code",
   "execution_count": 2,
   "metadata": {
    "collapsed": true
   },
   "outputs": [],
   "source": [
    "#A simple corpus of 3 documents, each containing a single sentenct\n",
    "document_setA = [\"this is any pen any pen any\", \n",
    "                \"this example has this example pen pen\",\n",
    "                \"shines any pen any pen example shines any pen pen\"]"
   ]
  },
  {
   "cell_type": "code",
   "execution_count": 3,
   "metadata": {
    "collapsed": false
   },
   "outputs": [
    {
     "name": "stdout",
     "output_type": "stream",
     "text": [
      "  (0, 6)\t1\n",
      "  (0, 3)\t1\n",
      "  (0, 0)\t3\n",
      "  (0, 4)\t2\n",
      "  (1, 6)\t2\n",
      "  (1, 4)\t2\n",
      "  (1, 1)\t2\n",
      "  (1, 2)\t1\n",
      "  (2, 0)\t3\n",
      "  (2, 4)\t4\n",
      "  (2, 1)\t1\n",
      "  (2, 5)\t2\n",
      "[u'any', u'example', u'has', u'is', u'pen', u'shines', u'this']\n"
     ]
    },
    {
     "data": {
      "text/plain": [
       "matrix([[3, 0, 0, 1, 2, 0, 1],\n",
       "        [0, 2, 1, 0, 2, 0, 2],\n",
       "        [3, 1, 0, 0, 4, 2, 0]])"
      ]
     },
     "execution_count": 3,
     "metadata": {},
     "output_type": "execute_result"
    }
   ],
   "source": [
    "#Use the count vectorizer to convert the text into a numerical matrix\n",
    "vectorizerA = CountVectorizer()\n",
    "\n",
    "#use the one-shot fit_transform method\n",
    "freq_term_matrixA = vectorizerA.fit_transform(document_setA)\n",
    "\n",
    "#print the matrix\n",
    "print freq_term_matrixA\n",
    "\n",
    "#print the vocabulary from the vectorizer\n",
    "print vectorizerA.get_feature_names()\n",
    "\n",
    "#compare this to the sparse array representation\n",
    "freq_term_matrixA.todense()"
   ]
  },
  {
   "cell_type": "code",
   "execution_count": 4,
   "metadata": {
    "collapsed": false
   },
   "outputs": [
    {
     "name": "stdout",
     "output_type": "stream",
     "text": [
      "This is the tfidf sparse matrix:\n",
      "  (0, 4)\t0.41302572877\n",
      "  (0, 0)\t0.797768739598\n",
      "  (0, 3)\t0.349656674083\n",
      "  (0, 6)\t0.265922913199\n",
      "  (1, 2)\t0.377358350999\n",
      "  (1, 1)\t0.573981505035\n",
      "  (1, 4)\t0.445747842044\n",
      "  (1, 6)\t0.573981505035\n",
      "  (2, 5)\t0.510223460334\n",
      "  (2, 1)\t0.194019046412\n",
      "  (2, 4)\t0.602692389878\n",
      "  (2, 0)\t0.582057139237\n",
      "\n",
      "\n",
      "Sentence = ' this is any pen any pen any                        '   ??tf =  0.80 any\n",
      "Sentence = ' this is any pen any pen any                        '   ??tf =  0.00 example\n",
      "Sentence = ' this is any pen any pen any                        '   ??tf =  0.00 has\n",
      "Sentence = ' this is any pen any pen any                        '   ??tf =  0.35 is\n",
      "Sentence = ' this is any pen any pen any                        '   ??tf =  0.41 pen\n",
      "Sentence = ' this is any pen any pen any                        '   ??tf =  0.00 shines\n",
      "Sentence = ' this is any pen any pen any                        '   ??tf =  0.27 this\n",
      "Sentence = ' this example has this example pen pen              '   ??tf =  0.00 any\n",
      "Sentence = ' this example has this example pen pen              '   ??tf =  0.57 example\n",
      "Sentence = ' this example has this example pen pen              '   ??tf =  0.38 has\n",
      "Sentence = ' this example has this example pen pen              '   ??tf =  0.00 is\n",
      "Sentence = ' this example has this example pen pen              '   ??tf =  0.45 pen\n",
      "Sentence = ' this example has this example pen pen              '   ??tf =  0.00 shines\n",
      "Sentence = ' this example has this example pen pen              '   ??tf =  0.57 this\n",
      "Sentence = ' shines any pen any pen example shines any pen pen  '   ??tf =  0.58 any\n",
      "Sentence = ' shines any pen any pen example shines any pen pen  '   ??tf =  0.19 example\n",
      "Sentence = ' shines any pen any pen example shines any pen pen  '   ??tf =  0.00 has\n",
      "Sentence = ' shines any pen any pen example shines any pen pen  '   ??tf =  0.00 is\n",
      "Sentence = ' shines any pen any pen example shines any pen pen  '   ??tf =  0.60 pen\n",
      "Sentence = ' shines any pen any pen example shines any pen pen  '   ??tf =  0.51 shines\n",
      "Sentence = ' shines any pen any pen example shines any pen pen  '   ??tf =  0.00 this\n",
      "\n",
      "Inverse Document Freq:\n",
      "any        :  1.29\n",
      "example    :  1.29\n",
      "has        :  1.69\n",
      "is         :  1.69\n",
      "pen        :  1.00\n",
      "shines     :  1.69\n",
      "this       :  1.29\n"
     ]
    }
   ],
   "source": [
    "#since we have used a count vectorizer already we only need a tfidf transformer\n",
    "tfidf = TfidfTransformer()\n",
    "\n",
    "#fit and transform using the output of the vectorizer\n",
    "tfidf_tm = tfidf.fit_transform(freq_term_matrixA)\n",
    "\n",
    "print \"This is the tfidf sparse matrix:\"\n",
    "print tfidf_tm\n",
    "\n",
    "print \"\\n\"\n",
    "for j, sent in enumerate(document_setA):\n",
    "    for i, f in enumerate(vectorizerA.get_feature_names()):\n",
    "        print \"Sentence = '\", \"{:50s}\".format(sent),\"'   \" \"??tf = {:5.2f}\".format(tfidf_tm[j, i]), f\n",
    "\n",
    "print \"\\nInverse Document Freq:\"\n",
    "for i, f in enumerate(vectorizerA.get_feature_names()):\n",
    "    print \"{:10s}\".format(f), \":\", \"{:5.2f}\".format(tfidf.idf_[i])\n",
    "#for i in , tfidf.idf_"
   ]
  },
  {
   "cell_type": "markdown",
   "metadata": {},
   "source": [
    "---\n",
    "Another Example\n",
    "=====\n",
    "***"
   ]
  },
  {
   "cell_type": "code",
   "execution_count": 5,
   "metadata": {
    "collapsed": false
   },
   "outputs": [],
   "source": [
    "document_set = (\"Your father's lightsaber. This is the weapon of a Jedi Knight.\",\n",
    "        \"A lightsaber is an interesting weapon, a blade unique in the history of warfare.\",\n",
    "        \"A lightsaber is a fictional energy weapon featured in the Star Wars universe.\",\n",
    "        \"Lightsabers are hand-built as part of a Jedi's or Sith's training regimen.\",\n",
    "        \"The lightsaber is the weapon of a Jedi, an elegant weapon of a more civilized age. \")"
   ]
  },
  {
   "cell_type": "code",
   "execution_count": 6,
   "metadata": {
    "collapsed": false
   },
   "outputs": [],
   "source": [
    "def clean_and_stem(text):\n",
    "    stop_words = ENGLISH_STOP_WORDS\n",
    "    stemmer = nltk.stem.LancasterStemmer()\n",
    "    tokens = nltk.word_tokenize(text.lower())\n",
    "    clean_tokens = [word for word in tokens if word not in stop_words]\n",
    "    stem_tokens = [stemmer.stem(token) for token in clean_tokens]\n",
    "    return \" \".join(stem_tokens)"
   ]
  },
  {
   "cell_type": "code",
   "execution_count": 7,
   "metadata": {
    "collapsed": false
   },
   "outputs": [],
   "source": [
    "clean_document_set = [clean_and_stem(doc) for doc in document_set]"
   ]
  },
  {
   "cell_type": "code",
   "execution_count": 8,
   "metadata": {
    "collapsed": false
   },
   "outputs": [
    {
     "name": "stdout",
     "output_type": "stream",
     "text": [
      "fath 's lightsab . weapon jed knight .\n",
      "lightsab interest weapon , blad un hist warf .\n",
      "lightsab fict energy weapon feat star war univers .\n",
      "lightsab hand-built jed 's sith 's train regim .\n",
      "lightsab weapon jed , eleg weapon civil ag .\n"
     ]
    }
   ],
   "source": [
    "for doc in clean_document_set:\n",
    "    print doc"
   ]
  },
  {
   "cell_type": "markdown",
   "metadata": {},
   "source": [
    "#####Add a little \"hand cleaning\"!"
   ]
  },
  {
   "cell_type": "code",
   "execution_count": 9,
   "metadata": {
    "collapsed": false
   },
   "outputs": [],
   "source": [
    "clean_document_set2 = []\n",
    "for doc in clean_document_set:\n",
    "    v =[token for token in doc if token not in [\"'\", '.', ',', \"s\"]]\n",
    "    clean_document_set2.append(\"\".join(v))"
   ]
  },
  {
   "cell_type": "code",
   "execution_count": 10,
   "metadata": {
    "collapsed": false
   },
   "outputs": [
    {
     "name": "stdout",
     "output_type": "stream",
     "text": [
      "fath  lightab  weapon jed knight \n",
      "lightab interet weapon  blad un hit warf \n",
      "lightab fict energy weapon feat tar war univer \n",
      "lightab hand-built jed  ith  train regim \n",
      "lightab weapon jed  eleg weapon civil ag \n"
     ]
    }
   ],
   "source": [
    "for doc in clean_document_set2:\n",
    "    print doc"
   ]
  },
  {
   "cell_type": "code",
   "execution_count": 11,
   "metadata": {
    "collapsed": false
   },
   "outputs": [
    {
     "name": "stdout",
     "output_type": "stream",
     "text": [
      "\n",
      "Inverse Document Freq:\n",
      "ag             :  2.10\n",
      "blad           :  2.10\n",
      "built          :  2.10\n",
      "civil          :  2.10\n",
      "eleg           :  2.10\n",
      "energy         :  2.10\n",
      "fath           :  2.10\n",
      "feat           :  2.10\n",
      "fict           :  2.10\n",
      "hand           :  2.10\n",
      "hit            :  2.10\n",
      "interet        :  2.10\n",
      "ith            :  2.10\n",
      "jed            :  1.41\n",
      "knight         :  2.10\n",
      "lightab        :  1.00\n",
      "regim          :  2.10\n",
      "tar            :  2.10\n",
      "train          :  2.10\n",
      "un             :  2.10\n",
      "univer         :  2.10\n",
      "war            :  2.10\n",
      "warf           :  2.10\n",
      "weapon         :  1.18\n"
     ]
    }
   ],
   "source": [
    "tfidfV = TfidfVectorizer()\n",
    "tfidfV_tm = tfidfV.fit_transform(clean_document_set2)\n",
    "\n",
    "print \"\\nInverse Document Freq:\"\n",
    "for i, f in enumerate(tfidfV.get_feature_names()):\n",
    "    print \"{:14s}\".format(f), \":\", \"{:5.2f}\".format(tfidfV.idf_[i])"
   ]
  },
  {
   "cell_type": "markdown",
   "metadata": {},
   "source": [
    "---\n",
    "Cosine Similarity\n",
    "=====\n",
    "***"
   ]
  },
  {
   "cell_type": "markdown",
   "metadata": {},
   "source": [
    "#####Which of the sentences are more like each other?"
   ]
  },
  {
   "cell_type": "code",
   "execution_count": 12,
   "metadata": {
    "collapsed": false
   },
   "outputs": [
    {
     "name": "stdout",
     "output_type": "stream",
     "text": [
      "[[ 1.          0.13365433  0.12302     0.1639136   0.34060603]]\n",
      "[[ 0.13365433  1.          0.09038523  0.04047634  0.16459443]]\n",
      "[[ 0.12302     0.09038523  1.          0.03725581  0.15149833]]\n",
      "[[ 0.1639136   0.04047634  0.03725581  1.          0.12751921]]\n",
      "[[ 0.34060603  0.16459443  0.15149833  0.12751921  1.        ]]\n"
     ]
    }
   ],
   "source": [
    "for i in range(5):\n",
    "    print cosine_similarity(tfidfV_tm[i], tfidfV_tm)"
   ]
  }
 ],
 "metadata": {
  "kernelspec": {
   "display_name": "Python 2",
   "language": "python",
   "name": "python2"
  },
  "language_info": {
   "codemirror_mode": {
    "name": "ipython",
    "version": 2
   },
   "file_extension": ".py",
   "mimetype": "text/x-python",
   "name": "python",
   "nbconvert_exporter": "python",
   "pygments_lexer": "ipython2",
   "version": "2.7.10"
  }
 },
 "nbformat": 4,
 "nbformat_minor": 0
}
