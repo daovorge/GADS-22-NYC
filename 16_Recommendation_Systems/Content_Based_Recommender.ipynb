{
 "cells": [
  {
   "cell_type": "code",
   "execution_count": 2,
   "metadata": {
    "collapsed": true
   },
   "outputs": [],
   "source": [
    "import numpy as np\n",
    "import pandas as pd\n",
    "from sklearn.linear_model import Ridge"
   ]
  },
  {
   "cell_type": "markdown",
   "metadata": {},
   "source": [
    "####Just create a tiny database here to illustrate concepts"
   ]
  },
  {
   "cell_type": "code",
   "execution_count": 3,
   "metadata": {
    "collapsed": false
   },
   "outputs": [],
   "source": [
    "data = pd.DataFrame({'Susan':[5,5,-1,0,0], \"Mary\":[5, -1, 4, 0, 0], \"Phil\":[0, -1, 0, 5, 5], \"Greg\":[0, 0, -1, 4, -1],\n",
    "                    'Romantic':[0.9, 1.0, 0.99, 0.1, 0.0], 'Action':[0, 0.01, 0, 1.0, 0.9]}\\\n",
    "                   , columns = ['Susan', 'Mary', 'Phil', 'Greg', 'Romantic', 'Action']\n",
    "                   , index=[\"Big\", \"The Notebook\", \"Barefoot in the Park\", \"The Bourne Legacy\", \"The International\"]\n",
    "                   )\n",
    "data.index.name = \"Movie\"\n",
    "data.columns.name = \"User\""
   ]
  },
  {
   "cell_type": "code",
   "execution_count": 4,
   "metadata": {
    "collapsed": false
   },
   "outputs": [
    {
     "data": {
      "text/html": [
       "<div>\n",
       "<table border=\"1\" class=\"dataframe\">\n",
       "  <thead>\n",
       "    <tr style=\"text-align: right;\">\n",
       "      <th>User</th>\n",
       "      <th>Susan</th>\n",
       "      <th>Mary</th>\n",
       "      <th>Phil</th>\n",
       "      <th>Greg</th>\n",
       "    </tr>\n",
       "    <tr>\n",
       "      <th>Movie</th>\n",
       "      <th></th>\n",
       "      <th></th>\n",
       "      <th></th>\n",
       "      <th></th>\n",
       "    </tr>\n",
       "  </thead>\n",
       "  <tbody>\n",
       "    <tr>\n",
       "      <th>Big</th>\n",
       "      <td>5</td>\n",
       "      <td>5</td>\n",
       "      <td>0</td>\n",
       "      <td>0</td>\n",
       "    </tr>\n",
       "    <tr>\n",
       "      <th>The Notebook</th>\n",
       "      <td>5</td>\n",
       "      <td>-1</td>\n",
       "      <td>-1</td>\n",
       "      <td>0</td>\n",
       "    </tr>\n",
       "    <tr>\n",
       "      <th>Barefoot in the Park</th>\n",
       "      <td>-1</td>\n",
       "      <td>4</td>\n",
       "      <td>0</td>\n",
       "      <td>-1</td>\n",
       "    </tr>\n",
       "    <tr>\n",
       "      <th>The Bourne Legacy</th>\n",
       "      <td>0</td>\n",
       "      <td>0</td>\n",
       "      <td>5</td>\n",
       "      <td>4</td>\n",
       "    </tr>\n",
       "    <tr>\n",
       "      <th>The International</th>\n",
       "      <td>0</td>\n",
       "      <td>0</td>\n",
       "      <td>5</td>\n",
       "      <td>-1</td>\n",
       "    </tr>\n",
       "  </tbody>\n",
       "</table>\n",
       "</div>"
      ],
      "text/plain": [
       "User                  Susan  Mary  Phil  Greg\n",
       "Movie                                        \n",
       "Big                       5     5     0     0\n",
       "The Notebook              5    -1    -1     0\n",
       "Barefoot in the Park     -1     4     0    -1\n",
       "The Bourne Legacy         0     0     5     4\n",
       "The International         0     0     5    -1"
      ]
     },
     "execution_count": 4,
     "metadata": {},
     "output_type": "execute_result"
    }
   ],
   "source": [
    "data[['Susan', 'Mary', 'Phil', 'Greg']]"
   ]
  },
  {
   "cell_type": "markdown",
   "metadata": {},
   "source": [
    "#####But this is content based, so we have some information about the movies themselves"
   ]
  },
  {
   "cell_type": "code",
   "execution_count": 5,
   "metadata": {
    "collapsed": false
   },
   "outputs": [
    {
     "data": {
      "text/html": [
       "<div>\n",
       "<table border=\"1\" class=\"dataframe\">\n",
       "  <thead>\n",
       "    <tr style=\"text-align: right;\">\n",
       "      <th>User</th>\n",
       "      <th>Susan</th>\n",
       "      <th>Mary</th>\n",
       "      <th>Phil</th>\n",
       "      <th>Greg</th>\n",
       "      <th>Romantic</th>\n",
       "      <th>Action</th>\n",
       "    </tr>\n",
       "    <tr>\n",
       "      <th>Movie</th>\n",
       "      <th></th>\n",
       "      <th></th>\n",
       "      <th></th>\n",
       "      <th></th>\n",
       "      <th></th>\n",
       "      <th></th>\n",
       "    </tr>\n",
       "  </thead>\n",
       "  <tbody>\n",
       "    <tr>\n",
       "      <th>Big</th>\n",
       "      <td>5</td>\n",
       "      <td>5</td>\n",
       "      <td>0</td>\n",
       "      <td>0</td>\n",
       "      <td>0.90</td>\n",
       "      <td>0.00</td>\n",
       "    </tr>\n",
       "    <tr>\n",
       "      <th>The Notebook</th>\n",
       "      <td>5</td>\n",
       "      <td>-1</td>\n",
       "      <td>-1</td>\n",
       "      <td>0</td>\n",
       "      <td>1.00</td>\n",
       "      <td>0.01</td>\n",
       "    </tr>\n",
       "    <tr>\n",
       "      <th>Barefoot in the Park</th>\n",
       "      <td>-1</td>\n",
       "      <td>4</td>\n",
       "      <td>0</td>\n",
       "      <td>-1</td>\n",
       "      <td>0.99</td>\n",
       "      <td>0.00</td>\n",
       "    </tr>\n",
       "    <tr>\n",
       "      <th>The Bourne Legacy</th>\n",
       "      <td>0</td>\n",
       "      <td>0</td>\n",
       "      <td>5</td>\n",
       "      <td>4</td>\n",
       "      <td>0.10</td>\n",
       "      <td>1.00</td>\n",
       "    </tr>\n",
       "    <tr>\n",
       "      <th>The International</th>\n",
       "      <td>0</td>\n",
       "      <td>0</td>\n",
       "      <td>5</td>\n",
       "      <td>-1</td>\n",
       "      <td>0.00</td>\n",
       "      <td>0.90</td>\n",
       "    </tr>\n",
       "  </tbody>\n",
       "</table>\n",
       "</div>"
      ],
      "text/plain": [
       "User                  Susan  Mary  Phil  Greg  Romantic  Action\n",
       "Movie                                                          \n",
       "Big                       5     5     0     0      0.90    0.00\n",
       "The Notebook              5    -1    -1     0      1.00    0.01\n",
       "Barefoot in the Park     -1     4     0    -1      0.99    0.00\n",
       "The Bourne Legacy         0     0     5     4      0.10    1.00\n",
       "The International         0     0     5    -1      0.00    0.90"
      ]
     },
     "execution_count": 5,
     "metadata": {},
     "output_type": "execute_result"
    }
   ],
   "source": [
    "data"
   ]
  },
  {
   "cell_type": "markdown",
   "metadata": {},
   "source": [
    "#####Suppose we know the parameters for Susan"
   ]
  },
  {
   "cell_type": "code",
   "execution_count": 8,
   "metadata": {
    "collapsed": false
   },
   "outputs": [
    {
     "name": "stdout",
     "output_type": "stream",
     "text": [
      "[ 0.  5.  0.]\n"
     ]
    }
   ],
   "source": [
    "s_theta = np.array([0.0, 5.0, 0.0])\n",
    "print s_theta"
   ]
  },
  {
   "cell_type": "markdown",
   "metadata": {},
   "source": [
    "#####The feature for any given movie is determined by the feature values, remember the first value is the intercept"
   ]
  },
  {
   "cell_type": "code",
   "execution_count": 6,
   "metadata": {
    "collapsed": false
   },
   "outputs": [
    {
     "name": "stdout",
     "output_type": "stream",
     "text": [
      "[ 1.    0.99  0.  ]\n"
     ]
    }
   ],
   "source": [
    "barefoot_fv = np.ones((3,))\n",
    "barefoot_fv[1:] = data.ix['Barefoot in the Park'][['Romantic', 'Action']].values\n",
    "print barefoot_fv"
   ]
  },
  {
   "cell_type": "markdown",
   "metadata": {},
   "source": [
    "#####We need to manipulate theta into the correct shape\n",
    "#####We need a 1 x 3 matrix for multiplication with another 3 x 1 matrix to get a 1 x 1 matrix or a scalar"
   ]
  },
  {
   "cell_type": "code",
   "execution_count": 13,
   "metadata": {
    "collapsed": false
   },
   "outputs": [
    {
     "name": "stdout",
     "output_type": "stream",
     "text": [
      "(3, 1)\n",
      "[[ 0.  5.  0.]]\n",
      "(1, 3)\n"
     ]
    }
   ],
   "source": [
    "s_theta = s_theta.reshape(3, 1)\n",
    "print s_theta.shape\n",
    "print s_theta.T\n",
    "print s_theta.T.shape"
   ]
  },
  {
   "cell_type": "markdown",
   "metadata": {},
   "source": [
    "#####To predict we simply multiply $\\theta^{T}x$"
   ]
  },
  {
   "cell_type": "code",
   "execution_count": 11,
   "metadata": {
    "collapsed": false
   },
   "outputs": [
    {
     "name": "stdout",
     "output_type": "stream",
     "text": [
      "[ 4.95]\n"
     ]
    }
   ],
   "source": [
    "barefoot_prediction_susan = np.dot(s_theta.T, barefoot_fv)\n",
    "print barefoot_prediction_susan"
   ]
  },
  {
   "cell_type": "markdown",
   "metadata": {},
   "source": [
    "---\n",
    "##To learn $\\theta^{j}$ \n",
    "---\n",
    "\n",
    "###$$\\text{min } \\theta^{j} \\frac{1}{2} \\sum_{i:r(i, j)==1}(\\theta^{jT}x^{i} - y ^{i, j})^{2} + \\frac{\\lambda}{2}\\sum_{k=1}^{N}(\\theta_{k}^{j})^{2}$$\n",
    "\n",
    "###where:\n",
    "###- $j$ is the user\n",
    "###- $i$ is the movie\n",
    "###- $r(i,j) == 1$ if user $j$ has rated movie $i$\n",
    "###- $\\theta^{j}$ is the parameter vector for user $j$\n",
    "###- $x^{i}$ is the feature vector for movie $i$\n",
    "###- $y^{i,j}$ is the rating by user $j$ for movie $i$, if user $j$ has rated that movie\n",
    "###$\\frac{\\lambda}{2}\\sum_{k=1}^{N}(\\theta_{k}^{j})^{2}$ is the regularization term\n",
    "---"
   ]
  },
  {
   "cell_type": "markdown",
   "metadata": {},
   "source": [
    "---\n",
    "##To learn $\\theta^{j} (i.e. \\theta^{0}, \\theta^{1}, \\theta^{2}, ..., \\theta^{nu})$ for all users \n",
    "---\n",
    "\n",
    "###$$\\text{min } \\theta^{0},...,\\theta^{nu} \\frac{1}{2} \\sum_{j=1}^{nu}\\sum_{i:r(i, j)==1}(\\theta^{jT}x^{i} - y ^{i, j})^{2} + \\frac{\\lambda}{2}\\sum_{j=1}^{nu}\\sum_{k=1}^{N}(\\theta_{k}^{j})^{2}$$\n",
    "\n",
    "###where:\n",
    "###- $j$ is the user\n",
    "###- $nu$ is the number of users\n",
    "###- $i$ is the movie\n",
    "###- $r(i,j) == 1$ if user $j$ has rated movie $i$\n",
    "###- $\\theta^{j}$ is the parameter vector for user $j$\n",
    "###- $x^{i}$ is the feature vector for movie $i$\n",
    "###- $y^{i,j}$ is the rating by user $j$ for movie $i$, if user $j$ has rated that movie\n",
    "###$\\frac{\\lambda}{2}\\sum_{j=1}^{nu}\\sum_{k=1}^{N}(\\theta_{k}^{j})^{2}$ is the regularization term\n",
    "---"
   ]
  },
  {
   "cell_type": "markdown",
   "metadata": {},
   "source": [
    "---\n",
    "##Gradient descent update equations:\n",
    "---\n",
    "\n",
    "###For the intercept term:\n",
    "\n",
    "$\\theta_{k}^{j} = \\theta_{k}^{j} - \\alpha \\sum_{i:r(i, j)==1}(\\theta^{jT}x^{i} - y ^{i, j})x_{k}^{i}\\text{  }\n",
    "(\\text{for }k=0)$\n",
    "\n",
    "\n",
    "###For the other terms:\n",
    "$\\theta_{k}^{j} = \\theta_{k}^{j} - \\alpha \\left[ \\sum_{i:r(i, j)==1}(\\theta^{jT}x^{i} - y ^{i, j})x_{k}^{i} + \\lambda\\theta_{k}^{j} \\right]\\text{  }\n",
    "(\\text{for }k\\neq0)$\n",
    "\n",
    "\n",
    "###$\\alpha$ is the learning rate\n",
    "---"
   ]
  },
  {
   "cell_type": "markdown",
   "metadata": {},
   "source": [
    "---\n",
    "##To predict a new rating for a new movie:\n",
    "---\n",
    "\n",
    "###Determine the feature values for the movie, e.g. romantic content vs action content vs...\n",
    "###Hence, we have a feature vector, $x$ for the new movie\n",
    "###We have the vector of $\\theta$'s for the user\n",
    "###The predicted rating is just $y^{i, j} = \\theta^{jT}x^{i}$\n",
    "---"
   ]
  },
  {
   "cell_type": "markdown",
   "metadata": {},
   "source": [
    "---\n",
    "I have NOT implemented gradient descent to solve for all the values of $\\theta$ simultaneously\n",
    "=====\n",
    "***"
   ]
  },
  {
   "cell_type": "markdown",
   "metadata": {},
   "source": [
    "####Let's find the parameters $\\theta$ for a single user using linear regression"
   ]
  },
  {
   "cell_type": "markdown",
   "metadata": {},
   "source": [
    "#####Take Susan's recommendations"
   ]
  },
  {
   "cell_type": "code",
   "execution_count": 14,
   "metadata": {
    "collapsed": false
   },
   "outputs": [
    {
     "data": {
      "text/plain": [
       "Movie\n",
       "Big                  5\n",
       "The Notebook         5\n",
       "The Bourne Legacy    0\n",
       "The International    0\n",
       "Name: Susan, dtype: int64"
      ]
     },
     "execution_count": 14,
     "metadata": {},
     "output_type": "execute_result"
    }
   ],
   "source": [
    "data[data.Susan != -1]['Susan']"
   ]
  },
  {
   "cell_type": "markdown",
   "metadata": {},
   "source": [
    "#####Obtain the features for the movies for which Susan has recommendations"
   ]
  },
  {
   "cell_type": "code",
   "execution_count": 15,
   "metadata": {
    "collapsed": false
   },
   "outputs": [
    {
     "name": "stdout",
     "output_type": "stream",
     "text": [
      "[[ 0.9   0.  ]\n",
      " [ 1.    0.01]\n",
      " [ 0.1   1.  ]\n",
      " [ 0.    0.9 ]]\n"
     ]
    }
   ],
   "source": [
    "X = data[data.Susan != -1][['Romantic', 'Action']].values\n",
    "print X"
   ]
  },
  {
   "cell_type": "code",
   "execution_count": 16,
   "metadata": {
    "collapsed": false
   },
   "outputs": [
    {
     "name": "stdout",
     "output_type": "stream",
     "text": [
      "[5 5 0 0]\n"
     ]
    }
   ],
   "source": [
    "y = data[data.Susan != -1]['Susan'].values\n",
    "print y"
   ]
  },
  {
   "cell_type": "markdown",
   "metadata": {},
   "source": [
    "####Now fit a standard linear regression model"
   ]
  },
  {
   "cell_type": "code",
   "execution_count": 17,
   "metadata": {
    "collapsed": false
   },
   "outputs": [
    {
     "data": {
      "text/plain": [
       "Ridge(alpha=0.1, copy_X=True, fit_intercept=True, max_iter=None,\n",
       "   normalize=False, solver='auto', tol=0.001)"
      ]
     },
     "execution_count": 17,
     "metadata": {},
     "output_type": "execute_result"
    }
   ],
   "source": [
    "clf = Ridge(alpha = 0.1)\n",
    "clf.fit(X, y)"
   ]
  },
  {
   "cell_type": "code",
   "execution_count": 18,
   "metadata": {
    "collapsed": false
   },
   "outputs": [
    {
     "name": "stdout",
     "output_type": "stream",
     "text": [
      "2\n",
      "[ 2.44222689 -2.6664512 ]\n",
      "2.55211700065\n"
     ]
    }
   ],
   "source": [
    "print len(clf.coef_)\n",
    "print clf.coef_\n",
    "print clf.intercept_"
   ]
  },
  {
   "cell_type": "markdown",
   "metadata": {},
   "source": [
    "####Now predict Susan's rating for Barefoot in the Park"
   ]
  },
  {
   "cell_type": "code",
   "execution_count": 19,
   "metadata": {
    "collapsed": false
   },
   "outputs": [
    {
     "name": "stdout",
     "output_type": "stream",
     "text": [
      "[ 0.99  0.  ]\n"
     ]
    }
   ],
   "source": [
    "X_new = data.ix['Barefoot in the Park'][['Romantic', 'Action']].values\n",
    "print X_new"
   ]
  },
  {
   "cell_type": "code",
   "execution_count": 20,
   "metadata": {
    "collapsed": false
   },
   "outputs": [
    {
     "data": {
      "text/plain": [
       "array([ 4.96992162])"
      ]
     },
     "execution_count": 20,
     "metadata": {},
     "output_type": "execute_result"
    }
   ],
   "source": [
    "clf.predict(X_new)"
   ]
  }
 ],
 "metadata": {
  "kernelspec": {
   "display_name": "Python 2",
   "language": "python",
   "name": "python2"
  },
  "language_info": {
   "codemirror_mode": {
    "name": "ipython",
    "version": 2
   },
   "file_extension": ".py",
   "mimetype": "text/x-python",
   "name": "python",
   "nbconvert_exporter": "python",
   "pygments_lexer": "ipython2",
   "version": "2.7.10"
  }
 },
 "nbformat": 4,
 "nbformat_minor": 0
}
